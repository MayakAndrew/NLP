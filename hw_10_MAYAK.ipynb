{
  "nbformat": 4,
  "nbformat_minor": 0,
  "metadata": {
    "accelerator": "GPU",
    "colab": {
      "provenance": []
    },
    "kernelspec": {
      "display_name": "Python 3",
      "name": "python3"
    },
    "gpuClass": "standard"
  },
  "cells": [
    {
      "cell_type": "markdown",
      "source": [
        "##ДЗ_10 “Перевод без механизма внимания - SEQ2SEQ модель”"
      ],
      "metadata": {
        "id": "ILpJuoIttsy0"
      }
    },
    {
      "cell_type": "markdown",
      "source": [
        "**Разобраться с моделью перевода (без механизма внимания) как она устроена, запустить для перевода с русского на английский (при желании можно взять другие пары языков).**"
      ],
      "metadata": {
        "id": "7gqrqZCLAyZi"
      }
    },
    {
      "cell_type": "code",
      "metadata": {
        "id": "tnxXKDjq3jEL"
      },
      "source": [
        "import tensorflow as tf\n",
        "\n",
        "import matplotlib.pyplot as plt\n",
        "import matplotlib.ticker as ticker\n",
        "from sklearn.model_selection import train_test_split\n",
        "\n",
        "import unicodedata\n",
        "import re\n",
        "import numpy as np\n",
        "import os\n",
        "import io\n",
        "import time"
      ],
      "execution_count": 1,
      "outputs": []
    },
    {
      "cell_type": "markdown",
      "metadata": {
        "id": "wfodePkj3jEa"
      },
      "source": [
        "### Загрузим датасет.\n",
        "\n"
      ]
    },
    {
      "cell_type": "code",
      "metadata": {
        "id": "CNvjhDyAKk3U",
        "colab": {
          "base_uri": "https://localhost:8080/"
        },
        "outputId": "1bf977ea-fe1f-4c6e-b5f5-88828daa2359"
      },
      "source": [
        "!wget http://www.manythings.org/anki/rus-eng.zip"
      ],
      "execution_count": 2,
      "outputs": [
        {
          "output_type": "stream",
          "name": "stdout",
          "text": [
            "--2023-11-21 07:01:03--  http://www.manythings.org/anki/rus-eng.zip\n",
            "Resolving www.manythings.org (www.manythings.org)... 173.254.30.110\n",
            "Connecting to www.manythings.org (www.manythings.org)|173.254.30.110|:80... connected.\n",
            "HTTP request sent, awaiting response... 200 OK\n",
            "Length: 15824155 (15M) [application/zip]\n",
            "Saving to: ‘rus-eng.zip’\n",
            "\n",
            "rus-eng.zip         100%[===================>]  15.09M  56.6MB/s    in 0.3s    \n",
            "\n",
            "2023-11-21 07:01:04 (56.6 MB/s) - ‘rus-eng.zip’ saved [15824155/15824155]\n",
            "\n"
          ]
        }
      ]
    },
    {
      "cell_type": "code",
      "metadata": {
        "id": "83bg17Lr-7XK",
        "colab": {
          "base_uri": "https://localhost:8080/"
        },
        "outputId": "ef988d67-7ee5-418a-bb0b-2fcd5b9ddd8a"
      },
      "source": [
        "!mkdir rus-eng\n",
        "!unzip rus-eng.zip -d rus-eng/"
      ],
      "execution_count": 3,
      "outputs": [
        {
          "output_type": "stream",
          "name": "stdout",
          "text": [
            "Archive:  rus-eng.zip\n",
            "  inflating: rus-eng/rus.txt         \n",
            "  inflating: rus-eng/_about.txt      \n"
          ]
        }
      ]
    },
    {
      "cell_type": "code",
      "metadata": {
        "id": "7o5L92efMMhf",
        "colab": {
          "base_uri": "https://localhost:8080/"
        },
        "outputId": "4ec56d4c-6edd-498e-bbae-e0a88e7e2bcf"
      },
      "source": [
        "!ls /content/rus-eng/ -lah"
      ],
      "execution_count": 4,
      "outputs": [
        {
          "output_type": "stream",
          "name": "stdout",
          "text": [
            "total 76M\n",
            "drwxr-xr-x 2 root root 4.0K Nov 21 07:01 .\n",
            "drwxr-xr-x 1 root root 4.0K Nov 21 07:01 ..\n",
            "-rw-r--r-- 1 root root 1.5K Jul 30 03:53 _about.txt\n",
            "-rw-r--r-- 1 root root  76M Jul 30 03:53 rus.txt\n"
          ]
        }
      ]
    },
    {
      "cell_type": "code",
      "metadata": {
        "id": "kRVATYOgJs1b"
      },
      "source": [
        "path_to_file = \"/content/rus-eng/rus.txt\""
      ],
      "execution_count": 5,
      "outputs": []
    },
    {
      "cell_type": "code",
      "metadata": {
        "id": "rd0jw-eC3jEh"
      },
      "source": [
        "#функция препроцессинга\n",
        "def preprocess_sentence(w):\n",
        "  #переводим предложение к нижнему регистру и удалем начальные и конечные пробелы\n",
        "  w = w.lower().strip()\n",
        "\n",
        "  # отделяем пробелом слово и следующую за ним пунктуацию\n",
        "  # пример: \"he is a boy.\" => \"he is a boy .\"\n",
        "  # Reference:- https://stackoverflow.com/questions/3645931/python-padding-punctuation-with-white-spaces-keeping-punctuation\n",
        "  w = re.sub(r\"([?.!,])\", r\" \\1 \", w)\n",
        "  w = re.sub(r'[\" \"]+', \" \", w)\n",
        "\n",
        "  # все, кроме букв и знаков пунктуации, заменяем пробелом\n",
        "  w = re.sub(r\"[^a-zA-Zа-яА-Я?.!,']+\", \" \", w)\n",
        "\n",
        "  #удаляем лишние пробелы в начале и конце\n",
        "  w = w.strip()\n",
        "\n",
        "  # создаем начало и конец последовательности\n",
        "  # теперь модель знает, где начинать и заканчивать предсказания\n",
        "  w = '<start> ' + w + ' <end>'\n",
        "  return w"
      ],
      "execution_count": 6,
      "outputs": []
    },
    {
      "cell_type": "code",
      "metadata": {
        "id": "yV9lZXQXNbnH",
        "colab": {
          "base_uri": "https://localhost:8080/",
          "height": 35
        },
        "outputId": "1c182bd3-0537-4933-d0ca-264e8a78a1b1"
      },
      "source": [
        "preprocess_sentence(\"I can't go.\")"
      ],
      "execution_count": 7,
      "outputs": [
        {
          "output_type": "execute_result",
          "data": {
            "text/plain": [
              "\"<start> i can't go . <end>\""
            ],
            "application/vnd.google.colaboratory.intrinsic+json": {
              "type": "string"
            }
          },
          "metadata": {},
          "execution_count": 7
        }
      ]
    },
    {
      "cell_type": "code",
      "metadata": {
        "id": "OHn4Dct23jEm"
      },
      "source": [
        "# 1. Убираем акценты\n",
        "# 2. Очищаем предложения\n",
        "# 3. Возвращаем пары слов в формате [ENG, RUS]\n",
        "def create_dataset(path, num_examples):\n",
        "  #считываем строки файла\n",
        "  lines = io.open(path, encoding='UTF-8').read().strip().split('\\n')\n",
        "  #каждую строку разделяем на пробелы, берем первые 2 слова, препроцессим их и возвращаем пару\n",
        "  word_pairs = [[preprocess_sentence(w) for w in l.split('\\t')[:2]]  for l in lines[:num_examples]]\n",
        "\n",
        "  return zip(*word_pairs)"
      ],
      "execution_count": 8,
      "outputs": []
    },
    {
      "cell_type": "code",
      "metadata": {
        "id": "cTbSbBz55QtF",
        "colab": {
          "base_uri": "https://localhost:8080/"
        },
        "outputId": "36d818a7-1fde-48c8-d178-624167824626"
      },
      "source": [
        "en, ru = create_dataset(path_to_file, None)\n",
        "print(en[0])\n",
        "print(ru[0])"
      ],
      "execution_count": 9,
      "outputs": [
        {
          "output_type": "stream",
          "name": "stdout",
          "text": [
            "<start> go . <end>\n",
            "<start> марш ! <end>\n"
          ]
        }
      ]
    },
    {
      "cell_type": "code",
      "metadata": {
        "id": "bIOn8RCNDJXG"
      },
      "source": [
        "def tokenize(lang):\n",
        "  #токенизируем текст, отфильтровываем пробелы\n",
        "  lang_tokenizer = tf.keras.preprocessing.text.Tokenizer(\n",
        "      filters='')\n",
        "  #обновляем внутренний словарь на основе lang\n",
        "  lang_tokenizer.fit_on_texts(lang)\n",
        "\n",
        "  #преобразуем каждый элемент из lang в последовательность чисел\n",
        "  tensor = lang_tokenizer.texts_to_sequences(lang)\n",
        "\n",
        "  #преобразуем тензор в матрицу (кол-во тензоров * max-длина),\n",
        "  #при этом короткие последовательности заполняем нулями сзади, а длинные -- обрезаем сзади\n",
        "  tensor = tf.keras.preprocessing.sequence.pad_sequences(tensor,\n",
        "                                                         padding='post')\n",
        "\n",
        "  return tensor, lang_tokenizer"
      ],
      "execution_count": 10,
      "outputs": []
    },
    {
      "cell_type": "code",
      "metadata": {
        "id": "eAY9k49G3jE_"
      },
      "source": [
        "def load_dataset(path, num_examples=None):\n",
        "  # создаем очищенные анг (выходные), русские (входные) пары\n",
        "  targ_lang, inp_lang = create_dataset(path, num_examples)\n",
        "  #применяем токенизацию к каждому элементы из пары\n",
        "  input_tensor, inp_lang_tokenizer = tokenize(inp_lang)\n",
        "  target_tensor, targ_lang_tokenizer = tokenize(targ_lang)\n",
        "\n",
        "  return input_tensor, target_tensor, inp_lang_tokenizer, targ_lang_tokenizer"
      ],
      "execution_count": 11,
      "outputs": []
    },
    {
      "cell_type": "markdown",
      "source": [
        "**Для ускорения обучения установим лимит на размер датасета.**"
      ],
      "metadata": {
        "id": "WASbytM5DL4d"
      }
    },
    {
      "cell_type": "code",
      "metadata": {
        "id": "C8j9g9AnIeZV",
        "colab": {
          "base_uri": "https://localhost:8080/"
        },
        "outputId": "42ae005b-2605-4129-99c3-45c36375e4e4"
      },
      "source": [
        "len(en), len(ru)"
      ],
      "execution_count": 12,
      "outputs": [
        {
          "output_type": "execute_result",
          "data": {
            "text/plain": [
              "(479223, 479223)"
            ]
          },
          "metadata": {},
          "execution_count": 12
        }
      ]
    },
    {
      "cell_type": "code",
      "metadata": {
        "id": "cnxC7q-j3jFD"
      },
      "source": [
        "num_examples = 100000\n",
        "input_tensor, target_tensor, inp_lang, targ_lang = load_dataset(path_to_file, num_examples)\n",
        "\n",
        "# Максимальная длина тензоров\n",
        "max_length_targ, max_length_inp = target_tensor.shape[1], input_tensor.shape[1]"
      ],
      "execution_count": 13,
      "outputs": []
    },
    {
      "cell_type": "code",
      "metadata": {
        "id": "4QILQkOs3jFG",
        "colab": {
          "base_uri": "https://localhost:8080/"
        },
        "outputId": "5f931a92-c06e-4539-8378-2d064fd39f2b"
      },
      "source": [
        "# Создаем train и validation датасеты\n",
        "input_tensor_train, input_tensor_val, target_tensor_train, target_tensor_val = train_test_split(input_tensor, target_tensor, test_size=0.2)\n",
        "\n",
        "# размеры датасетов\n",
        "print(len(input_tensor_train), len(target_tensor_train), len(input_tensor_val), len(target_tensor_val))"
      ],
      "execution_count": 14,
      "outputs": [
        {
          "output_type": "stream",
          "name": "stdout",
          "text": [
            "80000 80000 20000 20000\n"
          ]
        }
      ]
    },
    {
      "cell_type": "code",
      "metadata": {
        "id": "lJPmLZGMeD5q"
      },
      "source": [
        "# выведем токен и его индекс\n",
        "def convert(lang, tensor):\n",
        "  for t in tensor:\n",
        "    if t!=0:\n",
        "      print (\"%d ----> %s\" % (t, lang.index_word[t]))"
      ],
      "execution_count": 15,
      "outputs": []
    },
    {
      "cell_type": "code",
      "metadata": {
        "id": "VXukARTDd7MT",
        "colab": {
          "base_uri": "https://localhost:8080/"
        },
        "outputId": "97929324-13ea-4ecf-c0f0-e9dea84e9ee2"
      },
      "source": [
        "print (\"Input Language; index to word mapping\")\n",
        "convert(inp_lang, input_tensor_train[10])\n",
        "print ()\n",
        "print (\"Target Language; index to word mapping\")\n",
        "convert(targ_lang, target_tensor_train[10])"
      ],
      "execution_count": 16,
      "outputs": [
        {
          "output_type": "stream",
          "name": "stdout",
          "text": [
            "Input Language; index to word mapping\n",
            "1 ----> <start>\n",
            "8 ----> это\n",
            "6614 ----> катастрофа\n",
            "3 ----> .\n",
            "2 ----> <end>\n",
            "\n",
            "Target Language; index to word mapping\n",
            "1 ----> <start>\n",
            "18 ----> this\n",
            "8 ----> is\n",
            "9 ----> a\n",
            "2565 ----> disaster\n",
            "3 ----> .\n",
            "2 ----> <end>\n"
          ]
        }
      ]
    },
    {
      "cell_type": "code",
      "metadata": {
        "id": "TqHsArVZ3jFS"
      },
      "source": [
        "BUFFER_SIZE = len(input_tensor_train)\n",
        "BATCH_SIZE = 64\n",
        "steps_per_epoch = len(input_tensor_train)//BATCH_SIZE\n",
        "embedding_dim = 256\n",
        "units = 1024\n",
        "vocab_inp_size = len(inp_lang.word_index)+1\n",
        "vocab_tar_size = len(targ_lang.word_index)+1\n",
        "\n",
        "#из каждого элемента (input_tensor_train, target_tensor_train) создаем тензор\n",
        "dataset = tf.data.Dataset.from_tensor_slices((input_tensor_train, target_tensor_train)).shuffle(BUFFER_SIZE)\n",
        "#разбиваем датасет на батчи (по 64), удаляя последний неполный батч\n",
        "dataset = dataset.batch(BATCH_SIZE, drop_remainder=True)"
      ],
      "execution_count": 17,
      "outputs": []
    },
    {
      "cell_type": "code",
      "metadata": {
        "id": "qc6-NK1GtWQt",
        "colab": {
          "base_uri": "https://localhost:8080/"
        },
        "outputId": "4e9c2aa7-5abc-4777-dda6-331fb5a6907a"
      },
      "source": [
        "example_input_batch, example_target_batch = next(iter(dataset))\n",
        "example_input_batch.shape, example_target_batch.shape"
      ],
      "execution_count": 18,
      "outputs": [
        {
          "output_type": "execute_result",
          "data": {
            "text/plain": [
              "(TensorShape([64, 15]), TensorShape([64, 11]))"
            ]
          },
          "metadata": {},
          "execution_count": 18
        }
      ]
    },
    {
      "cell_type": "code",
      "metadata": {
        "id": "nZ2rI24i3jFg"
      },
      "source": [
        "class Encoder(tf.keras.Model):\n",
        "  def __init__(self, vocab_size, embedding_dim, enc_units, batch_sz):\n",
        "    super(Encoder, self).__init__()\n",
        "    self.batch_sz = batch_sz\n",
        "    self.enc_units = enc_units\n",
        "    self.embedding = tf.keras.layers.Embedding(vocab_size, embedding_dim)\n",
        "    self.gru = tf.keras.layers.GRU(self.enc_units,\n",
        "                                   return_sequences=False,\n",
        "                                   return_state=True,\n",
        "                                   recurrent_initializer='glorot_uniform')\n",
        "\n",
        "\n",
        "  def call(self, x, hidden):\n",
        "    x = self.embedding(x)\n",
        "    output, state = self.gru(x, initial_state = hidden)\n",
        "    return state\n",
        "\n",
        "  def initialize_hidden_state(self):\n",
        "    #создаем тензор из нулей размера (батч, кол-во ячеек)\n",
        "    return tf.zeros((self.batch_sz, self.enc_units))"
      ],
      "execution_count": 19,
      "outputs": []
    },
    {
      "cell_type": "code",
      "metadata": {
        "id": "60gSVh05Jl6l",
        "colab": {
          "base_uri": "https://localhost:8080/"
        },
        "outputId": "fdf5dceb-0867-418a-b8db-ee5d2d82e7ee"
      },
      "source": [
        "encoder = Encoder(vocab_inp_size, embedding_dim, units, BATCH_SIZE)\n",
        "\n",
        "# инициализируем начальное скрытое состояние (из нулей)\n",
        "sample_hidden = encoder.initialize_hidden_state()\n",
        "# применяем энкодер к входному батчу и скрытому состоянию\n",
        "sample_hidden = encoder(example_input_batch, sample_hidden)\n",
        "# print ('Encoder output shape: (batch size, sequence length, units) {}'.format(sample_output.shape))\n",
        "print ('Encoder Hidden state shape: (batch size, units) {}'.format(sample_hidden.shape))"
      ],
      "execution_count": 20,
      "outputs": [
        {
          "output_type": "stream",
          "name": "stdout",
          "text": [
            "Encoder Hidden state shape: (batch size, units) (64, 1024)\n"
          ]
        }
      ]
    },
    {
      "cell_type": "code",
      "metadata": {
        "id": "yJ_B3mhW3jFk"
      },
      "source": [
        "# декодер без внимания\n",
        "class Decoder(tf.keras.Model):\n",
        "  def __init__(self, vocab_size, embedding_dim, dec_units, batch_sz):\n",
        "    super(Decoder, self).__init__()\n",
        "    self.batch_sz = batch_sz\n",
        "    self.dec_units = dec_units\n",
        "    self.embedding = tf.keras.layers.Embedding(vocab_size, embedding_dim)\n",
        "    self.gru = tf.keras.layers.GRU(self.dec_units,\n",
        "                                   return_sequences=True,\n",
        "                                   return_state=True,\n",
        "                                   recurrent_initializer='glorot_uniform')\n",
        "    self.fc = tf.keras.layers.Dense(vocab_size)\n",
        "\n",
        "  def call(self, x, hidden):\n",
        "    # x shape после прохождения через эмбеддинг == (batch_size, 1, embedding_dim)\n",
        "\n",
        "    # x shape after passing through embedding == (batch_size, 1, embedding_dim)\n",
        "    x = self.embedding(x)\n",
        "\n",
        "    # отправляем в GRU входные данные и скрытое состояние (от энкодера)\n",
        "    # выход GRU (batch_size, timesteps, units)\n",
        "    # размер возвращаемого внутреннего состояния (batch_size, units)\n",
        "    output, state = self.gru(x, initial_state=hidden)\n",
        "\n",
        "    # output shape == (batch_size * 1, hidden_size)\n",
        "    output = tf.reshape(output, (-1, output.shape[2]))\n",
        "\n",
        "    # output shape == (batch_size, vocab)\n",
        "    x = self.fc(output)\n",
        "\n",
        "    return x, state"
      ],
      "execution_count": 21,
      "outputs": []
    },
    {
      "cell_type": "code",
      "metadata": {
        "id": "P5UY8wko3jFp"
      },
      "source": [
        "decoder = Decoder(vocab_tar_size, embedding_dim, units, BATCH_SIZE)\n",
        "\n",
        "#применяем декодер к случайному батчу из равномерного распределения (батч,1) и выходу энкодера\n",
        "decoder_sample_x, decoder_sample_h = decoder(tf.random.uniform((BATCH_SIZE, 1)),\n",
        "                                      sample_hidden)\n",
        "\n"
      ],
      "execution_count": 22,
      "outputs": []
    },
    {
      "cell_type": "code",
      "metadata": {
        "colab": {
          "base_uri": "https://localhost:8080/"
        },
        "id": "XKcypC0AGeLR",
        "outputId": "19e793fd-2ed6-485a-ce88-696d8a49cccf"
      },
      "source": [
        "decoder_sample_x.shape"
      ],
      "execution_count": 23,
      "outputs": [
        {
          "output_type": "execute_result",
          "data": {
            "text/plain": [
              "TensorShape([64, 7386])"
            ]
          },
          "metadata": {},
          "execution_count": 23
        }
      ]
    },
    {
      "cell_type": "code",
      "metadata": {
        "id": "6y0HF-zMF_vp",
        "colab": {
          "base_uri": "https://localhost:8080/"
        },
        "outputId": "43348ec5-76f5-4c9d-fce6-625392099eaa"
      },
      "source": [
        "decoder_sample_h.shape"
      ],
      "execution_count": 24,
      "outputs": [
        {
          "output_type": "execute_result",
          "data": {
            "text/plain": [
              "TensorShape([64, 1024])"
            ]
          },
          "metadata": {},
          "execution_count": 24
        }
      ]
    },
    {
      "cell_type": "markdown",
      "metadata": {
        "id": "_ch_71VbIRfK"
      },
      "source": [
        "**Определим оптимизатор и функцию потерь.**"
      ]
    },
    {
      "cell_type": "code",
      "metadata": {
        "id": "WmTHr5iV3jFr"
      },
      "source": [
        "optimizer = tf.keras.optimizers.Adam()\n",
        "\n",
        "loss_object = tf.keras.losses.SparseCategoricalCrossentropy(\n",
        "    from_logits=True, reduction='none')\n",
        "\n",
        "def loss_function(real, pred):\n",
        "  #делаем инверсию значений сравнения каждого из real с нулем (возвращается true или false)\n",
        "  mask = tf.math.logical_not(tf.math.equal(real, 0))\n",
        "  #применяем функцию ошибок к реальным данным и предсказанным\n",
        "  loss_ = loss_object(real, pred)\n",
        "\n",
        "  #приводим тензор mask к новому типу loss_.dtype\n",
        "  mask = tf.cast(mask, dtype=loss_.dtype)\n",
        "  #умножаем loss_ на mask\n",
        "  loss_ *= mask\n",
        "\n",
        "  # возвращаем среднее значениe всех элементов\n",
        "  return tf.reduce_mean(loss_)"
      ],
      "execution_count": 25,
      "outputs": []
    },
    {
      "cell_type": "markdown",
      "metadata": {
        "id": "DMVWzzsfNl4e"
      },
      "source": [
        "**Создадим директорию для сохранения checkpoint.**"
      ]
    },
    {
      "cell_type": "code",
      "metadata": {
        "id": "Zj8bXQTgNwrF"
      },
      "source": [
        "checkpoint_dir = './training_nmt_checkpoints'\n",
        "\n",
        "checkpoint_prefix = os.path.join(checkpoint_dir, \"ckpt\")\n",
        "\n",
        "checkpoint = tf.train.Checkpoint(optimizer=optimizer,\n",
        "                                 encoder=encoder,\n",
        "                                 decoder=decoder)"
      ],
      "execution_count": 26,
      "outputs": []
    },
    {
      "cell_type": "code",
      "metadata": {
        "id": "sC9ArXSsVfqn"
      },
      "source": [
        "@tf.function\n",
        "def train_step(inp, targ, enc_hidden):\n",
        "  loss = 0\n",
        "  #перечисляем операции для автоматического дифференцирования\n",
        "  with tf.GradientTape() as tape:\n",
        "    #перечисляем операции для автоматического дифференцирования\n",
        "    enc_hidden = encoder(inp, enc_hidden)\n",
        "    #помещаем его в скрытое состояние decoder\n",
        "    dec_hidden = enc_hidden\n",
        "    #формируем вход декодера:\n",
        "    #берем список длины батч из индексов тега  (1)\n",
        "    #приписываем списку размерность 1\n",
        "    dec_input = tf.expand_dims([targ_lang.word_index['<start>']] * BATCH_SIZE, 1)\n",
        "\n",
        "    #Teacher forcing - выводим target в качестве следующего входа\n",
        "    for t in range(1, targ.shape[1]):\n",
        "      #Teacher forcing - выводим target в качестве следующего входа\n",
        "      predictions, dec_hidden = decoder(dec_input, dec_hidden)\n",
        "      #считаем функцию потерь\n",
        "      loss += loss_function(targ[:, t], predictions)\n",
        "\n",
        "      #используем teacher forcing (приписываем списку размерность 1)\n",
        "      #посылаем dec_input на вход декордера\n",
        "      dec_input = tf.expand_dims(targ[:, t], 1)\n",
        "\n",
        "  batch_loss = (loss / int(targ.shape[1]))\n",
        "\n",
        "  variables = encoder.trainable_variables + decoder.trainable_variables\n",
        "  #вычисляем градиенты loss по variables\n",
        "  gradients = tape.gradient(loss, variables)\n",
        "  #оптимизатор применяет подсчитанные градиенты\n",
        "  optimizer.apply_gradients(zip(gradients, variables))\n",
        "\n",
        "  return batch_loss"
      ],
      "execution_count": 27,
      "outputs": []
    },
    {
      "cell_type": "code",
      "metadata": {
        "id": "ddefjBMa3jF0",
        "colab": {
          "base_uri": "https://localhost:8080/"
        },
        "outputId": "d54ac269-08fc-4ac7-c648-7bd81a48aaf2"
      },
      "source": [
        "EPOCHS = 50\n",
        "\n",
        "for epoch in range(EPOCHS):\n",
        "  start = time.time()\n",
        "\n",
        "  #инициализируем входное скрытое состояние (из нулей) размера (батч, кол-во рекуррентных ячеек)\n",
        "  enc_hidden = encoder.initialize_hidden_state()\n",
        "  total_loss = 0\n",
        "\n",
        "  for (batch, (inp, targ)) in enumerate(dataset.take(steps_per_epoch)):\n",
        "    #делаем шаг обучения. находим ошибку за эпоху\n",
        "    batch_loss = train_step(inp, targ, enc_hidden)\n",
        "    total_loss += batch_loss\n",
        "\n",
        "    if batch % 100 == 0:\n",
        "      print('Epoch {} Batch {} Loss {:.4f}'.format(epoch + 1,\n",
        "                                                   batch,\n",
        "                                                   batch_loss.numpy()))\n",
        "  #сохраняем чекпоинт каждые 25 эпох\n",
        "  if (epoch + 1) % 25 == 0:\n",
        "    checkpoint.save(file_prefix = checkpoint_prefix)\n",
        "\n",
        "  print('Epoch {} Loss {:.4f}'.format(epoch + 1,\n",
        "                                      total_loss / steps_per_epoch))\n",
        "  print('Time taken for 1 epoch {} sec\\n'.format(time.time() - start))"
      ],
      "execution_count": 28,
      "outputs": [
        {
          "output_type": "stream",
          "name": "stdout",
          "text": [
            "Epoch 1 Batch 0 Loss 4.6560\n",
            "Epoch 1 Batch 100 Loss 2.0272\n",
            "Epoch 1 Batch 200 Loss 1.8676\n",
            "Epoch 1 Batch 300 Loss 1.6346\n",
            "Epoch 1 Batch 400 Loss 1.5420\n",
            "Epoch 1 Batch 500 Loss 1.4576\n",
            "Epoch 1 Batch 600 Loss 1.3850\n",
            "Epoch 1 Batch 700 Loss 1.3363\n",
            "Epoch 1 Batch 800 Loss 1.2089\n",
            "Epoch 1 Batch 900 Loss 1.2103\n",
            "Epoch 1 Batch 1000 Loss 1.0809\n",
            "Epoch 1 Batch 1100 Loss 0.9610\n",
            "Epoch 1 Batch 1200 Loss 1.0413\n",
            "Epoch 1 Loss 1.4475\n",
            "Time taken for 1 epoch 70.55003786087036 sec\n",
            "\n",
            "Epoch 2 Batch 0 Loss 0.8898\n",
            "Epoch 2 Batch 100 Loss 0.8067\n",
            "Epoch 2 Batch 200 Loss 0.7549\n",
            "Epoch 2 Batch 300 Loss 0.8016\n",
            "Epoch 2 Batch 400 Loss 0.8102\n",
            "Epoch 2 Batch 500 Loss 0.7805\n",
            "Epoch 2 Batch 600 Loss 0.6496\n",
            "Epoch 2 Batch 700 Loss 0.6649\n",
            "Epoch 2 Batch 800 Loss 0.6616\n",
            "Epoch 2 Batch 900 Loss 0.7028\n",
            "Epoch 2 Batch 1000 Loss 0.5544\n",
            "Epoch 2 Batch 1100 Loss 0.5768\n",
            "Epoch 2 Batch 1200 Loss 0.5215\n",
            "Epoch 2 Loss 0.7157\n",
            "Time taken for 1 epoch 51.482067346572876 sec\n",
            "\n",
            "Epoch 3 Batch 0 Loss 0.4552\n",
            "Epoch 3 Batch 100 Loss 0.4406\n",
            "Epoch 3 Batch 200 Loss 0.3324\n",
            "Epoch 3 Batch 300 Loss 0.4070\n",
            "Epoch 3 Batch 400 Loss 0.3953\n",
            "Epoch 3 Batch 500 Loss 0.4254\n",
            "Epoch 3 Batch 600 Loss 0.2922\n",
            "Epoch 3 Batch 700 Loss 0.3204\n",
            "Epoch 3 Batch 800 Loss 0.3296\n",
            "Epoch 3 Batch 900 Loss 0.3395\n",
            "Epoch 3 Batch 1000 Loss 0.3709\n",
            "Epoch 3 Batch 1100 Loss 0.3043\n",
            "Epoch 3 Batch 1200 Loss 0.3222\n",
            "Epoch 3 Loss 0.3791\n",
            "Time taken for 1 epoch 52.025368213653564 sec\n",
            "\n",
            "Epoch 4 Batch 0 Loss 0.1842\n",
            "Epoch 4 Batch 100 Loss 0.1799\n",
            "Epoch 4 Batch 200 Loss 0.2199\n",
            "Epoch 4 Batch 300 Loss 0.2260\n",
            "Epoch 4 Batch 400 Loss 0.1769\n",
            "Epoch 4 Batch 500 Loss 0.2624\n",
            "Epoch 4 Batch 600 Loss 0.2575\n",
            "Epoch 4 Batch 700 Loss 0.2608\n",
            "Epoch 4 Batch 800 Loss 0.2410\n",
            "Epoch 4 Batch 900 Loss 0.1787\n",
            "Epoch 4 Batch 1000 Loss 0.2263\n",
            "Epoch 4 Batch 1100 Loss 0.2476\n",
            "Epoch 4 Batch 1200 Loss 0.2049\n",
            "Epoch 4 Loss 0.2218\n",
            "Time taken for 1 epoch 52.690274238586426 sec\n",
            "\n",
            "Epoch 5 Batch 0 Loss 0.1354\n",
            "Epoch 5 Batch 100 Loss 0.1093\n",
            "Epoch 5 Batch 200 Loss 0.1320\n",
            "Epoch 5 Batch 300 Loss 0.1763\n",
            "Epoch 5 Batch 400 Loss 0.1346\n",
            "Epoch 5 Batch 500 Loss 0.1613\n",
            "Epoch 5 Batch 600 Loss 0.1635\n",
            "Epoch 5 Batch 700 Loss 0.1618\n",
            "Epoch 5 Batch 800 Loss 0.1471\n",
            "Epoch 5 Batch 900 Loss 0.1343\n",
            "Epoch 5 Batch 1000 Loss 0.1822\n",
            "Epoch 5 Batch 1100 Loss 0.1521\n",
            "Epoch 5 Batch 1200 Loss 0.1822\n",
            "Epoch 5 Loss 0.1502\n",
            "Time taken for 1 epoch 52.492162466049194 sec\n",
            "\n",
            "Epoch 6 Batch 0 Loss 0.1126\n",
            "Epoch 6 Batch 100 Loss 0.0814\n",
            "Epoch 6 Batch 200 Loss 0.1461\n",
            "Epoch 6 Batch 300 Loss 0.1469\n",
            "Epoch 6 Batch 400 Loss 0.1463\n",
            "Epoch 6 Batch 500 Loss 0.0778\n",
            "Epoch 6 Batch 600 Loss 0.1149\n",
            "Epoch 6 Batch 700 Loss 0.1156\n",
            "Epoch 6 Batch 800 Loss 0.1232\n",
            "Epoch 6 Batch 900 Loss 0.1322\n",
            "Epoch 6 Batch 1000 Loss 0.0908\n",
            "Epoch 6 Batch 1100 Loss 0.1254\n",
            "Epoch 6 Batch 1200 Loss 0.1315\n",
            "Epoch 6 Loss 0.1155\n",
            "Time taken for 1 epoch 53.03782773017883 sec\n",
            "\n",
            "Epoch 7 Batch 0 Loss 0.0611\n",
            "Epoch 7 Batch 100 Loss 0.1181\n",
            "Epoch 7 Batch 200 Loss 0.0755\n",
            "Epoch 7 Batch 300 Loss 0.0956\n",
            "Epoch 7 Batch 400 Loss 0.0971\n",
            "Epoch 7 Batch 500 Loss 0.1067\n",
            "Epoch 7 Batch 600 Loss 0.0883\n",
            "Epoch 7 Batch 700 Loss 0.0607\n",
            "Epoch 7 Batch 800 Loss 0.1147\n",
            "Epoch 7 Batch 900 Loss 0.1171\n",
            "Epoch 7 Batch 1000 Loss 0.1357\n",
            "Epoch 7 Batch 1100 Loss 0.1007\n",
            "Epoch 7 Batch 1200 Loss 0.1129\n",
            "Epoch 7 Loss 0.0995\n",
            "Time taken for 1 epoch 53.00608015060425 sec\n",
            "\n",
            "Epoch 8 Batch 0 Loss 0.0781\n",
            "Epoch 8 Batch 100 Loss 0.0780\n",
            "Epoch 8 Batch 200 Loss 0.0851\n",
            "Epoch 8 Batch 300 Loss 0.0687\n",
            "Epoch 8 Batch 400 Loss 0.0927\n",
            "Epoch 8 Batch 500 Loss 0.0727\n",
            "Epoch 8 Batch 600 Loss 0.0607\n",
            "Epoch 8 Batch 700 Loss 0.0945\n",
            "Epoch 8 Batch 800 Loss 0.0982\n",
            "Epoch 8 Batch 900 Loss 0.1238\n",
            "Epoch 8 Batch 1000 Loss 0.1214\n",
            "Epoch 8 Batch 1100 Loss 0.1050\n",
            "Epoch 8 Batch 1200 Loss 0.0952\n",
            "Epoch 8 Loss 0.0893\n",
            "Time taken for 1 epoch 52.9436514377594 sec\n",
            "\n",
            "Epoch 9 Batch 0 Loss 0.0572\n",
            "Epoch 9 Batch 100 Loss 0.0627\n",
            "Epoch 9 Batch 200 Loss 0.0564\n",
            "Epoch 9 Batch 300 Loss 0.0596\n",
            "Epoch 9 Batch 400 Loss 0.1082\n",
            "Epoch 9 Batch 500 Loss 0.0887\n",
            "Epoch 9 Batch 600 Loss 0.0810\n",
            "Epoch 9 Batch 700 Loss 0.1009\n",
            "Epoch 9 Batch 800 Loss 0.1095\n",
            "Epoch 9 Batch 900 Loss 0.1017\n",
            "Epoch 9 Batch 1000 Loss 0.0879\n",
            "Epoch 9 Batch 1100 Loss 0.0964\n",
            "Epoch 9 Batch 1200 Loss 0.0876\n",
            "Epoch 9 Loss 0.0826\n",
            "Time taken for 1 epoch 53.021732807159424 sec\n",
            "\n",
            "Epoch 10 Batch 0 Loss 0.0611\n",
            "Epoch 10 Batch 100 Loss 0.0366\n",
            "Epoch 10 Batch 200 Loss 0.0471\n",
            "Epoch 10 Batch 300 Loss 0.0645\n",
            "Epoch 10 Batch 400 Loss 0.0891\n",
            "Epoch 10 Batch 500 Loss 0.0781\n",
            "Epoch 10 Batch 600 Loss 0.0845\n",
            "Epoch 10 Batch 700 Loss 0.0843\n",
            "Epoch 10 Batch 800 Loss 0.0993\n",
            "Epoch 10 Batch 900 Loss 0.0556\n",
            "Epoch 10 Batch 1000 Loss 0.1255\n",
            "Epoch 10 Batch 1100 Loss 0.0888\n",
            "Epoch 10 Batch 1200 Loss 0.1173\n",
            "Epoch 10 Loss 0.0784\n",
            "Time taken for 1 epoch 53.106520891189575 sec\n",
            "\n",
            "Epoch 11 Batch 0 Loss 0.0519\n",
            "Epoch 11 Batch 100 Loss 0.0549\n",
            "Epoch 11 Batch 200 Loss 0.0850\n",
            "Epoch 11 Batch 300 Loss 0.0508\n",
            "Epoch 11 Batch 400 Loss 0.0831\n",
            "Epoch 11 Batch 500 Loss 0.0674\n",
            "Epoch 11 Batch 600 Loss 0.0653\n",
            "Epoch 11 Batch 700 Loss 0.0764\n",
            "Epoch 11 Batch 800 Loss 0.0947\n",
            "Epoch 11 Batch 900 Loss 0.0845\n",
            "Epoch 11 Batch 1000 Loss 0.1057\n",
            "Epoch 11 Batch 1100 Loss 0.1480\n",
            "Epoch 11 Batch 1200 Loss 0.1585\n",
            "Epoch 11 Loss 0.0753\n",
            "Time taken for 1 epoch 53.07214331626892 sec\n",
            "\n",
            "Epoch 12 Batch 0 Loss 0.0650\n",
            "Epoch 12 Batch 100 Loss 0.0857\n",
            "Epoch 12 Batch 200 Loss 0.0938\n",
            "Epoch 12 Batch 300 Loss 0.0853\n",
            "Epoch 12 Batch 400 Loss 0.0548\n",
            "Epoch 12 Batch 500 Loss 0.0832\n",
            "Epoch 12 Batch 600 Loss 0.0979\n",
            "Epoch 12 Batch 700 Loss 0.1171\n",
            "Epoch 12 Batch 800 Loss 0.1100\n",
            "Epoch 12 Batch 900 Loss 0.0523\n",
            "Epoch 12 Batch 1000 Loss 0.1106\n",
            "Epoch 12 Batch 1100 Loss 0.0635\n",
            "Epoch 12 Batch 1200 Loss 0.1092\n",
            "Epoch 12 Loss 0.0723\n",
            "Time taken for 1 epoch 53.20631384849548 sec\n",
            "\n",
            "Epoch 13 Batch 0 Loss 0.0902\n",
            "Epoch 13 Batch 100 Loss 0.0554\n",
            "Epoch 13 Batch 200 Loss 0.0432\n",
            "Epoch 13 Batch 300 Loss 0.0714\n",
            "Epoch 13 Batch 400 Loss 0.0333\n",
            "Epoch 13 Batch 500 Loss 0.0892\n",
            "Epoch 13 Batch 600 Loss 0.0812\n",
            "Epoch 13 Batch 700 Loss 0.0663\n",
            "Epoch 13 Batch 800 Loss 0.0627\n",
            "Epoch 13 Batch 900 Loss 0.0941\n",
            "Epoch 13 Batch 1000 Loss 0.0849\n",
            "Epoch 13 Batch 1100 Loss 0.0734\n",
            "Epoch 13 Batch 1200 Loss 0.0817\n",
            "Epoch 13 Loss 0.0707\n",
            "Time taken for 1 epoch 53.11954712867737 sec\n",
            "\n",
            "Epoch 14 Batch 0 Loss 0.0420\n",
            "Epoch 14 Batch 100 Loss 0.0721\n",
            "Epoch 14 Batch 200 Loss 0.0578\n",
            "Epoch 14 Batch 300 Loss 0.0826\n",
            "Epoch 14 Batch 400 Loss 0.1197\n",
            "Epoch 14 Batch 500 Loss 0.0845\n",
            "Epoch 14 Batch 600 Loss 0.0592\n",
            "Epoch 14 Batch 700 Loss 0.0770\n",
            "Epoch 14 Batch 800 Loss 0.0722\n",
            "Epoch 14 Batch 900 Loss 0.0879\n",
            "Epoch 14 Batch 1000 Loss 0.0960\n",
            "Epoch 14 Batch 1100 Loss 0.0798\n",
            "Epoch 14 Batch 1200 Loss 0.0644\n",
            "Epoch 14 Loss 0.0682\n",
            "Time taken for 1 epoch 53.156861305236816 sec\n",
            "\n",
            "Epoch 15 Batch 0 Loss 0.0472\n",
            "Epoch 15 Batch 100 Loss 0.0861\n",
            "Epoch 15 Batch 200 Loss 0.0651\n",
            "Epoch 15 Batch 300 Loss 0.0450\n",
            "Epoch 15 Batch 400 Loss 0.0491\n",
            "Epoch 15 Batch 500 Loss 0.0685\n",
            "Epoch 15 Batch 600 Loss 0.0722\n",
            "Epoch 15 Batch 700 Loss 0.0762\n",
            "Epoch 15 Batch 800 Loss 0.0973\n",
            "Epoch 15 Batch 900 Loss 0.0464\n",
            "Epoch 15 Batch 1000 Loss 0.0562\n",
            "Epoch 15 Batch 1100 Loss 0.0864\n",
            "Epoch 15 Batch 1200 Loss 0.0789\n",
            "Epoch 15 Loss 0.0661\n",
            "Time taken for 1 epoch 53.28947472572327 sec\n",
            "\n",
            "Epoch 16 Batch 0 Loss 0.0703\n",
            "Epoch 16 Batch 100 Loss 0.0216\n",
            "Epoch 16 Batch 200 Loss 0.0416\n",
            "Epoch 16 Batch 300 Loss 0.0843\n",
            "Epoch 16 Batch 400 Loss 0.0699\n",
            "Epoch 16 Batch 500 Loss 0.0690\n",
            "Epoch 16 Batch 600 Loss 0.0572\n",
            "Epoch 16 Batch 700 Loss 0.0545\n",
            "Epoch 16 Batch 800 Loss 0.0723\n",
            "Epoch 16 Batch 900 Loss 0.0355\n",
            "Epoch 16 Batch 1000 Loss 0.0424\n",
            "Epoch 16 Batch 1100 Loss 0.0992\n",
            "Epoch 16 Batch 1200 Loss 0.0730\n",
            "Epoch 16 Loss 0.0641\n",
            "Time taken for 1 epoch 53.05948996543884 sec\n",
            "\n",
            "Epoch 17 Batch 0 Loss 0.0770\n",
            "Epoch 17 Batch 100 Loss 0.0644\n",
            "Epoch 17 Batch 200 Loss 0.0398\n",
            "Epoch 17 Batch 300 Loss 0.0502\n",
            "Epoch 17 Batch 400 Loss 0.0534\n",
            "Epoch 17 Batch 500 Loss 0.0707\n",
            "Epoch 17 Batch 600 Loss 0.0789\n",
            "Epoch 17 Batch 700 Loss 0.0643\n",
            "Epoch 17 Batch 800 Loss 0.0555\n",
            "Epoch 17 Batch 900 Loss 0.0679\n",
            "Epoch 17 Batch 1000 Loss 0.0848\n",
            "Epoch 17 Batch 1100 Loss 0.0670\n",
            "Epoch 17 Batch 1200 Loss 0.0739\n",
            "Epoch 17 Loss 0.0635\n",
            "Time taken for 1 epoch 53.1252760887146 sec\n",
            "\n",
            "Epoch 18 Batch 0 Loss 0.0641\n",
            "Epoch 18 Batch 100 Loss 0.0467\n",
            "Epoch 18 Batch 200 Loss 0.0483\n",
            "Epoch 18 Batch 300 Loss 0.0568\n",
            "Epoch 18 Batch 400 Loss 0.0600\n",
            "Epoch 18 Batch 500 Loss 0.0738\n",
            "Epoch 18 Batch 600 Loss 0.0410\n",
            "Epoch 18 Batch 700 Loss 0.0988\n",
            "Epoch 18 Batch 800 Loss 0.0700\n",
            "Epoch 18 Batch 900 Loss 0.0584\n",
            "Epoch 18 Batch 1000 Loss 0.0670\n",
            "Epoch 18 Batch 1100 Loss 0.0560\n",
            "Epoch 18 Batch 1200 Loss 0.0763\n",
            "Epoch 18 Loss 0.0619\n",
            "Time taken for 1 epoch 53.12726378440857 sec\n",
            "\n",
            "Epoch 19 Batch 0 Loss 0.0488\n",
            "Epoch 19 Batch 100 Loss 0.0392\n",
            "Epoch 19 Batch 200 Loss 0.0462\n",
            "Epoch 19 Batch 300 Loss 0.0608\n",
            "Epoch 19 Batch 400 Loss 0.0532\n",
            "Epoch 19 Batch 500 Loss 0.0735\n",
            "Epoch 19 Batch 600 Loss 0.0425\n",
            "Epoch 19 Batch 700 Loss 0.0610\n",
            "Epoch 19 Batch 800 Loss 0.0698\n",
            "Epoch 19 Batch 900 Loss 0.0754\n",
            "Epoch 19 Batch 1000 Loss 0.0986\n",
            "Epoch 19 Batch 1100 Loss 0.1090\n",
            "Epoch 19 Batch 1200 Loss 0.0624\n",
            "Epoch 19 Loss 0.0609\n",
            "Time taken for 1 epoch 53.069823265075684 sec\n",
            "\n",
            "Epoch 20 Batch 0 Loss 0.0755\n",
            "Epoch 20 Batch 100 Loss 0.0628\n",
            "Epoch 20 Batch 200 Loss 0.0514\n",
            "Epoch 20 Batch 300 Loss 0.0688\n",
            "Epoch 20 Batch 400 Loss 0.0731\n",
            "Epoch 20 Batch 500 Loss 0.0495\n",
            "Epoch 20 Batch 600 Loss 0.0473\n",
            "Epoch 20 Batch 700 Loss 0.0723\n",
            "Epoch 20 Batch 800 Loss 0.0813\n",
            "Epoch 20 Batch 900 Loss 0.0729\n",
            "Epoch 20 Batch 1000 Loss 0.0614\n",
            "Epoch 20 Batch 1100 Loss 0.0366\n",
            "Epoch 20 Batch 1200 Loss 0.0860\n",
            "Epoch 20 Loss 0.0598\n",
            "Time taken for 1 epoch 53.14501905441284 sec\n",
            "\n",
            "Epoch 21 Batch 0 Loss 0.0349\n",
            "Epoch 21 Batch 100 Loss 0.0556\n",
            "Epoch 21 Batch 200 Loss 0.0276\n",
            "Epoch 21 Batch 300 Loss 0.0581\n",
            "Epoch 21 Batch 400 Loss 0.0381\n",
            "Epoch 21 Batch 500 Loss 0.0513\n",
            "Epoch 21 Batch 600 Loss 0.0607\n",
            "Epoch 21 Batch 700 Loss 0.0367\n",
            "Epoch 21 Batch 800 Loss 0.0854\n",
            "Epoch 21 Batch 900 Loss 0.0481\n",
            "Epoch 21 Batch 1000 Loss 0.0243\n",
            "Epoch 21 Batch 1100 Loss 0.0556\n",
            "Epoch 21 Batch 1200 Loss 0.0890\n",
            "Epoch 21 Loss 0.0584\n",
            "Time taken for 1 epoch 53.08448505401611 sec\n",
            "\n",
            "Epoch 22 Batch 0 Loss 0.0530\n",
            "Epoch 22 Batch 100 Loss 0.0343\n",
            "Epoch 22 Batch 200 Loss 0.0575\n",
            "Epoch 22 Batch 300 Loss 0.0675\n",
            "Epoch 22 Batch 400 Loss 0.1056\n",
            "Epoch 22 Batch 500 Loss 0.0762\n",
            "Epoch 22 Batch 600 Loss 0.0372\n",
            "Epoch 22 Batch 700 Loss 0.0340\n",
            "Epoch 22 Batch 800 Loss 0.0880\n",
            "Epoch 22 Batch 900 Loss 0.0475\n",
            "Epoch 22 Batch 1000 Loss 0.1228\n",
            "Epoch 22 Batch 1100 Loss 0.0414\n",
            "Epoch 22 Batch 1200 Loss 0.0936\n",
            "Epoch 22 Loss 0.0575\n",
            "Time taken for 1 epoch 53.024009704589844 sec\n",
            "\n",
            "Epoch 23 Batch 0 Loss 0.0495\n",
            "Epoch 23 Batch 100 Loss 0.0441\n",
            "Epoch 23 Batch 200 Loss 0.0431\n",
            "Epoch 23 Batch 300 Loss 0.0694\n",
            "Epoch 23 Batch 400 Loss 0.0271\n",
            "Epoch 23 Batch 500 Loss 0.0803\n",
            "Epoch 23 Batch 600 Loss 0.0624\n",
            "Epoch 23 Batch 700 Loss 0.0606\n",
            "Epoch 23 Batch 800 Loss 0.0565\n",
            "Epoch 23 Batch 900 Loss 0.0684\n",
            "Epoch 23 Batch 1000 Loss 0.0737\n",
            "Epoch 23 Batch 1100 Loss 0.0467\n",
            "Epoch 23 Batch 1200 Loss 0.0668\n",
            "Epoch 23 Loss 0.0566\n",
            "Time taken for 1 epoch 53.06070923805237 sec\n",
            "\n",
            "Epoch 24 Batch 0 Loss 0.0550\n",
            "Epoch 24 Batch 100 Loss 0.0379\n",
            "Epoch 24 Batch 200 Loss 0.0488\n",
            "Epoch 24 Batch 300 Loss 0.0606\n",
            "Epoch 24 Batch 400 Loss 0.0594\n",
            "Epoch 24 Batch 500 Loss 0.0454\n",
            "Epoch 24 Batch 600 Loss 0.0521\n",
            "Epoch 24 Batch 700 Loss 0.0622\n",
            "Epoch 24 Batch 800 Loss 0.0366\n",
            "Epoch 24 Batch 900 Loss 0.0549\n",
            "Epoch 24 Batch 1000 Loss 0.0706\n",
            "Epoch 24 Batch 1100 Loss 0.0526\n",
            "Epoch 24 Batch 1200 Loss 0.0444\n",
            "Epoch 24 Loss 0.0552\n",
            "Time taken for 1 epoch 53.04997944831848 sec\n",
            "\n",
            "Epoch 25 Batch 0 Loss 0.0569\n",
            "Epoch 25 Batch 100 Loss 0.0536\n",
            "Epoch 25 Batch 200 Loss 0.0394\n",
            "Epoch 25 Batch 300 Loss 0.0628\n",
            "Epoch 25 Batch 400 Loss 0.0484\n",
            "Epoch 25 Batch 500 Loss 0.0404\n",
            "Epoch 25 Batch 600 Loss 0.0553\n",
            "Epoch 25 Batch 700 Loss 0.0665\n",
            "Epoch 25 Batch 800 Loss 0.0535\n",
            "Epoch 25 Batch 900 Loss 0.0687\n",
            "Epoch 25 Batch 1000 Loss 0.0637\n",
            "Epoch 25 Batch 1100 Loss 0.0882\n",
            "Epoch 25 Batch 1200 Loss 0.0743\n",
            "Epoch 25 Loss 0.0554\n",
            "Time taken for 1 epoch 53.73153352737427 sec\n",
            "\n",
            "Epoch 26 Batch 0 Loss 0.0545\n",
            "Epoch 26 Batch 100 Loss 0.0130\n",
            "Epoch 26 Batch 200 Loss 0.0494\n",
            "Epoch 26 Batch 300 Loss 0.0494\n",
            "Epoch 26 Batch 400 Loss 0.0490\n",
            "Epoch 26 Batch 500 Loss 0.0631\n",
            "Epoch 26 Batch 600 Loss 0.0759\n",
            "Epoch 26 Batch 700 Loss 0.0364\n",
            "Epoch 26 Batch 800 Loss 0.0343\n",
            "Epoch 26 Batch 900 Loss 0.0648\n",
            "Epoch 26 Batch 1000 Loss 0.0353\n",
            "Epoch 26 Batch 1100 Loss 0.0739\n",
            "Epoch 26 Batch 1200 Loss 0.0640\n",
            "Epoch 26 Loss 0.0538\n",
            "Time taken for 1 epoch 53.10377597808838 sec\n",
            "\n",
            "Epoch 27 Batch 0 Loss 0.0453\n",
            "Epoch 27 Batch 100 Loss 0.0647\n",
            "Epoch 27 Batch 200 Loss 0.0661\n",
            "Epoch 27 Batch 300 Loss 0.0324\n",
            "Epoch 27 Batch 400 Loss 0.0278\n",
            "Epoch 27 Batch 500 Loss 0.0792\n",
            "Epoch 27 Batch 600 Loss 0.0222\n",
            "Epoch 27 Batch 700 Loss 0.0516\n",
            "Epoch 27 Batch 800 Loss 0.0641\n",
            "Epoch 27 Batch 900 Loss 0.0843\n",
            "Epoch 27 Batch 1000 Loss 0.0284\n",
            "Epoch 27 Batch 1100 Loss 0.0609\n",
            "Epoch 27 Batch 1200 Loss 0.0724\n",
            "Epoch 27 Loss 0.0529\n",
            "Time taken for 1 epoch 53.2170147895813 sec\n",
            "\n",
            "Epoch 28 Batch 0 Loss 0.0563\n",
            "Epoch 28 Batch 100 Loss 0.0344\n",
            "Epoch 28 Batch 200 Loss 0.0581\n",
            "Epoch 28 Batch 300 Loss 0.0232\n",
            "Epoch 28 Batch 400 Loss 0.0479\n",
            "Epoch 28 Batch 500 Loss 0.0234\n",
            "Epoch 28 Batch 600 Loss 0.0486\n",
            "Epoch 28 Batch 700 Loss 0.0555\n",
            "Epoch 28 Batch 800 Loss 0.0669\n",
            "Epoch 28 Batch 900 Loss 0.0820\n",
            "Epoch 28 Batch 1000 Loss 0.0641\n",
            "Epoch 28 Batch 1100 Loss 0.0588\n",
            "Epoch 28 Batch 1200 Loss 0.0328\n",
            "Epoch 28 Loss 0.0519\n",
            "Time taken for 1 epoch 53.14059019088745 sec\n",
            "\n",
            "Epoch 29 Batch 0 Loss 0.0544\n",
            "Epoch 29 Batch 100 Loss 0.0373\n",
            "Epoch 29 Batch 200 Loss 0.0369\n",
            "Epoch 29 Batch 300 Loss 0.0473\n",
            "Epoch 29 Batch 400 Loss 0.0908\n",
            "Epoch 29 Batch 500 Loss 0.0327\n",
            "Epoch 29 Batch 600 Loss 0.0709\n",
            "Epoch 29 Batch 700 Loss 0.0620\n",
            "Epoch 29 Batch 800 Loss 0.0668\n",
            "Epoch 29 Batch 900 Loss 0.0630\n",
            "Epoch 29 Batch 1000 Loss 0.0549\n",
            "Epoch 29 Batch 1100 Loss 0.0369\n",
            "Epoch 29 Batch 1200 Loss 0.1171\n",
            "Epoch 29 Loss 0.0515\n",
            "Time taken for 1 epoch 53.225029945373535 sec\n",
            "\n",
            "Epoch 30 Batch 0 Loss 0.0670\n",
            "Epoch 30 Batch 100 Loss 0.0279\n",
            "Epoch 30 Batch 200 Loss 0.0419\n",
            "Epoch 30 Batch 300 Loss 0.0340\n",
            "Epoch 30 Batch 400 Loss 0.0504\n",
            "Epoch 30 Batch 500 Loss 0.0394\n",
            "Epoch 30 Batch 600 Loss 0.0472\n",
            "Epoch 30 Batch 700 Loss 0.0786\n",
            "Epoch 30 Batch 800 Loss 0.0582\n",
            "Epoch 30 Batch 900 Loss 0.0448\n",
            "Epoch 30 Batch 1000 Loss 0.0445\n",
            "Epoch 30 Batch 1100 Loss 0.0896\n",
            "Epoch 30 Batch 1200 Loss 0.0612\n",
            "Epoch 30 Loss 0.0503\n",
            "Time taken for 1 epoch 53.21508073806763 sec\n",
            "\n",
            "Epoch 31 Batch 0 Loss 0.0408\n",
            "Epoch 31 Batch 100 Loss 0.0253\n",
            "Epoch 31 Batch 200 Loss 0.0389\n",
            "Epoch 31 Batch 300 Loss 0.0448\n",
            "Epoch 31 Batch 400 Loss 0.0322\n",
            "Epoch 31 Batch 500 Loss 0.0175\n",
            "Epoch 31 Batch 600 Loss 0.0680\n",
            "Epoch 31 Batch 700 Loss 0.0398\n",
            "Epoch 31 Batch 800 Loss 0.0790\n",
            "Epoch 31 Batch 900 Loss 0.0518\n",
            "Epoch 31 Batch 1000 Loss 0.0608\n",
            "Epoch 31 Batch 1100 Loss 0.0916\n",
            "Epoch 31 Batch 1200 Loss 0.0502\n",
            "Epoch 31 Loss 0.0499\n",
            "Time taken for 1 epoch 53.204190731048584 sec\n",
            "\n",
            "Epoch 32 Batch 0 Loss 0.0240\n",
            "Epoch 32 Batch 100 Loss 0.0326\n",
            "Epoch 32 Batch 200 Loss 0.0461\n",
            "Epoch 32 Batch 300 Loss 0.0663\n",
            "Epoch 32 Batch 400 Loss 0.0490\n",
            "Epoch 32 Batch 500 Loss 0.0506\n",
            "Epoch 32 Batch 600 Loss 0.0675\n",
            "Epoch 32 Batch 700 Loss 0.0657\n",
            "Epoch 32 Batch 800 Loss 0.0604\n",
            "Epoch 32 Batch 900 Loss 0.0348\n",
            "Epoch 32 Batch 1000 Loss 0.0333\n",
            "Epoch 32 Batch 1100 Loss 0.0616\n",
            "Epoch 32 Batch 1200 Loss 0.0489\n",
            "Epoch 32 Loss 0.0492\n",
            "Time taken for 1 epoch 53.22059154510498 sec\n",
            "\n",
            "Epoch 33 Batch 0 Loss 0.0293\n",
            "Epoch 33 Batch 100 Loss 0.0163\n",
            "Epoch 33 Batch 200 Loss 0.0319\n",
            "Epoch 33 Batch 300 Loss 0.0400\n",
            "Epoch 33 Batch 400 Loss 0.0624\n",
            "Epoch 33 Batch 500 Loss 0.0745\n",
            "Epoch 33 Batch 600 Loss 0.0530\n",
            "Epoch 33 Batch 700 Loss 0.0216\n",
            "Epoch 33 Batch 800 Loss 0.0401\n",
            "Epoch 33 Batch 900 Loss 0.0321\n",
            "Epoch 33 Batch 1000 Loss 0.0657\n",
            "Epoch 33 Batch 1100 Loss 0.0924\n",
            "Epoch 33 Batch 1200 Loss 0.0404\n",
            "Epoch 33 Loss 0.0483\n",
            "Time taken for 1 epoch 53.16343069076538 sec\n",
            "\n",
            "Epoch 34 Batch 0 Loss 0.0450\n",
            "Epoch 34 Batch 100 Loss 0.0283\n",
            "Epoch 34 Batch 200 Loss 0.0276\n",
            "Epoch 34 Batch 300 Loss 0.0442\n",
            "Epoch 34 Batch 400 Loss 0.0332\n",
            "Epoch 34 Batch 500 Loss 0.0403\n",
            "Epoch 34 Batch 600 Loss 0.0375\n",
            "Epoch 34 Batch 700 Loss 0.0732\n",
            "Epoch 34 Batch 800 Loss 0.0690\n",
            "Epoch 34 Batch 900 Loss 0.0661\n",
            "Epoch 34 Batch 1000 Loss 0.0450\n",
            "Epoch 34 Batch 1100 Loss 0.0631\n",
            "Epoch 34 Batch 1200 Loss 0.0530\n",
            "Epoch 34 Loss 0.0482\n",
            "Time taken for 1 epoch 53.260945081710815 sec\n",
            "\n",
            "Epoch 35 Batch 0 Loss 0.0289\n",
            "Epoch 35 Batch 100 Loss 0.0334\n",
            "Epoch 35 Batch 200 Loss 0.0341\n",
            "Epoch 35 Batch 300 Loss 0.0628\n",
            "Epoch 35 Batch 400 Loss 0.0427\n",
            "Epoch 35 Batch 500 Loss 0.0246\n",
            "Epoch 35 Batch 600 Loss 0.0248\n",
            "Epoch 35 Batch 700 Loss 0.0610\n",
            "Epoch 35 Batch 800 Loss 0.0540\n",
            "Epoch 35 Batch 900 Loss 0.0434\n",
            "Epoch 35 Batch 1000 Loss 0.0588\n",
            "Epoch 35 Batch 1100 Loss 0.0477\n",
            "Epoch 35 Batch 1200 Loss 0.0631\n",
            "Epoch 35 Loss 0.0483\n",
            "Time taken for 1 epoch 53.05985236167908 sec\n",
            "\n",
            "Epoch 36 Batch 0 Loss 0.0396\n",
            "Epoch 36 Batch 100 Loss 0.0370\n",
            "Epoch 36 Batch 200 Loss 0.0366\n",
            "Epoch 36 Batch 300 Loss 0.0357\n",
            "Epoch 36 Batch 400 Loss 0.0486\n",
            "Epoch 36 Batch 500 Loss 0.0431\n",
            "Epoch 36 Batch 600 Loss 0.0520\n",
            "Epoch 36 Batch 700 Loss 0.0481\n",
            "Epoch 36 Batch 800 Loss 0.0418\n",
            "Epoch 36 Batch 900 Loss 0.0601\n",
            "Epoch 36 Batch 1000 Loss 0.0570\n",
            "Epoch 36 Batch 1100 Loss 0.0533\n",
            "Epoch 36 Batch 1200 Loss 0.0876\n",
            "Epoch 36 Loss 0.0467\n",
            "Time taken for 1 epoch 53.049087047576904 sec\n",
            "\n",
            "Epoch 37 Batch 0 Loss 0.0221\n",
            "Epoch 37 Batch 100 Loss 0.0176\n",
            "Epoch 37 Batch 200 Loss 0.0277\n",
            "Epoch 37 Batch 300 Loss 0.0423\n",
            "Epoch 37 Batch 400 Loss 0.0356\n",
            "Epoch 37 Batch 500 Loss 0.0411\n",
            "Epoch 37 Batch 600 Loss 0.0624\n",
            "Epoch 37 Batch 700 Loss 0.0361\n",
            "Epoch 37 Batch 800 Loss 0.0725\n",
            "Epoch 37 Batch 900 Loss 0.0314\n",
            "Epoch 37 Batch 1000 Loss 0.0647\n",
            "Epoch 37 Batch 1100 Loss 0.0673\n",
            "Epoch 37 Batch 1200 Loss 0.0615\n",
            "Epoch 37 Loss 0.0466\n",
            "Time taken for 1 epoch 53.04223895072937 sec\n",
            "\n",
            "Epoch 38 Batch 0 Loss 0.0512\n",
            "Epoch 38 Batch 100 Loss 0.0397\n",
            "Epoch 38 Batch 200 Loss 0.0415\n",
            "Epoch 38 Batch 300 Loss 0.0451\n",
            "Epoch 38 Batch 400 Loss 0.0498\n",
            "Epoch 38 Batch 500 Loss 0.0420\n",
            "Epoch 38 Batch 600 Loss 0.0464\n",
            "Epoch 38 Batch 700 Loss 0.0508\n",
            "Epoch 38 Batch 800 Loss 0.0415\n",
            "Epoch 38 Batch 900 Loss 0.0520\n",
            "Epoch 38 Batch 1000 Loss 0.0894\n",
            "Epoch 38 Batch 1100 Loss 0.0267\n",
            "Epoch 38 Batch 1200 Loss 0.0407\n",
            "Epoch 38 Loss 0.0462\n",
            "Time taken for 1 epoch 53.157026052474976 sec\n",
            "\n",
            "Epoch 39 Batch 0 Loss 0.0179\n",
            "Epoch 39 Batch 100 Loss 0.0386\n",
            "Epoch 39 Batch 200 Loss 0.0243\n",
            "Epoch 39 Batch 300 Loss 0.0165\n",
            "Epoch 39 Batch 400 Loss 0.0542\n",
            "Epoch 39 Batch 500 Loss 0.0809\n",
            "Epoch 39 Batch 600 Loss 0.0828\n",
            "Epoch 39 Batch 700 Loss 0.0193\n",
            "Epoch 39 Batch 800 Loss 0.0765\n",
            "Epoch 39 Batch 900 Loss 0.0509\n",
            "Epoch 39 Batch 1000 Loss 0.0326\n",
            "Epoch 39 Batch 1100 Loss 0.0333\n",
            "Epoch 39 Batch 1200 Loss 0.0502\n",
            "Epoch 39 Loss 0.0454\n",
            "Time taken for 1 epoch 53.06610059738159 sec\n",
            "\n",
            "Epoch 40 Batch 0 Loss 0.0436\n",
            "Epoch 40 Batch 100 Loss 0.0548\n",
            "Epoch 40 Batch 200 Loss 0.0192\n",
            "Epoch 40 Batch 300 Loss 0.0474\n",
            "Epoch 40 Batch 400 Loss 0.0298\n",
            "Epoch 40 Batch 500 Loss 0.0325\n",
            "Epoch 40 Batch 600 Loss 0.0338\n",
            "Epoch 40 Batch 700 Loss 0.0318\n",
            "Epoch 40 Batch 800 Loss 0.0985\n",
            "Epoch 40 Batch 900 Loss 0.0340\n",
            "Epoch 40 Batch 1000 Loss 0.0307\n",
            "Epoch 40 Batch 1100 Loss 0.0444\n",
            "Epoch 40 Batch 1200 Loss 0.0492\n",
            "Epoch 40 Loss 0.0450\n",
            "Time taken for 1 epoch 53.047820806503296 sec\n",
            "\n",
            "Epoch 41 Batch 0 Loss 0.0510\n",
            "Epoch 41 Batch 100 Loss 0.0334\n",
            "Epoch 41 Batch 200 Loss 0.0309\n",
            "Epoch 41 Batch 300 Loss 0.0181\n",
            "Epoch 41 Batch 400 Loss 0.0667\n",
            "Epoch 41 Batch 500 Loss 0.0480\n",
            "Epoch 41 Batch 600 Loss 0.0583\n",
            "Epoch 41 Batch 700 Loss 0.0582\n",
            "Epoch 41 Batch 800 Loss 0.0511\n",
            "Epoch 41 Batch 900 Loss 0.0305\n",
            "Epoch 41 Batch 1000 Loss 0.0530\n",
            "Epoch 41 Batch 1100 Loss 0.0332\n",
            "Epoch 41 Batch 1200 Loss 0.0391\n",
            "Epoch 41 Loss 0.0448\n",
            "Time taken for 1 epoch 53.14392280578613 sec\n",
            "\n",
            "Epoch 42 Batch 0 Loss 0.0330\n",
            "Epoch 42 Batch 100 Loss 0.0224\n",
            "Epoch 42 Batch 200 Loss 0.0299\n",
            "Epoch 42 Batch 300 Loss 0.0360\n",
            "Epoch 42 Batch 400 Loss 0.0381\n",
            "Epoch 42 Batch 500 Loss 0.0347\n",
            "Epoch 42 Batch 600 Loss 0.0324\n",
            "Epoch 42 Batch 700 Loss 0.0299\n",
            "Epoch 42 Batch 800 Loss 0.0730\n",
            "Epoch 42 Batch 900 Loss 0.0588\n",
            "Epoch 42 Batch 1000 Loss 0.0589\n",
            "Epoch 42 Batch 1100 Loss 0.0362\n",
            "Epoch 42 Batch 1200 Loss 0.0434\n",
            "Epoch 42 Loss 0.0443\n",
            "Time taken for 1 epoch 53.199456214904785 sec\n",
            "\n",
            "Epoch 43 Batch 0 Loss 0.0264\n",
            "Epoch 43 Batch 100 Loss 0.0449\n",
            "Epoch 43 Batch 200 Loss 0.0311\n",
            "Epoch 43 Batch 300 Loss 0.0396\n",
            "Epoch 43 Batch 400 Loss 0.0278\n",
            "Epoch 43 Batch 500 Loss 0.0296\n",
            "Epoch 43 Batch 600 Loss 0.0280\n",
            "Epoch 43 Batch 700 Loss 0.0420\n",
            "Epoch 43 Batch 800 Loss 0.0672\n",
            "Epoch 43 Batch 900 Loss 0.0343\n",
            "Epoch 43 Batch 1000 Loss 0.0521\n",
            "Epoch 43 Batch 1100 Loss 0.0844\n",
            "Epoch 43 Batch 1200 Loss 0.0460\n",
            "Epoch 43 Loss 0.0443\n",
            "Time taken for 1 epoch 53.269469022750854 sec\n",
            "\n",
            "Epoch 44 Batch 0 Loss 0.0621\n",
            "Epoch 44 Batch 100 Loss 0.0283\n",
            "Epoch 44 Batch 200 Loss 0.0181\n",
            "Epoch 44 Batch 300 Loss 0.0510\n",
            "Epoch 44 Batch 400 Loss 0.0298\n",
            "Epoch 44 Batch 500 Loss 0.0490\n",
            "Epoch 44 Batch 600 Loss 0.0499\n",
            "Epoch 44 Batch 700 Loss 0.0530\n",
            "Epoch 44 Batch 800 Loss 0.0478\n",
            "Epoch 44 Batch 900 Loss 0.0568\n",
            "Epoch 44 Batch 1000 Loss 0.0484\n",
            "Epoch 44 Batch 1100 Loss 0.0472\n",
            "Epoch 44 Batch 1200 Loss 0.0477\n",
            "Epoch 44 Loss 0.0433\n",
            "Time taken for 1 epoch 53.27418494224548 sec\n",
            "\n",
            "Epoch 45 Batch 0 Loss 0.0720\n",
            "Epoch 45 Batch 100 Loss 0.0441\n",
            "Epoch 45 Batch 200 Loss 0.0408\n",
            "Epoch 45 Batch 300 Loss 0.0463\n",
            "Epoch 45 Batch 400 Loss 0.0509\n",
            "Epoch 45 Batch 500 Loss 0.0247\n",
            "Epoch 45 Batch 600 Loss 0.0610\n",
            "Epoch 45 Batch 700 Loss 0.0481\n",
            "Epoch 45 Batch 800 Loss 0.0476\n",
            "Epoch 45 Batch 900 Loss 0.0542\n",
            "Epoch 45 Batch 1000 Loss 0.0352\n",
            "Epoch 45 Batch 1100 Loss 0.0523\n",
            "Epoch 45 Batch 1200 Loss 0.0705\n",
            "Epoch 45 Loss 0.0431\n",
            "Time taken for 1 epoch 53.19307541847229 sec\n",
            "\n",
            "Epoch 46 Batch 0 Loss 0.0340\n",
            "Epoch 46 Batch 100 Loss 0.0304\n",
            "Epoch 46 Batch 200 Loss 0.0269\n",
            "Epoch 46 Batch 300 Loss 0.0493\n",
            "Epoch 46 Batch 400 Loss 0.0479\n",
            "Epoch 46 Batch 500 Loss 0.0271\n",
            "Epoch 46 Batch 600 Loss 0.0518\n",
            "Epoch 46 Batch 700 Loss 0.0569\n",
            "Epoch 46 Batch 800 Loss 0.0372\n",
            "Epoch 46 Batch 900 Loss 0.0417\n",
            "Epoch 46 Batch 1000 Loss 0.0727\n",
            "Epoch 46 Batch 1100 Loss 0.0557\n",
            "Epoch 46 Batch 1200 Loss 0.0462\n",
            "Epoch 46 Loss 0.0423\n",
            "Time taken for 1 epoch 53.21151041984558 sec\n",
            "\n",
            "Epoch 47 Batch 0 Loss 0.0402\n",
            "Epoch 47 Batch 100 Loss 0.0453\n",
            "Epoch 47 Batch 200 Loss 0.0326\n",
            "Epoch 47 Batch 300 Loss 0.0392\n",
            "Epoch 47 Batch 400 Loss 0.0395\n",
            "Epoch 47 Batch 500 Loss 0.0476\n",
            "Epoch 47 Batch 600 Loss 0.0363\n",
            "Epoch 47 Batch 700 Loss 0.0567\n",
            "Epoch 47 Batch 800 Loss 0.0634\n",
            "Epoch 47 Batch 900 Loss 0.0451\n",
            "Epoch 47 Batch 1000 Loss 0.0485\n",
            "Epoch 47 Batch 1100 Loss 0.0508\n",
            "Epoch 47 Batch 1200 Loss 0.0438\n",
            "Epoch 47 Loss 0.0424\n",
            "Time taken for 1 epoch 53.139963150024414 sec\n",
            "\n",
            "Epoch 48 Batch 0 Loss 0.0276\n",
            "Epoch 48 Batch 100 Loss 0.0343\n",
            "Epoch 48 Batch 200 Loss 0.0223\n",
            "Epoch 48 Batch 300 Loss 0.0192\n",
            "Epoch 48 Batch 400 Loss 0.0375\n",
            "Epoch 48 Batch 500 Loss 0.0260\n",
            "Epoch 48 Batch 600 Loss 0.0421\n",
            "Epoch 48 Batch 700 Loss 0.0602\n",
            "Epoch 48 Batch 800 Loss 0.0514\n",
            "Epoch 48 Batch 900 Loss 0.0330\n",
            "Epoch 48 Batch 1000 Loss 0.0330\n",
            "Epoch 48 Batch 1100 Loss 0.0497\n",
            "Epoch 48 Batch 1200 Loss 0.0369\n",
            "Epoch 48 Loss 0.0423\n",
            "Time taken for 1 epoch 53.06686449050903 sec\n",
            "\n",
            "Epoch 49 Batch 0 Loss 0.0355\n",
            "Epoch 49 Batch 100 Loss 0.0470\n",
            "Epoch 49 Batch 200 Loss 0.0363\n",
            "Epoch 49 Batch 300 Loss 0.0304\n",
            "Epoch 49 Batch 400 Loss 0.0410\n",
            "Epoch 49 Batch 500 Loss 0.0616\n",
            "Epoch 49 Batch 600 Loss 0.0340\n",
            "Epoch 49 Batch 700 Loss 0.0668\n",
            "Epoch 49 Batch 800 Loss 0.0657\n",
            "Epoch 49 Batch 900 Loss 0.0193\n",
            "Epoch 49 Batch 1000 Loss 0.0674\n",
            "Epoch 49 Batch 1100 Loss 0.0337\n",
            "Epoch 49 Batch 1200 Loss 0.0444\n",
            "Epoch 49 Loss 0.0418\n",
            "Time taken for 1 epoch 53.04865121841431 sec\n",
            "\n",
            "Epoch 50 Batch 0 Loss 0.0429\n",
            "Epoch 50 Batch 100 Loss 0.0387\n",
            "Epoch 50 Batch 200 Loss 0.0233\n",
            "Epoch 50 Batch 300 Loss 0.0467\n",
            "Epoch 50 Batch 400 Loss 0.0598\n",
            "Epoch 50 Batch 500 Loss 0.0271\n",
            "Epoch 50 Batch 600 Loss 0.0333\n",
            "Epoch 50 Batch 700 Loss 0.0252\n",
            "Epoch 50 Batch 800 Loss 0.0463\n",
            "Epoch 50 Batch 900 Loss 0.0642\n",
            "Epoch 50 Batch 1000 Loss 0.0726\n",
            "Epoch 50 Batch 1100 Loss 0.0288\n",
            "Epoch 50 Batch 1200 Loss 0.0597\n",
            "Epoch 50 Loss 0.0417\n",
            "Time taken for 1 epoch 58.85006093978882 sec\n",
            "\n"
          ]
        }
      ]
    },
    {
      "cell_type": "code",
      "metadata": {
        "id": "EbQpyYs13jF_"
      },
      "source": [
        "def evaluate(sentence):\n",
        "  # выполняем препоцессинг предложения\n",
        "  attention_plot = np.zeros((max_length_targ, max_length_inp))\n",
        "  #разбиваем предложение по пробелам и составляем список индексов каждого слова\n",
        "  sentence = preprocess_sentence(sentence)\n",
        "\n",
        "  inputs = [inp_lang.word_index[i] for i in sentence.split(' ')]\n",
        "  #заполняем inputs нулями справа до максимальной длины входного текста\n",
        "  inputs = tf.keras.preprocessing.sequence.pad_sequences([inputs],\n",
        "                                                         maxlen=max_length_inp,\n",
        "                                                         padding='post')\n",
        "  #преобразуем inputs в тензор\n",
        "  inputs = tf.convert_to_tensor(inputs)\n",
        "\n",
        "  result = ''\n",
        "  #инициализируем входной hidden из нулей размера (1, units)\n",
        "  hidden = [tf.zeros((1, units))]\n",
        "  #подаем inputs и hidden в encoder\n",
        "  enc_hidden = encoder(inputs, hidden)\n",
        "\n",
        "  #инициализируем входной hidden декодера -- выходной hidden энкодера\n",
        "  dec_hidden = enc_hidden\n",
        "  #вход декодера -- список [индекс start] размера(1,1)\n",
        "  dec_input = tf.expand_dims([targ_lang.word_index['<start>']], 0)\n",
        "\n",
        "  for t in range(max_length_targ):\n",
        "    #получаем выход декодера\n",
        "    predictions, dec_hidden = decoder(dec_input, dec_hidden)\n",
        "\n",
        "    # storing the attention weights to plot later on\n",
        "    predicted_id = tf.argmax(predictions[0]).numpy()\n",
        "    result += targ_lang.index_word[predicted_id] + ' '\n",
        "\n",
        "    #заканчиваем на токене end\n",
        "    if targ_lang.index_word[predicted_id] == '<end>':\n",
        "      return result, sentence\n",
        "\n",
        "    #предсказанный predicted ID подаем обратно в декодер (размер (1,1))\n",
        "    dec_input = tf.expand_dims([predicted_id], 0)\n",
        "\n",
        "  return result, sentence"
      ],
      "execution_count": 29,
      "outputs": []
    },
    {
      "cell_type": "markdown",
      "source": [
        "**Напишем функцию для перевода текста.**"
      ],
      "metadata": {
        "id": "I-lDxdLcJAVf"
      }
    },
    {
      "cell_type": "code",
      "metadata": {
        "id": "sl9zUHzg3jGI"
      },
      "source": [
        "def translate(sentence):\n",
        "  result, sentence = evaluate(sentence)\n",
        "\n",
        "  print('Input: %s' % (sentence))\n",
        "  print('Predicted translation: {}'.format(result))"
      ],
      "execution_count": 30,
      "outputs": []
    },
    {
      "cell_type": "markdown",
      "metadata": {
        "id": "n250XbnjOaqP"
      },
      "source": [
        "**Загрузим последний сохраненный чекпойнт .**"
      ]
    },
    {
      "cell_type": "code",
      "metadata": {
        "id": "UJpT9D5_OgP6",
        "colab": {
          "base_uri": "https://localhost:8080/"
        },
        "outputId": "d4ec865f-7764-47c5-8f8f-dffaf1e83528"
      },
      "source": [
        "checkpoint.restore(tf.train.latest_checkpoint(checkpoint_dir))"
      ],
      "execution_count": 31,
      "outputs": [
        {
          "output_type": "execute_result",
          "data": {
            "text/plain": [
              "<tensorflow.python.checkpoint.checkpoint.CheckpointLoadStatus at 0x7dd197182d70>"
            ]
          },
          "metadata": {},
          "execution_count": 31
        }
      ]
    },
    {
      "cell_type": "markdown",
      "source": [
        "### Протестируем работу модели."
      ],
      "metadata": {
        "id": "YWYVw43uJcgU"
      }
    },
    {
      "cell_type": "code",
      "metadata": {
        "id": "WrAM0FDomq3E",
        "colab": {
          "base_uri": "https://localhost:8080/"
        },
        "outputId": "417927d5-0bbd-4e97-db03-9e1f7a6fef19"
      },
      "source": [
        "translate('Хорошая погода.')"
      ],
      "execution_count": 32,
      "outputs": [
        {
          "output_type": "stream",
          "name": "stdout",
          "text": [
            "Input: <start> хорошая погода . <end>\n",
            "Predicted translation: it's good food . <end> \n"
          ]
        }
      ]
    },
    {
      "cell_type": "code",
      "metadata": {
        "id": "5bhFfwcIMX5i",
        "colab": {
          "base_uri": "https://localhost:8080/"
        },
        "outputId": "4268a3fa-c18b-440f-a013-43a4c73d8186"
      },
      "source": [
        "translate('Я не смогу поехать.')"
      ],
      "execution_count": 33,
      "outputs": [
        {
          "output_type": "stream",
          "name": "stdout",
          "text": [
            "Input: <start> я не смогу поехать . <end>\n",
            "Predicted translation: i can't go . <end> \n"
          ]
        }
      ]
    },
    {
      "cell_type": "code",
      "metadata": {
        "id": "zSx2iM36EZQZ",
        "colab": {
          "base_uri": "https://localhost:8080/"
        },
        "outputId": "80f7730d-737e-49d3-f38a-ae8b1afe50d7"
      },
      "source": [
        "translate(u'Вы еще дома?')"
      ],
      "execution_count": 34,
      "outputs": [
        {
          "output_type": "stream",
          "name": "stdout",
          "text": [
            "Input: <start> вы еще дома ? <end>\n",
            "Predicted translation: are you still home ? <end> \n"
          ]
        }
      ]
    },
    {
      "cell_type": "code",
      "metadata": {
        "id": "A3LLCx3ZE0Ls",
        "colab": {
          "base_uri": "https://localhost:8080/"
        },
        "outputId": "af284dde-46ae-4324-8b8f-c4651bfd8a0f"
      },
      "source": [
        "translate(u'Вы все еще дома?')"
      ],
      "execution_count": 35,
      "outputs": [
        {
          "output_type": "stream",
          "name": "stdout",
          "text": [
            "Input: <start> вы все еще дома ? <end>\n",
            "Predicted translation: are you still home ? <end> \n"
          ]
        }
      ]
    },
    {
      "cell_type": "code",
      "source": [
        "translate(u'Вы уже дома?')"
      ],
      "metadata": {
        "colab": {
          "base_uri": "https://localhost:8080/"
        },
        "id": "bFBvSLQmOWRN",
        "outputId": "762f196a-91b5-4a8d-ec70-c11f8ff40325"
      },
      "execution_count": 36,
      "outputs": [
        {
          "output_type": "stream",
          "name": "stdout",
          "text": [
            "Input: <start> вы уже дома ? <end>\n",
            "Predicted translation: are you home yet ? <end> \n"
          ]
        }
      ]
    },
    {
      "cell_type": "code",
      "metadata": {
        "id": "DUQVLVqUE1YW",
        "colab": {
          "base_uri": "https://localhost:8080/"
        },
        "outputId": "3c902949-12ee-4fec-8b10-6a95d4d6b3d3"
      },
      "source": [
        "translate(u'Попробуй сделать это.')"
      ],
      "execution_count": 37,
      "outputs": [
        {
          "output_type": "stream",
          "name": "stdout",
          "text": [
            "Input: <start> попробуй сделать это . <end>\n",
            "Predicted translation: try to do this . <end> \n"
          ]
        }
      ]
    },
    {
      "cell_type": "code",
      "metadata": {
        "id": "f09_hUFx9EJh",
        "colab": {
          "base_uri": "https://localhost:8080/"
        },
        "outputId": "18b5831d-0727-4fa6-9b76-83f3ce368726"
      },
      "source": [
        "translate(u'Я люблю, когда идет снег.')"
      ],
      "execution_count": 38,
      "outputs": [
        {
          "output_type": "stream",
          "name": "stdout",
          "text": [
            "Input: <start> я люблю , когда идет снег . <end>\n",
            "Predicted translation: i like when eat meat . <end> \n"
          ]
        }
      ]
    },
    {
      "cell_type": "code",
      "source": [
        "translate(u'Это хороший фильм.')"
      ],
      "metadata": {
        "colab": {
          "base_uri": "https://localhost:8080/"
        },
        "id": "Okt3L2VPK6gp",
        "outputId": "532ba081-eb29-409e-d3f5-c98c1be7d764"
      },
      "execution_count": 39,
      "outputs": [
        {
          "output_type": "stream",
          "name": "stdout",
          "text": [
            "Input: <start> это хороший фильм . <end>\n",
            "Predicted translation: this is a good movie . <end> \n"
          ]
        }
      ]
    },
    {
      "cell_type": "code",
      "source": [
        "translate(u'Это не совсем хороший фильм.')"
      ],
      "metadata": {
        "colab": {
          "base_uri": "https://localhost:8080/"
        },
        "id": "wbKJ0mviK6nq",
        "outputId": "4b60d882-29ea-486d-9f84-5994390a9b6e"
      },
      "execution_count": 40,
      "outputs": [
        {
          "output_type": "stream",
          "name": "stdout",
          "text": [
            "Input: <start> это не совсем хороший фильм . <end>\n",
            "Predicted translation: that's not very good . <end> \n"
          ]
        }
      ]
    },
    {
      "cell_type": "code",
      "source": [
        "translate(u'Это совсем нехороший фильм.')"
      ],
      "metadata": {
        "colab": {
          "base_uri": "https://localhost:8080/"
        },
        "id": "M8ShfqgcK6wd",
        "outputId": "5d358256-f4b9-4d5b-876b-6a6d1c367356"
      },
      "execution_count": 41,
      "outputs": [
        {
          "output_type": "stream",
          "name": "stdout",
          "text": [
            "Input: <start> это совсем нехороший фильм . <end>\n",
            "Predicted translation: it's all not a good . <end> \n"
          ]
        }
      ]
    },
    {
      "cell_type": "code",
      "metadata": {
        "id": "e7c5p8rmkHQG",
        "colab": {
          "base_uri": "https://localhost:8080/"
        },
        "outputId": "d63db604-09c9-45d9-c76a-a24bb334d9d1"
      },
      "source": [
        "translate(u'Любите Родину, вашу мать!')"
      ],
      "execution_count": 42,
      "outputs": [
        {
          "output_type": "stream",
          "name": "stdout",
          "text": [
            "Input: <start> любите родину , вашу мать ! <end>\n",
            "Predicted translation: you love your mother . <end> \n"
          ]
        }
      ]
    },
    {
      "cell_type": "code",
      "metadata": {
        "id": "jdXES85KkTVS",
        "colab": {
          "base_uri": "https://localhost:8080/",
          "height": 321
        },
        "outputId": "47be1d99-be01-4bf8-c819-330be616ac15"
      },
      "source": [
        "translate(u'На улице темнота, ни зги не видно.')"
      ],
      "execution_count": 43,
      "outputs": [
        {
          "output_type": "error",
          "ename": "KeyError",
          "evalue": "ignored",
          "traceback": [
            "\u001b[0;31m---------------------------------------------------------------------------\u001b[0m",
            "\u001b[0;31mKeyError\u001b[0m                                  Traceback (most recent call last)",
            "\u001b[0;32m<ipython-input-43-ba06464a9949>\u001b[0m in \u001b[0;36m<cell line: 1>\u001b[0;34m()\u001b[0m\n\u001b[0;32m----> 1\u001b[0;31m \u001b[0mtranslate\u001b[0m\u001b[0;34m(\u001b[0m\u001b[0;34mu'На улице темнота, ни зги не видно.'\u001b[0m\u001b[0;34m)\u001b[0m\u001b[0;34m\u001b[0m\u001b[0;34m\u001b[0m\u001b[0m\n\u001b[0m",
            "\u001b[0;32m<ipython-input-30-d01480530bee>\u001b[0m in \u001b[0;36mtranslate\u001b[0;34m(sentence)\u001b[0m\n\u001b[1;32m      1\u001b[0m \u001b[0;32mdef\u001b[0m \u001b[0mtranslate\u001b[0m\u001b[0;34m(\u001b[0m\u001b[0msentence\u001b[0m\u001b[0;34m)\u001b[0m\u001b[0;34m:\u001b[0m\u001b[0;34m\u001b[0m\u001b[0;34m\u001b[0m\u001b[0m\n\u001b[0;32m----> 2\u001b[0;31m   \u001b[0mresult\u001b[0m\u001b[0;34m,\u001b[0m \u001b[0msentence\u001b[0m \u001b[0;34m=\u001b[0m \u001b[0mevaluate\u001b[0m\u001b[0;34m(\u001b[0m\u001b[0msentence\u001b[0m\u001b[0;34m)\u001b[0m\u001b[0;34m\u001b[0m\u001b[0;34m\u001b[0m\u001b[0m\n\u001b[0m\u001b[1;32m      3\u001b[0m \u001b[0;34m\u001b[0m\u001b[0m\n\u001b[1;32m      4\u001b[0m   \u001b[0mprint\u001b[0m\u001b[0;34m(\u001b[0m\u001b[0;34m'Input: %s'\u001b[0m \u001b[0;34m%\u001b[0m \u001b[0;34m(\u001b[0m\u001b[0msentence\u001b[0m\u001b[0;34m)\u001b[0m\u001b[0;34m)\u001b[0m\u001b[0;34m\u001b[0m\u001b[0;34m\u001b[0m\u001b[0m\n\u001b[1;32m      5\u001b[0m   \u001b[0mprint\u001b[0m\u001b[0;34m(\u001b[0m\u001b[0;34m'Predicted translation: {}'\u001b[0m\u001b[0;34m.\u001b[0m\u001b[0mformat\u001b[0m\u001b[0;34m(\u001b[0m\u001b[0mresult\u001b[0m\u001b[0;34m)\u001b[0m\u001b[0;34m)\u001b[0m\u001b[0;34m\u001b[0m\u001b[0;34m\u001b[0m\u001b[0m\n",
            "\u001b[0;32m<ipython-input-29-d81b632c200c>\u001b[0m in \u001b[0;36mevaluate\u001b[0;34m(sentence)\u001b[0m\n\u001b[1;32m      5\u001b[0m   \u001b[0msentence\u001b[0m \u001b[0;34m=\u001b[0m \u001b[0mpreprocess_sentence\u001b[0m\u001b[0;34m(\u001b[0m\u001b[0msentence\u001b[0m\u001b[0;34m)\u001b[0m\u001b[0;34m\u001b[0m\u001b[0;34m\u001b[0m\u001b[0m\n\u001b[1;32m      6\u001b[0m \u001b[0;34m\u001b[0m\u001b[0m\n\u001b[0;32m----> 7\u001b[0;31m   \u001b[0minputs\u001b[0m \u001b[0;34m=\u001b[0m \u001b[0;34m[\u001b[0m\u001b[0minp_lang\u001b[0m\u001b[0;34m.\u001b[0m\u001b[0mword_index\u001b[0m\u001b[0;34m[\u001b[0m\u001b[0mi\u001b[0m\u001b[0;34m]\u001b[0m \u001b[0;32mfor\u001b[0m \u001b[0mi\u001b[0m \u001b[0;32min\u001b[0m \u001b[0msentence\u001b[0m\u001b[0;34m.\u001b[0m\u001b[0msplit\u001b[0m\u001b[0;34m(\u001b[0m\u001b[0;34m' '\u001b[0m\u001b[0;34m)\u001b[0m\u001b[0;34m]\u001b[0m\u001b[0;34m\u001b[0m\u001b[0;34m\u001b[0m\u001b[0m\n\u001b[0m\u001b[1;32m      8\u001b[0m   \u001b[0;31m#заполняем inputs нулями справа до максимальной длины входного текста\u001b[0m\u001b[0;34m\u001b[0m\u001b[0;34m\u001b[0m\u001b[0m\n\u001b[1;32m      9\u001b[0m   inputs = tf.keras.preprocessing.sequence.pad_sequences([inputs],\n",
            "\u001b[0;32m<ipython-input-29-d81b632c200c>\u001b[0m in \u001b[0;36m<listcomp>\u001b[0;34m(.0)\u001b[0m\n\u001b[1;32m      5\u001b[0m   \u001b[0msentence\u001b[0m \u001b[0;34m=\u001b[0m \u001b[0mpreprocess_sentence\u001b[0m\u001b[0;34m(\u001b[0m\u001b[0msentence\u001b[0m\u001b[0;34m)\u001b[0m\u001b[0;34m\u001b[0m\u001b[0;34m\u001b[0m\u001b[0m\n\u001b[1;32m      6\u001b[0m \u001b[0;34m\u001b[0m\u001b[0m\n\u001b[0;32m----> 7\u001b[0;31m   \u001b[0minputs\u001b[0m \u001b[0;34m=\u001b[0m \u001b[0;34m[\u001b[0m\u001b[0minp_lang\u001b[0m\u001b[0;34m.\u001b[0m\u001b[0mword_index\u001b[0m\u001b[0;34m[\u001b[0m\u001b[0mi\u001b[0m\u001b[0;34m]\u001b[0m \u001b[0;32mfor\u001b[0m \u001b[0mi\u001b[0m \u001b[0;32min\u001b[0m \u001b[0msentence\u001b[0m\u001b[0;34m.\u001b[0m\u001b[0msplit\u001b[0m\u001b[0;34m(\u001b[0m\u001b[0;34m' '\u001b[0m\u001b[0;34m)\u001b[0m\u001b[0;34m]\u001b[0m\u001b[0;34m\u001b[0m\u001b[0;34m\u001b[0m\u001b[0m\n\u001b[0m\u001b[1;32m      8\u001b[0m   \u001b[0;31m#заполняем inputs нулями справа до максимальной длины входного текста\u001b[0m\u001b[0;34m\u001b[0m\u001b[0;34m\u001b[0m\u001b[0m\n\u001b[1;32m      9\u001b[0m   inputs = tf.keras.preprocessing.sequence.pad_sequences([inputs],\n",
            "\u001b[0;31mKeyError\u001b[0m: 'зги'"
          ]
        }
      ]
    },
    {
      "cell_type": "markdown",
      "source": [
        "## ВЫВОД: Модель вполне работоспособная и неплохо справляется с простыми короткими фразами. Если попадается слово, отсутствующее в словаре модели, выпадает ошибка."
      ],
      "metadata": {
        "id": "3tLeuOadNfqe"
      }
    }
  ]
}