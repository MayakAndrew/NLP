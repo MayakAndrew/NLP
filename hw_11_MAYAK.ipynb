{
  "cells": [
    {
      "cell_type": "markdown",
      "metadata": {
        "id": "J0Qjg6vuaHNt"
      },
      "source": [
        "# ДЗ_11 “Перевод с механизмом внимания”"
      ]
    },
    {
      "cell_type": "markdown",
      "source": [
        "**Разобраться с моделью перевода (с механизмом внимания) как она устроена, запустить для перевода с русского на английский (при желании можно взять другие пары языков).**"
      ],
      "metadata": {
        "id": "FWqUByKwoXr4"
      }
    },
    {
      "cell_type": "code",
      "execution_count": 1,
      "metadata": {
        "id": "tnxXKDjq3jEL"
      },
      "outputs": [],
      "source": [
        "import tensorflow as tf\n",
        "\n",
        "import matplotlib.pyplot as plt\n",
        "import matplotlib.ticker as ticker\n",
        "from sklearn.model_selection import train_test_split\n",
        "\n",
        "import unicodedata\n",
        "import re\n",
        "import numpy as np\n",
        "import os\n",
        "import io\n",
        "import time"
      ]
    },
    {
      "cell_type": "markdown",
      "metadata": {
        "id": "wfodePkj3jEa"
      },
      "source": [
        "## Загрузим и подготовим данные.\n"
      ]
    },
    {
      "cell_type": "code",
      "execution_count": 2,
      "metadata": {
        "colab": {
          "base_uri": "https://localhost:8080/"
        },
        "id": "CNvjhDyAKk3U",
        "outputId": "21231538-dfae-4a8a-d9b2-d7fd2fafcb56"
      },
      "outputs": [
        {
          "output_type": "stream",
          "name": "stdout",
          "text": [
            "--2023-11-23 10:43:25--  http://www.manythings.org/anki/rus-eng.zip\n",
            "Resolving www.manythings.org (www.manythings.org)... 173.254.30.110\n",
            "Connecting to www.manythings.org (www.manythings.org)|173.254.30.110|:80... connected.\n",
            "HTTP request sent, awaiting response... 200 OK\n",
            "Length: 15824155 (15M) [application/zip]\n",
            "Saving to: ‘rus-eng.zip’\n",
            "\n",
            "rus-eng.zip         100%[===================>]  15.09M  62.5MB/s    in 0.2s    \n",
            "\n",
            "2023-11-23 10:43:25 (62.5 MB/s) - ‘rus-eng.zip’ saved [15824155/15824155]\n",
            "\n"
          ]
        }
      ],
      "source": [
        "!wget http://www.manythings.org/anki/rus-eng.zip"
      ]
    },
    {
      "cell_type": "code",
      "execution_count": 3,
      "metadata": {
        "colab": {
          "base_uri": "https://localhost:8080/"
        },
        "id": "83bg17Lr-7XK",
        "outputId": "7cef72fc-a45b-45bc-f5e3-52fa830dd1bd"
      },
      "outputs": [
        {
          "output_type": "stream",
          "name": "stdout",
          "text": [
            "Archive:  rus-eng.zip\n",
            "  inflating: rus-eng/rus.txt         \n",
            "  inflating: rus-eng/_about.txt      \n"
          ]
        }
      ],
      "source": [
        "!mkdir rus-eng\n",
        "!unzip rus-eng.zip -d rus-eng/"
      ]
    },
    {
      "cell_type": "code",
      "execution_count": 4,
      "metadata": {
        "colab": {
          "base_uri": "https://localhost:8080/"
        },
        "id": "7o5L92efMMhf",
        "outputId": "2e59fceb-25a7-4d62-b610-b0ad8e27aaca"
      },
      "outputs": [
        {
          "output_type": "stream",
          "name": "stdout",
          "text": [
            "total 76M\n",
            "drwxr-xr-x 2 root root 4.0K Nov 23 10:43 .\n",
            "drwxr-xr-x 1 root root 4.0K Nov 23 10:43 ..\n",
            "-rw-r--r-- 1 root root 1.5K Jul 30 03:53 _about.txt\n",
            "-rw-r--r-- 1 root root  76M Jul 30 03:53 rus.txt\n"
          ]
        }
      ],
      "source": [
        "!ls /content/rus-eng/ -lah"
      ]
    },
    {
      "cell_type": "code",
      "execution_count": 5,
      "metadata": {
        "id": "kRVATYOgJs1b"
      },
      "outputs": [],
      "source": [
        "path_to_file = \"/content/rus-eng/rus.txt\""
      ]
    },
    {
      "cell_type": "code",
      "execution_count": 6,
      "metadata": {
        "id": "rd0jw-eC3jEh"
      },
      "outputs": [],
      "source": [
        "def preprocess_sentence(w):\n",
        "  w = w.lower().strip()\n",
        "\n",
        "  w = re.sub(r\"([?.!,])\", r\" \\1 \", w)\n",
        "  w = re.sub(r'[\" \"]+', \" \", w)\n",
        "\n",
        "  w = re.sub(r\"[^a-zA-Zа-яА-Я?.!,']+\", \" \", w)\n",
        "\n",
        "  w = w.strip()\n",
        "\n",
        "  w = '<start> ' + w + ' <end>'\n",
        "  return w"
      ]
    },
    {
      "cell_type": "code",
      "execution_count": 7,
      "metadata": {
        "colab": {
          "base_uri": "https://localhost:8080/",
          "height": 35
        },
        "id": "yV9lZXQXNbnH",
        "outputId": "1e392d02-0912-4b96-ed5c-563fd9b29bc6"
      },
      "outputs": [
        {
          "output_type": "execute_result",
          "data": {
            "text/plain": [
              "\"<start> i can't go . <end>\""
            ],
            "application/vnd.google.colaboratory.intrinsic+json": {
              "type": "string"
            }
          },
          "metadata": {},
          "execution_count": 7
        }
      ],
      "source": [
        "preprocess_sentence(\"I can't go.\")"
      ]
    },
    {
      "cell_type": "code",
      "execution_count": 8,
      "metadata": {
        "id": "OHn4Dct23jEm"
      },
      "outputs": [],
      "source": [
        "def create_dataset(path, num_examples):\n",
        "  lines = io.open(path, encoding='UTF-8').read().strip().split('\\n')\n",
        "\n",
        "  word_pairs = [[preprocess_sentence(w) for w in l.split('\\t')[:2]]  for l in lines[:num_examples]]\n",
        "\n",
        "  return zip(*word_pairs)"
      ]
    },
    {
      "cell_type": "code",
      "execution_count": 9,
      "metadata": {
        "colab": {
          "base_uri": "https://localhost:8080/"
        },
        "id": "cTbSbBz55QtF",
        "outputId": "345c8e12-ad0e-4b4a-fe19-d2873be8ba2e"
      },
      "outputs": [
        {
          "output_type": "stream",
          "name": "stdout",
          "text": [
            "<start> doubtless there exists in this world precisely the right woman for any given man to marry and vice versa but when you consider that a human being has the opportunity of being acquainted with only a few hundred people , and out of the few hundred that there are but a dozen or less whom he knows intimately , and out of the dozen , one or two friends at most , it will easily be seen , when we remember the number of millions who inhabit this world , that probably , since the earth was created , the right man has never yet met the right woman . <end>\n",
            "<start> несомненно , для каждого мужчины в этом мире где то есть подходящая женщина , которая может стать ему женой , обратное верно и для женщин . но если учесть , что у человека может быть максимум несколько сотен знакомых , из которых лишь дюжина , а то и меньше , тех , кого он знает близко , а из этой дюжины у него один или от силы два друга , то можно легко увидеть , что с уч том миллионов живущих на земле людей , ни один подходящий мужчина , возможно , ещ не встретил подходящую женщину . <end>\n"
          ]
        }
      ],
      "source": [
        "en, ru = create_dataset(path_to_file, None)\n",
        "print(en[-1])\n",
        "print(ru[-1])"
      ]
    },
    {
      "cell_type": "code",
      "execution_count": 10,
      "metadata": {
        "id": "bIOn8RCNDJXG"
      },
      "outputs": [],
      "source": [
        "def tokenize(lang):\n",
        "  lang_tokenizer = tf.keras.preprocessing.text.Tokenizer(\n",
        "      filters='')\n",
        "  lang_tokenizer.fit_on_texts(lang)\n",
        "\n",
        "  tensor = lang_tokenizer.texts_to_sequences(lang)\n",
        "\n",
        "  tensor = tf.keras.preprocessing.sequence.pad_sequences(tensor,\n",
        "                                                         padding='post')\n",
        "\n",
        "  return tensor, lang_tokenizer"
      ]
    },
    {
      "cell_type": "code",
      "execution_count": 11,
      "metadata": {
        "id": "eAY9k49G3jE_"
      },
      "outputs": [],
      "source": [
        "def load_dataset(path, num_examples=None):\n",
        "  # creating cleaned input, output pairs\n",
        "  targ_lang, inp_lang = create_dataset(path, num_examples)\n",
        "\n",
        "  input_tensor, inp_lang_tokenizer = tokenize(inp_lang)\n",
        "  target_tensor, targ_lang_tokenizer = tokenize(targ_lang)\n",
        "\n",
        "  return input_tensor, target_tensor, inp_lang_tokenizer, targ_lang_tokenizer"
      ]
    },
    {
      "cell_type": "markdown",
      "metadata": {
        "id": "GOi42V79Ydlr"
      },
      "source": [
        "### Ограничим размер датасета для ускорения обучения.\n"
      ]
    },
    {
      "cell_type": "code",
      "execution_count": 12,
      "metadata": {
        "colab": {
          "base_uri": "https://localhost:8080/"
        },
        "id": "C8j9g9AnIeZV",
        "outputId": "30d81fab-f658-4e30-c41b-e1252ad82904"
      },
      "outputs": [
        {
          "output_type": "execute_result",
          "data": {
            "text/plain": [
              "(479223, 479223)"
            ]
          },
          "metadata": {},
          "execution_count": 12
        }
      ],
      "source": [
        "len(en), len(ru)"
      ]
    },
    {
      "cell_type": "code",
      "execution_count": 13,
      "metadata": {
        "id": "cnxC7q-j3jFD"
      },
      "outputs": [],
      "source": [
        "num_examples = 100000\n",
        "input_tensor, target_tensor, inp_lang, targ_lang = load_dataset(path_to_file, num_examples)\n",
        "\n",
        "# Calculate max_length of the target tensors\n",
        "max_length_targ, max_length_inp = target_tensor.shape[1], input_tensor.shape[1]"
      ]
    },
    {
      "cell_type": "markdown",
      "source": [
        "**Разделим датасет на train и test.**"
      ],
      "metadata": {
        "id": "dMh_sqN-q0IV"
      }
    },
    {
      "cell_type": "code",
      "execution_count": 14,
      "metadata": {
        "colab": {
          "base_uri": "https://localhost:8080/"
        },
        "id": "4QILQkOs3jFG",
        "outputId": "cb251592-640d-46bd-efda-5db11e7e5307"
      },
      "outputs": [
        {
          "output_type": "stream",
          "name": "stdout",
          "text": [
            "80000 80000 20000 20000\n"
          ]
        }
      ],
      "source": [
        "input_tensor_train, input_tensor_val, target_tensor_train, target_tensor_val = train_test_split(input_tensor, target_tensor, test_size=0.2)\n",
        "\n",
        "print(len(input_tensor_train), len(target_tensor_train), len(input_tensor_val), len(target_tensor_val))"
      ]
    },
    {
      "cell_type": "code",
      "execution_count": 15,
      "metadata": {
        "id": "lJPmLZGMeD5q"
      },
      "outputs": [],
      "source": [
        "def convert(lang, tensor):\n",
        "  for t in tensor:\n",
        "    if t!=0:\n",
        "      print (\"%d ----> %s\" % (t, lang.index_word[t]))"
      ]
    },
    {
      "cell_type": "code",
      "execution_count": 16,
      "metadata": {
        "colab": {
          "base_uri": "https://localhost:8080/"
        },
        "id": "VXukARTDd7MT",
        "outputId": "bc20b2be-5457-4804-dd63-9e8697990353"
      },
      "outputs": [
        {
          "output_type": "stream",
          "name": "stdout",
          "text": [
            "Input Language; index to word mapping\n",
            "1 ----> <start>\n",
            "312 ----> наша\n",
            "1101 ----> команда\n",
            "59 ----> может\n",
            "374 ----> выиграть\n",
            "3 ----> .\n",
            "2 ----> <end>\n",
            "\n",
            "Target Language; index to word mapping\n",
            "1 ----> <start>\n",
            "155 ----> our\n",
            "709 ----> team\n",
            "112 ----> may\n",
            "140 ----> win\n",
            "3 ----> .\n",
            "2 ----> <end>\n"
          ]
        }
      ],
      "source": [
        "print (\"Input Language; index to word mapping\")\n",
        "convert(inp_lang, input_tensor_train[0])\n",
        "print ()\n",
        "print (\"Target Language; index to word mapping\")\n",
        "convert(targ_lang, target_tensor_train[0])"
      ]
    },
    {
      "cell_type": "code",
      "execution_count": 17,
      "metadata": {
        "id": "TqHsArVZ3jFS"
      },
      "outputs": [],
      "source": [
        "BUFFER_SIZE = len(input_tensor_train)\n",
        "BATCH_SIZE = 64\n",
        "steps_per_epoch = len(input_tensor_train)//BATCH_SIZE\n",
        "embedding_dim = 256\n",
        "units = 1024\n",
        "vocab_inp_size = len(inp_lang.word_index)+1\n",
        "vocab_tar_size = len(targ_lang.word_index)+1\n",
        "\n",
        "dataset = tf.data.Dataset.from_tensor_slices((input_tensor_train, target_tensor_train)).shuffle(BUFFER_SIZE)\n",
        "dataset = dataset.batch(BATCH_SIZE, drop_remainder=True)"
      ]
    },
    {
      "cell_type": "code",
      "execution_count": 18,
      "metadata": {
        "colab": {
          "base_uri": "https://localhost:8080/"
        },
        "id": "qc6-NK1GtWQt",
        "outputId": "d41205d1-4219-4e09-f758-7b713d91b197"
      },
      "outputs": [
        {
          "output_type": "execute_result",
          "data": {
            "text/plain": [
              "(TensorShape([64, 15]), TensorShape([64, 11]))"
            ]
          },
          "metadata": {},
          "execution_count": 18
        }
      ],
      "source": [
        "example_input_batch, example_target_batch = next(iter(dataset))\n",
        "example_input_batch.shape, example_target_batch.shape"
      ]
    },
    {
      "cell_type": "markdown",
      "source": [
        "**Подготовим энкодер.**"
      ],
      "metadata": {
        "id": "gJFUWhaprUWb"
      }
    },
    {
      "cell_type": "code",
      "execution_count": 19,
      "metadata": {
        "id": "nZ2rI24i3jFg"
      },
      "outputs": [],
      "source": [
        "class Encoder(tf.keras.Model):\n",
        "  def __init__(self, vocab_size, embedding_dim, enc_units, batch_sz):\n",
        "    super(Encoder, self).__init__()\n",
        "    self.batch_sz = batch_sz\n",
        "    self.enc_units = enc_units\n",
        "    self.embedding = tf.keras.layers.Embedding(vocab_size, embedding_dim)\n",
        "    self.gru = tf.keras.layers.GRU(self.enc_units,\n",
        "                                   return_sequences=True,\n",
        "                                   return_state=True,\n",
        "                                   recurrent_initializer='glorot_uniform')\n",
        "\n",
        "  def call(self, x, hidden):\n",
        "    x = self.embedding(x)\n",
        "    output, state = self.gru(x, initial_state = hidden)\n",
        "    return output, state\n",
        "\n",
        "  def initialize_hidden_state(self):\n",
        "    return tf.zeros((self.batch_sz, self.enc_units))"
      ]
    },
    {
      "cell_type": "code",
      "execution_count": 20,
      "metadata": {
        "colab": {
          "base_uri": "https://localhost:8080/"
        },
        "id": "60gSVh05Jl6l",
        "outputId": "762547b8-162d-4de1-d904-146980dc2226"
      },
      "outputs": [
        {
          "output_type": "stream",
          "name": "stdout",
          "text": [
            "Encoder output shape: (batch size, sequence length, units) (64, 15, 1024)\n",
            "Encoder Hidden state shape: (batch size, units) (64, 1024)\n"
          ]
        }
      ],
      "source": [
        "encoder = Encoder(vocab_inp_size, embedding_dim, units, BATCH_SIZE)\n",
        "\n",
        "#инициализируем начальное скрытое состояние из нулей\n",
        "sample_hidden = encoder.initialize_hidden_state()\n",
        "\n",
        "#получаем выход энкодера и последнее скрытое состояние\n",
        "sample_output, sample_hidden = encoder(example_input_batch, sample_hidden)\n",
        "print ('Encoder output shape: (batch size, sequence length, units) {}'.format(sample_output.shape))\n",
        "print ('Encoder Hidden state shape: (batch size, units) {}'.format(sample_hidden.shape))"
      ]
    },
    {
      "cell_type": "code",
      "execution_count": 21,
      "metadata": {
        "id": "YTyhL28Niqk1"
      },
      "outputs": [],
      "source": [
        "class BahdanauAttention(tf.keras.layers.Layer):\n",
        "  def __init__(self, units):\n",
        "    super(BahdanauAttention, self).__init__()\n",
        "    self.W1 = tf.keras.layers.Dense(units)\n",
        "    self.W2 = tf.keras.layers.Dense(units)\n",
        "    self.V = tf.keras.layers.Dense(1)\n",
        "\n",
        "  def call(self, query, values):\n",
        "    # query hidden state shape == (batch_size, hidden size)\n",
        "    # query_with_time_axis shape == (batch_size, 1, hidden size)\n",
        "    # values shape == (batch_size, max_len, hidden size)\n",
        "    # we are doing this to broadcast addition along the time axis to calculate the score\n",
        "    query_with_time_axis = tf.expand_dims(query, 1)\n",
        "\n",
        "    # score shape == (batch_size, max_length, 1)\n",
        "    # we get 1 at the last axis because we are applying score to self.V\n",
        "    # the shape of the tensor before applying self.V is (batch_size, max_length, units)\n",
        "\n",
        "    #применяем к векторам скрытого состояния и выходов энкодера полносвязный слой (выход (batch_size, 1, units) и (batch_size, max_length, units))\n",
        "    #складываем полученные векторы, применяем к сумму тангенс (batch_size, max_length, units)\n",
        "    #проводим результат через dense слой (batch_size, max_length, 1)\n",
        "    score = self.V(tf.nn.tanh(\n",
        "        self.W1(query_with_time_axis) + self.W2(values)))\n",
        "\n",
        "    # attention_weights shape == (batch_size, max_length, 1)\n",
        "    # получаем вероятностное распределение\n",
        "    attention_weights = tf.nn.softmax(score, axis=1)\n",
        "\n",
        "    # context_vector shape after sum == (batch_size, hidden_size)\n",
        "    # умножаем веса внимания на векторы значенй выход (batch_size, max_len, hidden size)\n",
        "    context_vector = attention_weights * values\n",
        "    #находим вдоль столбцов (batch_size, hidden_size)\n",
        "    context_vector = tf.reduce_sum(context_vector, axis=1)\n",
        "\n",
        "    return context_vector, attention_weights"
      ]
    },
    {
      "cell_type": "code",
      "execution_count": 22,
      "metadata": {
        "colab": {
          "base_uri": "https://localhost:8080/"
        },
        "id": "XUqssWcci1XJ",
        "outputId": "c0c49c14-e78e-4f55-e0cf-3af924136ddd"
      },
      "outputs": [
        {
          "output_type": "stream",
          "name": "stdout",
          "text": [
            "Attention result shape: (batch size, units) (64, 1024)\n",
            "Attention weights shape: (batch_size, sequence_length, 1) (64, 15, 1)\n"
          ]
        }
      ],
      "source": [
        "#создаем слой внимания\n",
        "attention_layer = BahdanauAttention(10)\n",
        "#передаем выход энкодера и его скрытое состояние\n",
        "attention_result, attention_weights = attention_layer(sample_hidden, sample_output)\n",
        "\n",
        "print(\"Attention result shape: (batch size, units) {}\".format(attention_result.shape))\n",
        "print(\"Attention weights shape: (batch_size, sequence_length, 1) {}\".format(attention_weights.shape))"
      ]
    },
    {
      "cell_type": "markdown",
      "source": [
        "**Подготовим декодер.**"
      ],
      "metadata": {
        "id": "YhCQue5JtatY"
      }
    },
    {
      "cell_type": "code",
      "execution_count": 23,
      "metadata": {
        "id": "yJ_B3mhW3jFk"
      },
      "outputs": [],
      "source": [
        "class Decoder(tf.keras.Model):\n",
        "  def __init__(self, vocab_size, embedding_dim, dec_units, batch_sz):\n",
        "    super(Decoder, self).__init__()\n",
        "    self.batch_sz = batch_sz\n",
        "    self.dec_units = dec_units\n",
        "    self.embedding = tf.keras.layers.Embedding(vocab_size, embedding_dim)\n",
        "    self.gru = tf.keras.layers.GRU(self.dec_units,\n",
        "                                   return_sequences=True,\n",
        "                                   return_state=True,\n",
        "                                   recurrent_initializer='glorot_uniform')\n",
        "    self.fc = tf.keras.layers.Dense(vocab_size)\n",
        "\n",
        "    # используем слой внимания\n",
        "    self.attention = BahdanauAttention(self.dec_units)\n",
        "\n",
        "  def call(self, x, hidden, enc_output):\n",
        "    # enc_output shape == (batch_size, max_length, hidden_size)\n",
        "    # получаем выходы слоя внимания (из скрытого состояния и выхода энкодера)\n",
        "    # context_vector shape == (batch_size, hidden_size)\n",
        "    # attention_weights shape == (batch_size, max_len, 1)\n",
        "    context_vector, attention_weights = self.attention(hidden, enc_output)\n",
        "\n",
        "    # x shape after passing through embedding == (batch_size, 1, embedding_dim)\n",
        "    x = self.embedding(x)\n",
        "\n",
        "    # x shape after concatenation == (batch_size, 1, embedding_dim + hidden_size)\n",
        "    #соединяем выход эмбеддинга с вектором контекста и подаем навход RNN\n",
        "    x = tf.concat([tf.expand_dims(context_vector, 1), x], axis=-1)\n",
        "\n",
        "    # passing the concatenated vector to the GRU\n",
        "    output, state = self.gru(x)\n",
        "\n",
        "    # output shape == (batch_size * 1, hidden_size)\n",
        "    output = tf.reshape(output, (-1, output.shape[2]))\n",
        "\n",
        "    # output shape == (batch_size, vocab)\n",
        "    x = self.fc(output)\n",
        "\n",
        "    return x, state, attention_weights"
      ]
    },
    {
      "cell_type": "code",
      "execution_count": 24,
      "metadata": {
        "colab": {
          "base_uri": "https://localhost:8080/"
        },
        "id": "P5UY8wko3jFp",
        "outputId": "583a8815-027a-4a28-d38d-48bbc0dc821e"
      },
      "outputs": [
        {
          "output_type": "stream",
          "name": "stdout",
          "text": [
            "Decoder output shape: (batch_size, vocab size) (64, 7386)\n"
          ]
        }
      ],
      "source": [
        "decoder = Decoder(vocab_tar_size, embedding_dim, units, BATCH_SIZE)\n",
        "#применяем декодер к случайному батчу из равномерного распределения (батч,1) и выходам энкодера\n",
        "sample_decoder_output, _, _ = decoder(tf.random.uniform((BATCH_SIZE, 1)),\n",
        "                                      sample_hidden, sample_output)\n",
        "\n",
        "print ('Decoder output shape: (batch_size, vocab size) {}'.format(sample_decoder_output.shape))"
      ]
    },
    {
      "cell_type": "markdown",
      "metadata": {
        "id": "_ch_71VbIRfK"
      },
      "source": [
        "## Определим оптимизатор и функцию потерь."
      ]
    },
    {
      "cell_type": "code",
      "execution_count": 25,
      "metadata": {
        "id": "WmTHr5iV3jFr"
      },
      "outputs": [],
      "source": [
        "optimizer = tf.keras.optimizers.Adam()\n",
        "loss_object = tf.keras.losses.SparseCategoricalCrossentropy(\n",
        "    from_logits=True, reduction='none')\n",
        "\n",
        "def loss_function(real, pred):\n",
        "  mask = tf.math.logical_not(tf.math.equal(real, 0))\n",
        "  loss_ = loss_object(real, pred)\n",
        "\n",
        "  mask = tf.cast(mask, dtype=loss_.dtype)\n",
        "  loss_ *= mask\n",
        "\n",
        "  return tf.reduce_mean(loss_)"
      ]
    },
    {
      "cell_type": "markdown",
      "metadata": {
        "id": "DMVWzzsfNl4e"
      },
      "source": [
        "## Подготовим директорию для сохранения сheckpoints."
      ]
    },
    {
      "cell_type": "code",
      "execution_count": 26,
      "metadata": {
        "id": "Zj8bXQTgNwrF"
      },
      "outputs": [],
      "source": [
        "checkpoint_dir = './training_attention_checkpoints'\n",
        "checkpoint_prefix = os.path.join(checkpoint_dir, \"ckpt\")\n",
        "checkpoint = tf.train.Checkpoint(optimizer=optimizer,\n",
        "                                 encoder=encoder,\n",
        "                                 decoder=decoder)"
      ]
    },
    {
      "cell_type": "code",
      "execution_count": 27,
      "metadata": {
        "id": "sC9ArXSsVfqn"
      },
      "outputs": [],
      "source": [
        "@tf.function\n",
        "def train_step(inp, targ, enc_hidden):\n",
        "  loss = 0\n",
        "\n",
        "  with tf.GradientTape() as tape:\n",
        "    #получаем выходы encoder\n",
        "    enc_output, enc_hidden = encoder(inp, enc_hidden)\n",
        "\n",
        "    #помещаем выходное скрытое состояние энкодера в скрытое состояние decoder\n",
        "    dec_hidden = enc_hidden\n",
        "\n",
        "    #формируем вход декодера:\n",
        "    # берем список длины батч из индексов тега\n",
        "    # приписываем списку размерность 1\n",
        "    dec_input = tf.expand_dims([targ_lang.word_index['<start>']] * BATCH_SIZE, 1)\n",
        "\n",
        "    #Teacher forcing - выводим target в качестве следующего входа\n",
        "    for t in range(1, targ.shape[1]):\n",
        "      #помещаем enc_output, dec_input, dec_hidden в decoder\n",
        "      predictions, dec_hidden, _ = decoder(dec_input, dec_hidden, enc_output)\n",
        "\n",
        "      # считаем функцию потерь\n",
        "      loss += loss_function(targ[:, t], predictions)\n",
        "\n",
        "      # используем teacher forcing (приписываем списку размерность 1)\n",
        "      dec_input = tf.expand_dims(targ[:, t], 1)\n",
        "\n",
        "  batch_loss = (loss / int(targ.shape[1]))\n",
        "\n",
        "  variables = encoder.trainable_variables + decoder.trainable_variables\n",
        "\n",
        "  #вычисляем градиенты loss по variables\n",
        "  gradients = tape.gradient(loss, variables)\n",
        "\n",
        "  #оптимизатор применяет подсчитанные градиенты\n",
        "  optimizer.apply_gradients(zip(gradients, variables))\n",
        "\n",
        "  return batch_loss"
      ]
    },
    {
      "cell_type": "code",
      "execution_count": 28,
      "metadata": {
        "colab": {
          "base_uri": "https://localhost:8080/"
        },
        "id": "ddefjBMa3jF0",
        "outputId": "5a86af3b-7450-4780-e929-7c3681dc1c57"
      },
      "outputs": [
        {
          "output_type": "stream",
          "name": "stdout",
          "text": [
            "Epoch 1 Batch 0 Loss 4.6814\n",
            "Epoch 1 Batch 100 Loss 2.0746\n",
            "Epoch 1 Batch 200 Loss 1.8939\n",
            "Epoch 1 Batch 300 Loss 1.7794\n",
            "Epoch 1 Batch 400 Loss 1.6425\n",
            "Epoch 1 Batch 500 Loss 1.4609\n",
            "Epoch 1 Batch 600 Loss 1.4414\n",
            "Epoch 1 Batch 700 Loss 1.3560\n",
            "Epoch 1 Batch 800 Loss 1.2123\n",
            "Epoch 1 Batch 900 Loss 1.1352\n",
            "Epoch 1 Batch 1000 Loss 1.0803\n",
            "Epoch 1 Batch 1100 Loss 1.0256\n",
            "Epoch 1 Batch 1200 Loss 0.8953\n",
            "Epoch 1 Loss 1.4532\n",
            "Time taken for 1 epoch 112.99495005607605 sec\n",
            "\n",
            "Epoch 2 Batch 0 Loss 0.7436\n",
            "Epoch 2 Batch 100 Loss 0.7745\n",
            "Epoch 2 Batch 200 Loss 0.6272\n",
            "Epoch 2 Batch 300 Loss 0.7873\n",
            "Epoch 2 Batch 400 Loss 0.6609\n",
            "Epoch 2 Batch 500 Loss 0.6156\n",
            "Epoch 2 Batch 600 Loss 0.6316\n",
            "Epoch 2 Batch 700 Loss 0.5422\n",
            "Epoch 2 Batch 800 Loss 0.6407\n",
            "Epoch 2 Batch 900 Loss 0.5634\n",
            "Epoch 2 Batch 1000 Loss 0.4617\n",
            "Epoch 2 Batch 1100 Loss 0.6327\n",
            "Epoch 2 Batch 1200 Loss 0.4471\n",
            "Epoch 2 Loss 0.6245\n",
            "Time taken for 1 epoch 95.9978837966919 sec\n",
            "\n",
            "Epoch 3 Batch 0 Loss 0.2805\n",
            "Epoch 3 Batch 100 Loss 0.3786\n",
            "Epoch 3 Batch 200 Loss 0.3074\n",
            "Epoch 3 Batch 300 Loss 0.3649\n",
            "Epoch 3 Batch 400 Loss 0.2970\n",
            "Epoch 3 Batch 500 Loss 0.3953\n",
            "Epoch 3 Batch 600 Loss 0.3383\n",
            "Epoch 3 Batch 700 Loss 0.3068\n",
            "Epoch 3 Batch 800 Loss 0.3429\n",
            "Epoch 3 Batch 900 Loss 0.3240\n",
            "Epoch 3 Batch 1000 Loss 0.2614\n",
            "Epoch 3 Batch 1100 Loss 0.3239\n",
            "Epoch 3 Batch 1200 Loss 0.3140\n",
            "Epoch 3 Loss 0.3308\n",
            "Time taken for 1 epoch 95.80788350105286 sec\n",
            "\n",
            "Epoch 4 Batch 0 Loss 0.1343\n",
            "Epoch 4 Batch 100 Loss 0.1945\n",
            "Epoch 4 Batch 200 Loss 0.1593\n",
            "Epoch 4 Batch 300 Loss 0.1852\n",
            "Epoch 4 Batch 400 Loss 0.1918\n",
            "Epoch 4 Batch 500 Loss 0.2271\n",
            "Epoch 4 Batch 600 Loss 0.2281\n",
            "Epoch 4 Batch 700 Loss 0.2241\n",
            "Epoch 4 Batch 800 Loss 0.1458\n",
            "Epoch 4 Batch 900 Loss 0.1722\n",
            "Epoch 4 Batch 1000 Loss 0.2298\n",
            "Epoch 4 Batch 1100 Loss 0.2894\n",
            "Epoch 4 Batch 1200 Loss 0.2305\n",
            "Epoch 4 Loss 0.2050\n",
            "Time taken for 1 epoch 95.86046147346497 sec\n",
            "\n",
            "Epoch 5 Batch 0 Loss 0.1154\n",
            "Epoch 5 Batch 100 Loss 0.1526\n",
            "Epoch 5 Batch 200 Loss 0.1360\n",
            "Epoch 5 Batch 300 Loss 0.1406\n",
            "Epoch 5 Batch 400 Loss 0.1259\n",
            "Epoch 5 Batch 500 Loss 0.1555\n",
            "Epoch 5 Batch 600 Loss 0.1614\n",
            "Epoch 5 Batch 700 Loss 0.1352\n",
            "Epoch 5 Batch 800 Loss 0.1247\n",
            "Epoch 5 Batch 900 Loss 0.1677\n",
            "Epoch 5 Batch 1000 Loss 0.1544\n",
            "Epoch 5 Batch 1100 Loss 0.1879\n",
            "Epoch 5 Batch 1200 Loss 0.1821\n",
            "Epoch 5 Loss 0.1469\n",
            "Time taken for 1 epoch 95.70099592208862 sec\n",
            "\n",
            "Epoch 6 Batch 0 Loss 0.0873\n",
            "Epoch 6 Batch 100 Loss 0.0357\n",
            "Epoch 6 Batch 200 Loss 0.0901\n",
            "Epoch 6 Batch 300 Loss 0.1062\n",
            "Epoch 6 Batch 400 Loss 0.0935\n",
            "Epoch 6 Batch 500 Loss 0.1342\n",
            "Epoch 6 Batch 600 Loss 0.1002\n",
            "Epoch 6 Batch 700 Loss 0.1479\n",
            "Epoch 6 Batch 800 Loss 0.1212\n",
            "Epoch 6 Batch 900 Loss 0.1285\n",
            "Epoch 6 Batch 1000 Loss 0.1219\n",
            "Epoch 6 Batch 1100 Loss 0.1655\n",
            "Epoch 6 Batch 1200 Loss 0.1386\n",
            "Epoch 6 Loss 0.1175\n",
            "Time taken for 1 epoch 95.6998839378357 sec\n",
            "\n",
            "Epoch 7 Batch 0 Loss 0.0732\n",
            "Epoch 7 Batch 100 Loss 0.0925\n",
            "Epoch 7 Batch 200 Loss 0.0682\n",
            "Epoch 7 Batch 300 Loss 0.0697\n",
            "Epoch 7 Batch 400 Loss 0.0947\n",
            "Epoch 7 Batch 500 Loss 0.0868\n",
            "Epoch 7 Batch 600 Loss 0.0695\n",
            "Epoch 7 Batch 700 Loss 0.1257\n",
            "Epoch 7 Batch 800 Loss 0.1234\n",
            "Epoch 7 Batch 900 Loss 0.1469\n",
            "Epoch 7 Batch 1000 Loss 0.0936\n",
            "Epoch 7 Batch 1100 Loss 0.1161\n",
            "Epoch 7 Batch 1200 Loss 0.1125\n",
            "Epoch 7 Loss 0.0996\n",
            "Time taken for 1 epoch 95.71469140052795 sec\n",
            "\n",
            "Epoch 8 Batch 0 Loss 0.1121\n",
            "Epoch 8 Batch 100 Loss 0.0756\n",
            "Epoch 8 Batch 200 Loss 0.0563\n",
            "Epoch 8 Batch 300 Loss 0.0599\n",
            "Epoch 8 Batch 400 Loss 0.0888\n",
            "Epoch 8 Batch 500 Loss 0.0786\n",
            "Epoch 8 Batch 600 Loss 0.0762\n",
            "Epoch 8 Batch 700 Loss 0.0774\n",
            "Epoch 8 Batch 800 Loss 0.0662\n",
            "Epoch 8 Batch 900 Loss 0.1145\n",
            "Epoch 8 Batch 1000 Loss 0.1063\n",
            "Epoch 8 Batch 1100 Loss 0.0909\n",
            "Epoch 8 Batch 1200 Loss 0.0854\n",
            "Epoch 8 Loss 0.0887\n",
            "Time taken for 1 epoch 95.86436772346497 sec\n",
            "\n",
            "Epoch 9 Batch 0 Loss 0.0899\n",
            "Epoch 9 Batch 100 Loss 0.0433\n",
            "Epoch 9 Batch 200 Loss 0.0534\n",
            "Epoch 9 Batch 300 Loss 0.0890\n",
            "Epoch 9 Batch 400 Loss 0.0373\n",
            "Epoch 9 Batch 500 Loss 0.0794\n",
            "Epoch 9 Batch 600 Loss 0.0598\n",
            "Epoch 9 Batch 700 Loss 0.0784\n",
            "Epoch 9 Batch 800 Loss 0.0838\n",
            "Epoch 9 Batch 900 Loss 0.0731\n",
            "Epoch 9 Batch 1000 Loss 0.0680\n",
            "Epoch 9 Batch 1100 Loss 0.0879\n",
            "Epoch 9 Batch 1200 Loss 0.0906\n",
            "Epoch 9 Loss 0.0812\n",
            "Time taken for 1 epoch 96.03117394447327 sec\n",
            "\n",
            "Epoch 10 Batch 0 Loss 0.0739\n",
            "Epoch 10 Batch 100 Loss 0.0552\n",
            "Epoch 10 Batch 200 Loss 0.1160\n",
            "Epoch 10 Batch 300 Loss 0.0713\n",
            "Epoch 10 Batch 400 Loss 0.0804\n",
            "Epoch 10 Batch 500 Loss 0.1121\n",
            "Epoch 10 Batch 600 Loss 0.1103\n",
            "Epoch 10 Batch 700 Loss 0.0977\n",
            "Epoch 10 Batch 800 Loss 0.1071\n",
            "Epoch 10 Batch 900 Loss 0.0816\n",
            "Epoch 10 Batch 1000 Loss 0.0752\n",
            "Epoch 10 Batch 1100 Loss 0.0870\n",
            "Epoch 10 Batch 1200 Loss 0.1081\n",
            "Epoch 10 Loss 0.0766\n",
            "Time taken for 1 epoch 95.95278263092041 sec\n",
            "\n",
            "Epoch 11 Batch 0 Loss 0.0677\n",
            "Epoch 11 Batch 100 Loss 0.0619\n",
            "Epoch 11 Batch 200 Loss 0.0819\n",
            "Epoch 11 Batch 300 Loss 0.0572\n",
            "Epoch 11 Batch 400 Loss 0.0848\n",
            "Epoch 11 Batch 500 Loss 0.0761\n",
            "Epoch 11 Batch 600 Loss 0.0631\n",
            "Epoch 11 Batch 700 Loss 0.0657\n",
            "Epoch 11 Batch 800 Loss 0.0715\n",
            "Epoch 11 Batch 900 Loss 0.0901\n",
            "Epoch 11 Batch 1000 Loss 0.0712\n",
            "Epoch 11 Batch 1100 Loss 0.1198\n",
            "Epoch 11 Batch 1200 Loss 0.0776\n",
            "Epoch 11 Loss 0.0708\n",
            "Time taken for 1 epoch 95.75652003288269 sec\n",
            "\n",
            "Epoch 12 Batch 0 Loss 0.0593\n",
            "Epoch 12 Batch 100 Loss 0.0573\n",
            "Epoch 12 Batch 200 Loss 0.0489\n",
            "Epoch 12 Batch 300 Loss 0.1064\n",
            "Epoch 12 Batch 400 Loss 0.0612\n",
            "Epoch 12 Batch 500 Loss 0.0772\n",
            "Epoch 12 Batch 600 Loss 0.0684\n",
            "Epoch 12 Batch 700 Loss 0.0657\n",
            "Epoch 12 Batch 800 Loss 0.0816\n",
            "Epoch 12 Batch 900 Loss 0.0555\n",
            "Epoch 12 Batch 1000 Loss 0.0888\n",
            "Epoch 12 Batch 1100 Loss 0.0692\n",
            "Epoch 12 Batch 1200 Loss 0.0884\n",
            "Epoch 12 Loss 0.0690\n",
            "Time taken for 1 epoch 95.60488557815552 sec\n",
            "\n",
            "Epoch 13 Batch 0 Loss 0.0570\n",
            "Epoch 13 Batch 100 Loss 0.0853\n",
            "Epoch 13 Batch 200 Loss 0.0509\n",
            "Epoch 13 Batch 300 Loss 0.0661\n",
            "Epoch 13 Batch 400 Loss 0.0485\n",
            "Epoch 13 Batch 500 Loss 0.0628\n",
            "Epoch 13 Batch 600 Loss 0.0805\n",
            "Epoch 13 Batch 700 Loss 0.0672\n",
            "Epoch 13 Batch 800 Loss 0.0551\n",
            "Epoch 13 Batch 900 Loss 0.0535\n",
            "Epoch 13 Batch 1000 Loss 0.0803\n",
            "Epoch 13 Batch 1100 Loss 0.0618\n",
            "Epoch 13 Batch 1200 Loss 0.0853\n",
            "Epoch 13 Loss 0.0663\n",
            "Time taken for 1 epoch 95.75713300704956 sec\n",
            "\n",
            "Epoch 14 Batch 0 Loss 0.0476\n",
            "Epoch 14 Batch 100 Loss 0.0332\n",
            "Epoch 14 Batch 200 Loss 0.0404\n",
            "Epoch 14 Batch 300 Loss 0.0809\n",
            "Epoch 14 Batch 400 Loss 0.1177\n",
            "Epoch 14 Batch 500 Loss 0.0758\n",
            "Epoch 14 Batch 600 Loss 0.0720\n",
            "Epoch 14 Batch 700 Loss 0.0516\n",
            "Epoch 14 Batch 800 Loss 0.0450\n",
            "Epoch 14 Batch 900 Loss 0.0438\n",
            "Epoch 14 Batch 1000 Loss 0.0759\n",
            "Epoch 14 Batch 1100 Loss 0.0657\n",
            "Epoch 14 Batch 1200 Loss 0.0661\n",
            "Epoch 14 Loss 0.0632\n",
            "Time taken for 1 epoch 95.74305009841919 sec\n",
            "\n",
            "Epoch 15 Batch 0 Loss 0.0556\n",
            "Epoch 15 Batch 100 Loss 0.0551\n",
            "Epoch 15 Batch 200 Loss 0.0743\n",
            "Epoch 15 Batch 300 Loss 0.0626\n",
            "Epoch 15 Batch 400 Loss 0.0645\n",
            "Epoch 15 Batch 500 Loss 0.0628\n",
            "Epoch 15 Batch 600 Loss 0.0405\n",
            "Epoch 15 Batch 700 Loss 0.0898\n",
            "Epoch 15 Batch 800 Loss 0.0929\n",
            "Epoch 15 Batch 900 Loss 0.1005\n",
            "Epoch 15 Batch 1000 Loss 0.0527\n",
            "Epoch 15 Batch 1100 Loss 0.0906\n",
            "Epoch 15 Batch 1200 Loss 0.0804\n",
            "Epoch 15 Loss 0.0616\n",
            "Time taken for 1 epoch 95.50930595397949 sec\n",
            "\n",
            "Epoch 16 Batch 0 Loss 0.0328\n",
            "Epoch 16 Batch 100 Loss 0.0413\n",
            "Epoch 16 Batch 200 Loss 0.0509\n",
            "Epoch 16 Batch 300 Loss 0.0574\n",
            "Epoch 16 Batch 400 Loss 0.0425\n",
            "Epoch 16 Batch 500 Loss 0.0637\n",
            "Epoch 16 Batch 600 Loss 0.0853\n",
            "Epoch 16 Batch 700 Loss 0.0559\n",
            "Epoch 16 Batch 800 Loss 0.0630\n",
            "Epoch 16 Batch 900 Loss 0.1190\n",
            "Epoch 16 Batch 1000 Loss 0.0588\n",
            "Epoch 16 Batch 1100 Loss 0.0734\n",
            "Epoch 16 Batch 1200 Loss 0.0295\n",
            "Epoch 16 Loss 0.0591\n",
            "Time taken for 1 epoch 95.66339111328125 sec\n",
            "\n",
            "Epoch 17 Batch 0 Loss 0.0688\n",
            "Epoch 17 Batch 100 Loss 0.0454\n",
            "Epoch 17 Batch 200 Loss 0.0439\n",
            "Epoch 17 Batch 300 Loss 0.0365\n",
            "Epoch 17 Batch 400 Loss 0.0540\n",
            "Epoch 17 Batch 500 Loss 0.0998\n",
            "Epoch 17 Batch 600 Loss 0.0557\n",
            "Epoch 17 Batch 700 Loss 0.0807\n",
            "Epoch 17 Batch 800 Loss 0.0552\n",
            "Epoch 17 Batch 900 Loss 0.0596\n",
            "Epoch 17 Batch 1000 Loss 0.0647\n",
            "Epoch 17 Batch 1100 Loss 0.0755\n",
            "Epoch 17 Batch 1200 Loss 0.0631\n",
            "Epoch 17 Loss 0.0582\n",
            "Time taken for 1 epoch 95.8771104812622 sec\n",
            "\n",
            "Epoch 18 Batch 0 Loss 0.0403\n",
            "Epoch 18 Batch 100 Loss 0.0625\n",
            "Epoch 18 Batch 200 Loss 0.0717\n",
            "Epoch 18 Batch 300 Loss 0.0392\n",
            "Epoch 18 Batch 400 Loss 0.0544\n",
            "Epoch 18 Batch 500 Loss 0.0469\n",
            "Epoch 18 Batch 600 Loss 0.0927\n",
            "Epoch 18 Batch 700 Loss 0.0743\n",
            "Epoch 18 Batch 800 Loss 0.0415\n",
            "Epoch 18 Batch 900 Loss 0.1061\n",
            "Epoch 18 Batch 1000 Loss 0.0734\n",
            "Epoch 18 Batch 1100 Loss 0.0751\n",
            "Epoch 18 Batch 1200 Loss 0.0390\n",
            "Epoch 18 Loss 0.0560\n",
            "Time taken for 1 epoch 95.70637249946594 sec\n",
            "\n",
            "Epoch 19 Batch 0 Loss 0.0310\n",
            "Epoch 19 Batch 100 Loss 0.0167\n",
            "Epoch 19 Batch 200 Loss 0.0443\n",
            "Epoch 19 Batch 300 Loss 0.0819\n",
            "Epoch 19 Batch 400 Loss 0.0759\n",
            "Epoch 19 Batch 500 Loss 0.0742\n",
            "Epoch 19 Batch 600 Loss 0.0443\n",
            "Epoch 19 Batch 700 Loss 0.0531\n",
            "Epoch 19 Batch 800 Loss 0.0405\n",
            "Epoch 19 Batch 900 Loss 0.0298\n",
            "Epoch 19 Batch 1000 Loss 0.0606\n",
            "Epoch 19 Batch 1100 Loss 0.0511\n",
            "Epoch 19 Batch 1200 Loss 0.0867\n",
            "Epoch 19 Loss 0.0551\n",
            "Time taken for 1 epoch 95.84683465957642 sec\n",
            "\n",
            "Epoch 20 Batch 0 Loss 0.0346\n",
            "Epoch 20 Batch 100 Loss 0.0343\n",
            "Epoch 20 Batch 200 Loss 0.0559\n",
            "Epoch 20 Batch 300 Loss 0.0454\n",
            "Epoch 20 Batch 400 Loss 0.0380\n",
            "Epoch 20 Batch 500 Loss 0.0593\n",
            "Epoch 20 Batch 600 Loss 0.0241\n",
            "Epoch 20 Batch 700 Loss 0.0747\n",
            "Epoch 20 Batch 800 Loss 0.0530\n",
            "Epoch 20 Batch 900 Loss 0.0637\n",
            "Epoch 20 Batch 1000 Loss 0.0798\n",
            "Epoch 20 Batch 1100 Loss 0.0784\n",
            "Epoch 20 Batch 1200 Loss 0.0692\n",
            "Epoch 20 Loss 0.0545\n",
            "Time taken for 1 epoch 95.71874713897705 sec\n",
            "\n",
            "Epoch 21 Batch 0 Loss 0.0230\n",
            "Epoch 21 Batch 100 Loss 0.0369\n",
            "Epoch 21 Batch 200 Loss 0.0554\n",
            "Epoch 21 Batch 300 Loss 0.0237\n",
            "Epoch 21 Batch 400 Loss 0.0696\n",
            "Epoch 21 Batch 500 Loss 0.0461\n",
            "Epoch 21 Batch 600 Loss 0.0434\n",
            "Epoch 21 Batch 700 Loss 0.0501\n",
            "Epoch 21 Batch 800 Loss 0.0421\n",
            "Epoch 21 Batch 900 Loss 0.0776\n",
            "Epoch 21 Batch 1000 Loss 0.0685\n",
            "Epoch 21 Batch 1100 Loss 0.0574\n",
            "Epoch 21 Batch 1200 Loss 0.0519\n",
            "Epoch 21 Loss 0.0527\n",
            "Time taken for 1 epoch 95.57785177230835 sec\n",
            "\n",
            "Epoch 22 Batch 0 Loss 0.0321\n",
            "Epoch 22 Batch 100 Loss 0.0509\n",
            "Epoch 22 Batch 200 Loss 0.0380\n",
            "Epoch 22 Batch 300 Loss 0.0245\n",
            "Epoch 22 Batch 400 Loss 0.0507\n",
            "Epoch 22 Batch 500 Loss 0.0559\n",
            "Epoch 22 Batch 600 Loss 0.0482\n",
            "Epoch 22 Batch 700 Loss 0.0496\n",
            "Epoch 22 Batch 800 Loss 0.0645\n",
            "Epoch 22 Batch 900 Loss 0.0378\n",
            "Epoch 22 Batch 1000 Loss 0.0452\n",
            "Epoch 22 Batch 1100 Loss 0.0274\n",
            "Epoch 22 Batch 1200 Loss 0.0556\n",
            "Epoch 22 Loss 0.0510\n",
            "Time taken for 1 epoch 95.58316016197205 sec\n",
            "\n",
            "Epoch 23 Batch 0 Loss 0.0447\n",
            "Epoch 23 Batch 100 Loss 0.0416\n",
            "Epoch 23 Batch 200 Loss 0.0319\n",
            "Epoch 23 Batch 300 Loss 0.0251\n",
            "Epoch 23 Batch 400 Loss 0.0372\n",
            "Epoch 23 Batch 500 Loss 0.0537\n",
            "Epoch 23 Batch 600 Loss 0.0310\n",
            "Epoch 23 Batch 700 Loss 0.0412\n",
            "Epoch 23 Batch 800 Loss 0.0647\n",
            "Epoch 23 Batch 900 Loss 0.0328\n",
            "Epoch 23 Batch 1000 Loss 0.0435\n",
            "Epoch 23 Batch 1100 Loss 0.0835\n",
            "Epoch 23 Batch 1200 Loss 0.0859\n",
            "Epoch 23 Loss 0.0499\n",
            "Time taken for 1 epoch 95.73804211616516 sec\n",
            "\n",
            "Epoch 24 Batch 0 Loss 0.0588\n",
            "Epoch 24 Batch 100 Loss 0.0368\n",
            "Epoch 24 Batch 200 Loss 0.0414\n",
            "Epoch 24 Batch 300 Loss 0.0253\n",
            "Epoch 24 Batch 400 Loss 0.0543\n",
            "Epoch 24 Batch 500 Loss 0.0697\n",
            "Epoch 24 Batch 600 Loss 0.0715\n",
            "Epoch 24 Batch 700 Loss 0.0579\n",
            "Epoch 24 Batch 800 Loss 0.0553\n",
            "Epoch 24 Batch 900 Loss 0.0576\n",
            "Epoch 24 Batch 1000 Loss 0.0508\n",
            "Epoch 24 Batch 1100 Loss 0.0650\n",
            "Epoch 24 Batch 1200 Loss 0.0477\n",
            "Epoch 24 Loss 0.0495\n",
            "Time taken for 1 epoch 95.67010521888733 sec\n",
            "\n",
            "Epoch 25 Batch 0 Loss 0.0539\n",
            "Epoch 25 Batch 100 Loss 0.0494\n",
            "Epoch 25 Batch 200 Loss 0.0485\n",
            "Epoch 25 Batch 300 Loss 0.0327\n",
            "Epoch 25 Batch 400 Loss 0.0370\n",
            "Epoch 25 Batch 500 Loss 0.0684\n",
            "Epoch 25 Batch 600 Loss 0.0276\n",
            "Epoch 25 Batch 700 Loss 0.0309\n",
            "Epoch 25 Batch 800 Loss 0.0578\n",
            "Epoch 25 Batch 900 Loss 0.0521\n",
            "Epoch 25 Batch 1000 Loss 0.0739\n",
            "Epoch 25 Batch 1100 Loss 0.0439\n",
            "Epoch 25 Batch 1200 Loss 0.0611\n",
            "Epoch 25 Loss 0.0491\n",
            "Time taken for 1 epoch 96.5459406375885 sec\n",
            "\n",
            "Epoch 26 Batch 0 Loss 0.0257\n",
            "Epoch 26 Batch 100 Loss 0.0334\n",
            "Epoch 26 Batch 200 Loss 0.0523\n",
            "Epoch 26 Batch 300 Loss 0.0459\n",
            "Epoch 26 Batch 400 Loss 0.0452\n",
            "Epoch 26 Batch 500 Loss 0.0334\n",
            "Epoch 26 Batch 600 Loss 0.0371\n",
            "Epoch 26 Batch 700 Loss 0.0268\n",
            "Epoch 26 Batch 800 Loss 0.0387\n",
            "Epoch 26 Batch 900 Loss 0.0645\n",
            "Epoch 26 Batch 1000 Loss 0.0421\n",
            "Epoch 26 Batch 1100 Loss 0.0434\n",
            "Epoch 26 Batch 1200 Loss 0.0576\n",
            "Epoch 26 Loss 0.0482\n",
            "Time taken for 1 epoch 95.68084359169006 sec\n",
            "\n",
            "Epoch 27 Batch 0 Loss 0.0432\n",
            "Epoch 27 Batch 100 Loss 0.0259\n",
            "Epoch 27 Batch 200 Loss 0.0556\n",
            "Epoch 27 Batch 300 Loss 0.0264\n",
            "Epoch 27 Batch 400 Loss 0.0302\n",
            "Epoch 27 Batch 500 Loss 0.0295\n",
            "Epoch 27 Batch 600 Loss 0.0565\n",
            "Epoch 27 Batch 700 Loss 0.0218\n",
            "Epoch 27 Batch 800 Loss 0.0441\n",
            "Epoch 27 Batch 900 Loss 0.0499\n",
            "Epoch 27 Batch 1000 Loss 0.0469\n",
            "Epoch 27 Batch 1100 Loss 0.0681\n",
            "Epoch 27 Batch 1200 Loss 0.0853\n",
            "Epoch 27 Loss 0.0473\n",
            "Time taken for 1 epoch 95.73338294029236 sec\n",
            "\n",
            "Epoch 28 Batch 0 Loss 0.0546\n",
            "Epoch 28 Batch 100 Loss 0.0291\n",
            "Epoch 28 Batch 200 Loss 0.0357\n",
            "Epoch 28 Batch 300 Loss 0.0460\n",
            "Epoch 28 Batch 400 Loss 0.0363\n",
            "Epoch 28 Batch 500 Loss 0.0453\n",
            "Epoch 28 Batch 600 Loss 0.0400\n",
            "Epoch 28 Batch 700 Loss 0.0330\n",
            "Epoch 28 Batch 800 Loss 0.0373\n",
            "Epoch 28 Batch 900 Loss 0.0452\n",
            "Epoch 28 Batch 1000 Loss 0.0253\n",
            "Epoch 28 Batch 1100 Loss 0.0656\n",
            "Epoch 28 Batch 1200 Loss 0.0979\n",
            "Epoch 28 Loss 0.0465\n",
            "Time taken for 1 epoch 95.78838872909546 sec\n",
            "\n",
            "Epoch 29 Batch 0 Loss 0.0318\n",
            "Epoch 29 Batch 100 Loss 0.0382\n",
            "Epoch 29 Batch 200 Loss 0.0448\n",
            "Epoch 29 Batch 300 Loss 0.0581\n",
            "Epoch 29 Batch 400 Loss 0.0189\n",
            "Epoch 29 Batch 500 Loss 0.0551\n",
            "Epoch 29 Batch 600 Loss 0.0316\n",
            "Epoch 29 Batch 700 Loss 0.0525\n",
            "Epoch 29 Batch 800 Loss 0.0697\n",
            "Epoch 29 Batch 900 Loss 0.0507\n",
            "Epoch 29 Batch 1000 Loss 0.0609\n",
            "Epoch 29 Batch 1100 Loss 0.0754\n",
            "Epoch 29 Batch 1200 Loss 0.0558\n",
            "Epoch 29 Loss 0.0449\n",
            "Time taken for 1 epoch 95.57276892662048 sec\n",
            "\n",
            "Epoch 30 Batch 0 Loss 0.0628\n",
            "Epoch 30 Batch 100 Loss 0.0433\n",
            "Epoch 30 Batch 200 Loss 0.0418\n",
            "Epoch 30 Batch 300 Loss 0.0435\n",
            "Epoch 30 Batch 400 Loss 0.0983\n",
            "Epoch 30 Batch 500 Loss 0.0495\n",
            "Epoch 30 Batch 600 Loss 0.0579\n",
            "Epoch 30 Batch 700 Loss 0.0603\n",
            "Epoch 30 Batch 800 Loss 0.0300\n",
            "Epoch 30 Batch 900 Loss 0.0718\n",
            "Epoch 30 Batch 1000 Loss 0.0469\n",
            "Epoch 30 Batch 1100 Loss 0.0354\n",
            "Epoch 30 Batch 1200 Loss 0.0589\n",
            "Epoch 30 Loss 0.0456\n",
            "Time taken for 1 epoch 95.46589517593384 sec\n",
            "\n",
            "Epoch 31 Batch 0 Loss 0.0281\n",
            "Epoch 31 Batch 100 Loss 0.0203\n",
            "Epoch 31 Batch 200 Loss 0.0209\n",
            "Epoch 31 Batch 300 Loss 0.0344\n",
            "Epoch 31 Batch 400 Loss 0.0357\n",
            "Epoch 31 Batch 500 Loss 0.0345\n",
            "Epoch 31 Batch 600 Loss 0.0468\n",
            "Epoch 31 Batch 700 Loss 0.0413\n",
            "Epoch 31 Batch 800 Loss 0.0359\n",
            "Epoch 31 Batch 900 Loss 0.0393\n",
            "Epoch 31 Batch 1000 Loss 0.0450\n",
            "Epoch 31 Batch 1100 Loss 0.0704\n",
            "Epoch 31 Batch 1200 Loss 0.0397\n",
            "Epoch 31 Loss 0.0449\n",
            "Time taken for 1 epoch 95.54893374443054 sec\n",
            "\n",
            "Epoch 32 Batch 0 Loss 0.0243\n",
            "Epoch 32 Batch 100 Loss 0.0431\n",
            "Epoch 32 Batch 200 Loss 0.0338\n",
            "Epoch 32 Batch 300 Loss 0.0332\n",
            "Epoch 32 Batch 400 Loss 0.0429\n",
            "Epoch 32 Batch 500 Loss 0.0570\n",
            "Epoch 32 Batch 600 Loss 0.0466\n",
            "Epoch 32 Batch 700 Loss 0.0273\n",
            "Epoch 32 Batch 800 Loss 0.0575\n",
            "Epoch 32 Batch 900 Loss 0.0343\n",
            "Epoch 32 Batch 1000 Loss 0.0785\n",
            "Epoch 32 Batch 1100 Loss 0.0569\n",
            "Epoch 32 Batch 1200 Loss 0.0489\n",
            "Epoch 32 Loss 0.0441\n",
            "Time taken for 1 epoch 95.6436710357666 sec\n",
            "\n",
            "Epoch 33 Batch 0 Loss 0.0445\n",
            "Epoch 33 Batch 100 Loss 0.0308\n",
            "Epoch 33 Batch 200 Loss 0.0360\n",
            "Epoch 33 Batch 300 Loss 0.0316\n",
            "Epoch 33 Batch 400 Loss 0.0590\n",
            "Epoch 33 Batch 500 Loss 0.0117\n",
            "Epoch 33 Batch 600 Loss 0.0404\n",
            "Epoch 33 Batch 700 Loss 0.0568\n",
            "Epoch 33 Batch 800 Loss 0.0306\n",
            "Epoch 33 Batch 900 Loss 0.0735\n",
            "Epoch 33 Batch 1000 Loss 0.0489\n",
            "Epoch 33 Batch 1100 Loss 0.0658\n",
            "Epoch 33 Batch 1200 Loss 0.0472\n",
            "Epoch 33 Loss 0.0441\n",
            "Time taken for 1 epoch 95.66090536117554 sec\n",
            "\n",
            "Epoch 34 Batch 0 Loss 0.0480\n",
            "Epoch 34 Batch 100 Loss 0.0365\n",
            "Epoch 34 Batch 200 Loss 0.0382\n",
            "Epoch 34 Batch 300 Loss 0.0159\n",
            "Epoch 34 Batch 400 Loss 0.0202\n",
            "Epoch 34 Batch 500 Loss 0.0445\n",
            "Epoch 34 Batch 600 Loss 0.0266\n",
            "Epoch 34 Batch 700 Loss 0.0642\n",
            "Epoch 34 Batch 800 Loss 0.0329\n",
            "Epoch 34 Batch 900 Loss 0.0589\n",
            "Epoch 34 Batch 1000 Loss 0.0747\n",
            "Epoch 34 Batch 1100 Loss 0.0505\n",
            "Epoch 34 Batch 1200 Loss 0.0567\n",
            "Epoch 34 Loss 0.0435\n",
            "Time taken for 1 epoch 95.72510957717896 sec\n",
            "\n",
            "Epoch 35 Batch 0 Loss 0.0404\n",
            "Epoch 35 Batch 100 Loss 0.0327\n",
            "Epoch 35 Batch 200 Loss 0.0407\n",
            "Epoch 35 Batch 300 Loss 0.0491\n",
            "Epoch 35 Batch 400 Loss 0.0358\n",
            "Epoch 35 Batch 500 Loss 0.0371\n",
            "Epoch 35 Batch 600 Loss 0.0247\n",
            "Epoch 35 Batch 700 Loss 0.0622\n",
            "Epoch 35 Batch 800 Loss 0.0580\n",
            "Epoch 35 Batch 900 Loss 0.0567\n",
            "Epoch 35 Batch 1000 Loss 0.0432\n",
            "Epoch 35 Batch 1100 Loss 0.0516\n",
            "Epoch 35 Batch 1200 Loss 0.0570\n",
            "Epoch 35 Loss 0.0431\n",
            "Time taken for 1 epoch 95.71226930618286 sec\n",
            "\n",
            "Epoch 36 Batch 0 Loss 0.0330\n",
            "Epoch 36 Batch 100 Loss 0.0161\n",
            "Epoch 36 Batch 200 Loss 0.0484\n",
            "Epoch 36 Batch 300 Loss 0.0392\n",
            "Epoch 36 Batch 400 Loss 0.0321\n",
            "Epoch 36 Batch 500 Loss 0.0401\n",
            "Epoch 36 Batch 600 Loss 0.0443\n",
            "Epoch 36 Batch 700 Loss 0.0363\n",
            "Epoch 36 Batch 800 Loss 0.0387\n",
            "Epoch 36 Batch 900 Loss 0.0544\n",
            "Epoch 36 Batch 1000 Loss 0.0596\n",
            "Epoch 36 Batch 1100 Loss 0.0445\n",
            "Epoch 36 Batch 1200 Loss 0.0267\n",
            "Epoch 36 Loss 0.0425\n",
            "Time taken for 1 epoch 95.6443977355957 sec\n",
            "\n",
            "Epoch 37 Batch 0 Loss 0.0225\n",
            "Epoch 37 Batch 100 Loss 0.0159\n",
            "Epoch 37 Batch 200 Loss 0.0270\n",
            "Epoch 37 Batch 300 Loss 0.0249\n",
            "Epoch 37 Batch 400 Loss 0.0452\n",
            "Epoch 37 Batch 500 Loss 0.0351\n",
            "Epoch 37 Batch 600 Loss 0.0209\n",
            "Epoch 37 Batch 700 Loss 0.0265\n",
            "Epoch 37 Batch 800 Loss 0.0484\n",
            "Epoch 37 Batch 900 Loss 0.0484\n",
            "Epoch 37 Batch 1000 Loss 0.0542\n",
            "Epoch 37 Batch 1100 Loss 0.0335\n",
            "Epoch 37 Batch 1200 Loss 0.0635\n",
            "Epoch 37 Loss 0.0422\n",
            "Time taken for 1 epoch 95.71671652793884 sec\n",
            "\n",
            "Epoch 38 Batch 0 Loss 0.0161\n",
            "Epoch 38 Batch 100 Loss 0.0160\n",
            "Epoch 38 Batch 200 Loss 0.0258\n",
            "Epoch 38 Batch 300 Loss 0.0270\n",
            "Epoch 38 Batch 400 Loss 0.0485\n",
            "Epoch 38 Batch 500 Loss 0.0298\n",
            "Epoch 38 Batch 600 Loss 0.0224\n",
            "Epoch 38 Batch 700 Loss 0.0294\n",
            "Epoch 38 Batch 800 Loss 0.0510\n",
            "Epoch 38 Batch 900 Loss 0.0430\n",
            "Epoch 38 Batch 1000 Loss 0.0454\n",
            "Epoch 38 Batch 1100 Loss 0.0546\n",
            "Epoch 38 Batch 1200 Loss 0.0707\n",
            "Epoch 38 Loss 0.0412\n",
            "Time taken for 1 epoch 95.69878005981445 sec\n",
            "\n",
            "Epoch 39 Batch 0 Loss 0.0376\n",
            "Epoch 39 Batch 100 Loss 0.0182\n",
            "Epoch 39 Batch 200 Loss 0.0256\n",
            "Epoch 39 Batch 300 Loss 0.0249\n",
            "Epoch 39 Batch 400 Loss 0.0185\n",
            "Epoch 39 Batch 500 Loss 0.0201\n",
            "Epoch 39 Batch 600 Loss 0.0399\n",
            "Epoch 39 Batch 700 Loss 0.0438\n",
            "Epoch 39 Batch 800 Loss 0.0585\n",
            "Epoch 39 Batch 900 Loss 0.0722\n",
            "Epoch 39 Batch 1000 Loss 0.0610\n",
            "Epoch 39 Batch 1100 Loss 0.0399\n",
            "Epoch 39 Batch 1200 Loss 0.0497\n",
            "Epoch 39 Loss 0.0418\n",
            "Time taken for 1 epoch 95.63083815574646 sec\n",
            "\n",
            "Epoch 40 Batch 0 Loss 0.0303\n",
            "Epoch 40 Batch 100 Loss 0.0411\n",
            "Epoch 40 Batch 200 Loss 0.0128\n",
            "Epoch 40 Batch 300 Loss 0.0448\n",
            "Epoch 40 Batch 400 Loss 0.0203\n",
            "Epoch 40 Batch 500 Loss 0.0367\n",
            "Epoch 40 Batch 600 Loss 0.0353\n",
            "Epoch 40 Batch 700 Loss 0.0503\n",
            "Epoch 40 Batch 800 Loss 0.0429\n",
            "Epoch 40 Batch 900 Loss 0.0527\n",
            "Epoch 40 Batch 1000 Loss 0.0444\n",
            "Epoch 40 Batch 1100 Loss 0.0408\n",
            "Epoch 40 Batch 1200 Loss 0.0378\n",
            "Epoch 40 Loss 0.0411\n",
            "Time taken for 1 epoch 95.59055233001709 sec\n",
            "\n",
            "Epoch 41 Batch 0 Loss 0.0227\n",
            "Epoch 41 Batch 100 Loss 0.0536\n",
            "Epoch 41 Batch 200 Loss 0.0164\n",
            "Epoch 41 Batch 300 Loss 0.0624\n",
            "Epoch 41 Batch 400 Loss 0.0410\n",
            "Epoch 41 Batch 500 Loss 0.0470\n",
            "Epoch 41 Batch 600 Loss 0.0540\n",
            "Epoch 41 Batch 700 Loss 0.0608\n",
            "Epoch 41 Batch 800 Loss 0.0390\n",
            "Epoch 41 Batch 900 Loss 0.0575\n",
            "Epoch 41 Batch 1000 Loss 0.0521\n",
            "Epoch 41 Batch 1100 Loss 0.0309\n",
            "Epoch 41 Batch 1200 Loss 0.0413\n",
            "Epoch 41 Loss 0.0411\n",
            "Time taken for 1 epoch 95.56083464622498 sec\n",
            "\n",
            "Epoch 42 Batch 0 Loss 0.0334\n",
            "Epoch 42 Batch 100 Loss 0.0281\n",
            "Epoch 42 Batch 200 Loss 0.0256\n",
            "Epoch 42 Batch 300 Loss 0.0195\n",
            "Epoch 42 Batch 400 Loss 0.0424\n",
            "Epoch 42 Batch 500 Loss 0.0377\n",
            "Epoch 42 Batch 600 Loss 0.0293\n",
            "Epoch 42 Batch 700 Loss 0.0513\n",
            "Epoch 42 Batch 800 Loss 0.0349\n",
            "Epoch 42 Batch 900 Loss 0.0409\n",
            "Epoch 42 Batch 1000 Loss 0.0591\n",
            "Epoch 42 Batch 1100 Loss 0.0635\n",
            "Epoch 42 Batch 1200 Loss 0.0284\n",
            "Epoch 42 Loss 0.0401\n",
            "Time taken for 1 epoch 95.63178753852844 sec\n",
            "\n",
            "Epoch 43 Batch 0 Loss 0.0600\n",
            "Epoch 43 Batch 100 Loss 0.0342\n",
            "Epoch 43 Batch 200 Loss 0.0464\n",
            "Epoch 43 Batch 300 Loss 0.0258\n",
            "Epoch 43 Batch 400 Loss 0.0333\n",
            "Epoch 43 Batch 500 Loss 0.0384\n",
            "Epoch 43 Batch 600 Loss 0.0406\n",
            "Epoch 43 Batch 700 Loss 0.0369\n",
            "Epoch 43 Batch 800 Loss 0.0238\n",
            "Epoch 43 Batch 900 Loss 0.0360\n",
            "Epoch 43 Batch 1000 Loss 0.0349\n",
            "Epoch 43 Batch 1100 Loss 0.0504\n",
            "Epoch 43 Batch 1200 Loss 0.0278\n",
            "Epoch 43 Loss 0.0392\n",
            "Time taken for 1 epoch 95.51956748962402 sec\n",
            "\n",
            "Epoch 44 Batch 0 Loss 0.0251\n",
            "Epoch 44 Batch 100 Loss 0.0350\n",
            "Epoch 44 Batch 200 Loss 0.0377\n",
            "Epoch 44 Batch 300 Loss 0.0189\n",
            "Epoch 44 Batch 400 Loss 0.0174\n",
            "Epoch 44 Batch 500 Loss 0.0285\n",
            "Epoch 44 Batch 600 Loss 0.0461\n",
            "Epoch 44 Batch 700 Loss 0.0362\n",
            "Epoch 44 Batch 800 Loss 0.0337\n",
            "Epoch 44 Batch 900 Loss 0.0312\n",
            "Epoch 44 Batch 1000 Loss 0.0577\n",
            "Epoch 44 Batch 1100 Loss 0.0330\n",
            "Epoch 44 Batch 1200 Loss 0.0394\n",
            "Epoch 44 Loss 0.0394\n",
            "Time taken for 1 epoch 95.52519345283508 sec\n",
            "\n",
            "Epoch 45 Batch 0 Loss 0.0283\n",
            "Epoch 45 Batch 100 Loss 0.0194\n",
            "Epoch 45 Batch 200 Loss 0.0326\n",
            "Epoch 45 Batch 300 Loss 0.0426\n",
            "Epoch 45 Batch 400 Loss 0.0556\n",
            "Epoch 45 Batch 500 Loss 0.0302\n",
            "Epoch 45 Batch 600 Loss 0.0374\n",
            "Epoch 45 Batch 700 Loss 0.0730\n",
            "Epoch 45 Batch 800 Loss 0.0453\n",
            "Epoch 45 Batch 900 Loss 0.0407\n",
            "Epoch 45 Batch 1000 Loss 0.0513\n",
            "Epoch 45 Batch 1100 Loss 0.0458\n",
            "Epoch 45 Batch 1200 Loss 0.0565\n",
            "Epoch 45 Loss 0.0399\n",
            "Time taken for 1 epoch 95.61425924301147 sec\n",
            "\n",
            "Epoch 46 Batch 0 Loss 0.0397\n",
            "Epoch 46 Batch 100 Loss 0.0317\n",
            "Epoch 46 Batch 200 Loss 0.0361\n",
            "Epoch 46 Batch 300 Loss 0.0518\n",
            "Epoch 46 Batch 400 Loss 0.0235\n",
            "Epoch 46 Batch 500 Loss 0.0258\n",
            "Epoch 46 Batch 600 Loss 0.0432\n",
            "Epoch 46 Batch 700 Loss 0.0472\n",
            "Epoch 46 Batch 800 Loss 0.0510\n",
            "Epoch 46 Batch 900 Loss 0.0223\n",
            "Epoch 46 Batch 1000 Loss 0.0552\n",
            "Epoch 46 Batch 1100 Loss 0.0565\n",
            "Epoch 46 Batch 1200 Loss 0.0373\n",
            "Epoch 46 Loss 0.0397\n",
            "Time taken for 1 epoch 95.57485389709473 sec\n",
            "\n",
            "Epoch 47 Batch 0 Loss 0.0173\n",
            "Epoch 47 Batch 100 Loss 0.0231\n",
            "Epoch 47 Batch 200 Loss 0.0403\n",
            "Epoch 47 Batch 300 Loss 0.0196\n",
            "Epoch 47 Batch 400 Loss 0.0380\n",
            "Epoch 47 Batch 500 Loss 0.0250\n",
            "Epoch 47 Batch 600 Loss 0.0361\n",
            "Epoch 47 Batch 700 Loss 0.0411\n",
            "Epoch 47 Batch 800 Loss 0.0233\n",
            "Epoch 47 Batch 900 Loss 0.0419\n",
            "Epoch 47 Batch 1000 Loss 0.0236\n",
            "Epoch 47 Batch 1100 Loss 0.0221\n",
            "Epoch 47 Batch 1200 Loss 0.0391\n",
            "Epoch 47 Loss 0.0386\n",
            "Time taken for 1 epoch 95.63755536079407 sec\n",
            "\n",
            "Epoch 48 Batch 0 Loss 0.0327\n",
            "Epoch 48 Batch 100 Loss 0.0273\n",
            "Epoch 48 Batch 200 Loss 0.0372\n",
            "Epoch 48 Batch 300 Loss 0.0359\n",
            "Epoch 48 Batch 400 Loss 0.0456\n",
            "Epoch 48 Batch 500 Loss 0.0275\n",
            "Epoch 48 Batch 600 Loss 0.0302\n",
            "Epoch 48 Batch 700 Loss 0.0170\n",
            "Epoch 48 Batch 800 Loss 0.0618\n",
            "Epoch 48 Batch 900 Loss 0.0626\n",
            "Epoch 48 Batch 1000 Loss 0.0237\n",
            "Epoch 48 Batch 1100 Loss 0.0489\n",
            "Epoch 48 Batch 1200 Loss 0.0415\n",
            "Epoch 48 Loss 0.0389\n",
            "Time taken for 1 epoch 95.62900519371033 sec\n",
            "\n",
            "Epoch 49 Batch 0 Loss 0.0206\n",
            "Epoch 49 Batch 100 Loss 0.0559\n",
            "Epoch 49 Batch 200 Loss 0.0204\n",
            "Epoch 49 Batch 300 Loss 0.0535\n",
            "Epoch 49 Batch 400 Loss 0.0487\n",
            "Epoch 49 Batch 500 Loss 0.0273\n",
            "Epoch 49 Batch 600 Loss 0.0574\n",
            "Epoch 49 Batch 700 Loss 0.0469\n",
            "Epoch 49 Batch 800 Loss 0.0276\n",
            "Epoch 49 Batch 900 Loss 0.0363\n",
            "Epoch 49 Batch 1000 Loss 0.0673\n",
            "Epoch 49 Batch 1100 Loss 0.0298\n",
            "Epoch 49 Batch 1200 Loss 0.0477\n",
            "Epoch 49 Loss 0.0393\n",
            "Time taken for 1 epoch 95.47432708740234 sec\n",
            "\n",
            "Epoch 50 Batch 0 Loss 0.0185\n",
            "Epoch 50 Batch 100 Loss 0.0308\n",
            "Epoch 50 Batch 200 Loss 0.0309\n",
            "Epoch 50 Batch 300 Loss 0.0360\n",
            "Epoch 50 Batch 400 Loss 0.0473\n",
            "Epoch 50 Batch 500 Loss 0.0435\n",
            "Epoch 50 Batch 600 Loss 0.0360\n",
            "Epoch 50 Batch 700 Loss 0.0334\n",
            "Epoch 50 Batch 800 Loss 0.0526\n",
            "Epoch 50 Batch 900 Loss 0.0368\n",
            "Epoch 50 Batch 1000 Loss 0.0382\n",
            "Epoch 50 Batch 1100 Loss 0.0370\n",
            "Epoch 50 Batch 1200 Loss 0.0489\n",
            "Epoch 50 Loss 0.0375\n",
            "Time taken for 1 epoch 101.52165865898132 sec\n",
            "\n"
          ]
        }
      ],
      "source": [
        "EPOCHS = 50\n",
        "\n",
        "for epoch in range(EPOCHS):\n",
        "  start = time.time()\n",
        "\n",
        "  #инициализируем входное скрытое состояние (из нулей) размера (батч, кол-во рекуррентных ячеек)\n",
        "  enc_hidden = encoder.initialize_hidden_state()\n",
        "  total_loss = 0\n",
        "\n",
        "  for (batch, (inp, targ)) in enumerate(dataset.take(steps_per_epoch)):\n",
        "    #делаем шаг обучения и считаем ошибку\n",
        "    batch_loss = train_step(inp, targ, enc_hidden)\n",
        "    total_loss += batch_loss\n",
        "\n",
        "    if batch % 100 == 0:\n",
        "      print('Epoch {} Batch {} Loss {:.4f}'.format(epoch + 1,\n",
        "                                                   batch,\n",
        "                                                   batch_loss.numpy()))\n",
        "  #сохраняем checkpoint каждые 25 эпох\n",
        "  if (epoch + 1) % 25 == 0:\n",
        "    checkpoint.save(file_prefix = checkpoint_prefix)\n",
        "\n",
        "  print('Epoch {} Loss {:.4f}'.format(epoch + 1,\n",
        "                                      total_loss / steps_per_epoch))\n",
        "  print('Time taken for 1 epoch {} sec\\n'.format(time.time() - start))"
      ]
    },
    {
      "cell_type": "code",
      "execution_count": 29,
      "metadata": {
        "id": "EbQpyYs13jF_"
      },
      "outputs": [],
      "source": [
        "def evaluate(sentence):\n",
        "  #строим матрицу внимания из нулей размера (макс длина таргета, макс длина входа)\n",
        "  attention_plot = np.zeros((max_length_targ, max_length_inp))\n",
        "\n",
        "  #выполняем препроцессинг предложений\n",
        "  sentence = preprocess_sentence(sentence)\n",
        "\n",
        "  #разбиваем предложение по пробелам и составляем список индексов каждого слова\n",
        "  inputs = [inp_lang.word_index[i] for i in sentence.split(' ')]\n",
        "  #дополняем inputs нулями справа до максимальной длины входного текста\n",
        "  inputs = tf.keras.preprocessing.sequence.pad_sequences([inputs],\n",
        "                                                         maxlen=max_length_inp,\n",
        "                                                         padding='post')\n",
        "  #преобразуем inputs в тензор\n",
        "  inputs = tf.convert_to_tensor(inputs)\n",
        "\n",
        "  result = ''\n",
        "\n",
        "  #инициализируем входной hidden из нулей размера (1, units)\n",
        "  hidden = [tf.zeros((1, units))]\n",
        "  #подаем inputs и hidden в encoder\n",
        "  enc_out, enc_hidden = encoder(inputs, hidden)\n",
        "\n",
        "  #инициализируем входной hidden декодера -- выходной хидден энкодера\n",
        "  dec_hidden = enc_hidden\n",
        "  #вход декодера -- список [индекс start] размера(1,1)\n",
        "  dec_input = tf.expand_dims([targ_lang.word_index['<start>']], 0)\n",
        "\n",
        "  for t in range(max_length_targ):\n",
        "    #получаем выход декодера\n",
        "    predictions, dec_hidden, attention_weights = decoder(dec_input,\n",
        "                                                         dec_hidden,\n",
        "                                                         enc_out)\n",
        "\n",
        "    #сохраняем веса внимания, чтобы позже визуализировать\n",
        "    attention_weights = tf.reshape(attention_weights, (-1, ))\n",
        "    attention_plot[t] = attention_weights.numpy()\n",
        "\n",
        "    predicted_id = tf.argmax(predictions[0]).numpy()\n",
        "\n",
        "    result += targ_lang.index_word[predicted_id] + ' '\n",
        "\n",
        "    #заканчиваем на токене end\n",
        "    if targ_lang.index_word[predicted_id] == '<end>':\n",
        "      return result, sentence, attention_plot\n",
        "\n",
        "    #предсказанный predicted ID подаем обратно в декодер (размер (1,1))\n",
        "    dec_input = tf.expand_dims([predicted_id], 0)\n",
        "\n",
        "  return result, sentence, attention_plot"
      ]
    },
    {
      "cell_type": "markdown",
      "source": [
        "**Напишем функцию для визуализации весов внимания.**"
      ],
      "metadata": {
        "id": "0lrOqxyoy_rC"
      }
    },
    {
      "cell_type": "code",
      "execution_count": 30,
      "metadata": {
        "id": "Qjy26Fe8Bv5d"
      },
      "outputs": [],
      "source": [
        "def plot_attention(attention, sentence, predicted_sentence):\n",
        "  fig = plt.figure(figsize=(10,10))\n",
        "  ax = fig.add_subplot(1, 1, 1)\n",
        "  ax.matshow(attention, cmap='viridis')\n",
        "\n",
        "  fontdict = {'fontsize': 14}\n",
        "\n",
        "  ax.set_xticklabels([''] + sentence, fontdict=fontdict, rotation=90)\n",
        "  ax.set_yticklabels([''] + predicted_sentence, fontdict=fontdict)\n",
        "\n",
        "  ax.xaxis.set_major_locator(ticker.MultipleLocator(1))\n",
        "  ax.yaxis.set_major_locator(ticker.MultipleLocator(1))\n",
        "\n",
        "  plt.show()"
      ]
    },
    {
      "cell_type": "code",
      "execution_count": 31,
      "metadata": {
        "id": "sl9zUHzg3jGI"
      },
      "outputs": [],
      "source": [
        "def translate(sentence):\n",
        "  result, sentence, attention_plot = evaluate(sentence)\n",
        "\n",
        "  print('Input: %s' % (sentence))\n",
        "  print('Predicted translation: {}'.format(result))\n",
        "\n",
        "  attention_plot = attention_plot[:len(result.split(' ')), :len(sentence.split(' '))]\n",
        "  plot_attention(attention_plot, sentence.split(' '), result.split(' '))"
      ]
    },
    {
      "cell_type": "markdown",
      "metadata": {
        "id": "n250XbnjOaqP"
      },
      "source": [
        "## Загрузим последний чекпойнт."
      ]
    },
    {
      "cell_type": "code",
      "execution_count": 32,
      "metadata": {
        "colab": {
          "base_uri": "https://localhost:8080/"
        },
        "id": "UJpT9D5_OgP6",
        "outputId": "4c0c3b0b-b494-41ba-f10b-197781f00863"
      },
      "outputs": [
        {
          "output_type": "execute_result",
          "data": {
            "text/plain": [
              "<tensorflow.python.checkpoint.checkpoint.CheckpointLoadStatus at 0x78e25bd9c9a0>"
            ]
          },
          "metadata": {},
          "execution_count": 32
        }
      ],
      "source": [
        "checkpoint.restore(tf.train.latest_checkpoint(checkpoint_dir))"
      ]
    },
    {
      "cell_type": "code",
      "execution_count": 33,
      "metadata": {
        "colab": {
          "base_uri": "https://localhost:8080/",
          "height": 1000
        },
        "id": "WrAM0FDomq3E",
        "outputId": "4f985083-ad8b-4234-c708-9f2fc3c611fb"
      },
      "outputs": [
        {
          "output_type": "stream",
          "name": "stdout",
          "text": [
            "Input: <start> здесь хорошо . <end>\n",
            "Predicted translation: it's good here soon . <end> \n"
          ]
        },
        {
          "output_type": "stream",
          "name": "stderr",
          "text": [
            "<ipython-input-30-7689413cfce7>:8: UserWarning: FixedFormatter should only be used together with FixedLocator\n",
            "  ax.set_xticklabels([''] + sentence, fontdict=fontdict, rotation=90)\n",
            "<ipython-input-30-7689413cfce7>:9: UserWarning: FixedFormatter should only be used together with FixedLocator\n",
            "  ax.set_yticklabels([''] + predicted_sentence, fontdict=fontdict)\n"
          ]
        },
        {
          "output_type": "display_data",
          "data": {
            "text/plain": [
              "<Figure size 1000x1000 with 1 Axes>"
            ],
            "image/png": "[encoded data removed]"
          },
          "metadata": {}
        }
      ],
      "source": [
        "translate('Здесь хорошо.')"
      ]
    },
    {
      "cell_type": "code",
      "execution_count": 34,
      "metadata": {
        "colab": {
          "base_uri": "https://localhost:8080/",
          "height": 902
        },
        "id": "5bhFfwcIMX5i",
        "outputId": "6bda0bc9-1673-43c9-8b14-50f2afebb8c4"
      },
      "outputs": [
        {
          "output_type": "stream",
          "name": "stdout",
          "text": [
            "Input: <start> я не смогу поехать . <end>\n",
            "Predicted translation: i can't go . <end> \n"
          ]
        },
        {
          "output_type": "stream",
          "name": "stderr",
          "text": [
            "<ipython-input-30-7689413cfce7>:8: UserWarning: FixedFormatter should only be used together with FixedLocator\n",
            "  ax.set_xticklabels([''] + sentence, fontdict=fontdict, rotation=90)\n",
            "<ipython-input-30-7689413cfce7>:9: UserWarning: FixedFormatter should only be used together with FixedLocator\n",
            "  ax.set_yticklabels([''] + predicted_sentence, fontdict=fontdict)\n"
          ]
        },
        {
          "output_type": "display_data",
          "data": {
            "text/plain": [
              "<Figure size 1000x1000 with 1 Axes>"
            ],
            "image/png": "[encoded data removed]"
          },
          "metadata": {}
        }
      ],
      "source": [
        "translate('Я не смогу поехать.')"
      ]
    },
    {
      "cell_type": "code",
      "execution_count": 35,
      "metadata": {
        "colab": {
          "base_uri": "https://localhost:8080/",
          "height": 1000
        },
        "id": "zSx2iM36EZQZ",
        "outputId": "3d2cdbae-3f4b-4d06-8aa4-6644c32710a7"
      },
      "outputs": [
        {
          "output_type": "stream",
          "name": "stdout",
          "text": [
            "Input: <start> вы еще дома ? <end>\n",
            "Predicted translation: are you still home ? <end> \n"
          ]
        },
        {
          "output_type": "stream",
          "name": "stderr",
          "text": [
            "<ipython-input-30-7689413cfce7>:8: UserWarning: FixedFormatter should only be used together with FixedLocator\n",
            "  ax.set_xticklabels([''] + sentence, fontdict=fontdict, rotation=90)\n",
            "<ipython-input-30-7689413cfce7>:9: UserWarning: FixedFormatter should only be used together with FixedLocator\n",
            "  ax.set_yticklabels([''] + predicted_sentence, fontdict=fontdict)\n"
          ]
        },
        {
          "output_type": "display_data",
          "data": {
            "text/plain": [
              "<Figure size 1000x1000 with 1 Axes>"
            ],
            "image/png": "[encoded data removed]"
          },
          "metadata": {}
        }
      ],
      "source": [
        "translate(u'Вы еще дома?')"
      ]
    },
    {
      "cell_type": "code",
      "execution_count": 36,
      "metadata": {
        "colab": {
          "base_uri": "https://localhost:8080/",
          "height": 1000
        },
        "id": "A3LLCx3ZE0Ls",
        "outputId": "2f2b3c93-5380-4262-9666-4ef2180193e2"
      },
      "outputs": [
        {
          "output_type": "stream",
          "name": "stdout",
          "text": [
            "Input: <start> вы все еще дома ? <end>\n",
            "Predicted translation: are you all home yet ? <end> \n"
          ]
        },
        {
          "output_type": "stream",
          "name": "stderr",
          "text": [
            "<ipython-input-30-7689413cfce7>:8: UserWarning: FixedFormatter should only be used together with FixedLocator\n",
            "  ax.set_xticklabels([''] + sentence, fontdict=fontdict, rotation=90)\n",
            "<ipython-input-30-7689413cfce7>:9: UserWarning: FixedFormatter should only be used together with FixedLocator\n",
            "  ax.set_yticklabels([''] + predicted_sentence, fontdict=fontdict)\n"
          ]
        },
        {
          "output_type": "display_data",
          "data": {
            "text/plain": [
              "<Figure size 1000x1000 with 1 Axes>"
            ],
            "image/png": "[encoded data removed]"
          },
          "metadata": {}
        }
      ],
      "source": [
        "translate(u'Вы все еще дома?')"
      ]
    },
    {
      "cell_type": "code",
      "source": [
        "translate(u'Вы что, все еще дома?')"
      ],
      "metadata": {
        "colab": {
          "base_uri": "https://localhost:8080/",
          "height": 836
        },
        "id": "oCpi5Y8DxmjY",
        "outputId": "03712eff-1151-480f-89a3-785f16809f25"
      },
      "execution_count": 37,
      "outputs": [
        {
          "output_type": "stream",
          "name": "stdout",
          "text": [
            "Input: <start> вы что , все еще дома ? <end>\n",
            "Predicted translation: aren't you all home ? <end> \n"
          ]
        },
        {
          "output_type": "stream",
          "name": "stderr",
          "text": [
            "<ipython-input-30-7689413cfce7>:8: UserWarning: FixedFormatter should only be used together with FixedLocator\n",
            "  ax.set_xticklabels([''] + sentence, fontdict=fontdict, rotation=90)\n",
            "<ipython-input-30-7689413cfce7>:9: UserWarning: FixedFormatter should only be used together with FixedLocator\n",
            "  ax.set_yticklabels([''] + predicted_sentence, fontdict=fontdict)\n"
          ]
        },
        {
          "output_type": "display_data",
          "data": {
            "text/plain": [
              "<Figure size 1000x1000 with 1 Axes>"
            ],
            "image/png": "[encoded data removed]"
          },
          "metadata": {}
        }
      ]
    },
    {
      "cell_type": "code",
      "source": [
        "translate(u'Фильм хороший!')"
      ],
      "metadata": {
        "colab": {
          "base_uri": "https://localhost:8080/",
          "height": 1000
        },
        "id": "2aH1mMmgxmpL",
        "outputId": "16ae5b2c-de98-4d46-b936-f023462e0423"
      },
      "execution_count": 38,
      "outputs": [
        {
          "output_type": "stream",
          "name": "stdout",
          "text": [
            "Input: <start> фильм хороший ! <end>\n",
            "Predicted translation: the movie is good . <end> \n"
          ]
        },
        {
          "output_type": "stream",
          "name": "stderr",
          "text": [
            "<ipython-input-30-7689413cfce7>:8: UserWarning: FixedFormatter should only be used together with FixedLocator\n",
            "  ax.set_xticklabels([''] + sentence, fontdict=fontdict, rotation=90)\n",
            "<ipython-input-30-7689413cfce7>:9: UserWarning: FixedFormatter should only be used together with FixedLocator\n",
            "  ax.set_yticklabels([''] + predicted_sentence, fontdict=fontdict)\n"
          ]
        },
        {
          "output_type": "display_data",
          "data": {
            "text/plain": [
              "<Figure size 1000x1000 with 1 Axes>"
            ],
            "image/png": "[encoded data removed]"
          },
          "metadata": {}
        }
      ]
    },
    {
      "cell_type": "code",
      "source": [
        "translate(u'Фильм не совсем хороший!')"
      ],
      "metadata": {
        "colab": {
          "base_uri": "https://localhost:8080/",
          "height": 1000
        },
        "id": "hxeLFtgXxmwv",
        "outputId": "5bb29a7d-5621-49cf-ee59-14c7c8888fad"
      },
      "execution_count": 39,
      "outputs": [
        {
          "output_type": "stream",
          "name": "stdout",
          "text": [
            "Input: <start> фильм не совсем хороший ! <end>\n",
            "Predicted translation: the pretty good at all good . <end> \n"
          ]
        },
        {
          "output_type": "stream",
          "name": "stderr",
          "text": [
            "<ipython-input-30-7689413cfce7>:8: UserWarning: FixedFormatter should only be used together with FixedLocator\n",
            "  ax.set_xticklabels([''] + sentence, fontdict=fontdict, rotation=90)\n",
            "<ipython-input-30-7689413cfce7>:9: UserWarning: FixedFormatter should only be used together with FixedLocator\n",
            "  ax.set_yticklabels([''] + predicted_sentence, fontdict=fontdict)\n"
          ]
        },
        {
          "output_type": "display_data",
          "data": {
            "text/plain": [
              "<Figure size 1000x1000 with 1 Axes>"
            ],
            "image/png": "[encoded data removed]"
          },
          "metadata": {}
        }
      ]
    },
    {
      "cell_type": "code",
      "source": [
        "translate(u'Фильм совсем не хороший!')"
      ],
      "metadata": {
        "colab": {
          "base_uri": "https://localhost:8080/",
          "height": 1000
        },
        "id": "VzsMS4XWxm9a",
        "outputId": "21868c6b-da1d-4e37-96b8-54a55ae8c7ec"
      },
      "execution_count": 40,
      "outputs": [
        {
          "output_type": "stream",
          "name": "stdout",
          "text": [
            "Input: <start> фильм совсем не хороший ! <end>\n",
            "Predicted translation: it's pretty good at all good ! <end> \n"
          ]
        },
        {
          "output_type": "stream",
          "name": "stderr",
          "text": [
            "<ipython-input-30-7689413cfce7>:8: UserWarning: FixedFormatter should only be used together with FixedLocator\n",
            "  ax.set_xticklabels([''] + sentence, fontdict=fontdict, rotation=90)\n",
            "<ipython-input-30-7689413cfce7>:9: UserWarning: FixedFormatter should only be used together with FixedLocator\n",
            "  ax.set_yticklabels([''] + predicted_sentence, fontdict=fontdict)\n"
          ]
        },
        {
          "output_type": "display_data",
          "data": {
            "text/plain": [
              "<Figure size 1000x1000 with 1 Axes>"
            ],
            "image/png": "[encoded data removed]"
          },
          "metadata": {}
        }
      ]
    },
    {
      "cell_type": "code",
      "execution_count": 41,
      "metadata": {
        "colab": {
          "base_uri": "https://localhost:8080/",
          "height": 1000
        },
        "id": "DUQVLVqUE1YW",
        "outputId": "0969482c-ded0-4c80-da14-dd8217aaaab3"
      },
      "outputs": [
        {
          "output_type": "stream",
          "name": "stdout",
          "text": [
            "Input: <start> попробуй сделать это . <end>\n",
            "Predicted translation: try to do this . <end> \n"
          ]
        },
        {
          "output_type": "stream",
          "name": "stderr",
          "text": [
            "<ipython-input-30-7689413cfce7>:8: UserWarning: FixedFormatter should only be used together with FixedLocator\n",
            "  ax.set_xticklabels([''] + sentence, fontdict=fontdict, rotation=90)\n",
            "<ipython-input-30-7689413cfce7>:9: UserWarning: FixedFormatter should only be used together with FixedLocator\n",
            "  ax.set_yticklabels([''] + predicted_sentence, fontdict=fontdict)\n"
          ]
        },
        {
          "output_type": "display_data",
          "data": {
            "text/plain": [
              "<Figure size 1000x1000 with 1 Axes>"
            ],
            "image/png": "[encoded data removed]"
          },
          "metadata": {}
        }
      ],
      "source": [
        "translate(u'Попробуй сделать это.')"
      ]
    },
    {
      "cell_type": "code",
      "execution_count": 42,
      "metadata": {
        "colab": {
          "base_uri": "https://localhost:8080/",
          "height": 1000
        },
        "id": "f09_hUFx9EJh",
        "outputId": "9d27559c-f22b-483f-dcfe-fc96449c4c21"
      },
      "outputs": [
        {
          "output_type": "stream",
          "name": "stdout",
          "text": [
            "Input: <start> надо в магазине купить воду . <end>\n",
            "Predicted translation: we have a new water . <end> \n"
          ]
        },
        {
          "output_type": "stream",
          "name": "stderr",
          "text": [
            "<ipython-input-30-7689413cfce7>:8: UserWarning: FixedFormatter should only be used together with FixedLocator\n",
            "  ax.set_xticklabels([''] + sentence, fontdict=fontdict, rotation=90)\n",
            "<ipython-input-30-7689413cfce7>:9: UserWarning: FixedFormatter should only be used together with FixedLocator\n",
            "  ax.set_yticklabels([''] + predicted_sentence, fontdict=fontdict)\n"
          ]
        },
        {
          "output_type": "display_data",
          "data": {
            "text/plain": [
              "<Figure size 1000x1000 with 1 Axes>"
            ],
            "image/png": "[encoded data removed]"
          },
          "metadata": {}
        }
      ],
      "source": [
        "translate(u'Надо в магазине купить воду.')"
      ]
    },
    {
      "cell_type": "code",
      "execution_count": 43,
      "metadata": {
        "colab": {
          "base_uri": "https://localhost:8080/",
          "height": 918
        },
        "id": "e7c5p8rmkHQG",
        "outputId": "994d9dae-35e5-4bc5-d46a-f46d56fbf6d3"
      },
      "outputs": [
        {
          "output_type": "stream",
          "name": "stdout",
          "text": [
            "Input: <start> я никогда такого не делаю . <end>\n",
            "Predicted translation: i never do that . <end> \n"
          ]
        },
        {
          "output_type": "stream",
          "name": "stderr",
          "text": [
            "<ipython-input-30-7689413cfce7>:8: UserWarning: FixedFormatter should only be used together with FixedLocator\n",
            "  ax.set_xticklabels([''] + sentence, fontdict=fontdict, rotation=90)\n",
            "<ipython-input-30-7689413cfce7>:9: UserWarning: FixedFormatter should only be used together with FixedLocator\n",
            "  ax.set_yticklabels([''] + predicted_sentence, fontdict=fontdict)\n"
          ]
        },
        {
          "output_type": "display_data",
          "data": {
            "text/plain": [
              "<Figure size 1000x1000 with 1 Axes>"
            ],
            "image/png": "[encoded data removed]"
          },
          "metadata": {}
        }
      ],
      "source": [
        "translate(u'Я никогда такого не делаю.')"
      ]
    },
    {
      "cell_type": "markdown",
      "source": [
        "### ВЫВОД: модель работает, с короткими и однозначными выражениями справляется хорошо. Но с переводом длинных выражений, а так же с выражениями, содержащими нюансы, модель испытывает затруднения. На мой взгляд работает лучше, чем модель без \"внимания\", но не существенно."
      ],
      "metadata": {
        "id": "5sTKJZ3QD7WM"
      }
    }
  ],
  "metadata": {
    "accelerator": "GPU",
    "colab": {
      "provenance": []
    },
    "kernelspec": {
      "display_name": "Python 3",
      "language": "python",
      "name": "python3"
    },
    "language_info": {
      "codemirror_mode": {
        "name": "ipython",
        "version": 3
      },
      "file_extension": ".py",
      "mimetype": "text/x-python",
      "name": "python",
      "nbconvert_exporter": "python",
      "pygments_lexer": "ipython3",
      "version": "3.8.8"
    },
    "gpuClass": "standard"
  },
  "nbformat": 4,
  "nbformat_minor": 0
}