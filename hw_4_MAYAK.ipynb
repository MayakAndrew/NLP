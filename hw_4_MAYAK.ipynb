{
  "cells": [
    {
      "cell_type": "markdown",
      "metadata": {
        "id": "BFe4TBFLf6Mm"
      },
      "source": [
        "### Урок 4. Тематическое моделирование. EM-алгоритм\n",
        "\n",
        "#### Домашнее задание\n",
        "\n",
        "1. объединить в одну выборку (это только для твитов), для роспотребнадзора сформировать датасет из вопросов\n",
        "2. провести исследование и выявить тематики о которых говорят в твитах (для твитов), а для роспотребнадзора так же выявить тематики о которых люди пишут проанализировать\n",
        "3. сделать визуализацию кластеров тематик\n",
        "4. проинтерпритировать получившиеся тематики"
      ]
    },
    {
      "cell_type": "code",
      "execution_count": 1,
      "metadata": {
        "colab": {
          "base_uri": "https://localhost:8080/"
        },
        "id": "EHiNPRF2uFar",
        "outputId": "acfe8e4c-d4bb-4579-9ad5-ed7f91ba500a"
      },
      "outputs": [
        {
          "output_type": "stream",
          "name": "stdout",
          "text": [
            "Requirement already satisfied: corus in /usr/local/lib/python3.10/dist-packages (0.10.0)\n"
          ]
        }
      ],
      "source": [
        "!pip install corus"
      ]
    },
    {
      "cell_type": "code",
      "execution_count": 2,
      "metadata": {
        "colab": {
          "base_uri": "https://localhost:8080/"
        },
        "id": "OpbnXo0auFav",
        "outputId": "21565237-0dc5-49f9-81be-5070536633f3"
      },
      "outputs": [
        {
          "output_type": "stream",
          "name": "stdout",
          "text": [
            "Requirement already satisfied: pyLDAvis in /usr/local/lib/python3.10/dist-packages (3.4.1)\n",
            "Requirement already satisfied: numpy>=1.24.2 in /usr/local/lib/python3.10/dist-packages (from pyLDAvis) (1.26.0)\n",
            "Requirement already satisfied: scipy in /usr/local/lib/python3.10/dist-packages (from pyLDAvis) (1.11.3)\n",
            "Requirement already satisfied: pandas>=2.0.0 in /usr/local/lib/python3.10/dist-packages (from pyLDAvis) (2.1.1)\n",
            "Requirement already satisfied: joblib>=1.2.0 in /usr/local/lib/python3.10/dist-packages (from pyLDAvis) (1.3.2)\n",
            "Requirement already satisfied: jinja2 in /usr/local/lib/python3.10/dist-packages (from pyLDAvis) (3.1.2)\n",
            "Requirement already satisfied: numexpr in /usr/local/lib/python3.10/dist-packages (from pyLDAvis) (2.8.7)\n",
            "Requirement already satisfied: funcy in /usr/local/lib/python3.10/dist-packages (from pyLDAvis) (2.0)\n",
            "Requirement already satisfied: scikit-learn>=1.0.0 in /usr/local/lib/python3.10/dist-packages (from pyLDAvis) (1.2.2)\n",
            "Requirement already satisfied: gensim in /usr/local/lib/python3.10/dist-packages (from pyLDAvis) (4.3.2)\n",
            "Requirement already satisfied: setuptools in /usr/local/lib/python3.10/dist-packages (from pyLDAvis) (67.7.2)\n",
            "Requirement already satisfied: python-dateutil>=2.8.2 in /usr/local/lib/python3.10/dist-packages (from pandas>=2.0.0->pyLDAvis) (2.8.2)\n",
            "Requirement already satisfied: pytz>=2020.1 in /usr/local/lib/python3.10/dist-packages (from pandas>=2.0.0->pyLDAvis) (2023.3.post1)\n",
            "Requirement already satisfied: tzdata>=2022.1 in /usr/local/lib/python3.10/dist-packages (from pandas>=2.0.0->pyLDAvis) (2023.3)\n",
            "Requirement already satisfied: threadpoolctl>=2.0.0 in /usr/local/lib/python3.10/dist-packages (from scikit-learn>=1.0.0->pyLDAvis) (3.2.0)\n",
            "Requirement already satisfied: smart-open>=1.8.1 in /usr/local/lib/python3.10/dist-packages (from gensim->pyLDAvis) (6.4.0)\n",
            "Requirement already satisfied: MarkupSafe>=2.0 in /usr/local/lib/python3.10/dist-packages (from jinja2->pyLDAvis) (2.1.3)\n",
            "Requirement already satisfied: six>=1.5 in /usr/local/lib/python3.10/dist-packages (from python-dateutil>=2.8.2->pandas>=2.0.0->pyLDAvis) (1.16.0)\n"
          ]
        }
      ],
      "source": [
        "!pip install pyLDAvis"
      ]
    },
    {
      "cell_type": "code",
      "source": [
        "!pip install pymorphy2"
      ],
      "metadata": {
        "colab": {
          "base_uri": "https://localhost:8080/"
        },
        "id": "clC419IEuwc7",
        "outputId": "b28b819b-cf46-4ff0-ad18-344488a0daf7"
      },
      "execution_count": 3,
      "outputs": [
        {
          "output_type": "stream",
          "name": "stdout",
          "text": [
            "Requirement already satisfied: pymorphy2 in /usr/local/lib/python3.10/dist-packages (0.9.1)\n",
            "Requirement already satisfied: dawg-python>=0.7.1 in /usr/local/lib/python3.10/dist-packages (from pymorphy2) (0.7.2)\n",
            "Requirement already satisfied: pymorphy2-dicts-ru<3.0,>=2.4 in /usr/local/lib/python3.10/dist-packages (from pymorphy2) (2.4.417127.4579844)\n",
            "Requirement already satisfied: docopt>=0.6 in /usr/local/lib/python3.10/dist-packages (from pymorphy2) (0.6.2)\n"
          ]
        }
      ]
    },
    {
      "cell_type": "code",
      "source": [
        "!pip install stop_words"
      ],
      "metadata": {
        "colab": {
          "base_uri": "https://localhost:8080/"
        },
        "id": "FKE7qGjsu8pg",
        "outputId": "bb6fdbed-197a-4931-cb07-f9952fafd00a"
      },
      "execution_count": 4,
      "outputs": [
        {
          "output_type": "stream",
          "name": "stdout",
          "text": [
            "Requirement already satisfied: stop_words in /usr/local/lib/python3.10/dist-packages (2018.7.23)\n"
          ]
        }
      ]
    },
    {
      "cell_type": "code",
      "source": [
        "!pip uninstall numpy"
      ],
      "metadata": {
        "colab": {
          "base_uri": "https://localhost:8080/"
        },
        "id": "GZPpJg4THHex",
        "outputId": "6f0969e3-a3ed-44fe-ca3c-d8fc48ed4605"
      },
      "execution_count": 7,
      "outputs": [
        {
          "output_type": "stream",
          "name": "stdout",
          "text": [
            "Found existing installation: numpy 1.26.0\n",
            "Uninstalling numpy-1.26.0:\n",
            "  Would remove:\n",
            "    /usr/local/bin/f2py\n",
            "    /usr/local/lib/python3.10/dist-packages/numpy-1.26.0.dist-info/*\n",
            "    /usr/local/lib/python3.10/dist-packages/numpy.libs/libgfortran-040039e1.so.5.0.0\n",
            "    /usr/local/lib/python3.10/dist-packages/numpy.libs/libopenblas64_p-r0-0cf96a72.3.23.dev.so\n",
            "    /usr/local/lib/python3.10/dist-packages/numpy.libs/libquadmath-96973f99.so.0.0.0\n",
            "    /usr/local/lib/python3.10/dist-packages/numpy/*\n",
            "Proceed (Y/n)? y\n",
            "  Successfully uninstalled numpy-1.26.0\n"
          ]
        }
      ]
    },
    {
      "cell_type": "code",
      "source": [
        "!pip install numpy"
      ],
      "metadata": {
        "colab": {
          "base_uri": "https://localhost:8080/"
        },
        "id": "TEVpiCjIHH_s",
        "outputId": "b89663e9-30e3-47d6-9d43-4c03e2154c02"
      },
      "execution_count": 8,
      "outputs": [
        {
          "output_type": "stream",
          "name": "stdout",
          "text": [
            "Collecting numpy\n",
            "  Using cached numpy-1.26.0-cp310-cp310-manylinux_2_17_x86_64.manylinux2014_x86_64.whl (18.2 MB)\n",
            "Installing collected packages: numpy\n",
            "\u001b[31mERROR: pip's dependency resolver does not currently take into account all the packages that are installed. This behaviour is the source of the following dependency conflicts.\n",
            "numba 0.56.4 requires numpy<1.24,>=1.18, but you have numpy 1.26.0 which is incompatible.\n",
            "tensorflow 2.13.0 requires numpy<=1.24.3,>=1.22, but you have numpy 1.26.0 which is incompatible.\u001b[0m\u001b[31m\n",
            "\u001b[0mSuccessfully installed numpy-1.26.0\n"
          ]
        }
      ]
    },
    {
      "cell_type": "code",
      "execution_count": 5,
      "metadata": {
        "colab": {
          "base_uri": "https://localhost:8080/"
        },
        "id": "KtaEEEy3uFax",
        "outputId": "9828cdd8-12ff-40ae-9e2b-e055f9caff84"
      },
      "outputs": [
        {
          "output_type": "stream",
          "name": "stderr",
          "text": [
            "[nltk_data] Downloading package punkt to /root/nltk_data...\n",
            "[nltk_data]   Unzipping tokenizers/punkt.zip.\n",
            "[nltk_data] Downloading package stopwords to /root/nltk_data...\n",
            "[nltk_data]   Unzipping corpora/stopwords.zip.\n"
          ]
        }
      ],
      "source": [
        "import pandas as pd\n",
        "\n",
        "import re\n",
        "from tqdm import tqdm\n",
        "from tqdm.notebook import tqdm\n",
        "from tqdm import notebook\n",
        "\n",
        "import nltk\n",
        "\n",
        "nltk.download('punkt')\n",
        "nltk.download('stopwords')\n",
        "import pymorphy2\n",
        "import string\n",
        "from pymorphy2 import MorphAnalyzer\n",
        "from stop_words import get_stop_words\n",
        "from nltk.corpus import stopwords\n",
        "from multiprocessing import Pool\n",
        "from pymystem3 import Mystem\n",
        "\n",
        "\n",
        "from gensim.models import *\n",
        "from gensim import corpora\n",
        "\n",
        "import pyLDAvis\n",
        "import pyLDAvis.gensim_models as gensimvis\n",
        "\n",
        "import numpy as np\n",
        "import matplotlib.pyplot as plt\n",
        "%matplotlib inline"
      ]
    },
    {
      "cell_type": "markdown",
      "metadata": {
        "id": "z6ojJO46uFa2"
      },
      "source": [
        "#### Объеденяем 2 датасета в 1 выборку и делаем предобработку текста как для дз к 3 уроку"
      ]
    },
    {
      "cell_type": "code",
      "source": [
        "!wget https://www.dropbox.com/s/fnpq3z4bcnoktiv/positive.csv\n",
        "!wget https://www.dropbox.com/s/r6u59ljhhjdg6j0/negative.csv"
      ],
      "metadata": {
        "colab": {
          "base_uri": "https://localhost:8080/"
        },
        "id": "n-0IdHhJuT9X",
        "outputId": "f4830055-9ee8-454d-eef0-f9dcc1a67816"
      },
      "execution_count": 6,
      "outputs": [
        {
          "output_type": "stream",
          "name": "stderr",
          "text": [
            "/usr/local/lib/python3.10/dist-packages/ipykernel/ipkernel.py:283: DeprecationWarning: `should_run_async` will not call `transform_cell` automatically in the future. Please pass the result to `transformed_cell` argument and any exception that happen during thetransform in `preprocessing_exc_tuple` in IPython 7.17 and above.\n",
            "  and should_run_async(code)\n"
          ]
        },
        {
          "output_type": "stream",
          "name": "stdout",
          "text": [
            "--2023-10-10 10:25:27--  https://www.dropbox.com/s/fnpq3z4bcnoktiv/positive.csv\n",
            "Resolving www.dropbox.com (www.dropbox.com)... 162.125.1.18, 2620:100:6016:18::a27d:112\n",
            "Connecting to www.dropbox.com (www.dropbox.com)|162.125.1.18|:443... connected.\n",
            "HTTP request sent, awaiting response... 302 Found\n",
            "Location: /s/raw/fnpq3z4bcnoktiv/positive.csv [following]\n",
            "--2023-10-10 10:25:27--  https://www.dropbox.com/s/raw/fnpq3z4bcnoktiv/positive.csv\n",
            "Reusing existing connection to www.dropbox.com:443.\n",
            "HTTP request sent, awaiting response... 302 Found\n",
            "Location: https://ucc7a640e34232a6b8aecf953c95.dl.dropboxusercontent.com/cd/0/inline/CFUgBbvltz7n_TThwAZp4kkMW4ZRtE3syMaDcgIdJbO6t63fHq0pg3xZPnvt7PxDRMPEPt0g_jCAJfcbm9XsEqOJygENiMecL76bp_4gulX9OmXhRqXC6Wtrx0rY_lFQuDc/file# [following]\n",
            "--2023-10-10 10:25:27--  https://ucc7a640e34232a6b8aecf953c95.dl.dropboxusercontent.com/cd/0/inline/CFUgBbvltz7n_TThwAZp4kkMW4ZRtE3syMaDcgIdJbO6t63fHq0pg3xZPnvt7PxDRMPEPt0g_jCAJfcbm9XsEqOJygENiMecL76bp_4gulX9OmXhRqXC6Wtrx0rY_lFQuDc/file\n",
            "Resolving ucc7a640e34232a6b8aecf953c95.dl.dropboxusercontent.com (ucc7a640e34232a6b8aecf953c95.dl.dropboxusercontent.com)... 162.125.1.15, 2620:100:6016:15::a27d:10f\n",
            "Connecting to ucc7a640e34232a6b8aecf953c95.dl.dropboxusercontent.com (ucc7a640e34232a6b8aecf953c95.dl.dropboxusercontent.com)|162.125.1.15|:443... connected.\n",
            "HTTP request sent, awaiting response... 200 OK\n",
            "Length: 26233379 (25M) [text/plain]\n",
            "Saving to: ‘positive.csv’\n",
            "\n",
            "positive.csv        100%[===================>]  25.02M   102MB/s    in 0.2s    \n",
            "\n",
            "2023-10-10 10:25:28 (102 MB/s) - ‘positive.csv’ saved [26233379/26233379]\n",
            "\n",
            "--2023-10-10 10:25:28--  https://www.dropbox.com/s/r6u59ljhhjdg6j0/negative.csv\n",
            "Resolving www.dropbox.com (www.dropbox.com)... 162.125.1.18, 2620:100:601c:18::a27d:612\n",
            "Connecting to www.dropbox.com (www.dropbox.com)|162.125.1.18|:443... connected.\n",
            "HTTP request sent, awaiting response... 302 Found\n",
            "Location: /s/raw/r6u59ljhhjdg6j0/negative.csv [following]\n",
            "--2023-10-10 10:25:28--  https://www.dropbox.com/s/raw/r6u59ljhhjdg6j0/negative.csv\n",
            "Reusing existing connection to www.dropbox.com:443.\n",
            "HTTP request sent, awaiting response... 302 Found\n",
            "Location: https://uc7ed6590e53bb59910c34ce55bb.dl.dropboxusercontent.com/cd/0/inline/CFWAgizlVTVATli2vndcVN2x9aeRhEuka1PezVc7yaVxgOi89iKp6ZeVpUZmUtCXI9KT-KCiNV40iTl-lhIVRj3siseo8gEQ23vTeyYjVcnOYXD_-J1ZDa7J_PYphRvC0X0/file# [following]\n",
            "--2023-10-10 10:25:28--  https://uc7ed6590e53bb59910c34ce55bb.dl.dropboxusercontent.com/cd/0/inline/CFWAgizlVTVATli2vndcVN2x9aeRhEuka1PezVc7yaVxgOi89iKp6ZeVpUZmUtCXI9KT-KCiNV40iTl-lhIVRj3siseo8gEQ23vTeyYjVcnOYXD_-J1ZDa7J_PYphRvC0X0/file\n",
            "Resolving uc7ed6590e53bb59910c34ce55bb.dl.dropboxusercontent.com (uc7ed6590e53bb59910c34ce55bb.dl.dropboxusercontent.com)... 162.125.1.15, 2620:100:6016:15::a27d:10f\n",
            "Connecting to uc7ed6590e53bb59910c34ce55bb.dl.dropboxusercontent.com (uc7ed6590e53bb59910c34ce55bb.dl.dropboxusercontent.com)|162.125.1.15|:443... connected.\n",
            "HTTP request sent, awaiting response... 200 OK\n",
            "Length: 24450101 (23M) [text/plain]\n",
            "Saving to: ‘negative.csv’\n",
            "\n",
            "negative.csv        100%[===================>]  23.32M  26.0MB/s    in 0.9s    \n",
            "\n",
            "2023-10-10 10:25:30 (26.0 MB/s) - ‘negative.csv’ saved [24450101/24450101]\n",
            "\n"
          ]
        }
      ]
    },
    {
      "cell_type": "code",
      "source": [
        "# считываем данные и заполняем общий датасет\n",
        "positive = pd.read_csv('positive.csv', sep=';', usecols=[3], names=['text'])\n",
        "negative = pd.read_csv('negative.csv', sep=';', usecols=[3], names=['text'])\n",
        "data = pd.concat([positive, negative])\n",
        "data"
      ],
      "metadata": {
        "colab": {
          "base_uri": "https://localhost:8080/",
          "height": 478
        },
        "id": "dxgmhi8FuODE",
        "outputId": "aa16a48b-7de3-4f14-b93f-5c2717a3fb6a"
      },
      "execution_count": 7,
      "outputs": [
        {
          "output_type": "stream",
          "name": "stderr",
          "text": [
            "/usr/local/lib/python3.10/dist-packages/ipykernel/ipkernel.py:283: DeprecationWarning: `should_run_async` will not call `transform_cell` automatically in the future. Please pass the result to `transformed_cell` argument and any exception that happen during thetransform in `preprocessing_exc_tuple` in IPython 7.17 and above.\n",
            "  and should_run_async(code)\n"
          ]
        },
        {
          "output_type": "execute_result",
          "data": {
            "text/plain": [
              "                                                     text\n",
              "0       @first_timee хоть я и школота, но поверь, у на...\n",
              "1       Да, все-таки он немного похож на него. Но мой ...\n",
              "2       RT @KatiaCheh: Ну ты идиотка) я испугалась за ...\n",
              "3       RT @digger2912: \"Кто то в углу сидит и погибае...\n",
              "4       @irina_dyshkant Вот что значит страшилка :D\\nН...\n",
              "...                                                   ...\n",
              "111918  Но не каждый хочет что то исправлять:( http://...\n",
              "111919  скучаю так :-( только @taaannyaaa вправляет мо...\n",
              "111920          Вот и в школу, в говно это идти уже надо(\n",
              "111921  RT @_Them__: @LisaBeroud Тауриэль, не грусти :...\n",
              "111922  Такси везет меня на работу. Раздумываю приплат...\n",
              "\n",
              "[226834 rows x 1 columns]"
            ],
            "text/html": [
              "\n",
              "  <div id=\"df-ee99233e-8d40-4dd1-9fef-423155fc3f36\" class=\"colab-df-container\">\n",
              "    <div>\n",
              "<style scoped>\n",
              "    .dataframe tbody tr th:only-of-type {\n",
              "        vertical-align: middle;\n",
              "    }\n",
              "\n",
              "    .dataframe tbody tr th {\n",
              "        vertical-align: top;\n",
              "    }\n",
              "\n",
              "    .dataframe thead th {\n",
              "        text-align: right;\n",
              "    }\n",
              "</style>\n",
              "<table border=\"1\" class=\"dataframe\">\n",
              "  <thead>\n",
              "    <tr style=\"text-align: right;\">\n",
              "      <th></th>\n",
              "      <th>text</th>\n",
              "    </tr>\n",
              "  </thead>\n",
              "  <tbody>\n",
              "    <tr>\n",
              "      <th>0</th>\n",
              "      <td>@first_timee хоть я и школота, но поверь, у на...</td>\n",
              "    </tr>\n",
              "    <tr>\n",
              "      <th>1</th>\n",
              "      <td>Да, все-таки он немного похож на него. Но мой ...</td>\n",
              "    </tr>\n",
              "    <tr>\n",
              "      <th>2</th>\n",
              "      <td>RT @KatiaCheh: Ну ты идиотка) я испугалась за ...</td>\n",
              "    </tr>\n",
              "    <tr>\n",
              "      <th>3</th>\n",
              "      <td>RT @digger2912: \"Кто то в углу сидит и погибае...</td>\n",
              "    </tr>\n",
              "    <tr>\n",
              "      <th>4</th>\n",
              "      <td>@irina_dyshkant Вот что значит страшилка :D\\nН...</td>\n",
              "    </tr>\n",
              "    <tr>\n",
              "      <th>...</th>\n",
              "      <td>...</td>\n",
              "    </tr>\n",
              "    <tr>\n",
              "      <th>111918</th>\n",
              "      <td>Но не каждый хочет что то исправлять:( http://...</td>\n",
              "    </tr>\n",
              "    <tr>\n",
              "      <th>111919</th>\n",
              "      <td>скучаю так :-( только @taaannyaaa вправляет мо...</td>\n",
              "    </tr>\n",
              "    <tr>\n",
              "      <th>111920</th>\n",
              "      <td>Вот и в школу, в говно это идти уже надо(</td>\n",
              "    </tr>\n",
              "    <tr>\n",
              "      <th>111921</th>\n",
              "      <td>RT @_Them__: @LisaBeroud Тауриэль, не грусти :...</td>\n",
              "    </tr>\n",
              "    <tr>\n",
              "      <th>111922</th>\n",
              "      <td>Такси везет меня на работу. Раздумываю приплат...</td>\n",
              "    </tr>\n",
              "  </tbody>\n",
              "</table>\n",
              "<p>226834 rows × 1 columns</p>\n",
              "</div>\n",
              "    <div class=\"colab-df-buttons\">\n",
              "\n",
              "  <div class=\"colab-df-container\">\n",
              "    <button class=\"colab-df-convert\" onclick=\"convertToInteractive('df-ee99233e-8d40-4dd1-9fef-423155fc3f36')\"\n",
              "            title=\"Convert this dataframe to an interactive table.\"\n",
              "            style=\"display:none;\">\n",
              "\n",
              "  <svg xmlns=\"http://www.w3.org/2000/svg\" height=\"24px\" viewBox=\"0 -960 960 960\">\n",
              "    <path d=\"M120-120v-720h720v720H120Zm60-500h600v-160H180v160Zm220 220h160v-160H400v160Zm0 220h160v-160H400v160ZM180-400h160v-160H180v160Zm440 0h160v-160H620v160ZM180-180h160v-160H180v160Zm440 0h160v-160H620v160Z\"/>\n",
              "  </svg>\n",
              "    </button>\n",
              "\n",
              "  <style>\n",
              "    .colab-df-container {\n",
              "      display:flex;\n",
              "      gap: 12px;\n",
              "    }\n",
              "\n",
              "    .colab-df-convert {\n",
              "      background-color: #E8F0FE;\n",
              "      border: none;\n",
              "      border-radius: 50%;\n",
              "      cursor: pointer;\n",
              "      display: none;\n",
              "      fill: #1967D2;\n",
              "      height: 32px;\n",
              "      padding: 0 0 0 0;\n",
              "      width: 32px;\n",
              "    }\n",
              "\n",
              "    .colab-df-convert:hover {\n",
              "      background-color: #E2EBFA;\n",
              "      box-shadow: 0px 1px 2px rgba(60, 64, 67, 0.3), 0px 1px 3px 1px rgba(60, 64, 67, 0.15);\n",
              "      fill: #174EA6;\n",
              "    }\n",
              "\n",
              "    .colab-df-buttons div {\n",
              "      margin-bottom: 4px;\n",
              "    }\n",
              "\n",
              "    [theme=dark] .colab-df-convert {\n",
              "      background-color: #3B4455;\n",
              "      fill: #D2E3FC;\n",
              "    }\n",
              "\n",
              "    [theme=dark] .colab-df-convert:hover {\n",
              "      background-color: #434B5C;\n",
              "      box-shadow: 0px 1px 3px 1px rgba(0, 0, 0, 0.15);\n",
              "      filter: drop-shadow(0px 1px 2px rgba(0, 0, 0, 0.3));\n",
              "      fill: #FFFFFF;\n",
              "    }\n",
              "  </style>\n",
              "\n",
              "    <script>\n",
              "      const buttonEl =\n",
              "        document.querySelector('#df-ee99233e-8d40-4dd1-9fef-423155fc3f36 button.colab-df-convert');\n",
              "      buttonEl.style.display =\n",
              "        google.colab.kernel.accessAllowed ? 'block' : 'none';\n",
              "\n",
              "      async function convertToInteractive(key) {\n",
              "        const element = document.querySelector('#df-ee99233e-8d40-4dd1-9fef-423155fc3f36');\n",
              "        const dataTable =\n",
              "          await google.colab.kernel.invokeFunction('convertToInteractive',\n",
              "                                                    [key], {});\n",
              "        if (!dataTable) return;\n",
              "\n",
              "        const docLinkHtml = 'Like what you see? Visit the ' +\n",
              "          '<a target=\"_blank\" href=https://colab.research.google.com/notebooks/data_table.ipynb>data table notebook</a>'\n",
              "          + ' to learn more about interactive tables.';\n",
              "        element.innerHTML = '';\n",
              "        dataTable['output_type'] = 'display_data';\n",
              "        await google.colab.output.renderOutput(dataTable, element);\n",
              "        const docLink = document.createElement('div');\n",
              "        docLink.innerHTML = docLinkHtml;\n",
              "        element.appendChild(docLink);\n",
              "      }\n",
              "    </script>\n",
              "  </div>\n",
              "\n",
              "\n",
              "<div id=\"df-e75f8456-93ca-42de-accb-4190f834417f\">\n",
              "  <button class=\"colab-df-quickchart\" onclick=\"quickchart('df-e75f8456-93ca-42de-accb-4190f834417f')\"\n",
              "            title=\"Suggest charts.\"\n",
              "            style=\"display:none;\">\n",
              "\n",
              "<svg xmlns=\"http://www.w3.org/2000/svg\" height=\"24px\"viewBox=\"0 0 24 24\"\n",
              "     width=\"24px\">\n",
              "    <g>\n",
              "        <path d=\"M19 3H5c-1.1 0-2 .9-2 2v14c0 1.1.9 2 2 2h14c1.1 0 2-.9 2-2V5c0-1.1-.9-2-2-2zM9 17H7v-7h2v7zm4 0h-2V7h2v10zm4 0h-2v-4h2v4z\"/>\n",
              "    </g>\n",
              "</svg>\n",
              "  </button>\n",
              "\n",
              "<style>\n",
              "  .colab-df-quickchart {\n",
              "      --bg-color: #E8F0FE;\n",
              "      --fill-color: #1967D2;\n",
              "      --hover-bg-color: #E2EBFA;\n",
              "      --hover-fill-color: #174EA6;\n",
              "      --disabled-fill-color: #AAA;\n",
              "      --disabled-bg-color: #DDD;\n",
              "  }\n",
              "\n",
              "  [theme=dark] .colab-df-quickchart {\n",
              "      --bg-color: #3B4455;\n",
              "      --fill-color: #D2E3FC;\n",
              "      --hover-bg-color: #434B5C;\n",
              "      --hover-fill-color: #FFFFFF;\n",
              "      --disabled-bg-color: #3B4455;\n",
              "      --disabled-fill-color: #666;\n",
              "  }\n",
              "\n",
              "  .colab-df-quickchart {\n",
              "    background-color: var(--bg-color);\n",
              "    border: none;\n",
              "    border-radius: 50%;\n",
              "    cursor: pointer;\n",
              "    display: none;\n",
              "    fill: var(--fill-color);\n",
              "    height: 32px;\n",
              "    padding: 0;\n",
              "    width: 32px;\n",
              "  }\n",
              "\n",
              "  .colab-df-quickchart:hover {\n",
              "    background-color: var(--hover-bg-color);\n",
              "    box-shadow: 0 1px 2px rgba(60, 64, 67, 0.3), 0 1px 3px 1px rgba(60, 64, 67, 0.15);\n",
              "    fill: var(--button-hover-fill-color);\n",
              "  }\n",
              "\n",
              "  .colab-df-quickchart-complete:disabled,\n",
              "  .colab-df-quickchart-complete:disabled:hover {\n",
              "    background-color: var(--disabled-bg-color);\n",
              "    fill: var(--disabled-fill-color);\n",
              "    box-shadow: none;\n",
              "  }\n",
              "\n",
              "  .colab-df-spinner {\n",
              "    border: 2px solid var(--fill-color);\n",
              "    border-color: transparent;\n",
              "    border-bottom-color: var(--fill-color);\n",
              "    animation:\n",
              "      spin 1s steps(1) infinite;\n",
              "  }\n",
              "\n",
              "  @keyframes spin {\n",
              "    0% {\n",
              "      border-color: transparent;\n",
              "      border-bottom-color: var(--fill-color);\n",
              "      border-left-color: var(--fill-color);\n",
              "    }\n",
              "    20% {\n",
              "      border-color: transparent;\n",
              "      border-left-color: var(--fill-color);\n",
              "      border-top-color: var(--fill-color);\n",
              "    }\n",
              "    30% {\n",
              "      border-color: transparent;\n",
              "      border-left-color: var(--fill-color);\n",
              "      border-top-color: var(--fill-color);\n",
              "      border-right-color: var(--fill-color);\n",
              "    }\n",
              "    40% {\n",
              "      border-color: transparent;\n",
              "      border-right-color: var(--fill-color);\n",
              "      border-top-color: var(--fill-color);\n",
              "    }\n",
              "    60% {\n",
              "      border-color: transparent;\n",
              "      border-right-color: var(--fill-color);\n",
              "    }\n",
              "    80% {\n",
              "      border-color: transparent;\n",
              "      border-right-color: var(--fill-color);\n",
              "      border-bottom-color: var(--fill-color);\n",
              "    }\n",
              "    90% {\n",
              "      border-color: transparent;\n",
              "      border-bottom-color: var(--fill-color);\n",
              "    }\n",
              "  }\n",
              "</style>\n",
              "\n",
              "  <script>\n",
              "    async function quickchart(key) {\n",
              "      const quickchartButtonEl =\n",
              "        document.querySelector('#' + key + ' button');\n",
              "      quickchartButtonEl.disabled = true;  // To prevent multiple clicks.\n",
              "      quickchartButtonEl.classList.add('colab-df-spinner');\n",
              "      try {\n",
              "        const charts = await google.colab.kernel.invokeFunction(\n",
              "            'suggestCharts', [key], {});\n",
              "      } catch (error) {\n",
              "        console.error('Error during call to suggestCharts:', error);\n",
              "      }\n",
              "      quickchartButtonEl.classList.remove('colab-df-spinner');\n",
              "      quickchartButtonEl.classList.add('colab-df-quickchart-complete');\n",
              "    }\n",
              "    (() => {\n",
              "      let quickchartButtonEl =\n",
              "        document.querySelector('#df-e75f8456-93ca-42de-accb-4190f834417f button');\n",
              "      quickchartButtonEl.style.display =\n",
              "        google.colab.kernel.accessAllowed ? 'block' : 'none';\n",
              "    })();\n",
              "  </script>\n",
              "</div>\n",
              "    </div>\n",
              "  </div>\n"
            ]
          },
          "metadata": {},
          "execution_count": 7
        }
      ]
    },
    {
      "cell_type": "markdown",
      "metadata": {
        "id": "7SrL0R8duFa4"
      },
      "source": [
        "#### Предобработка текста"
      ]
    },
    {
      "cell_type": "code",
      "execution_count": 8,
      "metadata": {
        "colab": {
          "base_uri": "https://localhost:8080/",
          "height": 330
        },
        "id": "lZy9hrYWuFa5",
        "outputId": "6e69c10f-e3ac-48fe-cef2-a087f6b9028c"
      },
      "outputs": [
        {
          "output_type": "stream",
          "name": "stderr",
          "text": [
            "/usr/local/lib/python3.10/dist-packages/ipykernel/ipkernel.py:283: DeprecationWarning: `should_run_async` will not call `transform_cell` automatically in the future. Please pass the result to `transformed_cell` argument and any exception that happen during thetransform in `preprocessing_exc_tuple` in IPython 7.17 and above.\n",
            "  and should_run_async(code)\n",
            "<>:4: DeprecationWarning: invalid escape sequence '\\w'\n",
            "<>:4: DeprecationWarning: invalid escape sequence '\\w'\n",
            "<ipython-input-8-bcdd89e40b2d>:4: DeprecationWarning: invalid escape sequence '\\w'\n",
            "  data.text = np.vectorize(user_delete_re_sub)('@[\\w]*', '', data.text)\n"
          ]
        },
        {
          "output_type": "execute_result",
          "data": {
            "text/plain": [
              "                                                text\n",
              "0   хоть я и школота, но поверь, у нас то же само...\n",
              "1  Да, е-таки он немного похож на него. Но мой ма...\n",
              "2        RT : Ну ты идиотка) я испугалась за тебя!!!\n",
              "3  RT : \"Кто то в углу сидит и погибает от голода...\n",
              "4   Вот что значит страшилка :D\\nНо блин,посмотре..."
            ],
            "text/html": [
              "\n",
              "  <div id=\"df-4ca06672-4a99-4d16-a600-34383ce96d27\" class=\"colab-df-container\">\n",
              "    <div>\n",
              "<style scoped>\n",
              "    .dataframe tbody tr th:only-of-type {\n",
              "        vertical-align: middle;\n",
              "    }\n",
              "\n",
              "    .dataframe tbody tr th {\n",
              "        vertical-align: top;\n",
              "    }\n",
              "\n",
              "    .dataframe thead th {\n",
              "        text-align: right;\n",
              "    }\n",
              "</style>\n",
              "<table border=\"1\" class=\"dataframe\">\n",
              "  <thead>\n",
              "    <tr style=\"text-align: right;\">\n",
              "      <th></th>\n",
              "      <th>text</th>\n",
              "    </tr>\n",
              "  </thead>\n",
              "  <tbody>\n",
              "    <tr>\n",
              "      <th>0</th>\n",
              "      <td>хоть я и школота, но поверь, у нас то же само...</td>\n",
              "    </tr>\n",
              "    <tr>\n",
              "      <th>1</th>\n",
              "      <td>Да, е-таки он немного похож на него. Но мой ма...</td>\n",
              "    </tr>\n",
              "    <tr>\n",
              "      <th>2</th>\n",
              "      <td>RT : Ну ты идиотка) я испугалась за тебя!!!</td>\n",
              "    </tr>\n",
              "    <tr>\n",
              "      <th>3</th>\n",
              "      <td>RT : \"Кто то в углу сидит и погибает от голода...</td>\n",
              "    </tr>\n",
              "    <tr>\n",
              "      <th>4</th>\n",
              "      <td>Вот что значит страшилка :D\\nНо блин,посмотре...</td>\n",
              "    </tr>\n",
              "  </tbody>\n",
              "</table>\n",
              "</div>\n",
              "    <div class=\"colab-df-buttons\">\n",
              "\n",
              "  <div class=\"colab-df-container\">\n",
              "    <button class=\"colab-df-convert\" onclick=\"convertToInteractive('df-4ca06672-4a99-4d16-a600-34383ce96d27')\"\n",
              "            title=\"Convert this dataframe to an interactive table.\"\n",
              "            style=\"display:none;\">\n",
              "\n",
              "  <svg xmlns=\"http://www.w3.org/2000/svg\" height=\"24px\" viewBox=\"0 -960 960 960\">\n",
              "    <path d=\"M120-120v-720h720v720H120Zm60-500h600v-160H180v160Zm220 220h160v-160H400v160Zm0 220h160v-160H400v160ZM180-400h160v-160H180v160Zm440 0h160v-160H620v160ZM180-180h160v-160H180v160Zm440 0h160v-160H620v160Z\"/>\n",
              "  </svg>\n",
              "    </button>\n",
              "\n",
              "  <style>\n",
              "    .colab-df-container {\n",
              "      display:flex;\n",
              "      gap: 12px;\n",
              "    }\n",
              "\n",
              "    .colab-df-convert {\n",
              "      background-color: #E8F0FE;\n",
              "      border: none;\n",
              "      border-radius: 50%;\n",
              "      cursor: pointer;\n",
              "      display: none;\n",
              "      fill: #1967D2;\n",
              "      height: 32px;\n",
              "      padding: 0 0 0 0;\n",
              "      width: 32px;\n",
              "    }\n",
              "\n",
              "    .colab-df-convert:hover {\n",
              "      background-color: #E2EBFA;\n",
              "      box-shadow: 0px 1px 2px rgba(60, 64, 67, 0.3), 0px 1px 3px 1px rgba(60, 64, 67, 0.15);\n",
              "      fill: #174EA6;\n",
              "    }\n",
              "\n",
              "    .colab-df-buttons div {\n",
              "      margin-bottom: 4px;\n",
              "    }\n",
              "\n",
              "    [theme=dark] .colab-df-convert {\n",
              "      background-color: #3B4455;\n",
              "      fill: #D2E3FC;\n",
              "    }\n",
              "\n",
              "    [theme=dark] .colab-df-convert:hover {\n",
              "      background-color: #434B5C;\n",
              "      box-shadow: 0px 1px 3px 1px rgba(0, 0, 0, 0.15);\n",
              "      filter: drop-shadow(0px 1px 2px rgba(0, 0, 0, 0.3));\n",
              "      fill: #FFFFFF;\n",
              "    }\n",
              "  </style>\n",
              "\n",
              "    <script>\n",
              "      const buttonEl =\n",
              "        document.querySelector('#df-4ca06672-4a99-4d16-a600-34383ce96d27 button.colab-df-convert');\n",
              "      buttonEl.style.display =\n",
              "        google.colab.kernel.accessAllowed ? 'block' : 'none';\n",
              "\n",
              "      async function convertToInteractive(key) {\n",
              "        const element = document.querySelector('#df-4ca06672-4a99-4d16-a600-34383ce96d27');\n",
              "        const dataTable =\n",
              "          await google.colab.kernel.invokeFunction('convertToInteractive',\n",
              "                                                    [key], {});\n",
              "        if (!dataTable) return;\n",
              "\n",
              "        const docLinkHtml = 'Like what you see? Visit the ' +\n",
              "          '<a target=\"_blank\" href=https://colab.research.google.com/notebooks/data_table.ipynb>data table notebook</a>'\n",
              "          + ' to learn more about interactive tables.';\n",
              "        element.innerHTML = '';\n",
              "        dataTable['output_type'] = 'display_data';\n",
              "        await google.colab.output.renderOutput(dataTable, element);\n",
              "        const docLink = document.createElement('div');\n",
              "        docLink.innerHTML = docLinkHtml;\n",
              "        element.appendChild(docLink);\n",
              "      }\n",
              "    </script>\n",
              "  </div>\n",
              "\n",
              "\n",
              "<div id=\"df-a89d6d61-9d96-4f47-804f-1b06e152fd99\">\n",
              "  <button class=\"colab-df-quickchart\" onclick=\"quickchart('df-a89d6d61-9d96-4f47-804f-1b06e152fd99')\"\n",
              "            title=\"Suggest charts.\"\n",
              "            style=\"display:none;\">\n",
              "\n",
              "<svg xmlns=\"http://www.w3.org/2000/svg\" height=\"24px\"viewBox=\"0 0 24 24\"\n",
              "     width=\"24px\">\n",
              "    <g>\n",
              "        <path d=\"M19 3H5c-1.1 0-2 .9-2 2v14c0 1.1.9 2 2 2h14c1.1 0 2-.9 2-2V5c0-1.1-.9-2-2-2zM9 17H7v-7h2v7zm4 0h-2V7h2v10zm4 0h-2v-4h2v4z\"/>\n",
              "    </g>\n",
              "</svg>\n",
              "  </button>\n",
              "\n",
              "<style>\n",
              "  .colab-df-quickchart {\n",
              "      --bg-color: #E8F0FE;\n",
              "      --fill-color: #1967D2;\n",
              "      --hover-bg-color: #E2EBFA;\n",
              "      --hover-fill-color: #174EA6;\n",
              "      --disabled-fill-color: #AAA;\n",
              "      --disabled-bg-color: #DDD;\n",
              "  }\n",
              "\n",
              "  [theme=dark] .colab-df-quickchart {\n",
              "      --bg-color: #3B4455;\n",
              "      --fill-color: #D2E3FC;\n",
              "      --hover-bg-color: #434B5C;\n",
              "      --hover-fill-color: #FFFFFF;\n",
              "      --disabled-bg-color: #3B4455;\n",
              "      --disabled-fill-color: #666;\n",
              "  }\n",
              "\n",
              "  .colab-df-quickchart {\n",
              "    background-color: var(--bg-color);\n",
              "    border: none;\n",
              "    border-radius: 50%;\n",
              "    cursor: pointer;\n",
              "    display: none;\n",
              "    fill: var(--fill-color);\n",
              "    height: 32px;\n",
              "    padding: 0;\n",
              "    width: 32px;\n",
              "  }\n",
              "\n",
              "  .colab-df-quickchart:hover {\n",
              "    background-color: var(--hover-bg-color);\n",
              "    box-shadow: 0 1px 2px rgba(60, 64, 67, 0.3), 0 1px 3px 1px rgba(60, 64, 67, 0.15);\n",
              "    fill: var(--button-hover-fill-color);\n",
              "  }\n",
              "\n",
              "  .colab-df-quickchart-complete:disabled,\n",
              "  .colab-df-quickchart-complete:disabled:hover {\n",
              "    background-color: var(--disabled-bg-color);\n",
              "    fill: var(--disabled-fill-color);\n",
              "    box-shadow: none;\n",
              "  }\n",
              "\n",
              "  .colab-df-spinner {\n",
              "    border: 2px solid var(--fill-color);\n",
              "    border-color: transparent;\n",
              "    border-bottom-color: var(--fill-color);\n",
              "    animation:\n",
              "      spin 1s steps(1) infinite;\n",
              "  }\n",
              "\n",
              "  @keyframes spin {\n",
              "    0% {\n",
              "      border-color: transparent;\n",
              "      border-bottom-color: var(--fill-color);\n",
              "      border-left-color: var(--fill-color);\n",
              "    }\n",
              "    20% {\n",
              "      border-color: transparent;\n",
              "      border-left-color: var(--fill-color);\n",
              "      border-top-color: var(--fill-color);\n",
              "    }\n",
              "    30% {\n",
              "      border-color: transparent;\n",
              "      border-left-color: var(--fill-color);\n",
              "      border-top-color: var(--fill-color);\n",
              "      border-right-color: var(--fill-color);\n",
              "    }\n",
              "    40% {\n",
              "      border-color: transparent;\n",
              "      border-right-color: var(--fill-color);\n",
              "      border-top-color: var(--fill-color);\n",
              "    }\n",
              "    60% {\n",
              "      border-color: transparent;\n",
              "      border-right-color: var(--fill-color);\n",
              "    }\n",
              "    80% {\n",
              "      border-color: transparent;\n",
              "      border-right-color: var(--fill-color);\n",
              "      border-bottom-color: var(--fill-color);\n",
              "    }\n",
              "    90% {\n",
              "      border-color: transparent;\n",
              "      border-bottom-color: var(--fill-color);\n",
              "    }\n",
              "  }\n",
              "</style>\n",
              "\n",
              "  <script>\n",
              "    async function quickchart(key) {\n",
              "      const quickchartButtonEl =\n",
              "        document.querySelector('#' + key + ' button');\n",
              "      quickchartButtonEl.disabled = true;  // To prevent multiple clicks.\n",
              "      quickchartButtonEl.classList.add('colab-df-spinner');\n",
              "      try {\n",
              "        const charts = await google.colab.kernel.invokeFunction(\n",
              "            'suggestCharts', [key], {});\n",
              "      } catch (error) {\n",
              "        console.error('Error during call to suggestCharts:', error);\n",
              "      }\n",
              "      quickchartButtonEl.classList.remove('colab-df-spinner');\n",
              "      quickchartButtonEl.classList.add('colab-df-quickchart-complete');\n",
              "    }\n",
              "    (() => {\n",
              "      let quickchartButtonEl =\n",
              "        document.querySelector('#df-a89d6d61-9d96-4f47-804f-1b06e152fd99 button');\n",
              "      quickchartButtonEl.style.display =\n",
              "        google.colab.kernel.accessAllowed ? 'block' : 'none';\n",
              "    })();\n",
              "  </script>\n",
              "</div>\n",
              "    </div>\n",
              "  </div>\n"
            ]
          },
          "metadata": {},
          "execution_count": 8
        }
      ],
      "source": [
        "def user_delete_re_sub (pattern, repl, string):\n",
        "    return re.sub(pattern, repl, string)\n",
        "\n",
        "data.text = np.vectorize(user_delete_re_sub)('@[\\w]*', '', data.text)\n",
        "data.text = np.vectorize(user_delete_re_sub)('http*', '', data.text)\n",
        "data.text = np.vectorize(user_delete_re_sub)('это*', '', data.text)\n",
        "data.text = np.vectorize(user_delete_re_sub)('всё*', '', data.text)\n",
        "data.text = np.vectorize(user_delete_re_sub)('ещё*', '', data.text)\n",
        "data.text = np.vectorize(user_delete_re_sub)('знать*', '', data.text)\n",
        "data.text = np.vectorize(user_delete_re_sub)('посмотреть*', '', data.text)\n",
        "data.text = np.vectorize(user_delete_re_sub)('сой*', '', data.text)\n",
        "\n",
        "data.head(5)"
      ]
    },
    {
      "cell_type": "code",
      "execution_count": 9,
      "metadata": {
        "colab": {
          "base_uri": "https://localhost:8080/"
        },
        "id": "nkZ-XR8MuFa7",
        "outputId": "2904180f-0edf-4eaf-c3a3-66e2c0a1b9bb"
      },
      "outputs": [
        {
          "output_type": "stream",
          "name": "stderr",
          "text": [
            "/usr/local/lib/python3.10/dist-packages/ipykernel/ipkernel.py:283: DeprecationWarning: `should_run_async` will not call `transform_cell` automatically in the future. Please pass the result to `transformed_cell` argument and any exception that happen during thetransform in `preprocessing_exc_tuple` in IPython 7.17 and above.\n",
            "  and should_run_async(code)\n",
            "<>:2: DeprecationWarning: invalid escape sequence '\\w'\n",
            "<>:2: DeprecationWarning: invalid escape sequence '\\w'\n",
            "<ipython-input-9-d59fa9b0441f>:2: DeprecationWarning: invalid escape sequence '\\w'\n",
            "  words_regex = re.compile('\\w+')\n",
            "/usr/local/lib/python3.10/dist-packages/pymorphy2/units/base.py:70: DeprecationWarning: inspect.getargspec() is deprecated since Python 3.0, use inspect.signature() or inspect.getfullargspec()\n",
            "  args, varargs, kw, default = inspect.getargspec(cls.__init__)\n",
            "/usr/local/lib/python3.10/dist-packages/pymorphy2/units/base.py:70: DeprecationWarning: inspect.getargspec() is deprecated since Python 3.0, use inspect.signature() or inspect.getfullargspec()\n",
            "  args, varargs, kw, default = inspect.getargspec(cls.__init__)\n",
            "/usr/local/lib/python3.10/dist-packages/pymorphy2/units/base.py:70: DeprecationWarning: inspect.getargspec() is deprecated since Python 3.0, use inspect.signature() or inspect.getfullargspec()\n",
            "  args, varargs, kw, default = inspect.getargspec(cls.__init__)\n",
            "/usr/local/lib/python3.10/dist-packages/pymorphy2/units/base.py:70: DeprecationWarning: inspect.getargspec() is deprecated since Python 3.0, use inspect.signature() or inspect.getfullargspec()\n",
            "  args, varargs, kw, default = inspect.getargspec(cls.__init__)\n",
            "/usr/local/lib/python3.10/dist-packages/pymorphy2/units/base.py:70: DeprecationWarning: inspect.getargspec() is deprecated since Python 3.0, use inspect.signature() or inspect.getfullargspec()\n",
            "  args, varargs, kw, default = inspect.getargspec(cls.__init__)\n",
            "/usr/local/lib/python3.10/dist-packages/pymorphy2/units/base.py:70: DeprecationWarning: inspect.getargspec() is deprecated since Python 3.0, use inspect.signature() or inspect.getfullargspec()\n",
            "  args, varargs, kw, default = inspect.getargspec(cls.__init__)\n",
            "/usr/local/lib/python3.10/dist-packages/pymorphy2/units/base.py:70: DeprecationWarning: inspect.getargspec() is deprecated since Python 3.0, use inspect.signature() or inspect.getfullargspec()\n",
            "  args, varargs, kw, default = inspect.getargspec(cls.__init__)\n",
            "/usr/local/lib/python3.10/dist-packages/pymorphy2/units/base.py:70: DeprecationWarning: inspect.getargspec() is deprecated since Python 3.0, use inspect.signature() or inspect.getfullargspec()\n",
            "  args, varargs, kw, default = inspect.getargspec(cls.__init__)\n",
            "/usr/local/lib/python3.10/dist-packages/pymorphy2/units/base.py:70: DeprecationWarning: inspect.getargspec() is deprecated since Python 3.0, use inspect.signature() or inspect.getfullargspec()\n",
            "  args, varargs, kw, default = inspect.getargspec(cls.__init__)\n",
            "/usr/local/lib/python3.10/dist-packages/pymorphy2/units/base.py:70: DeprecationWarning: inspect.getargspec() is deprecated since Python 3.0, use inspect.signature() or inspect.getfullargspec()\n",
            "  args, varargs, kw, default = inspect.getargspec(cls.__init__)\n",
            "/usr/local/lib/python3.10/dist-packages/pymorphy2/units/base.py:70: DeprecationWarning: inspect.getargspec() is deprecated since Python 3.0, use inspect.signature() or inspect.getfullargspec()\n",
            "  args, varargs, kw, default = inspect.getargspec(cls.__init__)\n",
            "/usr/local/lib/python3.10/dist-packages/pymorphy2/units/base.py:70: DeprecationWarning: inspect.getargspec() is deprecated since Python 3.0, use inspect.signature() or inspect.getfullargspec()\n",
            "  args, varargs, kw, default = inspect.getargspec(cls.__init__)\n"
          ]
        }
      ],
      "source": [
        "morph = pymorphy2.MorphAnalyzer()\n",
        "words_regex = re.compile('\\w+')\n",
        "\n",
        "def find_words(text, regex = words_regex):\n",
        "    tokens =  regex.findall(text.lower())\n",
        "    return [w for w in tokens if w.isalpha() and len(w) >= 3]\n",
        "\n",
        "\n",
        "stopwords_list = stopwords.words('russian')\n",
        "\n",
        "def lemmatize(words, lemmer = morph, stopwords = stopwords_list):\n",
        "    lemmas = [lemmer.parse(w)[0].normal_form for w in words]\n",
        "    return [w for w in lemmas if not w in stopwords\n",
        "            and w.isalpha()]\n",
        "\n",
        "def preprocess(text):\n",
        "    return (lemmatize(find_words(text)))"
      ]
    },
    {
      "cell_type": "code",
      "execution_count": 10,
      "metadata": {
        "colab": {
          "base_uri": "https://localhost:8080/",
          "height": 90
        },
        "id": "DElvpJOruFa8",
        "outputId": "32d1f307-7be9-4463-ea2e-a576ad78049e"
      },
      "outputs": [
        {
          "output_type": "stream",
          "name": "stderr",
          "text": [
            "/usr/local/lib/python3.10/dist-packages/ipykernel/ipkernel.py:283: DeprecationWarning: `should_run_async` will not call `transform_cell` automatically in the future. Please pass the result to `transformed_cell` argument and any exception that happen during thetransform in `preprocessing_exc_tuple` in IPython 7.17 and above.\n",
            "  and should_run_async(code)\n"
          ]
        },
        {
          "output_type": "execute_result",
          "data": {
            "text/plain": [
              "' нет...предупреждает, что их власть надолго...но думаю опять переоценил он свои возможности..алкоголь не даст дожить до 70))'"
            ],
            "application/vnd.google.colaboratory.intrinsic+json": {
              "type": "string"
            }
          },
          "metadata": {},
          "execution_count": 10
        }
      ],
      "source": [
        "data.text.iloc[777]"
      ]
    },
    {
      "cell_type": "code",
      "execution_count": 11,
      "metadata": {
        "colab": {
          "base_uri": "https://localhost:8080/"
        },
        "id": "ieA1WmJeuFa-",
        "outputId": "c3447772-0dd9-4786-a620-bd830995ee86"
      },
      "outputs": [
        {
          "output_type": "stream",
          "name": "stdout",
          "text": [
            "['предупреждать', 'власть', 'надолго', 'думать', 'переоценить', 'свой', 'возможность', 'алкоголь', 'дать', 'дожить']\n"
          ]
        },
        {
          "output_type": "stream",
          "name": "stderr",
          "text": [
            "/usr/local/lib/python3.10/dist-packages/ipykernel/ipkernel.py:283: DeprecationWarning: `should_run_async` will not call `transform_cell` automatically in the future. Please pass the result to `transformed_cell` argument and any exception that happen during thetransform in `preprocessing_exc_tuple` in IPython 7.17 and above.\n",
            "  and should_run_async(code)\n"
          ]
        }
      ],
      "source": [
        "print(preprocess(data.text.iloc[777]))"
      ]
    },
    {
      "cell_type": "code",
      "execution_count": 12,
      "metadata": {
        "colab": {
          "base_uri": "https://localhost:8080/"
        },
        "id": "EuyNzWiRuFa_",
        "outputId": "507c55e5-b71d-4c37-d8d9-a4a75045b2a7"
      },
      "outputs": [
        {
          "output_type": "stream",
          "name": "stderr",
          "text": [
            "/usr/local/lib/python3.10/dist-packages/ipykernel/ipkernel.py:283: DeprecationWarning: `should_run_async` will not call `transform_cell` automatically in the future. Please pass the result to `transformed_cell` argument and any exception that happen during thetransform in `preprocessing_exc_tuple` in IPython 7.17 and above.\n",
            "  and should_run_async(code)\n"
          ]
        }
      ],
      "source": [
        "# оставляем случайные 10000 текстов, чтобы ускорить вычисления\n",
        "data = data.sample(10000)"
      ]
    },
    {
      "cell_type": "code",
      "execution_count": 13,
      "metadata": {
        "colab": {
          "base_uri": "https://localhost:8080/",
          "height": 104,
          "referenced_widgets": [
            "171336c9a332415f8312560ef470d63d",
            "264b09e688d2435eb5cea89630849f3b",
            "23acf850a1064d34948e71662bf8780c",
            "dd3e6f2d233947c5b3687cd9f4cc8b77",
            "8790fd6fde7d4d5e997de74388d5288d",
            "7d1800b5ec47470a92fdf0e93bfe7ff6",
            "7be025b289064c5e80e5fde6852c06a9",
            "340fb6e5a30f40cdb2962159bf263e7b",
            "6303c6a2edeb461e90d5a6b36e47e65c",
            "c1576c542561434fa83bed4a35e0dbaa",
            "e8fa1f27a07d49038754ab71bd21d837"
          ]
        },
        "id": "EIsKKbBxuFbA",
        "outputId": "d1be8634-d5c8-4112-874a-b90caee33c00"
      },
      "outputs": [
        {
          "output_type": "stream",
          "name": "stderr",
          "text": [
            "/usr/local/lib/python3.10/dist-packages/ipykernel/ipkernel.py:283: DeprecationWarning: `should_run_async` will not call `transform_cell` automatically in the future. Please pass the result to `transformed_cell` argument and any exception that happen during thetransform in `preprocessing_exc_tuple` in IPython 7.17 and above.\n",
            "  and should_run_async(code)\n"
          ]
        },
        {
          "output_type": "display_data",
          "data": {
            "text/plain": [
              "  0%|          | 0/10000 [00:00<?, ?it/s]"
            ],
            "application/vnd.jupyter.widget-view+json": {
              "version_major": 2,
              "version_minor": 0,
              "model_id": "171336c9a332415f8312560ef470d63d"
            }
          },
          "metadata": {}
        }
      ],
      "source": [
        "preprocessed_text = list(tqdm(map(preprocess, data['text']), total=len(data)))"
      ]
    },
    {
      "cell_type": "code",
      "execution_count": 14,
      "metadata": {
        "colab": {
          "base_uri": "https://localhost:8080/",
          "height": 198
        },
        "id": "CreUZedzuFbB",
        "outputId": "3fa52615-81bb-4079-e49a-6cd8589b8171"
      },
      "outputs": [
        {
          "output_type": "stream",
          "name": "stderr",
          "text": [
            "/usr/local/lib/python3.10/dist-packages/ipykernel/ipkernel.py:283: DeprecationWarning: `should_run_async` will not call `transform_cell` automatically in the future. Please pass the result to `transformed_cell` argument and any exception that happen during thetransform in `preprocessing_exc_tuple` in IPython 7.17 and above.\n",
            "  and should_run_async(code)\n"
          ]
        },
        {
          "output_type": "execute_result",
          "data": {
            "text/plain": [
              "                                                    text\n",
              "97903                           [загс, ужасный, очередь]\n",
              "21161       [очень, правдивый, хотеть, порвать, сегодня]\n",
              "78094  [курица, гриль, отобрать, дурацкий, привычка, ..."
            ],
            "text/html": [
              "\n",
              "  <div id=\"df-f67ad370-6f87-4ce9-a09a-80b8942ee85e\" class=\"colab-df-container\">\n",
              "    <div>\n",
              "<style scoped>\n",
              "    .dataframe tbody tr th:only-of-type {\n",
              "        vertical-align: middle;\n",
              "    }\n",
              "\n",
              "    .dataframe tbody tr th {\n",
              "        vertical-align: top;\n",
              "    }\n",
              "\n",
              "    .dataframe thead th {\n",
              "        text-align: right;\n",
              "    }\n",
              "</style>\n",
              "<table border=\"1\" class=\"dataframe\">\n",
              "  <thead>\n",
              "    <tr style=\"text-align: right;\">\n",
              "      <th></th>\n",
              "      <th>text</th>\n",
              "    </tr>\n",
              "  </thead>\n",
              "  <tbody>\n",
              "    <tr>\n",
              "      <th>97903</th>\n",
              "      <td>[загс, ужасный, очередь]</td>\n",
              "    </tr>\n",
              "    <tr>\n",
              "      <th>21161</th>\n",
              "      <td>[очень, правдивый, хотеть, порвать, сегодня]</td>\n",
              "    </tr>\n",
              "    <tr>\n",
              "      <th>78094</th>\n",
              "      <td>[курица, гриль, отобрать, дурацкий, привычка, ...</td>\n",
              "    </tr>\n",
              "  </tbody>\n",
              "</table>\n",
              "</div>\n",
              "    <div class=\"colab-df-buttons\">\n",
              "\n",
              "  <div class=\"colab-df-container\">\n",
              "    <button class=\"colab-df-convert\" onclick=\"convertToInteractive('df-f67ad370-6f87-4ce9-a09a-80b8942ee85e')\"\n",
              "            title=\"Convert this dataframe to an interactive table.\"\n",
              "            style=\"display:none;\">\n",
              "\n",
              "  <svg xmlns=\"http://www.w3.org/2000/svg\" height=\"24px\" viewBox=\"0 -960 960 960\">\n",
              "    <path d=\"M120-120v-720h720v720H120Zm60-500h600v-160H180v160Zm220 220h160v-160H400v160Zm0 220h160v-160H400v160ZM180-400h160v-160H180v160Zm440 0h160v-160H620v160ZM180-180h160v-160H180v160Zm440 0h160v-160H620v160Z\"/>\n",
              "  </svg>\n",
              "    </button>\n",
              "\n",
              "  <style>\n",
              "    .colab-df-container {\n",
              "      display:flex;\n",
              "      gap: 12px;\n",
              "    }\n",
              "\n",
              "    .colab-df-convert {\n",
              "      background-color: #E8F0FE;\n",
              "      border: none;\n",
              "      border-radius: 50%;\n",
              "      cursor: pointer;\n",
              "      display: none;\n",
              "      fill: #1967D2;\n",
              "      height: 32px;\n",
              "      padding: 0 0 0 0;\n",
              "      width: 32px;\n",
              "    }\n",
              "\n",
              "    .colab-df-convert:hover {\n",
              "      background-color: #E2EBFA;\n",
              "      box-shadow: 0px 1px 2px rgba(60, 64, 67, 0.3), 0px 1px 3px 1px rgba(60, 64, 67, 0.15);\n",
              "      fill: #174EA6;\n",
              "    }\n",
              "\n",
              "    .colab-df-buttons div {\n",
              "      margin-bottom: 4px;\n",
              "    }\n",
              "\n",
              "    [theme=dark] .colab-df-convert {\n",
              "      background-color: #3B4455;\n",
              "      fill: #D2E3FC;\n",
              "    }\n",
              "\n",
              "    [theme=dark] .colab-df-convert:hover {\n",
              "      background-color: #434B5C;\n",
              "      box-shadow: 0px 1px 3px 1px rgba(0, 0, 0, 0.15);\n",
              "      filter: drop-shadow(0px 1px 2px rgba(0, 0, 0, 0.3));\n",
              "      fill: #FFFFFF;\n",
              "    }\n",
              "  </style>\n",
              "\n",
              "    <script>\n",
              "      const buttonEl =\n",
              "        document.querySelector('#df-f67ad370-6f87-4ce9-a09a-80b8942ee85e button.colab-df-convert');\n",
              "      buttonEl.style.display =\n",
              "        google.colab.kernel.accessAllowed ? 'block' : 'none';\n",
              "\n",
              "      async function convertToInteractive(key) {\n",
              "        const element = document.querySelector('#df-f67ad370-6f87-4ce9-a09a-80b8942ee85e');\n",
              "        const dataTable =\n",
              "          await google.colab.kernel.invokeFunction('convertToInteractive',\n",
              "                                                    [key], {});\n",
              "        if (!dataTable) return;\n",
              "\n",
              "        const docLinkHtml = 'Like what you see? Visit the ' +\n",
              "          '<a target=\"_blank\" href=https://colab.research.google.com/notebooks/data_table.ipynb>data table notebook</a>'\n",
              "          + ' to learn more about interactive tables.';\n",
              "        element.innerHTML = '';\n",
              "        dataTable['output_type'] = 'display_data';\n",
              "        await google.colab.output.renderOutput(dataTable, element);\n",
              "        const docLink = document.createElement('div');\n",
              "        docLink.innerHTML = docLinkHtml;\n",
              "        element.appendChild(docLink);\n",
              "      }\n",
              "    </script>\n",
              "  </div>\n",
              "\n",
              "\n",
              "<div id=\"df-7531e627-faa2-4d93-9226-372748db2a64\">\n",
              "  <button class=\"colab-df-quickchart\" onclick=\"quickchart('df-7531e627-faa2-4d93-9226-372748db2a64')\"\n",
              "            title=\"Suggest charts.\"\n",
              "            style=\"display:none;\">\n",
              "\n",
              "<svg xmlns=\"http://www.w3.org/2000/svg\" height=\"24px\"viewBox=\"0 0 24 24\"\n",
              "     width=\"24px\">\n",
              "    <g>\n",
              "        <path d=\"M19 3H5c-1.1 0-2 .9-2 2v14c0 1.1.9 2 2 2h14c1.1 0 2-.9 2-2V5c0-1.1-.9-2-2-2zM9 17H7v-7h2v7zm4 0h-2V7h2v10zm4 0h-2v-4h2v4z\"/>\n",
              "    </g>\n",
              "</svg>\n",
              "  </button>\n",
              "\n",
              "<style>\n",
              "  .colab-df-quickchart {\n",
              "      --bg-color: #E8F0FE;\n",
              "      --fill-color: #1967D2;\n",
              "      --hover-bg-color: #E2EBFA;\n",
              "      --hover-fill-color: #174EA6;\n",
              "      --disabled-fill-color: #AAA;\n",
              "      --disabled-bg-color: #DDD;\n",
              "  }\n",
              "\n",
              "  [theme=dark] .colab-df-quickchart {\n",
              "      --bg-color: #3B4455;\n",
              "      --fill-color: #D2E3FC;\n",
              "      --hover-bg-color: #434B5C;\n",
              "      --hover-fill-color: #FFFFFF;\n",
              "      --disabled-bg-color: #3B4455;\n",
              "      --disabled-fill-color: #666;\n",
              "  }\n",
              "\n",
              "  .colab-df-quickchart {\n",
              "    background-color: var(--bg-color);\n",
              "    border: none;\n",
              "    border-radius: 50%;\n",
              "    cursor: pointer;\n",
              "    display: none;\n",
              "    fill: var(--fill-color);\n",
              "    height: 32px;\n",
              "    padding: 0;\n",
              "    width: 32px;\n",
              "  }\n",
              "\n",
              "  .colab-df-quickchart:hover {\n",
              "    background-color: var(--hover-bg-color);\n",
              "    box-shadow: 0 1px 2px rgba(60, 64, 67, 0.3), 0 1px 3px 1px rgba(60, 64, 67, 0.15);\n",
              "    fill: var(--button-hover-fill-color);\n",
              "  }\n",
              "\n",
              "  .colab-df-quickchart-complete:disabled,\n",
              "  .colab-df-quickchart-complete:disabled:hover {\n",
              "    background-color: var(--disabled-bg-color);\n",
              "    fill: var(--disabled-fill-color);\n",
              "    box-shadow: none;\n",
              "  }\n",
              "\n",
              "  .colab-df-spinner {\n",
              "    border: 2px solid var(--fill-color);\n",
              "    border-color: transparent;\n",
              "    border-bottom-color: var(--fill-color);\n",
              "    animation:\n",
              "      spin 1s steps(1) infinite;\n",
              "  }\n",
              "\n",
              "  @keyframes spin {\n",
              "    0% {\n",
              "      border-color: transparent;\n",
              "      border-bottom-color: var(--fill-color);\n",
              "      border-left-color: var(--fill-color);\n",
              "    }\n",
              "    20% {\n",
              "      border-color: transparent;\n",
              "      border-left-color: var(--fill-color);\n",
              "      border-top-color: var(--fill-color);\n",
              "    }\n",
              "    30% {\n",
              "      border-color: transparent;\n",
              "      border-left-color: var(--fill-color);\n",
              "      border-top-color: var(--fill-color);\n",
              "      border-right-color: var(--fill-color);\n",
              "    }\n",
              "    40% {\n",
              "      border-color: transparent;\n",
              "      border-right-color: var(--fill-color);\n",
              "      border-top-color: var(--fill-color);\n",
              "    }\n",
              "    60% {\n",
              "      border-color: transparent;\n",
              "      border-right-color: var(--fill-color);\n",
              "    }\n",
              "    80% {\n",
              "      border-color: transparent;\n",
              "      border-right-color: var(--fill-color);\n",
              "      border-bottom-color: var(--fill-color);\n",
              "    }\n",
              "    90% {\n",
              "      border-color: transparent;\n",
              "      border-bottom-color: var(--fill-color);\n",
              "    }\n",
              "  }\n",
              "</style>\n",
              "\n",
              "  <script>\n",
              "    async function quickchart(key) {\n",
              "      const quickchartButtonEl =\n",
              "        document.querySelector('#' + key + ' button');\n",
              "      quickchartButtonEl.disabled = true;  // To prevent multiple clicks.\n",
              "      quickchartButtonEl.classList.add('colab-df-spinner');\n",
              "      try {\n",
              "        const charts = await google.colab.kernel.invokeFunction(\n",
              "            'suggestCharts', [key], {});\n",
              "      } catch (error) {\n",
              "        console.error('Error during call to suggestCharts:', error);\n",
              "      }\n",
              "      quickchartButtonEl.classList.remove('colab-df-spinner');\n",
              "      quickchartButtonEl.classList.add('colab-df-quickchart-complete');\n",
              "    }\n",
              "    (() => {\n",
              "      let quickchartButtonEl =\n",
              "        document.querySelector('#df-7531e627-faa2-4d93-9226-372748db2a64 button');\n",
              "      quickchartButtonEl.style.display =\n",
              "        google.colab.kernel.accessAllowed ? 'block' : 'none';\n",
              "    })();\n",
              "  </script>\n",
              "</div>\n",
              "    </div>\n",
              "  </div>\n"
            ]
          },
          "metadata": {},
          "execution_count": 14
        }
      ],
      "source": [
        "data['text'] = preprocessed_text\n",
        "data.sample(3)"
      ]
    },
    {
      "cell_type": "markdown",
      "metadata": {
        "id": "QT-kq8efuFbC"
      },
      "source": [
        "#### Модель LDA"
      ]
    },
    {
      "cell_type": "code",
      "execution_count": 15,
      "metadata": {
        "colab": {
          "base_uri": "https://localhost:8080/"
        },
        "id": "Id8S1pXuuFbD",
        "outputId": "e4557610-c4d5-451f-ff63-05055cb28c1d"
      },
      "outputs": [
        {
          "output_type": "stream",
          "name": "stderr",
          "text": [
            "/usr/local/lib/python3.10/dist-packages/ipykernel/ipkernel.py:283: DeprecationWarning: `should_run_async` will not call `transform_cell` automatically in the future. Please pass the result to `transformed_cell` argument and any exception that happen during thetransform in `preprocessing_exc_tuple` in IPython 7.17 and above.\n",
            "  and should_run_async(code)\n"
          ]
        }
      ],
      "source": [
        "dictionary = corpora.Dictionary(data['text'])\n",
        "\n",
        "dictionary.filter_extremes(no_below = 3, no_above = 0.9, keep_n=None) # игнорируем слова, которые встречаются реже 3 раз или составляют более 0.9 словаря\n",
        "dictionary.save('tweeter.dict')"
      ]
    },
    {
      "cell_type": "code",
      "execution_count": 16,
      "metadata": {
        "colab": {
          "base_uri": "https://localhost:8080/"
        },
        "id": "0nzjjSbouFbE",
        "outputId": "c6443982-5603-4cf6-b444-380a5676ea93"
      },
      "outputs": [
        {
          "output_type": "stream",
          "name": "stderr",
          "text": [
            "/usr/local/lib/python3.10/dist-packages/ipykernel/ipkernel.py:283: DeprecationWarning: `should_run_async` will not call `transform_cell` automatically in the future. Please pass the result to `transformed_cell` argument and any exception that happen during thetransform in `preprocessing_exc_tuple` in IPython 7.17 and above.\n",
            "  and should_run_async(code)\n"
          ]
        }
      ],
      "source": [
        "corpus = [dictionary.doc2bow(text) for text in data['text']]\n",
        "corpora.MmCorpus.serialize('tweeter.model', corpus)"
      ]
    },
    {
      "cell_type": "code",
      "execution_count": 17,
      "metadata": {
        "colab": {
          "base_uri": "https://localhost:8080/"
        },
        "id": "g2SwkiOiuFbE",
        "outputId": "b760dee4-4a7f-47cb-89ee-96f43996d347"
      },
      "outputs": [
        {
          "output_type": "stream",
          "name": "stderr",
          "text": [
            "/usr/local/lib/python3.10/dist-packages/ipykernel/ipkernel.py:283: DeprecationWarning: `should_run_async` will not call `transform_cell` automatically in the future. Please pass the result to `transformed_cell` argument and any exception that happen during thetransform in `preprocessing_exc_tuple` in IPython 7.17 and above.\n",
            "  and should_run_async(code)\n"
          ]
        }
      ],
      "source": [
        "lda = ldamodel.LdaModel(corpus, id2word=dictionary, num_topics=20, chunksize=50, update_every=1, passes=2)"
      ]
    },
    {
      "cell_type": "markdown",
      "metadata": {
        "id": "dqcL_X0JuFbF"
      },
      "source": [
        "#### Посмотрим 5 основных тематик о которых говорят в твитах"
      ]
    },
    {
      "cell_type": "code",
      "execution_count": 18,
      "metadata": {
        "colab": {
          "base_uri": "https://localhost:8080/"
        },
        "id": "WCyEqMXRuFbG",
        "outputId": "fe61028f-e55e-4cda-f204-e80d74ab27d4"
      },
      "outputs": [
        {
          "output_type": "stream",
          "name": "stderr",
          "text": [
            "/usr/local/lib/python3.10/dist-packages/ipykernel/ipkernel.py:283: DeprecationWarning: `should_run_async` will not call `transform_cell` automatically in the future. Please pass the result to `transformed_cell` argument and any exception that happen during thetransform in `preprocessing_exc_tuple` in IPython 7.17 and above.\n",
            "  and should_run_async(code)\n"
          ]
        },
        {
          "output_type": "execute_result",
          "data": {
            "text/plain": [
              "[(12,\n",
              "  '0.201*\"час\" + 0.154*\"давать\" + 0.113*\"поход\" + 0.110*\"ходить\" + 0.068*\"интересно\"'),\n",
              " (16,\n",
              "  '0.399*\"сегодня\" + 0.331*\"знать\" + 0.036*\"город\" + 0.027*\"красиво\" + 0.025*\"окно\"'),\n",
              " (8,\n",
              "  '0.309*\"дом\" + 0.169*\"большой\" + 0.106*\"надеяться\" + 0.105*\"нибыть\" + 0.038*\"мечта\"'),\n",
              " (15,\n",
              "  '0.186*\"понимать\" + 0.153*\"нравиться\" + 0.130*\"пока\" + 0.130*\"скучать\" + 0.107*\"сколько\"'),\n",
              " (10,\n",
              "  '0.000*\"признаться\" + 0.000*\"принц\" + 0.000*\"подружиться\" + 0.000*\"любовник\" + 0.000*\"подняться\"')]"
            ]
          },
          "metadata": {},
          "execution_count": 18
        }
      ],
      "source": [
        "lda.show_topics(num_topics=5, num_words=5, formatted=True)"
      ]
    },
    {
      "cell_type": "markdown",
      "metadata": {
        "id": "pnbA5NUhuFbH"
      },
      "source": [
        "#### Визуализируем кластеры тематик"
      ]
    },
    {
      "cell_type": "code",
      "execution_count": 19,
      "metadata": {
        "colab": {
          "base_uri": "https://localhost:8080/",
          "height": 951
        },
        "id": "GaCq7pQkuFbI",
        "outputId": "613d87e6-dc3f-4820-99f3-79793fe53e50"
      },
      "outputs": [
        {
          "output_type": "stream",
          "name": "stderr",
          "text": [
            "/usr/local/lib/python3.10/dist-packages/ipykernel/ipkernel.py:283: DeprecationWarning: `should_run_async` will not call `transform_cell` automatically in the future. Please pass the result to `transformed_cell` argument and any exception that happen during thetransform in `preprocessing_exc_tuple` in IPython 7.17 and above.\n",
            "  and should_run_async(code)\n",
            "/usr/local/lib/python3.10/dist-packages/sklearn/manifold/_mds.py:299: FutureWarning: The default value of `normalized_stress` will change to `'auto'` in version 1.4. To suppress this warning, manually set the value of `normalized_stress`.\n",
            "  warnings.warn(\n"
          ]
        },
        {
          "output_type": "execute_result",
          "data": {
            "text/plain": [
              "<IPython.core.display.HTML object>"
            ],
            "text/html": [
              "\n",
              "<link rel=\"stylesheet\" type=\"text/css\" href=\"https://cdn.jsdelivr.net/gh/bmabey/pyLDAvis@3.4.0/pyLDAvis/js/ldavis.v1.0.0.css\">\n",
              "\n",
              "\n",
              "<div id=\"ldavis_el2171140191128095088891419083\" style=\"background-color:white;\"></div>\n",
              "<script type=\"text/javascript\">\n",
              "\n",
              "var ldavis_el2171140191128095088891419083_data = {\"mdsDat\": {\"x\": [-0.19351846548700785, 0.12182537003632297, 0.2147207873940488, -0.25978356220496684, -0.35586759471107166, 0.029204107318059558, 0.39146672718862746, -0.3668965887271348, 0.3244945736283611, -0.14782951946087505, -0.22250303519372086, 0.015489264320406156, -0.15224509138961492, 0.12508205398927, 0.16138419017541702, 0.19773448862843548, 0.055445705576310525, 0.020600076794645095, 0.020598253641586912, 0.02059825848290064], \"y\": [0.39698662796825807, -0.4252555869206101, 0.3755933933123632, -0.35093870643130554, 0.18700344158916865, 0.33380748762919205, -0.11922002194662612, -0.04184817508849589, 0.16178927980892466, 0.16449053641151032, -0.1855032473958657, -0.2860587383214002, -0.017857758546916652, -0.16700664124654635, -0.06974123033013192, 0.037200320963097694, 0.07854414689696884, -0.023993819841797975, -0.023995651575760307, -0.023995656934026346], \"topics\": [1, 2, 3, 4, 5, 6, 7, 8, 9, 10, 11, 12, 13, 14, 15, 16, 17, 18, 19, 20], \"cluster\": [1, 1, 1, 1, 1, 1, 1, 1, 1, 1, 1, 1, 1, 1, 1, 1, 1, 1, 1, 1], \"Freq\": [7.8279556133821915, 7.01822256541987, 6.902765977321221, 6.557176922610763, 6.3439434104660855, 5.874183077043241, 5.72034142786846, 5.577325926868848, 5.110218960951089, 4.869786653212833, 4.851219627668803, 4.839546593624766, 4.193001353944717, 3.9611148489971617, 3.8294034521737, 3.798273177250227, 3.7522060957347994, 2.9911047718204085, 2.9911047718204085, 2.9911047718204085]}, \"tinfo\": {\"Term\": [\"\\u0445\\u043e\\u0442\\u0435\\u0442\\u044c\", \"\\u0434\\u0435\\u043d\\u044c\", \"\\u043f\\u0440\\u043e\\u0441\\u0442\\u043e\", \"\\u043b\\u044e\\u0431\\u0438\\u0442\\u044c\", \"\\u0441\\u0435\\u0433\\u043e\\u0434\\u043d\\u044f\", \"\\u043e\\u0447\\u0435\\u043d\\u044c\", \"\\u0437\\u043d\\u0430\\u0442\\u044c\", \"\\u0431\\u043e\\u043b\\u0435\\u0442\\u044c\", \"\\u0434\\u043e\\u043c\", \"\\u0441\\u043f\\u0430\\u0441\\u0438\\u0431\\u043e\", \"\\u0432\\u0440\\u0435\\u043c\\u044f\", \"\\u0431\\u043b\\u0438\\u043d\", \"\\u0437\\u0430\\u0432\\u0442\\u0440\\u0430\", \"\\u043e\\u0441\\u0442\\u0430\\u0442\\u044c\\u0441\\u044f\", \"\\u0434\\u0435\\u043b\\u0430\\u0442\\u044c\", \"\\u0441\\u043a\\u0430\\u0437\\u0430\\u0442\\u044c\", \"\\u043d\\u0430\\u0448\", \"\\u0432\\u043e\\u043e\\u0431\\u0449\\u0435\", \"\\u0445\\u043e\\u0442\\u044f\", \"\\u043b\\u044e\\u0431\\u0438\\u043c\\u044b\\u0439\", \"\\u0447\\u0430\\u0441\", \"\\u0441\\u043c\\u043e\\u0442\\u0440\\u0435\\u0442\\u044c\", \"\\u0433\\u043e\\u0432\\u043e\\u0440\\u0438\\u0442\\u044c\", \"\\u043f\\u0440\\u043e\\u0441\\u043d\\u0443\\u0442\\u044c\\u0441\\u044f\", \"\\u0441\\u0438\\u0434\\u0435\\u0442\\u044c\", \"\\u043f\\u043e\\u043d\\u0438\\u043c\\u0430\\u0442\\u044c\", \"\\u0431\\u043e\\u043b\\u044c\\u0448\\u043e\\u0439\", \"\\u043f\\u0435\\u0440\\u0432\\u044b\\u0439\", \"\\u0440\\u0443\\u043a\\u0430\", \"\\u043f\\u0438\\u0441\\u0430\\u0442\\u044c\", \"\\u0445\\u043e\\u0442\\u0435\\u0442\\u044c\", \"\\u0434\\u0435\\u043d\\u044c\", \"\\u043f\\u043e\\u043c\\u043e\\u0449\\u044c\", \"\\u043f\\u043e\\u043c\\u043e\\u0433\\u0430\\u0442\\u044c\", \"\\u0442\\u0430\\u0431\\u043b\\u0435\\u0442\\u043a\\u0430\", \"\\u0440\\u043e\\u0436\\u0434\\u0435\\u043d\\u0438\\u0435\", \"\\u0441\\u0432\\u043e\\u0439\", \"\\u043e\\u0444\\u0438\\u0433\\u0435\\u043d\\u043d\\u044b\\u0439\", \"\\u043d\\u0438\\u043a\\u0442\\u043e\", \"\\u0446\\u0435\\u043b\\u044b\\u0439\", \"\\u0432\\u0435\\u0441\\u044c\", \"\\u043d\\u0430\\u0447\\u0438\\u043d\\u0430\\u0442\\u044c\", \"\\u0438\\u0433\\u0440\\u0430\\u0442\\u044c\", \"\\u0443\\u0432\\u0438\\u0434\\u0435\\u0442\\u044c\", \"\\u0434\\u0435\\u043b\\u043e\", \"\\u043d\\u0435\\u043d\\u0430\\u0432\\u0438\\u0434\\u0435\\u0442\\u044c\", \"\\u043c\\u0438\\u0440\", \"\\u043f\\u043e\\u0437\\u0438\\u0442\\u0438\\u0432\", \"\\u0440\\u0430\\u043a\\u0430\\u0442\\u044c\", \"\\u0431\\u0435\\u0433\\u0430\\u0442\\u044c\", \"\\u0434\\u0435\\u043d\\u044c\\u0433\\u0430\", \"\\u0441\\u043a\\u0443\\u043a\\u0430\", \"\\u043d\\u043e\\u0432\\u044b\\u0439\", \"\\u0442\\u0430\\u043d\\u0435\\u0446\", \"\\u043f\\u043e\\u043d\\u0440\\u0430\\u0432\\u0438\\u0442\\u044c\\u0441\\u044f\", \"\\u0443\\u0434\\u0430\\u0442\\u044c\\u0441\\u044f\", \"\\u0438\\u0434\\u0438\\u043e\\u0442\", \"\\u0431\\u0440\\u0435\\u0434\", \"\\u043f\\u0435\\u0442\\u044c\", \"\\u0438\\u043c\\u044f\", \"\\u0445\\u043e\\u0440\\u043e\\u0448\\u0438\\u0439\", \"\\u043d\\u0435\\u0434\\u0435\\u043b\\u044f\", \"\\u0441\\u043f\\u0430\\u0442\\u044c\", \"\\u043e\\u0447\\u0435\\u043d\\u044c\", \"\\u0437\\u0430\\u0432\\u0442\\u0440\\u0430\", \"\\u0441\\u043c\\u043e\\u0442\\u0440\\u0435\\u0442\\u044c\", \"\\u043f\\u0440\\u0438\\u0439\\u0442\\u0438\", \"\\u0447\\u0430\\u0441\\u0442\\u043e\", \"\\u043f\\u043e\\u043a\\u0430\\u0437\\u0430\\u0442\\u044c\", \"\\u0431\\u043e\\u044f\\u0442\\u044c\\u0441\\u044f\", \"\\u0442\\u0435\\u043c\\u043f\\u0435\\u0440\\u0430\\u0442\\u0443\\u0440\\u0430\", \"\\u0443\\u0441\\u0442\\u0430\\u0442\\u044c\", \"\\u0445\\u043e\\u0440\\u043e\\u0448\\u0438\\u0439\", \"\\u0433\\u043b\\u0443\\u043f\\u043e\", \"\\u0441\\u043c\\u0435\\u0448\\u043d\\u043e\\u0439\", \"\\u043b\\u0438\\u0447\\u043d\\u043e\", \"\\u043f\\u043e\\u043a\\u0430\\u0437\\u0430\\u0442\\u044c\\u0441\\u044f\", \"\\u043b\\u044e\\u0431\\u043e\\u0439\", \"\\u043a\\u043e\\u0442\\u043e\\u0440\\u044b\\u0439\", \"\\u043a\\u0440\\u0443\\u0442\\u043e\\u0439\", \"\\u0431\\u0438\\u0430\\u0442\\u043b\\u043e\\u043d\", \"\\u043a\\u0440\\u0443\\u0442\\u043e\", \"\\u0432\\u043e\\u043b\\u043d\\u0435\\u043d\\u0438\\u0435\", \"\\u0437\\u0430\\u0440\\u0430\\u0437\\u0430\", \"\\u044d\\u0441\\u0442\\u0430\\u0444\\u0435\\u0442\\u0430\", \"\\u0440\\u0430\\u0434\\u0443\\u0433\\u0430\", \"\\u0442\\u0440\\u0430\\u0432\\u0430\", \"\\u0448\\u0438\\u043a\\u0430\\u0440\\u043d\\u043e\", \"\\u0438\\u043d\\u0444\\u0430\\u0440\\u043a\\u0442\", \"\\u0436\\u0435\\u043d\\u0441\\u043a\\u0438\\u0439\", \"\\u0444\\u0438\\u043b\\u044c\\u043c\", \"\\u0441\\u0434\\u0430\\u0432\\u0430\\u0442\\u044c\", \"\\u0432\\u044b\\u0441\\u0442\\u0443\\u043f\\u0430\\u0442\\u044c\", \"\\u0447\\u0435\\u043b\\u043e\\u0432\\u0435\\u043a\", \"\\u043c\\u043e\\u0447\\u044c\", \"\\u043f\\u043e\\u0434\\u0440\\u0443\\u0433\\u0430\", \"\\u0443\\u0440\\u043e\\u043a\", \"\\u0434\\u0435\\u043b\\u0430\\u0442\\u044c\", \"\\u0433\\u043e\\u0432\\u043e\\u0440\\u0438\\u0442\\u044c\", \"\\u043f\\u043e\\u043c\\u043d\\u0438\\u0442\\u044c\", \"\\u0445\\u043e\\u0442\\u0435\\u0442\\u044c\\u0441\\u044f\", \"\\u0448\\u043a\\u043e\\u043b\\u0430\", \"\\u0442\\u043e\\u0447\\u043d\\u043e\", \"\\u043b\\u0435\\u043d\\u044c\", \"\\u043f\\u0440\\u0438\\u0432\\u0435\\u0442\", \"\\u043f\\u043e\\u043b\", \"\\u043f\\u0440\\u043e\\u0431\\u043b\\u0435\\u043c\\u0430\", \"\\u0443\\u0435\\u0437\\u0436\\u0430\\u0442\\u044c\", \"\\u0441\\u0432\\u043e\\u0439\", \"\\u0441\\u043f\\u0430\\u0442\\u044c\", \"\\u0447\\u0435\\u043b\\u043e\\u0432\\u0435\\u043a\", \"\\u0436\\u0438\\u0437\\u043d\\u044c\", \"\\u0435\\u0449\\u0451\", \"\\u0431\\u0438\\u043e\\u043b\\u043e\\u0433\\u0438\\u044f\", \"\\u0440\\u0443\\u0441\\u0441\\u043a\\u0438\\u0439\", \"\\u0433\\u043e\\u0434\", \"\\u0437\\u0430\\u0449\\u0438\\u0442\\u0438\\u0442\\u044c\", \"\\u043e\\u0447\\u0435\\u0440\\u0435\\u0434\\u043d\\u043e\\u0439\", \"\\u043d\\u0430\\u0437\\u0432\\u0430\\u0442\\u044c\", \"\\u0434\\u0435\\u043b\\u043e\", \"\\u0440\\u0435\\u0434\\u043a\\u043e\", \"\\u043e\\u0431\\u0449\\u0430\\u0442\\u044c\\u0441\\u044f\", \"\\u0432\\u044b\\u043a\\u0438\\u043d\\u0443\\u0442\\u044c\", \"\\u0443\\u0440\\u043e\\u043a\", \"\\u0441\\u0434\\u0435\\u043b\\u0430\\u0442\\u044c\", \"\\u0438\\u043c\\u044f\", \"\\u043f\\u043e\\u0439\\u0442\\u0438\", \"\\u0445\\u043e\\u0440\\u043e\\u0448\\u0438\\u0439\", \"\\u043d\\u0438\\u043a\\u0442\\u043e\", \"\\u0434\\u0443\\u043c\\u0430\\u0442\\u044c\", \"\\u0443\\u0445\\u043e\\u0434\\u0438\\u0442\\u044c\", \"\\u043f\\u043e\\u0447\\u0435\\u043c\\u0443\", \"\\u043a\\u0430\\u0437\\u0430\\u0442\\u044c\\u0441\\u044f\", \"\\u0438\\u0434\\u0442\\u0438\", \"\\u0441\\u0435\\u0433\\u043e\\u0434\\u043d\\u044f\", \"\\u0437\\u043d\\u0430\\u0442\\u044c\", \"\\u0433\\u043e\\u0440\\u043e\\u0434\", \"\\u043a\\u0440\\u0430\\u0441\\u0438\\u0432\\u043e\", \"\\u043e\\u043a\\u043d\\u043e\", \"\\u0434\\u0430\\u0432\\u043d\\u043e\", \"\\u0443\\u0442\\u0440\\u043e\", \"\\u0434\\u0438\\u043a\\u0442\\u0430\\u043d\\u0442\", \"\\u043f\\u043e\\u0447\\u0435\\u043c\\u0443\", \"\\u0434\\u043e\\u0431\\u0440\\u044b\\u0439\", \"\\u043e\\u0441\\u0442\\u0430\\u0432\\u0438\\u0442\\u044c\", \"\\u0441\\u0430\\u043c\\u044b\\u0439\", \"\\u0443\\u0434\\u0438\\u0432\\u043b\\u0451\\u043d\\u043d\\u044b\\u0439\", \"\\u043a\\u043d\\u0438\\u0433\\u0430\", \"\\u043f\\u0440\\u0438\\u0447\\u0451\\u043c\", \"\\u0440\\u0443\\u0441\\u0441\\u043a\\u0438\\u0439\", \"\\u044d\\u043a\\u0437\\u0430\\u043c\\u0435\\u043d\", \"\\u043f\\u043e\\u0441\\u043c\\u043e\\u0442\\u0440\\u0435\\u0442\\u044c\", \"\\u043a\\u043e\\u043d\\u0447\\u0438\\u0442\\u044c\\u0441\\u044f\", \"\\u0441\\u043f\\u0440\\u043e\\u0441\\u0438\\u0442\\u044c\", \"\\u0437\\u0430\\u043c\\u0435\\u0442\\u0438\\u0442\\u044c\", \"\\u043f\\u043e\\u043f\\u0430\\u0434\\u0430\\u0442\\u044c\", \"\\u043f\\u0430\\u043f\\u0430\", \"\\u043b\\u044e\\u0431\\u0438\\u0442\\u0435\\u043b\\u044c\", \"\\u0447\\u0443\\u0442\\u0432\\u043e\", \"\\u0437\\u0438\\u043c\\u043e\\u0439\", \"\\u0442\\u0432\\u0438\\u0442\\u0442\\u0435\\u0440\", \"\\u043f\\u0440\\u0438\\u044f\\u0442\\u043d\\u043e\", \"\\u0443\\u0434\\u0438\\u0432\\u043b\\u044f\\u0442\\u044c\\u0441\\u044f\", \"\\u0441\\u043f\\u0430\\u0442\\u044c\", \"\\u043a\\u0430\\u0437\\u0430\\u0442\\u044c\\u0441\\u044f\", \"\\u0441\\u0432\\u043e\\u0439\", \"\\u0438\\u0431\\u043e\", \"\\u0443\\u0441\\u0442\\u0430\\u0442\\u044c\", \"\\u0441\\u043b\\u0438\\u0448\\u043a\\u043e\\u043c\", \"\\u0433\\u043e\\u0434\", \"\\u0438\\u0434\\u0442\\u0438\", \"\\u0432\\u0440\\u0435\\u043c\\u044f\", \"\\u0441\\u043a\\u0430\\u0437\\u0430\\u0442\\u044c\", \"\\u0432\\u043e\\u043e\\u0431\\u0449\\u0435\", \"\\u043f\\u0438\\u0441\\u0430\\u0442\\u044c\", \"\\u0438\\u043d\\u0442\\u0435\\u0440\\u0435\\u0441\\u043d\\u044b\\u0439\", \"\\u0438\\u0434\\u0435\\u044f\", \"\\u0447\\u0438\\u0442\\u0430\\u0442\\u044c\", \"\\u0445\\u043e\\u0440\\u043e\\u0448\\u0438\\u0439\", \"\\u043c\\u043e\\u0447\\u044c\", \"\\u0441\\u0434\\u0435\\u043b\\u0430\\u0442\\u044c\", \"\\u043f\\u043e\\u0434\\u0430\\u0440\\u043e\\u043a\", \"\\u0436\\u0435\\u043b\\u0430\\u043d\\u0438\\u0435\", \"\\u0438\\u0434\\u0442\\u0438\", \"\\u0441\\u0442\\u0430\\u0440\\u044b\\u0439\", \"\\u043d\\u0430\\u0441\\u0442\\u0440\\u043e\\u0435\\u043d\\u0438\\u0435\", \"\\u0443\\u0436\\u0430\\u0441\\u043d\\u044b\\u0439\", \"\\u0442\\u0435\\u043c\\u0430\", \"\\u043f\\u043e\\u0445\\u0443\\u0439\", \"\\u0441\\u0430\\u043c\\u044b\\u0439\", \"\\u043f\\u044f\\u0442\\u044c\", \"\\u0432\\u044b\\u0445\\u043e\\u0434\\u043d\\u043e\\u0439\", \"\\u043c\\u0430\\u043b\\u043e\", \"\\u0432\\u043e\\u043e\\u0431\\u0449\\u0438\\u0439\", \"\\u0434\\u0435\\u043d\\u044c\\u0433\\u0430\", \"\\u0434\\u043e\\u043c\\u0438\\u043d\\u0438\\u0440\\u043e\\u0432\\u0430\\u0442\\u044c\", \"\\u043d\\u0430\\u0441\\u0447\\u0451\\u0442\", \"\\u043d\\u043e\\u043b\\u044c\", \"\\u0447\\u0435\\u0441\\u0430\\u0442\\u044c\\u0441\\u044f\", \"\\u0433\\u043e\\u0434\", \"\\u0443\\u043f\\u0430\\u0441\\u0442\\u044c\", \"\\u043a\\u0430\\u0437\\u0430\\u0442\\u044c\\u0441\\u044f\", \"\\u0434\\u0443\\u043c\\u0430\\u0442\\u044c\", \"\\u043f\\u043e\\u0441\\u043b\\u0435\\u0434\\u043d\\u0438\\u0439\", \"\\u0441\\u0432\\u043e\\u0439\", \"\\u043d\\u043e\\u0432\\u044b\\u0439\", \"\\u0441\\u0442\\u0430\\u0442\\u044c\", \"\\u0431\\u043b\\u0438\\u043d\", \"\\u043f\\u0435\\u0440\\u0432\\u044b\\u0439\", \"\\u043f\\u0430\\u0440\\u0435\\u043d\\u044c\", \"\\u043f\\u0440\\u043e\\u0441\\u0442\\u0438\\u0442\\u044c\", \"\\u0434\\u043e\\u043b\\u0433\\u043e\", \"\\u0444\\u043e\\u0442\\u043e\", \"\\u043c\\u0430\\u043b\\u0435\\u043d\\u044c\\u043a\\u0438\\u0439\", \"\\u0438\\u043d\\u0442\\u0435\\u0440\\u043d\\u0435\\u0442\", \"\\u0431\\u0440\\u0430\\u0442\\u044c\", \"\\u043f\\u0440\\u043e\\u043f\\u0430\\u0434\\u0430\\u0442\\u044c\", \"\\u043f\\u043e\\u0434\\u0440\\u0443\\u0433\\u0430\", \"\\u043c\\u0430\\u0448\\u0430\", \"\\u043f\\u043e\\u0447\\u0435\\u043c\\u0443\", \"\\u043f\\u0440\\u043e\\u0449\\u0430\\u0442\\u044c\", \"\\u043d\\u0430\\u043b\\u0435\\u0432\\u043e\", \"\\u043f\\u043e\\u044f\\u0432\\u043b\\u044f\\u0442\\u044c\\u0441\\u044f\", \"\\u0432\\u043e\\u0437\\u0432\\u0440\\u0430\\u0449\\u0430\\u0442\\u044c\\u0441\\u044f\", \"\\u043c\\u043e\\u0447\\u044c\", \"\\u0431\\u043b\\u044f\", \"\\u0434\\u043e\\u043b\\u0436\\u043d\\u044b\\u0439\", \"\\u043b\\u0435\\u043d\\u0442\\u0430\", \"\\u043f\\u043e\\u0439\\u0442\\u0438\", \"\\u0438\\u0434\\u0442\\u0438\", \"\\u043f\\u0435\\u0441\\u043d\\u044f\", \"\\u043a\\u0440\\u0443\\u0442\\u043e\\u0439\", \"\\u0440\\u043e\\u0434\\u043d\\u044b\\u0439\", \"\\u0436\\u0438\\u0432\\u043e\\u0439\", \"\\u0432\\u0437\\u0433\\u043b\\u044f\\u0434\", \"\\u0443\\u0434\\u0430\\u043b\\u0438\\u0442\\u044c\", \"\\u0443\\u0440\\u043e\\u043a\", \"\\u0438\\u0431\\u043e\", \"\\u043f\\u043e\\u043d\\u0435\\u0434\\u0435\\u043b\\u044c\\u043d\\u0438\\u043a\", \"\\u0441\\u043f\\u0430\\u0441\\u0438\\u0431\\u043e\", \"\\u0441\\u0438\\u0434\\u0435\\u0442\\u044c\", \"\\u043d\\u043e\\u0432\\u043e\\u0433\\u043e\\u0434\\u043d\\u0438\\u0439\", \"\\u0444\\u043e\\u0442\\u043a\\u0430\", \"\\u043f\\u0440\\u0435\\u043a\\u0440\\u0430\\u0441\\u043d\\u044b\\u0439\", \"\\u0432\\u043e\\u0441\\u043a\\u0440\\u0435\\u0441\\u0435\\u043d\\u0438\\u0435\", \"\\u043d\\u0430\\u0440\\u043e\\u0434\", \"\\u0454\\u0432\\u0440\\u043e\\u043c\\u0430\\u0439\\u0434\\u0430\\u043d\", \"\\u0434\\u043e\\u0431\\u0440\\u043e\", \"\\u0441\\u0430\\u0439\\u0442\", \"\\u0435\\u0434\\u0438\\u043d\\u0441\\u0442\\u0432\\u0435\\u043d\\u043d\\u044b\\u0439\", \"\\u043b\\u0435\\u0440\\u0430\", \"\\u043d\\u0430\\u0441\\u0442\\u0440\\u043e\\u0435\\u043d\\u0438\\u0435\", \"\\u043f\\u0440\\u0435\\u0434\\u043b\\u0430\\u0433\\u0430\\u0442\\u044c\", \"\\u043e\\u0442\\u043c\\u0435\\u043d\\u0438\\u0442\\u044c\", \"\\u043c\\u0430\\u043c\\u0430\", \"\\u0441\\u043f\\u0430\\u0442\\u044c\", \"one\", \"\\u043a\\u043e\\u043d\\u0446\\u0435\\u0440\\u0442\", \"\\u0443\\u0441\\u0442\\u0430\\u0442\\u044c\", \"\\u043a\\u0443\\u043f\\u0438\\u0442\\u044c\", \"\\u043f\\u043e\\u0437\\u0434\\u0440\\u0430\\u0432\\u043b\\u0435\\u043d\\u0438\\u0435\", \"\\u043e\\u0442\\u0432\\u0435\\u0447\\u0430\\u0442\\u044c\", \"\\u043f\\u0440\\u0430\\u0432\\u0434\\u0430\", \"\\u0440\\u0430\\u0431\\u043e\\u0442\\u0430\", \"\\u0440\\u0430\\u0434\", \"\\u043c\\u0430\\u043b\\u043e\", \"\\u0434\\u0443\\u043c\\u0430\\u0442\\u044c\", \"\\u0438\\u0434\\u0442\\u0438\", \"\\u043c\\u0435\\u0434\\u0432\\u0435\\u0434\\u044c\", \"\\u0432\\u0435\\u0441\\u044c\", \"\\u0438\\u0431\\u043e\", \"\\u0434\\u043e\\u043c\", \"\\u0431\\u043e\\u043b\\u044c\\u0448\\u043e\\u0439\", \"\\u043d\\u0430\\u0434\\u0435\\u044f\\u0442\\u044c\\u0441\\u044f\", \"\\u043d\\u0438\\u0431\\u044b\\u0442\\u044c\", \"\\u043c\\u0435\\u0447\\u0442\\u0430\", \"\\u0443\\u0440\\u0430\", \"\\u0437\\u0430\\u043a\\u043e\\u043d\\u0447\\u0438\\u0442\\u044c\\u0441\\u044f\", \"\\u043f\\u043e\\u0447\\u0435\\u043c\\u0443\", \"\\u043a\\u0430\\u0437\\u0430\\u0442\\u044c\\u0441\\u044f\", \"\\u043c\\u043e\\u0447\\u044c\", \"\\u043a\\u043e\\u043d\\u0435\\u0446\", \"\\u0433\\u043e\\u0434\", \"\\u0447\\u0443\\u0442\\u0432\\u043e\\u0432\\u0430\\u0442\\u044c\", \"\\u043c\\u043e\\u043b\\u043e\\u043a\\u043e\", \"\\u043c\\u043e\\u0441\\u043a\\u0432\\u0430\", \"\\u043f\\u043b\\u043e\\u0445\\u043e\", \"\\u043d\\u043e\\u0447\\u044c\", \"\\u0441\\u043e\\u043d\", \"\\u0447\\u0430\\u0432\", \"\\u0440\\u0430\\u0431\\u043e\\u0442\\u0430\", \"\\u0432\\u0441\\u0451\", \"\\u0431\\u044b\\u0432\\u0430\\u0442\\u044c\", \"\\u0432\\u044b\\u0431\\u0440\\u0430\\u0442\\u044c\", \"\\u0448\\u0443\\u043c\", \"\\u043a\\u0443\\u0440\\u0432\\u0430\", \"\\u043c\\u0430\\u0433\\u0430\\u0437\\u0438\\u043d\", \"\\u043f\\u0435\\u0440\\u0435\\u0432\\u043e\\u0434\", \"\\u0437\\u0430\\u0441\\u043d\\u0443\\u0442\\u044c\", \"\\u0445\\u0435\\u0440\", \"\\u0442\\u0435\\u043c\\u043f\\u0435\\u0440\\u0430\\u0442\\u0443\\u0440\\u0430\", \"\\u0438\\u0433\\u0440\\u0430\\u0442\\u044c\", \"\\u0441\\u043f\\u0430\\u0442\\u044c\", \"\\u0443\\u0436\\u0430\\u0441\\u043d\\u043e\", \"\\u043f\\u043e\\u043c\\u043e\\u0447\\u044c\", \"\\u043d\\u0430\\u0448\", \"\\u043b\\u044e\\u0431\\u0438\\u043c\\u044b\\u0439\", \"\\u043f\\u0430\\u0440\\u0430\", \"\\u0432\\u0435\\u0447\\u0435\\u0440\", \"\\u043f\\u0440\\u043e\\u0439\\u0442\\u0438\", \"\\u043f\\u0440\\u043e\\u0441\\u043f\\u0430\\u0442\\u044c\", \"\\u0441\\u0442\\u0430\\u0442\\u044c\", \"\\u0441\\u0442\\u0440\\u0430\\u043d\\u0430\", \"\\u0432\\u0435\\u0441\\u044c\", \"\\u0441\\u0430\\u043c\\u044b\\u0439\", \"\\u043a\\u0440\\u0443\\u0442\\u043e\\u0439\", \"\\u0440\\u043e\\u0434\\u043d\\u044b\\u0439\", \"\\u043e\\u0431\\u0440\\u0430\\u0449\\u0435\\u043d\\u0438\\u0435\", \"\\u0431\\u043e\\u0433\\u0430\\u0442\\u044b\\u0439\", \"\\u0443\\u0434\\u043e\\u0431\\u043d\\u044b\\u0439\", \"\\u043f\\u0443\\u0442\\u0438\\u043d\", \"\\u0445\\u043e\\u0440\\u043e\\u0448\\u0438\\u0439\", \"\\u0430\\u0445\\u0430\\u0445\", \"\\u0432\\u043a\\u0443\\u0441\\u043d\\u044b\\u0439\", \"\\u0437\\u0430\\u043f\\u0443\\u0441\\u0442\\u0438\\u0442\\u044c\", \"\\u043e\\u0444\\u0438\\u0446\\u0438\\u0430\\u043b\\u044c\\u043d\\u044b\\u0439\", \"\\u043e\\u0434\\u043d\\u043e\\u0432\\u0440\\u0435\\u043c\\u0435\\u043d\\u043d\\u043e\", \"\\u0437\\u043d\\u0430\\u0447\\u0438\\u0442\", \"\\u043f\\u0440\\u043e\\u0434\\u0430\\u0442\\u044c\", \"\\u0441\\u0432\\u0435\\u0436\\u0438\\u0439\", \"\\u0444\\u0430\\u043d\\u0444\\u0438\\u043a\", \"\\u0432\\u0430\\u043d\\u043d\\u0430\\u044f\", \"\\u043a\\u0430\\u043c\\u0438\\u043d\", \"\\u043f\\u043e\\u0432\\u0435\\u0440\\u0438\\u0442\\u044c\", \"\\u0438\\u0434\\u0435\\u0430\\u043b\\u044c\\u043d\\u043e\", \"\\u0432\\u0438\\u0434\", \"\\u0432\\u0441\\u0451\", \"\\u043c\\u0443\\u0437\\u044b\\u043a\\u0430\", \"\\u0441\\u0442\\u043e\\u0438\\u0442\\u044c\", \"\\u043c\\u0430\\u0448\\u0430\", \"\\u043c\\u043e\\u0447\\u044c\", \"\\u0447\\u0430\\u0441\", \"\\u0434\\u0430\\u0432\\u0430\\u0442\\u044c\", \"\\u043f\\u043e\\u0445\\u043e\\u0434\", \"\\u0445\\u043e\\u0434\\u0438\\u0442\\u044c\", \"\\u0438\\u043d\\u0442\\u0435\\u0440\\u0435\\u0441\\u043d\\u043e\", \"\\u0432\\u0430\\u0440\\u0438\\u0430\\u043d\\u0442\", \"\\u0433\\u043e\\u0442\\u043e\\u0432\\u044b\\u0439\", \"\\u043d\\u0438\\u043a\\u0442\\u043e\", \"\\u043a\\u043e\\u0440\\u0438\\u0434\\u043e\\u0440\", \"\\u0432\\u043c\\u0435\\u0441\\u0442\\u0435\", \"\\u0444\\u0438\\u0440\\u043c\\u0430\", \"\\u043c\\u043e\\u0434\\u043d\\u044b\\u0439\", \"\\u0441\\u043d\\u0438\\u043c\\u0430\\u0442\\u044c\", \"\\u0440\\u0430\\u0431\\u043e\\u0447\\u0438\\u0439\", \"\\u0441\\u043d\\u044f\\u0442\\u044c\", \"\\u0440\\u0443\\u0441\\u0441\\u043a\\u0438\\u0439\", \"\\u043f\\u043e\\u0447\\u0435\\u043c\\u0443\", \"\\u043f\\u0435\\u0441\\u043d\\u044f\", \"\\u0433\\u043b\\u0430\\u0437\", \"\\u0434\\u043e\\u0434\\u0443\\u043c\\u0430\\u0442\\u044c\\u0441\\u044f\", \"\\u0442\\u0435\\u0433\", \"\\u0437\\u0434\\u0430\\u0442\\u044c\", \"\\u0432\\u044b\\u0440\\u0443\\u0431\\u0438\\u0442\\u044c\", \"\\u0438\\u0441\\u043f\\u043e\\u043b\\u044c\\u0437\\u043e\\u0432\\u0430\\u0442\\u044c\", \"\\u0441\\u0443\\u043a\\u0430\", \"\\u0441\\u0432\\u0430\\u043b\\u0438\\u0442\\u044c\", \"\\u0442\\u044f\\u0436\\u0451\\u043b\\u044b\\u0439\", \"\\u0443\\u043c\\u0435\\u0440\\u0435\\u0442\\u044c\", \"\\u043d\\u0435\\u0431\\u044b\\u0442\\u044c\", \"\\u043d\\u0430\\u0447\\u0430\\u0442\\u044c\", \"\\u0440\\u0430\\u0431\\u043e\\u0442\\u0430\", \"\\u043f\\u043e\\u043d\\u0438\\u043c\\u0430\\u0442\\u044c\", \"\\u043d\\u0440\\u0430\\u0432\\u0438\\u0442\\u044c\\u0441\\u044f\", \"\\u043f\\u043e\\u043a\\u0430\", \"\\u0441\\u043a\\u0443\\u0447\\u0430\\u0442\\u044c\", \"\\u0441\\u043a\\u043e\\u043b\\u044c\\u043a\\u043e\", \"\\u043e\\u0449\\u0443\\u0449\\u0435\\u043d\\u0438\\u0435\", \"\\u0447\\u0435\\u043b\\u043e\\u0432\\u0435\\u043a\", \"\\u043a\\u043e\\u0442\\u043e\\u0440\\u044b\\u0439\", \"\\u0443\\u043b\\u044b\\u0431\\u043a\\u0430\", \"\\u0437\\u043e\\u043b\\u043e\\u0442\\u043e\", \"\\u043f\\u043b\\u0451\\u043d\\u043a\\u0430\", \"\\u0437\\u043e\\u043b\\u043e\\u0442\\u043e\\u0439\", \"\\u043d\\u0430\\u0441\\u0442\\u043e\\u044f\\u0449\\u0438\\u0439\", \"\\u0432\\u043c\\u0435\\u0441\\u0442\\u043e\", \"\\u043a\\u043b\\u0430\\u0441\\u0441\", \"\\u043d\\u0435\\u043b\\u043e\\u0432\\u043a\\u0438\\u0439\", \"\\u0438\\u0434\\u0438\\u043e\\u0442\", \"\\u0432\\u0435\\u0441\\u0442\\u0438\", \"\\u043f\\u043e\\u043b\\u0443\\u0447\\u0430\\u0442\\u044c\", \"\\u043f\\u043e\\u0434\\u043d\\u0438\\u043c\\u0430\\u0442\\u044c\", \"\\u0437\\u0432\\u0443\\u0447\\u0430\\u0442\\u044c\", \"\\u0447\\u0443\\u0434\\u043e\", \"\\u0434\\u0430\\u0440\\u0438\\u0442\\u044c\", \"\\u043c\\u043e\\u043c\\u0435\\u043d\\u0442\", \"\\u043f\\u0440\\u0430\\u043a\\u0442\\u0438\\u043a\\u0430\", \"\\u0441\\u0430\\u043c\\u044b\\u0439\", \"\\u0445\\u043e\\u0440\\u043e\\u0448\\u0438\\u0439\", \"\\u0441\\u043d\\u0435\\u0433\", \"\\u043f\\u043e\\u0441\\u0442\\u0430\\u0432\\u0438\\u0442\\u044c\", \"\\u0434\\u0435\\u0432\\u043e\\u0447\\u043a\\u0430\", \"\\u043c\\u043e\\u0447\\u044c\", \"\\u043f\\u043e\\u0447\\u0435\\u043c\\u0443\", \"\\u0434\\u0440\\u0443\\u0433\", \"\\u043d\\u0430\\u0441\\u0442\\u0440\\u043e\\u0435\\u043d\\u0438\\u0435\", \"\\u043f\\u0440\\u043e\\u0441\\u0442\\u043e\", \"\\u0435\\u0433\\u0434\\u0430\", \"\\u044d\\u0442\\u043e\", \"\\u043c\\u043e\\u0447\\u044c\", \"\\u0441\\u0442\\u043e\\u043b\\u044c\\u043a\\u043e\", \"\\u0441\\u0432\\u043e\\u0439\", \"\\u0436\\u0435\\u0447\\u044c\", \"\\u0436\\u0438\\u0437\\u043d\\u044c\", \"\\u043a\\u0430\\u0442\\u043e\\u043a\", \"\\u0440\\u0435\\u0431\\u044f\\u0442\\u0430\", \"\\u0438\\u0433\\u0440\\u0430\", \"via\", \"\\u043f\\u0440\\u0430\\u0432\\u0438\\u043b\\u043e\", \"\\u0441\\u0435\\u0440\\u0451\\u0436\\u0430\", \"\\u0436\\u0440\\u0430\\u0442\\u044c\", \"\\u043f\\u0440\\u0430\\u0432\\u044b\\u0439\", \"\\u0437\\u043e\\u043b\\u043e\\u0442\\u043e\\u0439\", \"\\u0437\\u0430\\u0431\\u044b\\u0442\\u044c\", \"\\u043f\\u043e\\u043d\\u044f\\u0442\\u044c\", \"\\u043d\\u0430\\u0439\\u0442\\u0438\", \"\\u0434\\u0435\\u043b\\u043e\", \"\\u0432\\u0435\\u0441\\u044c\", \"\\u043f\\u0440\\u0435\\u0434\\u0441\\u0442\\u0430\\u0432\\u043b\\u044f\\u0442\\u044c\", \"\\u0432\\u0438\\u0434\\u0435\\u0442\\u044c\", \"\\u0441\\u0442\\u043e\\u044f\\u0442\\u044c\", \"\\u0447\\u0438\\u0442\\u0430\\u0442\\u044c\", \"\\u0441\\u0434\\u0430\\u0432\\u0430\\u0442\\u044c\", \"\\u043b\\u044b\\u0436\\u0430\", \"\\u043a\\u043e\\u043d\\u0451\\u043a\", \"\\u0441\\u0445\\u043e\\u0434\\u0438\\u0442\\u044c\", \"\\u0443\\u0441\\u0442\\u0430\\u0442\\u044c\", \"\\u0433\\u043e\\u0434\", \"\\u043f\\u043e\\u0447\\u0435\\u043c\\u0443\", \"\\u0435\\u0449\\u0451\", \"\\u043b\\u044e\\u0431\\u0438\\u0442\\u044c\", \"follow\", \"\\u043d\\u0438\\u043a\\u0442\\u043e\", \"\\u0440\\u0435\\u0432\\u043d\\u043e\\u0432\\u0430\\u0442\\u044c\", \"\\u0431\\u044b\\u0432\\u0430\\u0442\\u044c\", \"\\u043d\\u043e\\u0447\\u043d\\u043e\\u0439\", \"\\u0440\\u0430\\u0437\\u0433\\u043e\\u0432\\u043e\\u0440\", \"\\u043f\\u043b\\u0430\\u0442\\u0444\\u043e\\u0440\\u043c\\u0430\", \"\\u0447\\u0435\\u043b\\u043e\\u0432\\u0435\\u043a\", \"\\u043e\\u043c\\u043d\\u043e\\u043c\\u043d\\u043e\\u043c\", \"\\u043a\\u043e\\u0444\\u0435\", \"\\u043f\\u0440\\u044f\\u043c\", \"\\u0445\\u043e\\u0440\\u043e\\u0448\\u0438\\u0439\", \"\\u0441\\u0432\\u043e\\u0439\", \"\\u0442\\u043e\\u043b\\u0441\\u0442\\u044b\\u0439\", \"\\u043e\\u0433\\u043b\\u044f\\u0434\\u044b\\u0432\\u0430\\u0442\\u044c\\u0441\\u044f\", \"\\u043f\\u0430\\u043b\\u0435\\u0432\\u044b\\u0439\", \"\\u0440\\u0430\\u0437\\u0431\\u043b\\u043e\\u043a\\u0438\\u0440\\u043e\\u0432\\u0430\\u0442\\u044c\", \"\\u043d\\u043e\\u043c\", \"\\u0442\\u0438\\u043f\", \"\\u0432\\u0438\\u0434\\u0435\\u0442\\u044c\", \"\\u0442\\u0435\\u043b\\u0435\\u0444\\u043e\\u043d\", \"\\u0437\\u0438\\u043c\\u0430\", \"\\u043c\\u0430\\u043c\\u0443\\u043b\\u044f\", \"\\u043f\\u043e\\u0434\\u0440\\u0443\\u0433\\u0430\", \"\\u043d\\u043e\\u043c\\u0435\\u0440\", \"\\u0432\\u0441\\u0451\", \"\\u0441\\u043f\\u0440\\u043e\\u0441\\u0438\\u0442\\u044c\", \"\\u0432\\u0442\\u043e\\u0440\\u043e\\u0439\", \"\\u043f\\u043e\\u043b\\u0443\\u0447\\u0430\\u0442\\u044c\\u0441\\u044f\", \"\\u043f\\u043e\\u0447\\u0435\\u043c\\u0443\", \"\\u0445\\u043e\\u0442\\u044f\", \"\\u0440\\u0443\\u043a\\u0430\", \"\\u0441\\u0435\\u0440\\u0434\\u0446\\u0435\", \"\\u043f\\u0440\\u044f\\u043c\\u043e\", \"\\u0432\\u0441\\u0451\", \"\\u0434\\u0440\\u0443\\u0433\", \"\\u0443\\u0440\\u043e\\u043a\", \"\\u0441\\u0438\\u0442\\u0443\\u0430\\u0446\\u0438\\u044f\", \"\\u043d\\u0435\\u043f\\u0440\\u0438\\u044f\\u0442\\u043d\\u044b\\u0439\", \"\\u043e\\u0431\\u0449\\u0438\\u0439\", \"\\u044d\\u043a\\u0437\\u0430\\u043c\\u0435\\u043d\", \"\\u043f\\u0440\\u0438\\u043d\\u0442\\u0435\\u0440\", \"\\u043a\\u0430\\u043f\\u0435\\u0446\", \"\\u0437\\u0430\\u0432\\u0430\\u043b\\u0438\\u0442\\u044c\", \"\\u043b\\u0430\\u0434\\u043d\\u044b\\u0439\", \"\\u0441\\u0438\\u043b\\u044c\\u043d\\u043e\", \"\\u0443\\u043b\\u0438\\u0446\\u0430\", \"\\u0431\\u0435\\u0434\\u0430\", \"\\u0436\\u0435\\u0441\\u0442\\u043e\\u043a\\u043e\", \"\\u0432\\u0442\\u043e\\u0440\\u043d\\u0438\\u043a\", \"\\u0440\\u0435\\u0431\\u044f\\u0442\\u043a\\u0438\", \"\\u0441\\u043b\\u0438\\u0448\\u043a\\u043e\\u043c\", \"\\u0438\\u0441\\u0442\\u043e\\u0440\\u0438\\u044f\", \"\\u043f\\u043e\\u043d\\u0435\\u0434\\u0435\\u043b\\u044c\\u043d\\u0438\\u043a\", \"\\u043b\\u0435\\u0432\\u044b\\u0439\", \"\\u043c\\u043e\\u0447\\u044c\", \"\\u043f\\u043e\\u0441\\u0442\\u0430\\u0432\\u0438\\u0442\\u044c\", \"\\u0433\\u0443\\u043b\\u044f\\u0442\\u044c\", \"\\u0441\\u0438\\u043d\\u044f\\u043a\", \"\\u0431\\u0430\\u043b\\u043b\", \"\\u043f\\u043e\\u0439\\u0442\\u0438\", \"\\u043f\\u0440\\u043e\\u0441\\u043d\\u0443\\u0442\\u044c\\u0441\\u044f\", \"\\u043b\\u0438\\u0448\\u044c\", \"\\u0441\\u0432\\u0435\\u0442\", \"\\u0443\\u0439\\u0442\\u0438\", \"\\u0443\\u0441\\u043d\\u0443\\u0442\\u044c\", \"\\u0447\\u0430\\u0432\", \"\\u0443\\u0442\\u0440\\u043e\", \"\\u0431\\u044b\\u0442\\u0438\\u0435\", \"\\u043c\\u043e\\u0447\\u044c\", \"\\u043f\\u043e\\u0441\\u043b\\u0435\\u0434\\u043d\\u0438\\u0439\", \"\\u043f\\u043e\\u0441\\u0440\\u0435\\u0434\\u0438\", \"\\u0443\\u043c\\u0435\\u0442\\u044c\", \"\\u043f\\u0440\\u0430\\u043a\\u0442\\u0438\\u043a\\u043e\\u0432\\u0430\\u0442\\u044c\", \"\\u0435\\u0434\\u0430\", \"\\u0440\\u0430\\u0437\\u0433\\u043e\\u0432\\u0430\\u0440\\u0438\\u0432\\u0430\\u0442\\u044c\", \"\\u0440\\u044b\\u0431\\u0430\", \"\\u043f\\u043e\\u043b\\u044c\\u0437\\u0430\", \"\\u0443\\u0436\\u0430\\u0441\\u043d\\u044b\\u0439\", \"\\u043c\\u043e\\u0437\\u0433\", \"\\u043e\\u043a\\u0435\\u0439\", \"\\u043c\\u0430\\u043d\", \"\\u0442\\u0435\\u0440\\u0430\\u043a\\u0442\", \"\\u043d\\u043e\\u0447\\u044c\", \"\\u0443\\u0441\\u043f\\u0435\\u0442\\u044c\", \"\\u0441\\u0442\\u0440\\u0430\\u0448\\u043d\\u043e\", \"\\u043f\\u0440\\u0438\\u0441\\u043d\\u0438\\u0442\\u044c\\u0441\\u044f\", \"\\u0436\\u0430\\u043b\\u044c\", \"\\u0441\\u0442\\u0430\\u0442\\u044c\", \"\\u043a\\u0440\\u0443\\u0442\\u043e\\u0439\", \"\\u0433\\u043b\\u0430\\u0432\\u043d\\u043e\\u0435\", \"\\u0447\\u0435\\u043b\\u043e\\u0432\\u0435\\u043a\", \"\\u0431\\u043e\\u043b\\u0435\\u0442\\u044c\", \"\\u043d\\u043e\\u0433\\u0430\", \"\\u0433\\u043e\\u043b\\u043e\\u0432\\u0430\", \"\\u0433\\u043e\\u0434\", \"\\u0441\\u0438\\u043b\\u044c\\u043d\\u043e\", \"\\u043f\\u043e\\u0439\\u0442\\u0438\", \"\\u043c\\u0430\\u043c\\u0430\", \"\\u0442\\u0440\\u0435\\u043d\\u0438\\u0440\\u043e\\u0432\\u043a\\u0430\", \"\\u0432\\u0447\\u0435\\u0440\\u0430\\u0448\\u043d\\u0438\\u0439\", \"\\u0441\\u0442\\u043e\\u0438\\u0442\\u044c\", \"\\u0435\\u043b\\u0435\", \"\\u0438\\u0434\\u0442\\u0438\", \"\\u043b\\u044b\\u0436\\u0430\", \"\\u043a\\u043e\\u043d\\u0451\\u043a\", \"\\u0442\\u0440\\u0430\\u0434\\u0438\\u0446\\u0438\\u044f\", \"\\u0432\\u0438\\u0434\\u0438\\u043c\\u043e\", \"\\u043a\\u043d\\u0438\\u0436\\u043a\\u0430\", \"\\u043f\\u043e\\u0447\\u0438\\u0442\\u0430\\u0442\\u044c\", \"\\u0441\\u0442\\u043e\\u044f\\u0442\\u044c\", \"\\u0441\\u0445\\u043e\\u0434\\u0438\\u0442\\u044c\", \"\\u0447\\u0430\\u0439\", \"\\u0441\\u0442\\u0430\\u0442\\u044c\", \"\\u0440\\u0435\\u0431\\u044f\\u0442\\u043a\\u0438\", \"\\u0438\\u0441\\u043a\\u043b\\u044e\\u0447\\u0435\\u043d\\u0438\\u0435\", \"\\u0435\\u0449\\u0451\", \"\\u043a\\u0430\\u0442\\u043e\\u043a\", \"\\u0433\\u043e\\u0440\\u043b\\u043e\", \"\\u043a\\u0430\\u0436\\u0434\\u044b\\u0439\", \"\\u0431\\u043e\\u043b\\u044c\\u043d\\u043e\", \"\\u0436\\u0438\\u0432\\u043e\\u0442\\u0438\\u043a\", \"\\u043a\\u0440\\u0443\\u0442\\u043e\", \"\\u043c\\u043e\\u0447\\u044c\", \"\\u043d\\u043e\\u0432\\u044b\\u0439\", \"\\u043e\\u0441\\u0442\\u0430\\u0442\\u044c\\u0441\\u044f\", \"\\u0441\\u043c\\u043e\\u0447\\u044c\", \"\\u0440\\u0435\\u0431\\u0451\\u043d\\u043e\\u043a\", \"\\u0432\\u0440\\u0430\\u0447\", \"\\u043e\\u043a\\u0430\\u0437\\u044b\\u0432\\u0430\\u0442\\u044c\\u0441\\u044f\", \"\\u043c\\u0438\\u043b\\u044b\\u0439\", \"\\u0434\\u043e\\u0431\\u0440\\u044b\\u0439\", \"\\u0441\\u0440\\u043e\\u043a\", \"\\u043f\\u0438\\u0432\\u043e\", \"\\u0440\\u043e\\u0432\\u043d\\u043e\", \"\\u043d\\u0435\\u0434\\u0435\\u043b\\u044f\", \"\\u0447\\u0435\\u0442\\u0430\", \"\\u043f\\u043e\\u0441\\u043b\\u0435\\u0434\\u043d\\u0438\\u0439\", \"\\u0445\\u043e\\u043b\\u043e\\u0434\\u043d\\u043e\", \"\\u043d\\u0443\\u0436\\u043d\\u043e\", \"\\u043f\\u043b\\u043e\\u0445\\u043e\", \"\\u0438\\u0431\\u043e\", \"\\u043c\\u0435\\u0441\\u044f\\u0446\", \"\\u0442\\u0435\\u0441\\u0442\", \"\\u0432\\u043e\\u0432\\u0440\\u0435\\u043c\\u044f\", \"\\u0448\\u043a\\u043e\\u043b\\u044c\\u043d\\u044b\\u0439\", \"\\u0441\\u0434\\u0430\\u0442\\u044c\", \"\\u043d\\u0435\\u043c\\u043d\\u043e\\u0433\\u043e\", \"\\u043c\\u043e\\u043c\\u0435\\u043d\\u0442\", \"\\u0440\\u0443\\u0441\\u0441\\u043a\\u0438\\u0439\", \"\\u0431\\u043e\\u044f\\u0442\\u044c\\u0441\\u044f\", \"\\u043f\\u043e\\u0436\\u0430\\u043b\\u0443\\u0439\\u0441\\u0442\\u0430\", \"\\u0430\\u0440\\u043c\\u0438\\u044f\", \"\\u043b\\u0430\\u0439\\u043a\\u043e\\u0432\\u044b\\u0439\", \"\\u043d\\u0430\\u0431\\u0438\\u0440\\u0430\\u0442\\u044c\", \"\\u0443\\u0440\\u043e\\u043a\", \"\\u043f\\u043e\\u0447\\u0435\\u043c\\u0443\", \"\\u0433\\u043e\\u0434\", \"\\u0445\\u0430\\u0440\\u0430\\u043a\\u0442\\u0435\\u0440\", \"\\u043d\\u0430\\u0440\\u0443\\u0442\\u043e\", \"\\u043f\\u0440\\u0438\\u0432\\u0435\\u0442\\u0441\\u0442\\u0432\\u043e\\u0432\\u0430\\u0442\\u044c\", \"\\u0437\\u0430\\u0434\\u0435\\u0440\\u0436\\u043a\\u0430\", \"\\u0438\\u0437\\u0431\\u0440\\u0430\\u043d\\u043d\\u044b\\u0439\", \"\\u043b\\u0438\\u0433\\u0430\", \"\\u043c\\u0430\\u0442\\u0435\\u0440\\u0438\\u0442\\u044c\\u0441\\u044f\", \"\\u0440\\u0435\\u0430\\u043b\", \"\\u0441\\u044e\\u0436\\u0435\\u0442\", \"\\u0434\\u044b\\u043a\", \"\\u043a\\u0430\\u043b\\u044c\\u044f\\u043d\", \"\\u043b\\u0438\\u0434\\u0435\\u0440\", \"\\u043f\\u0440\\u0435\\u0434\\u0443\\u043f\\u0440\\u0435\\u0436\\u0434\\u0430\\u0442\\u044c\", \"\\u0436\\u0443\\u0442\\u043a\\u0438\\u0439\", \"\\u043f\\u0440\\u0438\\u043a\\u0430\\u043b\\u044b\\u0432\\u0430\\u0442\\u044c\\u0441\\u044f\", \"\\u043e\\u0441\\u0432\\u043e\\u0431\\u043e\\u0436\\u0434\\u0435\\u043d\\u0438\\u0435\", \"\\u0431\\u0443\\u043a\\u0432\\u0430\", \"\\u0436\\u0432\\u0430\\u0447\\u043a\\u0430\", \"\\u0441\\u0442\\u0440\\u0435\\u0441\\u0441\", \"surf\", \"\\u0433\\u043e\\u043b\\u0443\\u0431\\u043e\\u0439\", \"\\u043d\\u0435\\u0434\\u043e\\u0432\\u043e\\u043b\\u044c\\u043d\\u044b\\u0439\", \"\\u0441\\u0443\\u0440\\u043e\\u0432\\u044b\\u0439\", \"\\u0440\\u0435\\u043f\\u0435\\u0440\", \"\\u043f\\u043b\\u0430\\u043d\\u0435\\u0442\\u0430\", \"\\u0441\\u043a\\u043e\\u043b\\u044c\\u0437\\u043a\\u043e\", \"\\u043e\\u0441\\u0442\\u0430\\u0442\\u043e\\u043a\", \"\\u0442\\u043e\\u043b\\u043a\", \"\\u0441\\u043f\\u043b\\u043e\\u0448\\u043d\\u043e\\u0439\", \"\\u0443\\u0442\\u0440\\u0435\\u0447\\u043a\\u043e\", \"\\u0432\\u0435\\u0447\\u0435\\u0440\", \"\\u0434\\u043e\\u043c\", \"\\u043d\\u0430\\u0448\", \"\\u043f\\u044f\\u0442\\u044c\", \"\\u0433\\u043e\\u0432\\u043e\\u0440\\u0438\\u0442\\u044c\", \"\\u0434\\u0435\\u043b\\u0430\\u0442\\u044c\", \"\\u0437\\u043d\\u0430\\u0442\\u044c\", \"\\u0440\\u0435\\u043a\\u043b\\u0430\\u043c\\u0430\", \"\\u0441\\u043c\\u043e\\u0442\\u0440\\u0435\\u0442\\u044c\", \"\\u044d\\u043a\\u0440\\u0430\\u043d\", \"\\u0431\\u0438\\u0442\\u044c\\u0441\\u044f\", \"\\u0432\\u043e\\u0434\\u0430\", \"\\u0437\\u0430\\u043b\\u0438\\u0432\\u0430\\u0442\\u044c\", \"\\u043f\\u043e\\u043b\", \"\\u043f\\u0440\\u0438\\u0432\\u0435\\u0442\", \"\\u0446\\u0432\\u0435\\u0442\\u043e\\u043a\", \"\\u0447\\u0430\\u0439\\u043a\\u0430\", \"\\u0448\\u043a\\u043e\\u043b\\u0430\", \"\\u0434\\u0443\\u0440\\u0430\\u0446\\u043a\\u0438\\u0439\", \"\\u0435\\u0433\\u0434\\u0430\", \"\\u043f\\u043e\\u0445\\u0443\\u0439\", \"\\u043f\\u0440\\u043e\\u0441\\u0442\\u043e\", \"\\u0434\\u0430\\u0432\\u043d\\u043e\", \"\\u043f\\u0430\\u0440\\u0435\\u043d\\u044c\", \"\\u0447\\u0430\\u0441\\u0442\\u043e\", \"\\u0431\\u043e\\u043b\\u0435\\u0442\\u044c\", \"\\u0433\\u043e\\u0441\\u043f\\u043e\\u0434\\u044c\", \"\\u043d\\u043e\\u0433\\u0430\", \"\\u043f\\u044f\\u0442\\u044b\\u0439\", \"\\u0445\\u0430\\u0440\\u0430\\u043a\\u0442\\u0435\\u0440\", \"\\u043d\\u0430\\u0440\\u0443\\u0442\\u043e\", \"\\u043f\\u0440\\u0438\\u0432\\u0435\\u0442\\u0441\\u0442\\u0432\\u043e\\u0432\\u0430\\u0442\\u044c\", \"\\u0437\\u0430\\u0434\\u0435\\u0440\\u0436\\u043a\\u0430\", \"\\u0438\\u0437\\u0431\\u0440\\u0430\\u043d\\u043d\\u044b\\u0439\", \"\\u043b\\u0438\\u0433\\u0430\", \"\\u043c\\u0430\\u0442\\u0435\\u0440\\u0438\\u0442\\u044c\\u0441\\u044f\", \"\\u0440\\u0435\\u0430\\u043b\", \"\\u0441\\u044e\\u0436\\u0435\\u0442\", \"\\u0434\\u044b\\u043a\", \"\\u043a\\u0430\\u043b\\u044c\\u044f\\u043d\", \"\\u043b\\u0438\\u0434\\u0435\\u0440\", \"\\u043f\\u0440\\u0435\\u0434\\u0443\\u043f\\u0440\\u0435\\u0436\\u0434\\u0430\\u0442\\u044c\", \"\\u0436\\u0443\\u0442\\u043a\\u0438\\u0439\", \"\\u043f\\u0440\\u0438\\u043a\\u0430\\u043b\\u044b\\u0432\\u0430\\u0442\\u044c\\u0441\\u044f\", \"\\u043e\\u0441\\u0432\\u043e\\u0431\\u043e\\u0436\\u0434\\u0435\\u043d\\u0438\\u0435\", \"\\u0431\\u0443\\u043a\\u0432\\u0430\", \"\\u0436\\u0432\\u0430\\u0447\\u043a\\u0430\", \"\\u0441\\u0442\\u0440\\u0435\\u0441\\u0441\", \"surf\", \"\\u0433\\u043e\\u043b\\u0443\\u0431\\u043e\\u0439\", \"\\u043d\\u0435\\u0434\\u043e\\u0432\\u043e\\u043b\\u044c\\u043d\\u044b\\u0439\", \"\\u0441\\u0443\\u0440\\u043e\\u0432\\u044b\\u0439\", \"\\u0440\\u0435\\u043f\\u0435\\u0440\", \"\\u043f\\u043b\\u0430\\u043d\\u0435\\u0442\\u0430\", \"\\u0441\\u043a\\u043e\\u043b\\u044c\\u0437\\u043a\\u043e\", \"\\u043e\\u0441\\u0442\\u0430\\u0442\\u043e\\u043a\", \"\\u0442\\u043e\\u043b\\u043a\", \"\\u0441\\u043f\\u043b\\u043e\\u0448\\u043d\\u043e\\u0439\", \"\\u0443\\u0442\\u0440\\u0435\\u0447\\u043a\\u043e\", \"\\u0432\\u0435\\u0447\\u0435\\u0440\", \"\\u0434\\u043e\\u043c\", \"\\u043d\\u0430\\u0448\", \"\\u043f\\u044f\\u0442\\u044c\", \"\\u0433\\u043e\\u0432\\u043e\\u0440\\u0438\\u0442\\u044c\", \"\\u0434\\u0435\\u043b\\u0430\\u0442\\u044c\", \"\\u0437\\u043d\\u0430\\u0442\\u044c\", \"\\u0440\\u0435\\u043a\\u043b\\u0430\\u043c\\u0430\", \"\\u0441\\u043c\\u043e\\u0442\\u0440\\u0435\\u0442\\u044c\", \"\\u044d\\u043a\\u0440\\u0430\\u043d\", \"\\u0431\\u0438\\u0442\\u044c\\u0441\\u044f\", \"\\u0432\\u043e\\u0434\\u0430\", \"\\u0437\\u0430\\u043b\\u0438\\u0432\\u0430\\u0442\\u044c\", \"\\u043f\\u043e\\u043b\", \"\\u043f\\u0440\\u0438\\u0432\\u0435\\u0442\", \"\\u0446\\u0432\\u0435\\u0442\\u043e\\u043a\", \"\\u0447\\u0430\\u0439\\u043a\\u0430\", \"\\u0448\\u043a\\u043e\\u043b\\u0430\", \"\\u0434\\u0443\\u0440\\u0430\\u0446\\u043a\\u0438\\u0439\", \"\\u0435\\u0433\\u0434\\u0430\", \"\\u043f\\u043e\\u0445\\u0443\\u0439\", \"\\u043f\\u0440\\u043e\\u0441\\u0442\\u043e\", \"\\u0434\\u0430\\u0432\\u043d\\u043e\", \"\\u043f\\u0430\\u0440\\u0435\\u043d\\u044c\", \"\\u0447\\u0430\\u0441\\u0442\\u043e\", \"\\u0431\\u043e\\u043b\\u0435\\u0442\\u044c\", \"\\u0433\\u043e\\u0441\\u043f\\u043e\\u0434\\u044c\", \"\\u043d\\u043e\\u0433\\u0430\", \"\\u043f\\u044f\\u0442\\u044b\\u0439\", \"\\u0445\\u0430\\u0440\\u0430\\u043a\\u0442\\u0435\\u0440\", \"\\u043d\\u0430\\u0440\\u0443\\u0442\\u043e\", \"\\u043f\\u0440\\u0438\\u0432\\u0435\\u0442\\u0441\\u0442\\u0432\\u043e\\u0432\\u0430\\u0442\\u044c\", \"\\u0437\\u0430\\u0434\\u0435\\u0440\\u0436\\u043a\\u0430\", \"\\u0438\\u0437\\u0431\\u0440\\u0430\\u043d\\u043d\\u044b\\u0439\", \"\\u043b\\u0438\\u0433\\u0430\", \"\\u043c\\u0430\\u0442\\u0435\\u0440\\u0438\\u0442\\u044c\\u0441\\u044f\", \"\\u0440\\u0435\\u0430\\u043b\", \"\\u0441\\u044e\\u0436\\u0435\\u0442\", \"\\u0434\\u044b\\u043a\", \"\\u043a\\u0430\\u043b\\u044c\\u044f\\u043d\", \"\\u043b\\u0438\\u0434\\u0435\\u0440\", \"\\u043f\\u0440\\u0435\\u0434\\u0443\\u043f\\u0440\\u0435\\u0436\\u0434\\u0430\\u0442\\u044c\", \"\\u0436\\u0443\\u0442\\u043a\\u0438\\u0439\", \"\\u043f\\u0440\\u0438\\u043a\\u0430\\u043b\\u044b\\u0432\\u0430\\u0442\\u044c\\u0441\\u044f\", \"\\u043e\\u0441\\u0432\\u043e\\u0431\\u043e\\u0436\\u0434\\u0435\\u043d\\u0438\\u0435\", \"\\u0431\\u0443\\u043a\\u0432\\u0430\", \"\\u0436\\u0432\\u0430\\u0447\\u043a\\u0430\", \"\\u0441\\u0442\\u0440\\u0435\\u0441\\u0441\", \"surf\", \"\\u0433\\u043e\\u043b\\u0443\\u0431\\u043e\\u0439\", \"\\u043d\\u0435\\u0434\\u043e\\u0432\\u043e\\u043b\\u044c\\u043d\\u044b\\u0439\", \"\\u0441\\u0443\\u0440\\u043e\\u0432\\u044b\\u0439\", \"\\u0440\\u0435\\u043f\\u0435\\u0440\", \"\\u043f\\u043b\\u0430\\u043d\\u0435\\u0442\\u0430\", \"\\u0441\\u043a\\u043e\\u043b\\u044c\\u0437\\u043a\\u043e\", \"\\u043e\\u0441\\u0442\\u0430\\u0442\\u043e\\u043a\", \"\\u0442\\u043e\\u043b\\u043a\", \"\\u0441\\u043f\\u043b\\u043e\\u0448\\u043d\\u043e\\u0439\", \"\\u0443\\u0442\\u0440\\u0435\\u0447\\u043a\\u043e\", \"\\u0432\\u0435\\u0447\\u0435\\u0440\", \"\\u0434\\u043e\\u043c\", \"\\u043d\\u0430\\u0448\", \"\\u043f\\u044f\\u0442\\u044c\", \"\\u0433\\u043e\\u0432\\u043e\\u0440\\u0438\\u0442\\u044c\", \"\\u0434\\u0435\\u043b\\u0430\\u0442\\u044c\", \"\\u0437\\u043d\\u0430\\u0442\\u044c\", \"\\u0440\\u0435\\u043a\\u043b\\u0430\\u043c\\u0430\", \"\\u0441\\u043c\\u043e\\u0442\\u0440\\u0435\\u0442\\u044c\", \"\\u044d\\u043a\\u0440\\u0430\\u043d\", \"\\u0431\\u0438\\u0442\\u044c\\u0441\\u044f\", \"\\u0432\\u043e\\u0434\\u0430\", \"\\u0437\\u0430\\u043b\\u0438\\u0432\\u0430\\u0442\\u044c\", \"\\u043f\\u043e\\u043b\", \"\\u043f\\u0440\\u0438\\u0432\\u0435\\u0442\", \"\\u0446\\u0432\\u0435\\u0442\\u043e\\u043a\", \"\\u0447\\u0430\\u0439\\u043a\\u0430\", \"\\u0448\\u043a\\u043e\\u043b\\u0430\", \"\\u0434\\u0443\\u0440\\u0430\\u0446\\u043a\\u0438\\u0439\", \"\\u0435\\u0433\\u0434\\u0430\", \"\\u043f\\u043e\\u0445\\u0443\\u0439\", \"\\u043f\\u0440\\u043e\\u0441\\u0442\\u043e\", \"\\u0434\\u0430\\u0432\\u043d\\u043e\", \"\\u043f\\u0430\\u0440\\u0435\\u043d\\u044c\", \"\\u0447\\u0430\\u0441\\u0442\\u043e\", \"\\u0431\\u043e\\u043b\\u0435\\u0442\\u044c\", \"\\u0433\\u043e\\u0441\\u043f\\u043e\\u0434\\u044c\", \"\\u043d\\u043e\\u0433\\u0430\", \"\\u043f\\u044f\\u0442\\u044b\\u0439\"], \"Freq\": [1491.0, 1448.0, 1194.0, 1079.0, 1241.0, 1150.0, 1030.0, 741.0, 818.0, 776.0, 788.0, 651.0, 694.0, 519.0, 624.0, 565.0, 512.0, 539.0, 451.0, 487.0, 467.0, 513.0, 497.0, 397.0, 458.0, 430.0, 448.0, 432.0, 365.0, 431.0, 1487.01198196574, 1444.2229420020612, 153.26377023108728, 79.6748026138626, 4.5971073273664675, 0.15132805017801296, 0.15106326314584903, 0.1509485965777825, 0.15098366013099454, 0.15083366080777194, 0.1508834093270317, 0.15082158710058147, 0.15082683653849038, 0.15078029152236477, 0.15081334952109365, 0.15078321236345768, 0.15077708801923062, 0.15076022251743612, 0.15076022251743612, 0.15076022251743612, 0.15078144909072416, 0.15075734205663482, 0.15082259660787165, 0.15076022251743612, 0.15076022251743612, 0.15075514806079085, 0.15076022251743612, 0.150740920738048, 0.15074936021899385, 0.1507414726020333, 0.15085230304239716, 0.15076209347094724, 0.15075473079777757, 1145.9136117494554, 689.7874259141079, 509.20994713740424, 324.88024417570495, 59.51871419204587, 35.12539839293175, 0.15725144976628894, 0.1570954014489288, 0.15708092012646094, 0.15718691133915708, 0.1570250704928098, 0.1570250704928098, 0.1570250704928098, 0.1570250704928098, 0.1570240809357745, 0.15706788693623983, 0.15703922598552217, 0.15697176715835928, 0.15700638958682625, 0.15696940187568953, 0.1569693777401521, 0.1569693777401521, 0.15696504541118045, 0.15696504541118045, 0.15696504541118045, 0.1569693777401521, 0.1569693777401521, 0.15695616353340014, 0.15695621180447505, 0.15692525797769996, 0.15706695771804816, 0.1570714469280132, 0.15697558057327582, 0.15698326774195254, 620.3504271101302, 493.3654666802029, 405.06308135729984, 338.35319103927156, 325.92724834769126, 246.75752969612657, 113.68507689012041, 81.75308561118392, 59.49827701695627, 43.081528199437024, 21.6373801109523, 0.14625744312591737, 0.14619807317648825, 0.1462014559105121, 0.14608092375608334, 0.1459698039107104, 0.14593063541148688, 0.14597329346791396, 0.146036805782867, 0.14588493882905942, 0.14588030982460573, 0.1458780784070742, 0.14591928841595422, 0.14587855317676177, 0.14587806653783203, 0.1458780784070742, 0.14595345996421621, 0.1459255791143144, 0.1458780902763164, 0.1459496024605048, 0.1460107171885357, 0.14597424300728906, 0.1459288787636429, 0.14588441658240311, 0.14592014300139183, 0.14588340769681704, 0.14588499817527037, 1237.3896077669835, 1026.196382730117, 112.4460889437611, 83.90132364814957, 75.97743630070721, 57.28096826987059, 0.143832205923463, 0.14374110388299027, 0.14390659840651235, 0.14378630537807133, 0.1437286111774403, 0.14376337201788303, 0.14369976971462728, 0.14371267959536257, 0.14369912703934176, 0.14374871451137133, 0.14372433795054187, 0.14371141679480157, 0.14369412093711775, 0.14369797698883083, 0.14367594562904326, 0.14366900022595772, 0.14368461610789518, 0.1436688536508926, 0.1436688536508926, 0.1436688762009026, 0.14367027430152374, 0.14367546080382787, 0.1436688536508926, 0.14375536676432665, 0.14370226149073426, 0.14374118280802534, 0.143694425362253, 0.1436850107330705, 0.1436715032770697, 0.14368895698482365, 0.14367807660498996, 784.2305750400031, 560.8693032879777, 534.7463827455828, 427.05226256178355, 105.69092090205108, 24.27224131413776, 0.15984206657650288, 0.1598521349853611, 0.1599021279623896, 0.15960842058589128, 0.15955415153489483, 0.15951724858021726, 0.15957041588766582, 0.1594841308236695, 0.15952911686714874, 0.15949802806406535, 0.15948798147191104, 0.15946957908215606, 0.15951475056761863, 0.15945684903541982, 0.15947037539184908, 0.15948225458713253, 0.15944284271150436, 0.15946856460542388, 0.15944063922440863, 0.15944063922440863, 0.15944063922440863, 0.15944063922440863, 0.15959779585108314, 0.1594438680965885, 0.15948181825305416, 0.15949930434124457, 0.15949850803155155, 0.15953388381695485, 0.1594900213337274, 0.15946822644651315, 647.439036624658, 428.1951488451749, 287.63713499537096, 193.49107643624438, 183.40466881328317, 139.1241819647807, 118.75375301891842, 82.60263517652592, 67.24710120216021, 0.17914410015681234, 0.17915365532764294, 0.17895259271606345, 0.17907549685841748, 0.17883011279905286, 0.1787818723171427, 0.17877207473183013, 0.17877207473183013, 0.17903632671837402, 0.1787721151342438, 0.17873799529590784, 0.17873747006453025, 0.17881354780945222, 0.17876078225721215, 0.17867925018644606, 0.17872151111113452, 0.17867931079006655, 0.17864347384915005, 0.17863749429192835, 0.17863636302434585, 0.17871688503477043, 0.1786640790801167, 0.17863854475468352, 771.7599124913665, 453.7382189286609, 190.91978887830263, 156.07622809933895, 143.6650552914703, 123.26859931958204, 99.54568820705006, 80.25573738057875, 56.02705376283904, 36.41603836876333, 20.165268885686995, 0.16328501734250306, 0.16299471545081892, 0.16288644978294037, 0.16288644978294037, 0.16288889896539716, 0.16289040388473805, 0.16274617752986362, 0.16276014475511913, 0.16277030541968882, 0.1627532595032326, 0.16270270208223725, 0.16270277093475613, 0.16271078733516686, 0.16275266933878518, 0.16268474141088757, 0.16271194799191346, 0.16273806276871164, 0.16274515457815475, 0.16264899711752237, 0.16271143651605902, 0.1627086430710079, 814.5478071717855, 444.40172090887853, 279.7136477069383, 277.4659522769453, 101.3516667884406, 62.66938053688457, 43.33743414466441, 0.17471595695180686, 0.17438233445550813, 0.17456790405719205, 0.17428570400038837, 0.17441912231039494, 0.17422200615571734, 0.17419803075498297, 0.17419459747759783, 0.17419866370556236, 0.17420050501633877, 0.17416260470285788, 0.1741910874789303, 0.17418374141614532, 0.17419166288854793, 0.17414756733151732, 0.1740736847366143, 0.17405266310525042, 0.17405266310525042, 0.17405755408700024, 0.17405266310525042, 0.17405266310525042, 0.17405266310525042, 0.17408498194544034, 0.17406865949262038, 0.1740642096582441, 0.17405310425262394, 0.17405273982653277, 508.0943784536449, 483.20312610066304, 330.9077325748427, 235.84311160204825, 216.40989009521323, 20.46029816212788, 0.17666677319720123, 0.1765655999763713, 0.17637942156722206, 0.176360142945848, 0.1763569093393459, 0.17631455612374747, 0.17625635120670932, 0.17625635120670932, 0.17625635120670932, 0.17625635120670932, 0.17641669591173836, 0.1762584952284118, 0.176221150588102, 0.17620449048503672, 0.17620449048503672, 0.17620449048503672, 0.17620449048503672, 0.17620449048503672, 0.17620449048503672, 0.17619384067231778, 0.17619384067231778, 0.17619384067231778, 0.17619384067231778, 0.17619384067231778, 0.17620449048503672, 0.1762267215297388, 0.17619890196945154, 0.1762077592394356, 0.17620132717432813, 0.17622459508198468, 462.7857557775737, 355.52034918027516, 259.39871244536755, 252.4991062222878, 155.54217420906832, 49.428218242942314, 45.38673478082069, 0.20561825599422673, 0.20529974278280022, 0.20525854490172818, 0.2051884917567996, 0.2051884917567996, 0.2051884917567996, 0.2051884917567996, 0.2051884917567996, 0.2051884917567996, 0.20525628404240107, 0.20500886229648305, 0.20501685066610553, 0.2049689706896889, 0.2049689706896889, 0.2049689706896889, 0.2049689706896889, 0.2049689706896889, 0.2049689706896889, 0.2049629919728016, 0.2049629919728016, 0.2049736598794044, 0.2049689706896889, 0.20496922189628078, 0.20501381943989658, 426.67621583668836, 350.507418296875, 297.6797077673801, 297.33605301213953, 244.8497934467027, 22.674702838787617, 0.1865143305434757, 0.18609367896527404, 0.18591044678143218, 0.18572564637167013, 0.18572564637167013, 0.18573839237808507, 0.18572564637167013, 0.18572564637167013, 0.18570135555316208, 0.18560374183125927, 0.18561463599642805, 0.18560597738735823, 0.18559401549390336, 0.18557726550641568, 0.18557641466043773, 0.18557641466043773, 0.18557718209014334, 0.18560392534705844, 0.18557716540688887, 0.18561583719074987, 0.18573630697127633, 0.18559269751680027, 0.18558689174424475, 0.18554765272973178, 0.1858052755452545, 0.18571088169146435, 0.1856146026299191, 0.18557746570546932, 1190.6793702997386, 375.25811146903925, 0.20512527941801448, 0.2052343750114184, 0.2049435366445636, 0.20504642435751905, 0.20479473058802292, 0.20486188554139967, 0.2048250709795981, 0.2047947971604674, 0.20476758567378311, 0.20473799422220842, 0.20473799422220842, 0.20473799422220842, 0.20473799422220842, 0.2047399581093208, 0.20473799422220842, 0.20470522393640944, 0.20470124623285132, 0.20470384255818633, 0.20470470799996468, 0.20471535959108267, 0.20462908170302688, 0.20471176467908034, 0.20464737248214981, 0.20466877552305254, 0.20460937625945858, 0.20461155650701554, 0.20461155650701554, 0.20461155650701554, 0.20462854912347098, 0.20470264425418555, 0.20466972418038648, 0.20461163972257115, 1074.864742465167, 86.80363349758596, 0.23414201599379275, 0.23368908024153837, 0.2334065559604292, 0.23330612307021711, 0.23330646914191347, 0.23309898474029656, 0.2332741402776126, 0.23301363480818382, 0.2330141250764203, 0.23301465860361886, 0.2331390713784573, 0.23309490397821042, 0.23285951754607515, 0.2328473617777408, 0.2328473617777408, 0.2328473617777408, 0.2328473617777408, 0.2328473617777408, 0.23291576861638633, 0.2328473617777408, 0.23284923633276272, 0.2328173544777363, 0.23286682831066058, 0.232713763683295, 0.2328173400580823, 0.232713763683295, 0.232713763683295, 0.2326682985141868, 0.23268054080044523, 446.85834135327025, 361.49497331349204, 127.31987845989623, 77.45766179390398, 0.24428084818059673, 0.2442432236624899, 0.24421630619406878, 0.2440900283943402, 0.2440900283943402, 0.24409114541479088, 0.24400123889071226, 0.24394961075037017, 0.24394961075037017, 0.24391740786810928, 0.24391740786810928, 0.24394745844267252, 0.24390482095473826, 0.24385689805296426, 0.24385689805296426, 0.24385689805296426, 0.243871419318823, 0.24385697978616797, 0.24385689805296426, 0.24385689805296426, 0.24384164118827212, 0.24418985188046868, 0.24385689805296426, 0.24385106775109974, 0.2437997937879737, 0.24378085892911475, 0.24387577842302074, 393.60330725772843, 253.2193743410513, 144.40115267689035, 74.8265032317486, 41.399182086709224, 0.2570935012714021, 0.25673685170889593, 0.2566316820978563, 0.2569472436079654, 0.2566316820978563, 0.25650852329464535, 0.25650852329464535, 0.25650852329464535, 0.25649761915766306, 0.25650852329464535, 0.25646651339491877, 0.25646651339491877, 0.2564844235716047, 0.25646653973341393, 0.25646651339491877, 0.25645186919162855, 0.25644112308561695, 0.2565150289029416, 0.2564414654860536, 0.25644112308561695, 0.25642510928058015, 0.25642360798635794, 0.25646651339491877, 0.2564231338934457, 0.2563522306645655, 0.2564743359279713, 737.0511070875378, 215.40473912372, 0.23990992045657122, 0.24001520171703197, 0.23954060006472663, 0.23954242877148402, 0.23943897621778065, 0.2393563447967292, 0.23935503857761678, 0.23929975938477932, 0.23920223706584634, 0.23929364627933322, 0.23916555843316967, 0.23916555843316967, 0.2391511377741686, 0.2391511377741686, 0.2391522611226053, 0.2391522611226053, 0.23916555843316967, 0.23916555843316967, 0.2391522611226053, 0.23924171100742356, 0.2391522611226053, 0.2391511377741686, 0.23916644666216613, 0.23916555843316967, 0.23913044726342791, 0.23915717250646795, 0.23914701012177336, 0.2391147465096967, 0.2391573553771437, 0.23944391372602558, 0.23915445557071413, 515.187800264692, 142.28589514439767, 140.67838552115114, 0.2771430103245926, 0.2771430103245926, 0.2771450233122889, 0.2771430103245926, 0.2770469546809316, 0.2770469546809316, 0.2770469546809316, 0.2770469546809316, 0.27699188140216413, 0.27706976854148946, 0.2769257366910671, 0.2769053487387586, 0.2769257366910671, 0.27693696296860404, 0.27687776048430573, 0.2768006991860866, 0.2768006991860866, 0.2768006991860866, 0.2767795886228102, 0.2767821177611978, 0.2768006991860866, 0.27682877778369624, 0.2767795628152756, 0.2767253153776143, 0.27669811423617996, 0.27669767550809227, 0.27669767550809227, 0.27682877778369624, 0.27678696957769655, 0.2767396385592994, 0.40026766478380404, 0.40026766478380404, 0.40026766478380404, 0.40026766478380404, 0.40026766478380404, 0.40026766478380404, 0.40026766478380404, 0.40026766478380404, 0.40026766478380404, 0.40026766478380404, 0.40026766478380404, 0.40026766478380404, 0.40026766478380404, 0.40026766478380404, 0.40026766478380404, 0.40026766478380404, 0.40026766478380404, 0.40026766478380404, 0.40026766478380404, 0.40026766478380404, 0.40026766478380404, 0.40026766478380404, 0.40026766478380404, 0.40026766478380404, 0.40026766478380404, 0.40026766478380404, 0.40026766478380404, 0.40026766478380404, 0.40026766478380404, 0.40026766478380404, 0.40026766478380404, 0.40026766478380404, 0.40026766478380404, 0.40026766478380404, 0.40026766478380404, 0.40026766478380404, 0.40026766478380404, 0.40026766478380404, 0.40026766478380404, 0.40026766478380404, 0.40026766478380404, 0.40026766478380404, 0.40026766478380404, 0.40026766478380404, 0.40026766478380404, 0.40026766478380404, 0.40026766478380404, 0.40026766478380404, 0.40026766478380404, 0.40026766478380404, 0.40026766478380404, 0.40026766478380404, 0.40026766478380404, 0.40026766478380404, 0.40026766478380404, 0.40026766478380404, 0.40026766478380404, 0.40026766478380404, 0.40026766478380404, 0.40026766478380404, 0.40026766478380404, 0.40026766478380404, 0.40026766478380404, 0.40026766478380404, 0.40026766478380404, 0.40026766478380404, 0.40026766478380404, 0.40026766478380404, 0.40026766478380404, 0.40026766478380404, 0.40026766478380404, 0.40026766478380404, 0.40026766478380404, 0.40026766478380404, 0.40026766478380404, 0.40026766478380404, 0.40026766478380404, 0.40026766478380404, 0.40026766478380404, 0.40026766478380404, 0.40026766478380404, 0.40026766478380404, 0.40026766478380404, 0.40026766478380404, 0.40026766478380404, 0.40026766478380404, 0.40026766478380404, 0.40026766478380404, 0.40026766478380404, 0.40026766478380404, 0.40026766478380404, 0.40026766478380404, 0.40026766478380404, 0.40026766478380404, 0.40026766478380404, 0.40026766478380404, 0.40026766478380404, 0.40026766478380404, 0.40026766478380404, 0.40026766478380404, 0.40026766478380404, 0.40026766478380404, 0.40026766478380404, 0.40026766478380404, 0.40026766478380404, 0.40026766478380404, 0.40026766478380404, 0.40026766478380404, 0.40026766478380404, 0.40026766478380404, 0.40026766478380404, 0.40026766478380404, 0.40026766478380404, 0.40026766478380404, 0.40026766478380404, 0.40026766478380404, 0.40026766478380404, 0.40026766478380404, 0.40026766478380404, 0.40026766478380404, 0.40026766478380404, 0.40026766478380404, 0.40026766478380404, 0.40026766478380404, 0.40026766478380404, 0.40026766478380404, 0.40026766478380404, 0.40026766478380404, 0.40026766478380404, 0.40026766478380404, 0.40026766478380404, 0.40026766478380404, 0.40026766478380404, 0.40026766478380404, 0.40026766478380404, 0.40026766478380404, 0.40026766478380404, 0.40026766478380404, 0.40026766478380404, 0.40026766478380404, 0.40026766478380404, 0.40026766478380404, 0.40026766478380404, 0.40026766478380404, 0.40026766478380404, 0.40026766478380404, 0.40026766478380404, 0.40026766478380404, 0.40026766478380404, 0.40026766478380404, 0.40026766478380404, 0.40026766478380404, 0.40026766478380404, 0.40026766478380404, 0.40026766478380404, 0.40026766478380404, 0.40026766478380404, 0.40026766478380404, 0.40026766478380404, 0.40026766478380404, 0.40026766478380404, 0.40026766478380404, 0.40026766478380404, 0.40026766478380404, 0.40026766478380404, 0.40026766478380404, 0.40026766478380404, 0.40026766478380404, 0.40026766478380404, 0.40026766478380404, 0.40026766478380404, 0.40026766478380404, 0.40026766478380404, 0.40026766478380404, 0.40026766478380404, 0.40026766478380404, 0.40026766478380404], \"Total\": [1491.0, 1448.0, 1194.0, 1079.0, 1241.0, 1150.0, 1030.0, 741.0, 818.0, 776.0, 788.0, 651.0, 694.0, 519.0, 624.0, 565.0, 512.0, 539.0, 451.0, 487.0, 467.0, 513.0, 497.0, 397.0, 458.0, 430.0, 448.0, 432.0, 365.0, 431.0, 1491.3495866387523, 1448.5605466750735, 157.601374904099, 84.01240730444823, 8.934712000378196, 4.489609433089589, 4.492165142010134, 4.488940146212815, 4.492165750576518, 4.488718074620707, 4.490277394751004, 4.488805495395979, 4.48928717248083, 4.48864348622355, 4.4896901560215445, 4.488988303662574, 4.4888970647688, 4.488415471547883, 4.488415471547883, 4.488449280875693, 4.489129507157149, 4.488452309321803, 4.490489951854003, 4.48870675523004, 4.488711672108583, 4.4885820553605695, 4.4889129436217035, 4.488352152106091, 4.488629303834024, 4.488658122257272, 4.492937822901801, 4.4899287789817075, 4.491305456660521, 1150.2450440610078, 694.1188582256594, 513.541379448956, 329.2116764872569, 63.850146503597784, 39.456830704483664, 4.4894826934197445, 4.489525627994921, 4.489685434630872, 4.492937822901801, 4.488457809058826, 4.48845824165997, 4.488494419726153, 4.488667333187305, 4.488642636593944, 4.490495767416654, 4.49028273803277, 4.488407205200273, 4.489458462337909, 4.4884017134276, 4.488403647238231, 4.488454937436595, 4.488397478103966, 4.4883976665453265, 4.488407300743127, 4.488547955975321, 4.488627021949579, 4.488487927594252, 4.488747280277442, 4.48836077703605, 4.492618359781304, 4.495405396074754, 4.489956525337111, 4.490815827395664, 624.6928836065075, 497.7079231765805, 409.4055378536774, 342.69564753564913, 330.2697048440688, 251.0999861925041, 118.02753338649794, 86.09554210756144, 63.840733513333824, 47.423984695814575, 25.979836607329847, 4.492165142010134, 4.491305456660521, 4.492618359781304, 4.490110208163739, 4.4893712813514455, 4.4883987282663425, 4.490107238034992, 4.493021768844458, 4.488354180700782, 4.488379060130848, 4.488404716590783, 4.4896901560215445, 4.488462651186367, 4.488459653324119, 4.48846402419732, 4.490815827395664, 4.49009652654161, 4.488658122257272, 4.490897005166175, 4.492937822901801, 4.492165750576518, 4.490602670524631, 4.4889633912391425, 4.493730034433261, 4.489872580857737, 4.491066026923959, 1241.7342749889751, 1030.5410499521086, 116.79075616575224, 88.24599087014072, 80.32210352269836, 61.625635491861765, 4.489886340240626, 4.488408325874165, 4.493730034433261, 4.490042956378029, 4.488821804335054, 4.489950692186233, 4.488367184376998, 4.488788769079093, 4.488391579177878, 4.490107238034992, 4.489370122422541, 4.489081804978949, 4.488576842168772, 4.488930074273826, 4.488545440376514, 4.48835440318443, 4.4889011313018266, 4.488456999481488, 4.488479750028031, 4.488529973224295, 4.488585818536251, 4.488755126493608, 4.4885513774128905, 4.491305456660521, 4.489872580857737, 4.492165142010134, 4.490202720440264, 4.489685434630872, 4.488827947681604, 4.493021768844458, 4.491066026923959, 788.5594895157245, 565.1982177636991, 539.0752972213041, 431.3811770375052, 110.01983537777267, 28.60115578985938, 4.489967561830546, 4.492937822901801, 4.495405396074754, 4.49009652654161, 4.489012624536851, 4.489015238015052, 4.491066026923959, 4.488702930722851, 4.490000132664874, 4.489172895636991, 4.488987692088488, 4.4884970466819585, 4.489950692186233, 4.488372147832404, 4.489006836204474, 4.489372250246011, 4.488358231279859, 4.489129507157149, 4.488355114946027, 4.488386336799292, 4.488419694480421, 4.488453821411706, 4.493021768844458, 4.488739143006347, 4.489872580857737, 4.490602670524631, 4.490715801029106, 4.492165142010134, 4.490489951854003, 4.490641182904751, 651.7488171550501, 432.50492937556726, 291.9469155257633, 197.8008569666367, 187.71444934367548, 143.433962495173, 123.06353354931072, 86.91241572609854, 71.55688173255251, 4.489191293148203, 4.489956525337111, 4.489336048873991, 4.493730034433261, 4.489235433118926, 4.488562419392735, 4.488555882681057, 4.488738629318638, 4.495405396074754, 4.488995804491282, 4.488689004680719, 4.488827348178549, 4.490897005166175, 4.491066026923959, 4.489084554262795, 4.49028273803277, 4.489335720152596, 4.488539774014731, 4.488497368721409, 4.48852555019378, 4.490815827395664, 4.490202720440264, 4.489115230967931, 776.08568148674, 458.0639879240347, 195.24555787367632, 160.40199709471264, 147.990824286844, 127.59436831495573, 103.87145720242376, 84.58150637595244, 60.35282275821277, 40.74180736413706, 24.49103788106072, 4.489056196900347, 4.490000132664874, 4.488655457025908, 4.488783133251203, 4.490387964854623, 4.491305456660521, 4.488543804255797, 4.4893712916126916, 4.489685434630872, 4.4894607874296675, 4.488502803998311, 4.488541038482077, 4.489146533265947, 4.490318142549591, 4.488556164259655, 4.489372250246011, 4.490602670524631, 4.491066026923959, 4.488419248524208, 4.490277394751004, 4.490202720440264, 818.8622003895528, 448.71611412664595, 284.0280409247057, 281.7803454947127, 105.66606000620799, 66.98377375465195, 47.65182736243182, 4.493730034433261, 4.489872580857737, 4.495405396074754, 4.489045378170479, 4.493021768844458, 4.488808611060926, 4.4885951250303915, 4.489008697732731, 4.489854816987872, 4.490054481507893, 4.489339757003212, 4.490270734020595, 4.490318142549591, 4.49079525642202, 4.489872404302666, 4.488543290819317, 4.488445903422675, 4.488446881381822, 4.488617353198366, 4.488543508614763, 4.488545585421239, 4.488682125720496, 4.489525627994921, 4.48928717248083, 4.491305456660521, 4.488981544002349, 4.489005490380101, 512.4066108738429, 487.51535852086107, 335.21996499504075, 240.1553440222462, 220.72212251541117, 24.77253058232586, 4.490641182904751, 4.4891614416713965, 4.490277394751004, 4.489950692186233, 4.49028273803277, 4.489335720152596, 4.488586246899251, 4.488586246899251, 4.488770184310707, 4.488833465546727, 4.492937822901801, 4.489331742376665, 4.4888285210284185, 4.4884369106830135, 4.488438106188966, 4.488440157953163, 4.488460494771162, 4.48847394835514, 4.488482975211949, 4.488426260870295, 4.488426260870295, 4.488426284608779, 4.488426376025439, 4.488427257698651, 4.488934699286693, 4.49079525642202, 4.488814960230019, 4.489634796491125, 4.489336048873991, 4.495405396074754, 467.06936755523003, 359.8039609579315, 263.6823242230239, 256.7827179999441, 159.82578598672458, 53.711830037241725, 49.670346558476986, 4.492165750576518, 4.488911520439097, 4.489587352723171, 4.488800269413097, 4.4888052455739675, 4.488829676248864, 4.489135196591099, 4.489178893157007, 4.490107238034992, 4.493730034433261, 4.489084554262795, 4.489455397636701, 4.488580748345986, 4.488580759254337, 4.48858137786269, 4.488584980253165, 4.488588281433179, 4.48867512421213, 4.488574846350381, 4.488619960919019, 4.4889145290571655, 4.4888330535749175, 4.489028187145919, 4.490318142549591, 430.9791525121541, 354.81035497234075, 301.9826444428458, 301.63898968760526, 249.15273012216832, 26.97763951425325, 4.492618359781304, 4.490495767416654, 4.489000969677048, 4.488662321837303, 4.488662321837303, 4.489057019434857, 4.48903509406903, 4.489192334125469, 4.489070566337915, 4.488540417296892, 4.4889129436217035, 4.488884848268481, 4.488886941387824, 4.488520112025713, 4.4885132785674315, 4.488548052710103, 4.488770148217285, 4.489583070936113, 4.488976629098234, 4.489950692186233, 4.492937822901801, 4.489527656023076, 4.489494341969785, 4.488592625020524, 4.495405396074754, 4.493730034433261, 4.4908220160316334, 4.490000132664874, 1194.9631763505613, 379.541917519862, 4.489392053261635, 4.495405396074754, 4.489080382575166, 4.492165142010134, 4.488620275795062, 4.490110208163739, 4.489378848115133, 4.48903087098467, 4.489116443510046, 4.48854404504488, 4.488555281047813, 4.48856818707511, 4.488637947184813, 4.488903983455589, 4.489057019434857, 4.48896684489575, 4.4892603452874935, 4.489490523285759, 4.4896901560215445, 4.490277394751004, 4.4884418093220475, 4.490302674643677, 4.4889829631266815, 4.489967561830546, 4.488747280277442, 4.488839066281607, 4.488839392023125, 4.489038490985624, 4.489685434630872, 4.493021768844458, 4.493730034433261, 4.4893712813514455, 1079.1205944964584, 91.05948554233737, 4.492165750576518, 4.4895987118528895, 4.489872404302666, 4.489275359665376, 4.4893714815202665, 4.488951016031635, 4.492618359781304, 4.488865666099523, 4.489082050277944, 4.48928121819439, 4.492937822901801, 4.492165142010134, 4.488711669515101, 4.488699393069079, 4.488699393069079, 4.488699393069079, 4.488699744190791, 4.4888749654889, 4.490302674643677, 4.489023667188091, 4.489100230186589, 4.488778024093078, 4.489956525337111, 4.488726709146327, 4.49079525642202, 4.488930074273826, 4.489358716052727, 4.4889331262366605, 4.493730034433261, 451.10302439561207, 365.73965635583386, 131.56456150223792, 81.70234483624567, 4.49079525642202, 4.4908220160316334, 4.490815827395664, 4.488776456033725, 4.488777199941588, 4.488908893359566, 4.489370122422541, 4.488632653092087, 4.488711851613349, 4.488646823014737, 4.488761234893577, 4.489724331737055, 4.489388020031859, 4.488667624723268, 4.488668556903266, 4.488675417677896, 4.488962438989367, 4.488827947681604, 4.489104830113129, 4.489115230967931, 4.488922334378072, 4.495405396074754, 4.489494341969785, 4.489502226301948, 4.488575286531765, 4.488466122446819, 4.490897005166175, 397.83560833621095, 257.4516754195338, 148.63345375537276, 79.05880431023101, 45.63148316519166, 4.490270734020595, 4.489886340240626, 4.488940729354035, 4.495405396074754, 4.490715801029106, 4.488809650957451, 4.488840094911241, 4.488849108392989, 4.489152891674537, 4.489406719626112, 4.48879590617879, 4.488826446385418, 4.489172895636991, 4.488948459661044, 4.488988458177729, 4.488752947674064, 4.488747795178505, 4.490054481507893, 4.488971153859894, 4.489056039062524, 4.488968217908108, 4.488996790375448, 4.490641182904751, 4.49028273803277, 4.489346908513848, 4.492618359781304, 741.300543318142, 219.65417535432414, 4.489987176065151, 4.493021768844458, 4.489724331737055, 4.490897005166175, 4.490387964854623, 4.488840192471219, 4.489109600371926, 4.489634796491125, 4.489066741007954, 4.491066026923959, 4.488839066281607, 4.488839392023125, 4.488587368378349, 4.488611847839041, 4.488699894101804, 4.488718631804375, 4.4889829631266815, 4.489038490985624, 4.488917725265641, 4.490641182904751, 4.488962438989367, 4.489071984160431, 4.4893712813514455, 4.489378848115133, 4.488725024564195, 4.489266965929744, 4.489183875544366, 4.488624760746656, 4.489458462337909, 4.495405396074754, 4.490489951854003, 519.3996149819612, 146.497709861667, 144.89020023842048, 4.48918071241836, 4.489251372337806, 4.48987472423505, 4.490042956378029, 4.488861707558016, 4.488901884429496, 4.4889401857917735, 4.4899287789817075, 4.4893858876396004, 4.490715801029106, 4.489262463080378, 4.489413863873282, 4.489854816987872, 4.490202720440264, 4.4896687569448686, 4.488703774269225, 4.488904250502052, 4.489013509758868, 4.48897690197002, 4.489183602317111, 4.489583070936113, 4.490107238034992, 4.4894826934197445, 4.488871317294754, 4.488657210393626, 4.488686174922876, 4.488686249335913, 4.490815827395664, 4.493730034433261, 4.493021768844458, 4.4881805594979785, 4.4881805594979785, 4.4881805594979785, 4.4881805594979785, 4.4881805594979785, 4.4881805594979785, 4.4881805594979785, 4.4881805594979785, 4.4881805594979785, 4.4881805594979785, 4.4881805594979785, 4.4881805594979785, 4.4881805594979785, 4.4881805594979785, 4.4881805594979785, 4.4881805594979785, 4.4881805594979785, 4.4881805594979785, 4.4881805594979785, 4.4881805594979785, 4.4881805594979785, 4.4881805594979785, 4.4881805594979785, 4.4881805594979785, 4.4881805594979785, 4.4881805594979785, 4.4881805594979785, 4.4881805594979785, 4.4881805594979785, 4.4881805594979785, 240.1553440222462, 818.8622003895528, 512.4066108738429, 4.488372147832404, 497.7079231765805, 624.6928836065075, 1030.5410499521086, 4.488432897381079, 513.541379448956, 4.488436411009525, 4.48818209435739, 4.48831773838025, 4.488554223209089, 63.840733513333824, 86.09554210756144, 4.488180576141089, 4.48839005853663, 330.2697048440688, 4.488285787701731, 379.541917519862, 4.4884970466819585, 1194.9631763505613, 61.625635491861765, 291.9469155257633, 63.850146503597784, 741.300543318142, 4.48835066650338, 219.65417535432414, 4.488181088499892, 4.4881805594979785, 4.4881805594979785, 4.4881805594979785, 4.4881805594979785, 4.4881805594979785, 4.4881805594979785, 4.4881805594979785, 4.4881805594979785, 4.4881805594979785, 4.4881805594979785, 4.4881805594979785, 4.4881805594979785, 4.4881805594979785, 4.4881805594979785, 4.4881805594979785, 4.4881805594979785, 4.4881805594979785, 4.4881805594979785, 4.4881805594979785, 4.4881805594979785, 4.4881805594979785, 4.4881805594979785, 4.4881805594979785, 4.4881805594979785, 4.4881805594979785, 4.4881805594979785, 4.4881805594979785, 4.4881805594979785, 4.4881805594979785, 4.4881805594979785, 240.1553440222462, 818.8622003895528, 512.4066108738429, 4.488372147832404, 497.7079231765805, 624.6928836065075, 1030.5410499521086, 4.488432897381079, 513.541379448956, 4.488436411009525, 4.48818209435739, 4.48831773838025, 4.488554223209089, 63.840733513333824, 86.09554210756144, 4.488180576141089, 4.48839005853663, 330.2697048440688, 4.488285787701731, 379.541917519862, 4.4884970466819585, 1194.9631763505613, 61.625635491861765, 291.9469155257633, 63.850146503597784, 741.300543318142, 4.48835066650338, 219.65417535432414, 4.488181088499892, 4.4881805594979785, 4.4881805594979785, 4.4881805594979785, 4.4881805594979785, 4.4881805594979785, 4.4881805594979785, 4.4881805594979785, 4.4881805594979785, 4.4881805594979785, 4.4881805594979785, 4.4881805594979785, 4.4881805594979785, 4.4881805594979785, 4.4881805594979785, 4.4881805594979785, 4.4881805594979785, 4.4881805594979785, 4.4881805594979785, 4.4881805594979785, 4.4881805594979785, 4.4881805594979785, 4.4881805594979785, 4.4881805594979785, 4.4881805594979785, 4.4881805594979785, 4.4881805594979785, 4.4881805594979785, 4.4881805594979785, 4.4881805594979785, 4.4881805594979785, 240.1553440222462, 818.8622003895528, 512.4066108738429, 4.488372147832404, 497.7079231765805, 624.6928836065075, 1030.5410499521086, 4.488432897381079, 513.541379448956, 4.488436411009525, 4.48818209435739, 4.48831773838025, 4.488554223209089, 63.840733513333824, 86.09554210756144, 4.488180576141089, 4.48839005853663, 330.2697048440688, 4.488285787701731, 379.541917519862, 4.4884970466819585, 1194.9631763505613, 61.625635491861765, 291.9469155257633, 63.850146503597784, 741.300543318142, 4.48835066650338, 219.65417535432414, 4.488181088499892], \"Category\": [\"Default\", \"Default\", \"Default\", \"Default\", \"Default\", \"Default\", \"Default\", \"Default\", \"Default\", \"Default\", \"Default\", \"Default\", \"Default\", \"Default\", \"Default\", \"Default\", \"Default\", \"Default\", \"Default\", \"Default\", \"Default\", \"Default\", \"Default\", \"Default\", \"Default\", \"Default\", \"Default\", \"Default\", \"Default\", \"Default\", \"Topic1\", \"Topic1\", \"Topic1\", \"Topic1\", \"Topic1\", \"Topic1\", \"Topic1\", \"Topic1\", \"Topic1\", \"Topic1\", \"Topic1\", \"Topic1\", \"Topic1\", \"Topic1\", \"Topic1\", \"Topic1\", \"Topic1\", \"Topic1\", \"Topic1\", \"Topic1\", \"Topic1\", \"Topic1\", \"Topic1\", \"Topic1\", \"Topic1\", \"Topic1\", \"Topic1\", \"Topic1\", \"Topic1\", \"Topic1\", \"Topic1\", \"Topic1\", \"Topic1\", \"Topic2\", \"Topic2\", \"Topic2\", \"Topic2\", \"Topic2\", \"Topic2\", \"Topic2\", \"Topic2\", \"Topic2\", \"Topic2\", \"Topic2\", \"Topic2\", \"Topic2\", \"Topic2\", \"Topic2\", \"Topic2\", \"Topic2\", \"Topic2\", \"Topic2\", \"Topic2\", \"Topic2\", \"Topic2\", \"Topic2\", \"Topic2\", \"Topic2\", \"Topic2\", \"Topic2\", \"Topic2\", \"Topic2\", \"Topic2\", \"Topic2\", \"Topic2\", \"Topic2\", \"Topic2\", \"Topic3\", \"Topic3\", \"Topic3\", \"Topic3\", \"Topic3\", \"Topic3\", \"Topic3\", \"Topic3\", \"Topic3\", \"Topic3\", \"Topic3\", \"Topic3\", \"Topic3\", \"Topic3\", \"Topic3\", \"Topic3\", \"Topic3\", \"Topic3\", \"Topic3\", \"Topic3\", \"Topic3\", \"Topic3\", \"Topic3\", \"Topic3\", \"Topic3\", \"Topic3\", \"Topic3\", \"Topic3\", \"Topic3\", \"Topic3\", \"Topic3\", \"Topic3\", \"Topic3\", \"Topic3\", \"Topic3\", \"Topic3\", \"Topic3\", \"Topic4\", \"Topic4\", \"Topic4\", \"Topic4\", \"Topic4\", \"Topic4\", \"Topic4\", \"Topic4\", \"Topic4\", \"Topic4\", \"Topic4\", \"Topic4\", \"Topic4\", \"Topic4\", \"Topic4\", \"Topic4\", \"Topic4\", \"Topic4\", \"Topic4\", \"Topic4\", \"Topic4\", \"Topic4\", \"Topic4\", \"Topic4\", \"Topic4\", \"Topic4\", \"Topic4\", \"Topic4\", \"Topic4\", \"Topic4\", \"Topic4\", \"Topic4\", \"Topic4\", \"Topic4\", \"Topic4\", \"Topic4\", \"Topic4\", \"Topic5\", \"Topic5\", \"Topic5\", \"Topic5\", \"Topic5\", \"Topic5\", \"Topic5\", \"Topic5\", \"Topic5\", \"Topic5\", \"Topic5\", \"Topic5\", \"Topic5\", \"Topic5\", \"Topic5\", \"Topic5\", \"Topic5\", \"Topic5\", \"Topic5\", \"Topic5\", \"Topic5\", \"Topic5\", \"Topic5\", \"Topic5\", \"Topic5\", \"Topic5\", \"Topic5\", \"Topic5\", \"Topic5\", \"Topic5\", \"Topic5\", \"Topic5\", \"Topic5\", \"Topic5\", \"Topic5\", \"Topic5\", \"Topic6\", \"Topic6\", \"Topic6\", \"Topic6\", \"Topic6\", \"Topic6\", \"Topic6\", \"Topic6\", \"Topic6\", \"Topic6\", \"Topic6\", \"Topic6\", \"Topic6\", \"Topic6\", \"Topic6\", \"Topic6\", \"Topic6\", \"Topic6\", \"Topic6\", \"Topic6\", \"Topic6\", \"Topic6\", \"Topic6\", \"Topic6\", \"Topic6\", \"Topic6\", \"Topic6\", \"Topic6\", \"Topic6\", \"Topic6\", \"Topic6\", \"Topic6\", \"Topic7\", \"Topic7\", \"Topic7\", \"Topic7\", \"Topic7\", \"Topic7\", \"Topic7\", \"Topic7\", \"Topic7\", \"Topic7\", \"Topic7\", \"Topic7\", \"Topic7\", \"Topic7\", \"Topic7\", \"Topic7\", \"Topic7\", \"Topic7\", \"Topic7\", \"Topic7\", \"Topic7\", \"Topic7\", \"Topic7\", \"Topic7\", \"Topic7\", \"Topic7\", \"Topic7\", \"Topic7\", \"Topic7\", \"Topic7\", \"Topic7\", \"Topic7\", \"Topic8\", \"Topic8\", \"Topic8\", \"Topic8\", \"Topic8\", \"Topic8\", \"Topic8\", \"Topic8\", \"Topic8\", \"Topic8\", \"Topic8\", \"Topic8\", \"Topic8\", \"Topic8\", \"Topic8\", \"Topic8\", \"Topic8\", \"Topic8\", \"Topic8\", \"Topic8\", \"Topic8\", \"Topic8\", \"Topic8\", \"Topic8\", \"Topic8\", \"Topic8\", \"Topic8\", \"Topic8\", \"Topic8\", \"Topic8\", \"Topic8\", \"Topic8\", \"Topic8\", \"Topic8\", \"Topic9\", \"Topic9\", \"Topic9\", \"Topic9\", \"Topic9\", \"Topic9\", \"Topic9\", \"Topic9\", \"Topic9\", \"Topic9\", \"Topic9\", \"Topic9\", \"Topic9\", \"Topic9\", \"Topic9\", \"Topic9\", \"Topic9\", \"Topic9\", \"Topic9\", \"Topic9\", \"Topic9\", \"Topic9\", \"Topic9\", \"Topic9\", \"Topic9\", \"Topic9\", \"Topic9\", \"Topic9\", \"Topic9\", \"Topic9\", \"Topic9\", \"Topic9\", \"Topic9\", \"Topic9\", \"Topic9\", \"Topic9\", \"Topic10\", \"Topic10\", \"Topic10\", \"Topic10\", \"Topic10\", \"Topic10\", \"Topic10\", \"Topic10\", \"Topic10\", \"Topic10\", \"Topic10\", \"Topic10\", \"Topic10\", \"Topic10\", \"Topic10\", \"Topic10\", \"Topic10\", \"Topic10\", \"Topic10\", \"Topic10\", \"Topic10\", \"Topic10\", \"Topic10\", \"Topic10\", \"Topic10\", \"Topic10\", \"Topic10\", \"Topic10\", \"Topic10\", \"Topic10\", \"Topic10\", \"Topic11\", \"Topic11\", \"Topic11\", \"Topic11\", \"Topic11\", \"Topic11\", \"Topic11\", \"Topic11\", \"Topic11\", \"Topic11\", \"Topic11\", \"Topic11\", \"Topic11\", \"Topic11\", \"Topic11\", \"Topic11\", \"Topic11\", \"Topic11\", \"Topic11\", \"Topic11\", \"Topic11\", \"Topic11\", \"Topic11\", \"Topic11\", \"Topic11\", \"Topic11\", \"Topic11\", \"Topic11\", \"Topic11\", \"Topic11\", \"Topic11\", \"Topic11\", \"Topic11\", \"Topic11\", \"Topic12\", \"Topic12\", \"Topic12\", \"Topic12\", \"Topic12\", \"Topic12\", \"Topic12\", \"Topic12\", \"Topic12\", \"Topic12\", \"Topic12\", \"Topic12\", \"Topic12\", \"Topic12\", \"Topic12\", \"Topic12\", \"Topic12\", \"Topic12\", \"Topic12\", \"Topic12\", \"Topic12\", \"Topic12\", \"Topic12\", \"Topic12\", \"Topic12\", \"Topic12\", \"Topic12\", \"Topic12\", \"Topic12\", \"Topic12\", \"Topic12\", \"Topic12\", \"Topic12\", \"Topic12\", \"Topic13\", \"Topic13\", \"Topic13\", \"Topic13\", \"Topic13\", \"Topic13\", \"Topic13\", \"Topic13\", \"Topic13\", \"Topic13\", \"Topic13\", \"Topic13\", \"Topic13\", \"Topic13\", \"Topic13\", \"Topic13\", \"Topic13\", \"Topic13\", \"Topic13\", \"Topic13\", \"Topic13\", \"Topic13\", \"Topic13\", \"Topic13\", \"Topic13\", \"Topic13\", \"Topic13\", \"Topic13\", \"Topic13\", \"Topic13\", \"Topic13\", \"Topic14\", \"Topic14\", \"Topic14\", \"Topic14\", \"Topic14\", \"Topic14\", \"Topic14\", \"Topic14\", \"Topic14\", \"Topic14\", \"Topic14\", \"Topic14\", \"Topic14\", \"Topic14\", \"Topic14\", \"Topic14\", \"Topic14\", \"Topic14\", \"Topic14\", \"Topic14\", \"Topic14\", \"Topic14\", \"Topic14\", \"Topic14\", \"Topic14\", \"Topic14\", \"Topic14\", \"Topic14\", \"Topic14\", \"Topic14\", \"Topic14\", \"Topic15\", \"Topic15\", \"Topic15\", \"Topic15\", \"Topic15\", \"Topic15\", \"Topic15\", \"Topic15\", \"Topic15\", \"Topic15\", \"Topic15\", \"Topic15\", \"Topic15\", \"Topic15\", \"Topic15\", \"Topic15\", \"Topic15\", \"Topic15\", \"Topic15\", \"Topic15\", \"Topic15\", \"Topic15\", \"Topic15\", \"Topic15\", \"Topic15\", \"Topic15\", \"Topic15\", \"Topic15\", \"Topic15\", \"Topic15\", \"Topic15\", \"Topic16\", \"Topic16\", \"Topic16\", \"Topic16\", \"Topic16\", \"Topic16\", \"Topic16\", \"Topic16\", \"Topic16\", \"Topic16\", \"Topic16\", \"Topic16\", \"Topic16\", \"Topic16\", \"Topic16\", \"Topic16\", \"Topic16\", \"Topic16\", \"Topic16\", \"Topic16\", \"Topic16\", \"Topic16\", \"Topic16\", \"Topic16\", \"Topic16\", \"Topic16\", \"Topic16\", \"Topic16\", \"Topic16\", \"Topic16\", \"Topic16\", \"Topic16\", \"Topic16\", \"Topic17\", \"Topic17\", \"Topic17\", \"Topic17\", \"Topic17\", \"Topic17\", \"Topic17\", \"Topic17\", \"Topic17\", \"Topic17\", \"Topic17\", \"Topic17\", \"Topic17\", \"Topic17\", \"Topic17\", \"Topic17\", \"Topic17\", \"Topic17\", \"Topic17\", \"Topic17\", \"Topic17\", \"Topic17\", \"Topic17\", \"Topic17\", \"Topic17\", \"Topic17\", \"Topic17\", \"Topic17\", \"Topic17\", \"Topic17\", \"Topic17\", \"Topic17\", \"Topic17\", \"Topic18\", \"Topic18\", \"Topic18\", \"Topic18\", \"Topic18\", \"Topic18\", \"Topic18\", \"Topic18\", \"Topic18\", \"Topic18\", \"Topic18\", \"Topic18\", \"Topic18\", \"Topic18\", \"Topic18\", \"Topic18\", \"Topic18\", \"Topic18\", \"Topic18\", \"Topic18\", \"Topic18\", \"Topic18\", \"Topic18\", \"Topic18\", \"Topic18\", \"Topic18\", \"Topic18\", \"Topic18\", \"Topic18\", \"Topic18\", \"Topic18\", \"Topic18\", \"Topic18\", \"Topic18\", \"Topic18\", \"Topic18\", \"Topic18\", \"Topic18\", \"Topic18\", \"Topic18\", \"Topic18\", \"Topic18\", \"Topic18\", \"Topic18\", \"Topic18\", \"Topic18\", \"Topic18\", \"Topic18\", \"Topic18\", \"Topic18\", \"Topic18\", \"Topic18\", \"Topic18\", \"Topic18\", \"Topic18\", \"Topic18\", \"Topic18\", \"Topic18\", \"Topic18\", \"Topic19\", \"Topic19\", \"Topic19\", \"Topic19\", \"Topic19\", \"Topic19\", \"Topic19\", \"Topic19\", \"Topic19\", \"Topic19\", \"Topic19\", \"Topic19\", \"Topic19\", \"Topic19\", \"Topic19\", \"Topic19\", \"Topic19\", \"Topic19\", \"Topic19\", \"Topic19\", \"Topic19\", \"Topic19\", \"Topic19\", \"Topic19\", \"Topic19\", \"Topic19\", \"Topic19\", \"Topic19\", \"Topic19\", \"Topic19\", \"Topic19\", \"Topic19\", \"Topic19\", \"Topic19\", \"Topic19\", \"Topic19\", \"Topic19\", \"Topic19\", \"Topic19\", \"Topic19\", \"Topic19\", \"Topic19\", \"Topic19\", \"Topic19\", \"Topic19\", \"Topic19\", \"Topic19\", \"Topic19\", \"Topic19\", \"Topic19\", \"Topic19\", \"Topic19\", \"Topic19\", \"Topic19\", \"Topic19\", \"Topic19\", \"Topic19\", \"Topic19\", \"Topic19\", \"Topic20\", \"Topic20\", \"Topic20\", \"Topic20\", \"Topic20\", \"Topic20\", \"Topic20\", \"Topic20\", \"Topic20\", \"Topic20\", \"Topic20\", \"Topic20\", \"Topic20\", \"Topic20\", \"Topic20\", \"Topic20\", \"Topic20\", \"Topic20\", \"Topic20\", \"Topic20\", \"Topic20\", \"Topic20\", \"Topic20\", \"Topic20\", \"Topic20\", \"Topic20\", \"Topic20\", \"Topic20\", \"Topic20\", \"Topic20\", \"Topic20\", \"Topic20\", \"Topic20\", \"Topic20\", \"Topic20\", \"Topic20\", \"Topic20\", \"Topic20\", \"Topic20\", \"Topic20\", \"Topic20\", \"Topic20\", \"Topic20\", \"Topic20\", \"Topic20\", \"Topic20\", \"Topic20\", \"Topic20\", \"Topic20\", \"Topic20\", \"Topic20\", \"Topic20\", \"Topic20\", \"Topic20\", \"Topic20\", \"Topic20\", \"Topic20\", \"Topic20\", \"Topic20\"], \"logprob\": [30.0, 29.0, 28.0, 27.0, 26.0, 25.0, 24.0, 23.0, 22.0, 21.0, 20.0, 19.0, 18.0, 17.0, 16.0, 15.0, 14.0, 13.0, 12.0, 11.0, 10.0, 9.0, 8.0, 7.0, 6.0, 5.0, 4.0, 3.0, 2.0, 1.0, -0.9115, -0.9407, -3.1839, -3.8381, -6.6906, -10.1044, -10.1061, -10.1069, -10.1066, -10.1076, -10.1073, -10.1077, -10.1077, -10.108, -10.1078, -10.108, -10.108, -10.1081, -10.1081, -10.1081, -10.108, -10.1081, -10.1077, -10.1081, -10.1081, -10.1082, -10.1081, -10.1082, -10.1082, -10.1082, -10.1075, -10.1081, -10.1082, -1.0629, -1.5705, -1.874, -2.3234, -4.0206, -4.5479, -9.9568, -9.9578, -9.9579, -9.9572, -9.9582, -9.9582, -9.9582, -9.9582, -9.9582, -9.9579, -9.9581, -9.9586, -9.9583, -9.9586, -9.9586, -9.9586, -9.9586, -9.9586, -9.9586, -9.9586, -9.9586, -9.9587, -9.9587, -9.9589, -9.9579, -9.9579, -9.9585, -9.9585, -1.66, -1.889, -2.0862, -2.2662, -2.3036, -2.5819, -3.3568, -3.6866, -4.0043, -4.3272, -5.0159, -10.0127, -10.0131, -10.013, -10.0139, -10.0146, -10.0149, -10.0146, -10.0142, -10.0152, -10.0152, -10.0153, -10.015, -10.0153, -10.0153, -10.0153, -10.0147, -10.0149, -10.0153, -10.0148, -10.0144, -10.0146, -10.0149, -10.0152, -10.015, -10.0152, -10.0152, -0.9182, -1.1053, -3.3164, -3.6093, -3.7085, -3.9909, -9.978, -9.9787, -9.9775, -9.9783, -9.9787, -9.9785, -9.9789, -9.9789, -9.9789, -9.9786, -9.9788, -9.9789, -9.979, -9.979, -9.9791, -9.9792, -9.979, -9.9792, -9.9792, -9.9792, -9.9791, -9.9791, -9.9792, -9.9786, -9.9789, -9.9787, -9.979, -9.979, -9.9791, -9.979, -9.9791, -1.3412, -1.6764, -1.7241, -1.9489, -3.3453, -4.8165, -9.8394, -9.8394, -9.839, -9.8409, -9.8412, -9.8415, -9.8411, -9.8417, -9.8414, -9.8416, -9.8416, -9.8418, -9.8415, -9.8418, -9.8418, -9.8417, -9.8419, -9.8418, -9.8419, -9.8419, -9.8419, -9.8419, -9.841, -9.8419, -9.8417, -9.8416, -9.8416, -9.8414, -9.8416, -9.8418, -1.4559, -1.8693, -2.2672, -2.6637, -2.7172, -2.9936, -3.1519, -3.5149, -3.7205, -9.6485, -9.6484, -9.6496, -9.6489, -9.6502, -9.6505, -9.6506, -9.6506, -9.6491, -9.6506, -9.6508, -9.6508, -9.6503, -9.6506, -9.6511, -9.6508, -9.6511, -9.6513, -9.6513, -9.6513, -9.6509, -9.6512, -9.6513, -1.2537, -1.7849, -2.6505, -2.852, -2.9349, -3.088, -3.3018, -3.5172, -3.8765, -4.3074, -4.8984, -9.7146, -9.7164, -9.7171, -9.7171, -9.7171, -9.7171, -9.7179, -9.7179, -9.7178, -9.7179, -9.7182, -9.7182, -9.7182, -9.7179, -9.7183, -9.7182, -9.718, -9.718, -9.7185, -9.7182, -9.7182, -1.1744, -1.7803, -2.2433, -2.2514, -3.2585, -3.7392, -4.108, -9.6217, -9.6236, -9.6225, -9.6241, -9.6234, -9.6245, -9.6246, -9.6246, -9.6246, -9.6246, -9.6248, -9.6247, -9.6247, -9.6247, -9.6249, -9.6253, -9.6255, -9.6255, -9.6254, -9.6255, -9.6255, -9.6255, -9.6253, -9.6254, -9.6254, -9.6255, -9.6255, -1.5589, -1.6092, -1.9878, -2.3264, -2.4124, -4.7711, -9.5231, -9.5237, -9.5247, -9.5248, -9.5248, -9.5251, -9.5254, -9.5254, -9.5254, -9.5254, -9.5245, -9.5254, -9.5256, -9.5257, -9.5257, -9.5257, -9.5257, -9.5257, -9.5257, -9.5258, -9.5258, -9.5258, -9.5258, -9.5258, -9.5257, -9.5256, -9.5257, -9.5257, -9.5257, -9.5256, -1.6041, -1.8678, -2.183, -2.21, -2.6945, -3.8409, -3.9262, -9.3231, -9.3247, -9.3249, -9.3252, -9.3252, -9.3252, -9.3252, -9.3252, -9.3252, -9.3249, -9.3261, -9.3261, -9.3263, -9.3263, -9.3263, -9.3263, -9.3263, -9.3263, -9.3263, -9.3263, -9.3263, -9.3263, -9.3263, -9.3261, -1.6816, -1.8782, -2.0416, -2.0427, -2.2369, -4.6163, -9.4168, -9.4191, -9.4201, -9.4211, -9.4211, -9.421, -9.4211, -9.4211, -9.4212, -9.4217, -9.4217, -9.4217, -9.4218, -9.4219, -9.4219, -9.4219, -9.4219, -9.4217, -9.4219, -9.4217, -9.421, -9.4218, -9.4218, -9.422, -9.4206, -9.4211, -9.4217, -9.4219, -0.6529, -1.8076, -9.3193, -9.3188, -9.3202, -9.3197, -9.3209, -9.3206, -9.3208, -9.3209, -9.3211, -9.3212, -9.3212, -9.3212, -9.3212, -9.3212, -9.3212, -9.3214, -9.3214, -9.3214, -9.3214, -9.3213, -9.3217, -9.3213, -9.3216, -9.3215, -9.3218, -9.3218, -9.3218, -9.3218, -9.3217, -9.3214, -9.3215, -9.3218, -0.6118, -3.1281, -9.0436, -9.0455, -9.0467, -9.0472, -9.0472, -9.0481, -9.0473, -9.0484, -9.0484, -9.0484, -9.0479, -9.0481, -9.0491, -9.0491, -9.0491, -9.0491, -9.0491, -9.0491, -9.0489, -9.0491, -9.0491, -9.0493, -9.0491, -9.0497, -9.0493, -9.0497, -9.0497, -9.0499, -9.0499, -1.4326, -1.6446, -2.6882, -3.1851, -8.9443, -8.9445, -8.9446, -8.9451, -8.9451, -8.9451, -8.9455, -8.9457, -8.9457, -8.9458, -8.9458, -8.9457, -8.9459, -8.9461, -8.9461, -8.9461, -8.946, -8.9461, -8.9461, -8.9461, -8.9461, -8.9447, -8.9461, -8.9461, -8.9463, -8.9464, -8.946, -1.5257, -1.9668, -2.5285, -3.1859, -3.7778, -8.8594, -8.8608, -8.8612, -8.8599, -8.8612, -8.8617, -8.8617, -8.8617, -8.8617, -8.8617, -8.8618, -8.8618, -8.8618, -8.8618, -8.8618, -8.8619, -8.8619, -8.8616, -8.8619, -8.8619, -8.862, -8.862, -8.8618, -8.862, -8.8623, -8.8618, -0.8902, -2.1204, -8.9204, -8.92, -8.9219, -8.9219, -8.9224, -8.9227, -8.9227, -8.9229, -8.9233, -8.923, -8.9235, -8.9235, -8.9236, -8.9236, -8.9236, -8.9236, -8.9235, -8.9235, -8.9236, -8.9232, -8.9236, -8.9236, -8.9235, -8.9235, -8.9236, -8.9235, -8.9236, -8.9237, -8.9235, -8.9223, -8.9235, -1.2362, -2.5229, -2.5342, -8.7639, -8.7639, -8.7639, -8.7639, -8.7643, -8.7643, -8.7643, -8.7643, -8.7645, -8.7642, -8.7647, -8.7648, -8.7647, -8.7647, -8.7649, -8.7652, -8.7652, -8.7652, -8.7652, -8.7652, -8.7652, -8.7651, -8.7652, -8.7654, -8.7655, -8.7655, -8.7655, -8.7651, -8.7652, -8.7654, -8.1696, -8.1696, -8.1696, -8.1696, -8.1696, -8.1696, -8.1696, -8.1696, -8.1696, -8.1696, -8.1696, -8.1696, -8.1696, -8.1696, -8.1696, -8.1696, -8.1696, -8.1696, -8.1696, -8.1696, -8.1696, -8.1696, -8.1696, -8.1696, -8.1696, -8.1696, -8.1696, -8.1696, -8.1696, -8.1696, -8.1696, -8.1696, -8.1696, -8.1696, -8.1696, -8.1696, -8.1696, -8.1696, -8.1696, -8.1696, -8.1696, -8.1696, -8.1696, -8.1696, -8.1696, -8.1696, -8.1696, -8.1696, -8.1696, -8.1696, -8.1696, -8.1696, -8.1696, -8.1696, -8.1696, -8.1696, -8.1696, -8.1696, -8.1696, -8.1696, -8.1696, -8.1696, -8.1696, -8.1696, -8.1696, -8.1696, -8.1696, -8.1696, -8.1696, -8.1696, -8.1696, -8.1696, -8.1696, -8.1696, -8.1696, -8.1696, -8.1696, -8.1696, -8.1696, -8.1696, -8.1696, -8.1696, -8.1696, -8.1696, -8.1696, -8.1696, -8.1696, -8.1696, -8.1696, -8.1696, -8.1696, -8.1696, -8.1696, -8.1696, -8.1696, -8.1696, -8.1696, -8.1696, -8.1696, -8.1696, -8.1696, -8.1696, -8.1696, -8.1696, -8.1696, -8.1696, -8.1696, -8.1696, -8.1696, -8.1696, -8.1696, -8.1696, -8.1696, -8.1696, -8.1696, -8.1696, -8.1696, -8.1696, -8.1696, -8.1696, -8.1696, -8.1696, -8.1696, -8.1696, -8.1696, -8.1696, -8.1696, -8.1696, -8.1696, -8.1696, -8.1696, -8.1696, -8.1696, -8.1696, -8.1696, -8.1696, -8.1696, -8.1696, -8.1696, -8.1696, -8.1696, -8.1696, -8.1696, -8.1696, -8.1696, -8.1696, -8.1696, -8.1696, -8.1696, -8.1696, -8.1696, -8.1696, -8.1696, -8.1696, -8.1696, -8.1696, -8.1696, -8.1696, -8.1696, -8.1696, -8.1696, -8.1696, -8.1696, -8.1696, -8.1696, -8.1696, -8.1696, -8.1696, -8.1696, -8.1696, -8.1696, -8.1696, -8.1696, -8.1696, -8.1696, -8.1696, -8.1696], \"loglift\": [30.0, 29.0, 28.0, 27.0, 26.0, 25.0, 24.0, 23.0, 22.0, 21.0, 20.0, 19.0, 18.0, 17.0, 16.0, 15.0, 14.0, 13.0, 12.0, 11.0, 10.0, 9.0, 8.0, 7.0, 6.0, 5.0, 4.0, 3.0, 2.0, 1.0, 2.5446, 2.5445, 2.5196, 2.4945, 1.883, -0.8426, -0.8449, -0.845, -0.8454, -0.8457, -0.8457, -0.8458, -0.8458, -0.846, -0.846, -0.8461, -0.8461, -0.8461, -0.8461, -0.8461, -0.8461, -0.8461, -0.8461, -0.8462, -0.8462, -0.8462, -0.8462, -0.8462, -0.8462, -0.8463, -0.8465, -0.8464, -0.8468, 2.6529, 2.6504, 2.6482, 2.6434, 2.5864, 2.5404, -0.695, -0.696, -0.6961, -0.6962, -0.6962, -0.6962, -0.6962, -0.6962, -0.6962, -0.6964, -0.6965, -0.6965, -0.6965, -0.6965, -0.6965, -0.6966, -0.6966, -0.6966, -0.6966, -0.6966, -0.6966, -0.6966, -0.6967, -0.6968, -0.6969, -0.6975, -0.6968, -0.697, 2.6663, 2.6645, 2.6626, 2.6605, 2.66, 2.6558, 2.6358, 2.6215, 2.6028, 2.5772, 2.4903, -0.7515, -0.7517, -0.752, -0.7522, -0.7528, -0.7529, -0.753, -0.7532, -0.7532, -0.7532, -0.7532, -0.7532, -0.7532, -0.7532, -0.7532, -0.7533, -0.7533, -0.7533, -0.7533, -0.7533, -0.7534, -0.7534, -0.7533, -0.7541, -0.7535, -0.7538, 2.7211, 2.7204, 2.6867, 2.6741, 2.669, 2.6515, -0.7163, -0.7166, -0.7167, -0.7167, -0.7168, -0.7168, -0.7169, -0.7169, -0.7169, -0.717, -0.717, -0.717, -0.717, -0.717, -0.7171, -0.7171, -0.7171, -0.7171, -0.7171, -0.7172, -0.7172, -0.7172, -0.7172, -0.7172, -0.7172, -0.7175, -0.7174, -0.7173, -0.7172, -0.718, -0.7177, 2.7522, 2.75, 2.7496, 2.7476, 2.7175, 2.5936, -0.5777, -0.5783, -0.5786, -0.5792, -0.5793, -0.5796, -0.5797, -0.5797, -0.5797, -0.5797, -0.5797, -0.5798, -0.5798, -0.5798, -0.5799, -0.5799, -0.5799, -0.5799, -0.5799, -0.5799, -0.5799, -0.5799, -0.58, -0.58, -0.58, -0.58, -0.5801, -0.5802, -0.5801, -0.5802, 2.828, 2.8246, 2.8197, 2.8126, 2.8114, 2.8041, 2.799, 2.7837, 2.7725, -0.3866, -0.3868, -0.3877, -0.388, -0.3884, -0.3885, -0.3886, -0.3886, -0.3886, -0.3887, -0.3888, -0.3888, -0.3889, -0.3892, -0.3892, -0.3892, -0.3893, -0.3893, -0.3893, -0.3893, -0.3894, -0.3895, -0.3894, 2.8556, 2.8517, 2.8387, 2.8338, 2.8315, 2.8267, 2.8186, 2.8086, 2.7868, 2.7489, 2.6668, -0.4528, -0.4547, -0.4551, -0.4551, -0.4555, -0.4557, -0.456, -0.456, -0.4561, -0.4561, -0.4562, -0.4562, -0.4563, -0.4563, -0.4563, -0.4563, -0.4565, -0.4565, -0.4565, -0.4565, -0.4566, 2.8812, 2.8768, 2.8712, 2.871, 2.8448, 2.8199, 2.7916, -0.3608, -0.3619, -0.362, -0.3622, -0.3624, -0.3626, -0.3626, -0.3628, -0.3629, -0.363, -0.363, -0.3631, -0.3631, -0.3632, -0.3632, -0.3633, -0.3634, -0.3634, -0.3635, -0.3635, -0.3635, -0.3635, -0.3635, -0.3635, -0.364, -0.3636, -0.3636, 2.9655, 2.965, 2.961, 2.9558, 2.9542, 2.7827, -0.2616, -0.2618, -0.2631, -0.2631, -0.2632, -0.2633, -0.2634, -0.2634, -0.2635, -0.2635, -0.2635, -0.2636, -0.2637, -0.2637, -0.2637, -0.2637, -0.2637, -0.2637, -0.2637, -0.2637, -0.2637, -0.2637, -0.2637, -0.2637, -0.2638, -0.2641, -0.2638, -0.2639, -0.2639, -0.2651, 3.0129, 3.0101, 3.0057, 3.0053, 2.995, 2.939, 2.9319, -0.0619, -0.0628, -0.0631, -0.0633, -0.0633, -0.0633, -0.0634, -0.0634, -0.0636, -0.0641, -0.0642, -0.0643, -0.0643, -0.0643, -0.0643, -0.0643, -0.0643, -0.0643, -0.0643, -0.0644, -0.0644, -0.0644, -0.0644, -0.0645, 3.0159, 3.0137, 3.0116, 3.0116, 3.0085, 2.8522, -0.1557, -0.1575, -0.1582, -0.1591, -0.1591, -0.1591, -0.1592, -0.1592, -0.1593, -0.1597, -0.1598, -0.1598, -0.1599, -0.1599, -0.1599, -0.1599, -0.1599, -0.16, -0.16, -0.16, -0.16, -0.16, -0.16, -0.16, -0.1602, -0.1603, -0.1602, -0.1602, 3.0248, 3.017, -0.0575, -0.0583, -0.0583, -0.0585, -0.0589, -0.0589, -0.059, -0.059, -0.0592, -0.0592, -0.0592, -0.0592, -0.0592, -0.0593, -0.0593, -0.0595, -0.0595, -0.0596, -0.0596, -0.0597, -0.0597, -0.0597, -0.0597, -0.0599, -0.0599, -0.0599, -0.0599, -0.0599, -0.06, -0.0604, -0.0607, -0.06, 3.1678, 3.1239, 0.2176, 0.2162, 0.215, 0.2147, 0.2146, 0.2138, 0.2138, 0.2135, 0.2134, 0.2134, 0.2131, 0.2131, 0.2129, 0.2128, 0.2128, 0.2128, 0.2128, 0.2128, 0.2128, 0.2127, 0.2127, 0.2127, 0.2126, 0.2122, 0.2122, 0.2122, 0.2121, 0.212, 0.211, 3.2192, 3.217, 3.1958, 3.1753, 0.3172, 0.317, 0.3169, 0.3168, 0.3168, 0.3168, 0.3164, 0.3163, 0.3163, 0.3162, 0.3161, 0.3161, 0.316, 0.3159, 0.3159, 0.3159, 0.3159, 0.3159, 0.3158, 0.3158, 0.3158, 0.3158, 0.3157, 0.3157, 0.3157, 0.3156, 0.3155, 3.2518, 3.2459, 3.2336, 3.2074, 3.1651, 0.4022, 0.4009, 0.4007, 0.4005, 0.4003, 0.4003, 0.4003, 0.4003, 0.4002, 0.4001, 0.4001, 0.4001, 0.4001, 0.4001, 0.4001, 0.4001, 0.4, 0.4, 0.4, 0.4, 0.3999, 0.3999, 0.3997, 0.3996, 0.3996, 0.3993, 3.2649, 3.2511, 0.3413, 0.341, 0.3398, 0.3395, 0.3392, 0.3392, 0.3392, 0.3388, 0.3385, 0.3385, 0.3384, 0.3384, 0.3384, 0.3384, 0.3384, 0.3384, 0.3384, 0.3384, 0.3384, 0.3383, 0.3383, 0.3383, 0.3383, 0.3383, 0.3383, 0.3383, 0.3383, 0.3383, 0.3383, 0.3381, 0.338, 3.2747, 3.2537, 3.2533, 0.4979, 0.4979, 0.4978, 0.4977, 0.4977, 0.4976, 0.4976, 0.4974, 0.4973, 0.4973, 0.4971, 0.497, 0.497, 0.497, 0.4969, 0.4968, 0.4968, 0.4967, 0.4967, 0.4966, 0.4966, 0.4966, 0.4966, 0.4965, 0.4964, 0.4964, 0.4964, 0.4964, 0.4956, 0.4956, 1.0925, 1.0925, 1.0925, 1.0925, 1.0925, 1.0925, 1.0925, 1.0925, 1.0925, 1.0925, 1.0925, 1.0925, 1.0925, 1.0925, 1.0925, 1.0925, 1.0925, 1.0925, 1.0925, 1.0925, 1.0925, 1.0925, 1.0925, 1.0925, 1.0925, 1.0925, 1.0925, 1.0925, 1.0925, 1.0925, -2.8874, -4.114, -3.6452, 1.0924, -3.6161, -3.8434, -4.3439, 1.0924, -3.6474, 1.0924, 1.0925, 1.0924, 1.0924, -1.5625, -1.8616, 1.0925, 1.0924, -3.206, 1.0924, -3.3451, 1.0924, -4.492, -1.5272, -3.0827, -1.5626, -4.0145, 1.0924, -2.7981, 1.0925, 1.0925, 1.0925, 1.0925, 1.0925, 1.0925, 1.0925, 1.0925, 1.0925, 1.0925, 1.0925, 1.0925, 1.0925, 1.0925, 1.0925, 1.0925, 1.0925, 1.0925, 1.0925, 1.0925, 1.0925, 1.0925, 1.0925, 1.0925, 1.0925, 1.0925, 1.0925, 1.0925, 1.0925, 1.0925, 1.0925, -2.8874, -4.114, -3.6452, 1.0924, -3.6161, -3.8434, -4.3439, 1.0924, -3.6474, 1.0924, 1.0925, 1.0924, 1.0924, -1.5625, -1.8616, 1.0925, 1.0924, -3.206, 1.0924, -3.3451, 1.0924, -4.492, -1.5272, -3.0827, -1.5626, -4.0145, 1.0924, -2.7981, 1.0925, 1.0925, 1.0925, 1.0925, 1.0925, 1.0925, 1.0925, 1.0925, 1.0925, 1.0925, 1.0925, 1.0925, 1.0925, 1.0925, 1.0925, 1.0925, 1.0925, 1.0925, 1.0925, 1.0925, 1.0925, 1.0925, 1.0925, 1.0925, 1.0925, 1.0925, 1.0925, 1.0925, 1.0925, 1.0925, 1.0925, -2.8874, -4.114, -3.6452, 1.0924, -3.6161, -3.8434, -4.3439, 1.0924, -3.6474, 1.0924, 1.0925, 1.0924, 1.0924, -1.5625, -1.8616, 1.0925, 1.0924, -3.206, 1.0924, -3.3451, 1.0924, -4.492, -1.5272, -3.0827, -1.5626, -4.0145, 1.0924, -2.7981, 1.0925]}, \"token.table\": {\"Topic\": [13, 6, 16, 8, 6, 10, 9, 5, 7, 5, 3, 4, 10, 10, 4, 3, 1, 7, 6, 8, 12, 7, 2, 8, 4, 5, 10, 5, 6, 4, 3, 15, 9, 13, 6, 8, 8, 7, 9, 8, 7, 16, 11, 4, 17, 2, 11, 9, 6, 6, 5, 11, 2, 3, 3, 1, 1, 11, 10, 7, 3, 2, 3, 9, 15, 9, 6, 12, 14, 17, 14, 7, 15, 4, 14, 7, 5, 11, 11, 2, 17, 7, 1, 3, 3, 15, 8, 15, 7, 6, 10, 1, 3, 14, 10, 2, 3, 7], \"Freq\": [0.9554194105297251, 0.9927137310723797, 0.9941986507943292, 0.9894897598321711, 0.9363180504485357, 0.9122757494210358, 0.9826972660585005, 0.9924402078108374, 0.9639923895103667, 0.9942179511167577, 0.9905407911802316, 0.9589800055840628, 0.9059731432922744, 0.9894276845985688, 0.9249397518590681, 0.9924876947862535, 0.9968516699660629, 0.9278770642484914, 0.9748849949475968, 0.9952834550334411, 0.9880331596848606, 0.8166252527609822, 0.9940660620629321, 0.9023788253270794, 0.9955935283195952, 0.8391269281680311, 0.976062773831487, 0.9634626304977657, 0.9549843863685898, 0.9518846031613045, 0.9658763233379689, 0.9827086950889735, 0.9907380179066341, 0.9961815254778071, 0.9669801976904678, 0.955841449885291, 0.985818157560811, 0.9627283826886236, 0.9914001677957902, 0.9830352060704588, 0.9782552908249867, 0.9788113504019831, 0.9892608687459593, 0.9461903594011707, 0.9915294219420744, 0.9963094437285985, 0.8525579114454501, 0.9874113554211987, 0.9864807082525419, 0.9895840970366019, 0.9898438381860034, 0.9868116777035524, 0.8870453955650013, 0.9241748450098434, 0.9892391835323636, 0.9522403007700057, 0.970803713439055, 0.9907671809901712, 0.982242555556877, 0.9730332991516504, 0.9524302651762763, 0.9872067827842675, 0.9067141927404296, 0.978606029782622, 0.9903588108861048, 0.8073458597027283, 0.9757288363647157, 0.9966834322354059, 0.9424454115035439, 0.9731507014827845, 0.9870409011616105, 0.8836132299739105, 0.9688263063374771, 0.9961873686791668, 0.9653055393479932, 0.9911279034563427, 0.9925721319852883, 0.9833325923415245, 0.9846207226313493, 0.991156740954684, 0.9692984288565736, 0.9947355278106497, 0.5596151280296842, 0.9836718979770837, 0.8468105605326636, 0.948660944904959, 0.940526286720666, 0.8985024626873268, 0.9725564695300309, 0.9690870807858897, 0.9813744552702135, 0.9970834560335678, 0.9862979072847412, 0.9909044626754403, 0.991287444996596, 0.9397002714256758, 0.9870720663099127, 0.9458332374031231], \"Term\": [\"follow\", \"\\u0431\\u043b\\u0438\\u043d\", \"\\u0431\\u043e\\u043b\\u0435\\u0442\\u044c\", \"\\u0431\\u043e\\u043b\\u044c\\u0448\\u043e\\u0439\", \"\\u0431\\u0440\\u0430\\u0442\\u044c\", \"\\u0432\\u0430\\u0440\\u0438\\u0430\\u043d\\u0442\", \"\\u0432\\u0435\\u0447\\u0435\\u0440\", \"\\u0432\\u043e\\u043e\\u0431\\u0449\\u0435\", \"\\u0432\\u043e\\u0441\\u043a\\u0440\\u0435\\u0441\\u0435\\u043d\\u0438\\u0435\", \"\\u0432\\u0440\\u0435\\u043c\\u044f\", \"\\u0433\\u043e\\u0432\\u043e\\u0440\\u0438\\u0442\\u044c\", \"\\u0433\\u043e\\u0440\\u043e\\u0434\", \"\\u0433\\u043e\\u0442\\u043e\\u0432\\u044b\\u0439\", \"\\u0434\\u0430\\u0432\\u0430\\u0442\\u044c\", \"\\u0434\\u0430\\u0432\\u043d\\u043e\", \"\\u0434\\u0435\\u043b\\u0430\\u0442\\u044c\", \"\\u0434\\u0435\\u043d\\u044c\", \"\\u0434\\u043e\\u0431\\u0440\\u043e\", \"\\u0434\\u043e\\u043b\\u0433\\u043e\", \"\\u0434\\u043e\\u043c\", \"\\u0435\\u0433\\u0434\\u0430\", \"\\u0435\\u0434\\u0438\\u043d\\u0441\\u0442\\u0432\\u0435\\u043d\\u043d\\u044b\\u0439\", \"\\u0437\\u0430\\u0432\\u0442\\u0440\\u0430\", \"\\u0437\\u0430\\u043a\\u043e\\u043d\\u0447\\u0438\\u0442\\u044c\\u0441\\u044f\", \"\\u0437\\u043d\\u0430\\u0442\\u044c\", \"\\u0438\\u0434\\u0435\\u044f\", \"\\u0438\\u043d\\u0442\\u0435\\u0440\\u0435\\u0441\\u043d\\u043e\", \"\\u0438\\u043d\\u0442\\u0435\\u0440\\u0435\\u0441\\u043d\\u044b\\u0439\", \"\\u0438\\u043d\\u0442\\u0435\\u0440\\u043d\\u0435\\u0442\", \"\\u043a\\u0440\\u0430\\u0441\\u0438\\u0432\\u043e\", \"\\u043b\\u0435\\u043d\\u044c\", \"\\u043b\\u0438\\u0448\\u044c\", \"\\u043b\\u044e\\u0431\\u0438\\u043c\\u044b\\u0439\", \"\\u043b\\u044e\\u0431\\u0438\\u0442\\u044c\", \"\\u043c\\u0430\\u043b\\u0435\\u043d\\u044c\\u043a\\u0438\\u0439\", \"\\u043c\\u0435\\u0447\\u0442\\u0430\", \"\\u043d\\u0430\\u0434\\u0435\\u044f\\u0442\\u044c\\u0441\\u044f\", \"\\u043d\\u0430\\u0440\\u043e\\u0434\", \"\\u043d\\u0430\\u0448\", \"\\u043d\\u0438\\u0431\\u044b\\u0442\\u044c\", \"\\u043d\\u043e\\u0432\\u043e\\u0433\\u043e\\u0434\\u043d\\u0438\\u0439\", \"\\u043d\\u043e\\u0433\\u0430\", \"\\u043d\\u0440\\u0430\\u0432\\u0438\\u0442\\u044c\\u0441\\u044f\", \"\\u043e\\u043a\\u043d\\u043e\", \"\\u043e\\u0441\\u0442\\u0430\\u0442\\u044c\\u0441\\u044f\", \"\\u043e\\u0447\\u0435\\u043d\\u044c\", \"\\u043e\\u0449\\u0443\\u0449\\u0435\\u043d\\u0438\\u0435\", \"\\u043f\\u0430\\u0440\\u0430\", \"\\u043f\\u0430\\u0440\\u0435\\u043d\\u044c\", \"\\u043f\\u0435\\u0440\\u0432\\u044b\\u0439\", \"\\u043f\\u0438\\u0441\\u0430\\u0442\\u044c\", \"\\u043f\\u043e\\u043a\\u0430\", \"\\u043f\\u043e\\u043a\\u0430\\u0437\\u0430\\u0442\\u044c\", \"\\u043f\\u043e\\u043b\", \"\\u043f\\u043e\\u043c\\u043d\\u0438\\u0442\\u044c\", \"\\u043f\\u043e\\u043c\\u043e\\u0433\\u0430\\u0442\\u044c\", \"\\u043f\\u043e\\u043c\\u043e\\u0449\\u044c\", \"\\u043f\\u043e\\u043d\\u0438\\u043c\\u0430\\u0442\\u044c\", \"\\u043f\\u043e\\u0445\\u043e\\u0434\", \"\\u043f\\u0440\\u0435\\u043a\\u0440\\u0430\\u0441\\u043d\\u044b\\u0439\", \"\\u043f\\u0440\\u0438\\u0432\\u0435\\u0442\", \"\\u043f\\u0440\\u0438\\u0439\\u0442\\u0438\", \"\\u043f\\u0440\\u043e\\u0431\\u043b\\u0435\\u043c\\u0430\", \"\\u043f\\u0440\\u043e\\u0439\\u0442\\u0438\", \"\\u043f\\u0440\\u043e\\u0441\\u043d\\u0443\\u0442\\u044c\\u0441\\u044f\", \"\\u043f\\u0440\\u043e\\u0441\\u043f\\u0430\\u0442\\u044c\", \"\\u043f\\u0440\\u043e\\u0441\\u0442\\u0438\\u0442\\u044c\", \"\\u043f\\u0440\\u043e\\u0441\\u0442\\u043e\", \"\\u043f\\u0440\\u044f\\u043c\\u043e\", \"\\u0440\\u0435\\u0431\\u0451\\u043d\\u043e\\u043a\", \"\\u0440\\u0443\\u043a\\u0430\", \"\\u0441\\u0430\\u0439\\u0442\", \"\\u0441\\u0432\\u0435\\u0442\", \"\\u0441\\u0435\\u0433\\u043e\\u0434\\u043d\\u044f\", \"\\u0441\\u0435\\u0440\\u0434\\u0446\\u0435\", \"\\u0441\\u0438\\u0434\\u0435\\u0442\\u044c\", \"\\u0441\\u043a\\u0430\\u0437\\u0430\\u0442\\u044c\", \"\\u0441\\u043a\\u043e\\u043b\\u044c\\u043a\\u043e\", \"\\u0441\\u043a\\u0443\\u0447\\u0430\\u0442\\u044c\", \"\\u0441\\u043c\\u043e\\u0442\\u0440\\u0435\\u0442\\u044c\", \"\\u0441\\u043c\\u043e\\u0447\\u044c\", \"\\u0441\\u043f\\u0430\\u0441\\u0438\\u0431\\u043e\", \"\\u0442\\u0430\\u0431\\u043b\\u0435\\u0442\\u043a\\u0430\", \"\\u0442\\u043e\\u0447\\u043d\\u043e\", \"\\u0443\\u0435\\u0437\\u0436\\u0430\\u0442\\u044c\", \"\\u0443\\u0439\\u0442\\u0438\", \"\\u0443\\u0440\\u0430\", \"\\u0443\\u0441\\u043d\\u0443\\u0442\\u044c\", \"\\u0444\\u043e\\u0442\\u043a\\u0430\", \"\\u0444\\u043e\\u0442\\u043e\", \"\\u0445\\u043e\\u0434\\u0438\\u0442\\u044c\", \"\\u0445\\u043e\\u0442\\u0435\\u0442\\u044c\", \"\\u0445\\u043e\\u0442\\u0435\\u0442\\u044c\\u0441\\u044f\", \"\\u0445\\u043e\\u0442\\u044f\", \"\\u0447\\u0430\\u0441\", \"\\u0447\\u0430\\u0441\\u0442\\u043e\", \"\\u0448\\u043a\\u043e\\u043b\\u0430\", \"\\u0454\\u0432\\u0440\\u043e\\u043c\\u0430\\u0439\\u0434\\u0430\\u043d\"]}, \"R\": 30, \"lambda.step\": 0.01, \"plot.opts\": {\"xlab\": \"PC1\", \"ylab\": \"PC2\"}, \"topic.order\": [12, 10, 19, 17, 1, 2, 20, 9, 6, 13, 16, 3, 14, 15, 18, 5, 7, 8, 4, 11]};\n",
              "\n",
              "function LDAvis_load_lib(url, callback){\n",
              "  var s = document.createElement('script');\n",
              "  s.src = url;\n",
              "  s.async = true;\n",
              "  s.onreadystatechange = s.onload = callback;\n",
              "  s.onerror = function(){console.warn(\"failed to load library \" + url);};\n",
              "  document.getElementsByTagName(\"head\")[0].appendChild(s);\n",
              "}\n",
              "\n",
              "if(typeof(LDAvis) !== \"undefined\"){\n",
              "   // already loaded: just create the visualization\n",
              "   !function(LDAvis){\n",
              "       new LDAvis(\"#\" + \"ldavis_el2171140191128095088891419083\", ldavis_el2171140191128095088891419083_data);\n",
              "   }(LDAvis);\n",
              "}else if(typeof define === \"function\" && define.amd){\n",
              "   // require.js is available: use it to load d3/LDAvis\n",
              "   require.config({paths: {d3: \"https://d3js.org/d3.v5\"}});\n",
              "   require([\"d3\"], function(d3){\n",
              "      window.d3 = d3;\n",
              "      LDAvis_load_lib(\"https://cdn.jsdelivr.net/gh/bmabey/pyLDAvis@3.4.0/pyLDAvis/js/ldavis.v3.0.0.js\", function(){\n",
              "        new LDAvis(\"#\" + \"ldavis_el2171140191128095088891419083\", ldavis_el2171140191128095088891419083_data);\n",
              "      });\n",
              "    });\n",
              "}else{\n",
              "    // require.js not available: dynamically load d3 & LDAvis\n",
              "    LDAvis_load_lib(\"https://d3js.org/d3.v5.js\", function(){\n",
              "         LDAvis_load_lib(\"https://cdn.jsdelivr.net/gh/bmabey/pyLDAvis@3.4.0/pyLDAvis/js/ldavis.v3.0.0.js\", function(){\n",
              "                 new LDAvis(\"#\" + \"ldavis_el2171140191128095088891419083\", ldavis_el2171140191128095088891419083_data);\n",
              "            })\n",
              "         });\n",
              "}\n",
              "</script>"
            ]
          },
          "metadata": {},
          "execution_count": 19
        }
      ],
      "source": [
        "vis_data = gensimvis.prepare(lda, corpus, dictionary, mds='mmds')\n",
        "pyLDAvis.display(vis_data)"
      ]
    },
    {
      "cell_type": "markdown",
      "metadata": {
        "id": "_6JU67-PuFbJ"
      },
      "source": [
        "#### Интерпретируем получившиеся тематики"
      ]
    },
    {
      "cell_type": "code",
      "source": [
        "lda.show_topics(num_topics=10, num_words=10, formatted=True)"
      ],
      "metadata": {
        "colab": {
          "base_uri": "https://localhost:8080/"
        },
        "id": "WRX2QjGXx4EP",
        "outputId": "0dc7cba7-05f8-4621-fb90-7be4384c6ee5"
      },
      "execution_count": 20,
      "outputs": [
        {
          "output_type": "stream",
          "name": "stderr",
          "text": [
            "/usr/local/lib/python3.10/dist-packages/ipykernel/ipkernel.py:283: DeprecationWarning: `should_run_async` will not call `transform_cell` automatically in the future. Please pass the result to `transformed_cell` argument and any exception that happen during thetransform in `preprocessing_exc_tuple` in IPython 7.17 and above.\n",
            "  and should_run_async(code)\n"
          ]
        },
        {
          "output_type": "execute_result",
          "data": {
            "text/plain": [
              "[(6,\n",
              "  '0.290*\"остаться\" + 0.080*\"смочь\" + 0.079*\"ребёнок\" + 0.000*\"милый\" + 0.000*\"добрый\" + 0.000*\"оказываться\" + 0.000*\"врач\" + 0.000*\"последний\" + 0.000*\"неделя\" + 0.000*\"пиво\"'),\n",
              " (19,\n",
              "  '0.285*\"спасибо\" + 0.168*\"сидеть\" + 0.071*\"новогодний\" + 0.058*\"фотка\" + 0.053*\"прекрасный\" + 0.046*\"воскресение\" + 0.037*\"народ\" + 0.030*\"євромайдан\" + 0.021*\"добро\" + 0.013*\"сайт\"'),\n",
              " (17,\n",
              "  '0.217*\"проснуться\" + 0.140*\"лишь\" + 0.080*\"свет\" + 0.041*\"уйти\" + 0.023*\"уснуть\" + 0.000*\"чав\" + 0.000*\"мочь\" + 0.000*\"утро\" + 0.000*\"бытие\" + 0.000*\"последний\"'),\n",
              " (11,\n",
              "  '0.402*\"хотеть\" + 0.390*\"день\" + 0.041*\"помощь\" + 0.022*\"помогать\" + 0.001*\"таблетка\" + 0.000*\"рождение\" + 0.000*\"свой\" + 0.000*\"никто\" + 0.000*\"офигенный\" + 0.000*\"весь\"'),\n",
              " (1,\n",
              "  '0.233*\"блин\" + 0.154*\"первый\" + 0.104*\"парень\" + 0.070*\"простить\" + 0.066*\"долго\" + 0.050*\"фото\" + 0.043*\"маленький\" + 0.030*\"интернет\" + 0.024*\"брать\" + 0.000*\"подруга\"'),\n",
              " (18,\n",
              "  '0.190*\"делать\" + 0.151*\"говорить\" + 0.124*\"помнить\" + 0.104*\"хотеться\" + 0.100*\"школа\" + 0.076*\"точно\" + 0.035*\"лень\" + 0.025*\"привет\" + 0.018*\"пол\" + 0.013*\"проблема\"'),\n",
              " (3,\n",
              "  '0.000*\"признаться\" + 0.000*\"принц\" + 0.000*\"подружиться\" + 0.000*\"любовник\" + 0.000*\"подняться\" + 0.000*\"мыть\" + 0.000*\"миллион\" + 0.000*\"клава\" + 0.000*\"осторожный\" + 0.000*\"мамка\"'),\n",
              " (16,\n",
              "  '0.399*\"сегодня\" + 0.331*\"знать\" + 0.036*\"город\" + 0.027*\"красиво\" + 0.025*\"окно\" + 0.018*\"давно\" + 0.000*\"почему\" + 0.000*\"утро\" + 0.000*\"добрый\" + 0.000*\"самый\"'),\n",
              " (13,\n",
              "  '0.542*\"любить\" + 0.044*\"follow\" + 0.000*\"никто\" + 0.000*\"ревновать\" + 0.000*\"бывать\" + 0.000*\"разговор\" + 0.000*\"ночной\" + 0.000*\"человек\" + 0.000*\"хороший\" + 0.000*\"платформа\"'),\n",
              " (5,\n",
              "  '0.210*\"наш\" + 0.200*\"любимый\" + 0.137*\"пара\" + 0.098*\"вечер\" + 0.090*\"пройти\" + 0.008*\"проспать\" + 0.000*\"стать\" + 0.000*\"страна\" + 0.000*\"хороший\" + 0.000*\"весь\"')]"
            ]
          },
          "metadata": {},
          "execution_count": 20
        }
      ]
    },
    {
      "cell_type": "code",
      "source": [
        "import matplotlib.pyplot as plt\n",
        "%matplotlib inline"
      ],
      "metadata": {
        "colab": {
          "base_uri": "https://localhost:8080/"
        },
        "id": "ANcNVBK5x_od",
        "outputId": "50495104-3c26-4745-fa57-5b34de8e2eb4"
      },
      "execution_count": 21,
      "outputs": [
        {
          "output_type": "stream",
          "name": "stderr",
          "text": [
            "/usr/local/lib/python3.10/dist-packages/ipykernel/ipkernel.py:283: DeprecationWarning: `should_run_async` will not call `transform_cell` automatically in the future. Please pass the result to `transformed_cell` argument and any exception that happen during thetransform in `preprocessing_exc_tuple` in IPython 7.17 and above.\n",
            "  and should_run_async(code)\n"
          ]
        }
      ]
    },
    {
      "cell_type": "code",
      "source": [
        "topics_list = [1, 2, 3, 4, 5]\n",
        "coherences = []\n",
        "\n",
        "for num in tqdm(topics_list):\n",
        "    lda = LdaModel(corpus, id2word=dictionary, num_topics=num, chunksize=50, update_every=1, passes=2)\n",
        "    coherences.append(CoherenceModel(model=lda, corpus=corpus, coherence='u_mass').get_coherence())\n",
        "\n",
        "plt.plot(topics_list, coherences)\n",
        "plt.xlabel(\"Число тем\")\n",
        "plt.ylabel(\"Средняя когерентность\")\n",
        "plt.show()"
      ],
      "metadata": {
        "colab": {
          "base_uri": "https://localhost:8080/",
          "height": 536,
          "referenced_widgets": [
            "2e5ee4ce417547edbb41e34f02249d7e",
            "3042b413867c453995d43717f9201b9f",
            "ccd887bfecc74d4b850875ded4a47c8c",
            "64d1ef0d70394ac2a28d6dc6e5336bde",
            "7bcd73ad73df4d3692b6fb086939fe93",
            "c4f0606145e54380ae249a936902335b",
            "76d0d885342a4e639fbbd19b2e311b0b",
            "d6b502cda19c47c9b2b0ecdbd573b266",
            "0bff9597a6504d5d9bccc6e7c5fdd13a",
            "40e114035bf34d13b9e673036318597b",
            "2f95a6f5b1674b31be7eee82267db2cf"
          ]
        },
        "id": "fAFqOf3uyB2t",
        "outputId": "b92e2eec-d7e7-45d0-8692-a1c0d902ce71"
      },
      "execution_count": 22,
      "outputs": [
        {
          "output_type": "stream",
          "name": "stderr",
          "text": [
            "/usr/local/lib/python3.10/dist-packages/ipykernel/ipkernel.py:283: DeprecationWarning: `should_run_async` will not call `transform_cell` automatically in the future. Please pass the result to `transformed_cell` argument and any exception that happen during thetransform in `preprocessing_exc_tuple` in IPython 7.17 and above.\n",
            "  and should_run_async(code)\n"
          ]
        },
        {
          "output_type": "display_data",
          "data": {
            "text/plain": [
              "  0%|          | 0/5 [00:00<?, ?it/s]"
            ],
            "application/vnd.jupyter.widget-view+json": {
              "version_major": 2,
              "version_minor": 0,
              "model_id": "2e5ee4ce417547edbb41e34f02249d7e"
            }
          },
          "metadata": {}
        },
        {
          "output_type": "display_data",
          "data": {
            "text/plain": [
              "<Figure size 640x480 with 1 Axes>"
            ],
            "image/png": "[encoded data removed]"
          },
          "metadata": {}
        }
      ]
    }
  ],
  "metadata": {
    "colab": {
      "provenance": []
    },
    "kernelspec": {
      "display_name": "Python 3 (ipykernel)",
      "language": "python",
      "name": "python3"
    },
    "language_info": {
      "codemirror_mode": {
        "name": "ipython",
        "version": 3
      },
      "file_extension": ".py",
      "mimetype": "text/x-python",
      "name": "python",
      "nbconvert_exporter": "python",
      "pygments_lexer": "ipython3",
      "version": "3.8.5"
    },
    "widgets": {
      "application/vnd.jupyter.widget-state+json": {
        "171336c9a332415f8312560ef470d63d": {
          "model_module": "@jupyter-widgets/controls",
          "model_name": "HBoxModel",
          "model_module_version": "1.5.0",
          "state": {
            "_dom_classes": [],
            "_model_module": "@jupyter-widgets/controls",
            "_model_module_version": "1.5.0",
            "_model_name": "HBoxModel",
            "_view_count": null,
            "_view_module": "@jupyter-widgets/controls",
            "_view_module_version": "1.5.0",
            "_view_name": "HBoxView",
            "box_style": "",
            "children": [
              "IPY_MODEL_264b09e688d2435eb5cea89630849f3b",
              "IPY_MODEL_23acf850a1064d34948e71662bf8780c",
              "IPY_MODEL_dd3e6f2d233947c5b3687cd9f4cc8b77"
            ],
            "layout": "IPY_MODEL_8790fd6fde7d4d5e997de74388d5288d"
          }
        },
        "264b09e688d2435eb5cea89630849f3b": {
          "model_module": "@jupyter-widgets/controls",
          "model_name": "HTMLModel",
          "model_module_version": "1.5.0",
          "state": {
            "_dom_classes": [],
            "_model_module": "@jupyter-widgets/controls",
            "_model_module_version": "1.5.0",
            "_model_name": "HTMLModel",
            "_view_count": null,
            "_view_module": "@jupyter-widgets/controls",
            "_view_module_version": "1.5.0",
            "_view_name": "HTMLView",
            "description": "",
            "description_tooltip": null,
            "layout": "IPY_MODEL_7d1800b5ec47470a92fdf0e93bfe7ff6",
            "placeholder": "​",
            "style": "IPY_MODEL_7be025b289064c5e80e5fde6852c06a9",
            "value": "100%"
          }
        },
        "23acf850a1064d34948e71662bf8780c": {
          "model_module": "@jupyter-widgets/controls",
          "model_name": "FloatProgressModel",
          "model_module_version": "1.5.0",
          "state": {
            "_dom_classes": [],
            "_model_module": "@jupyter-widgets/controls",
            "_model_module_version": "1.5.0",
            "_model_name": "FloatProgressModel",
            "_view_count": null,
            "_view_module": "@jupyter-widgets/controls",
            "_view_module_version": "1.5.0",
            "_view_name": "ProgressView",
            "bar_style": "success",
            "description": "",
            "description_tooltip": null,
            "layout": "IPY_MODEL_340fb6e5a30f40cdb2962159bf263e7b",
            "max": 10000,
            "min": 0,
            "orientation": "horizontal",
            "style": "IPY_MODEL_6303c6a2edeb461e90d5a6b36e47e65c",
            "value": 10000
          }
        },
        "dd3e6f2d233947c5b3687cd9f4cc8b77": {
          "model_module": "@jupyter-widgets/controls",
          "model_name": "HTMLModel",
          "model_module_version": "1.5.0",
          "state": {
            "_dom_classes": [],
            "_model_module": "@jupyter-widgets/controls",
            "_model_module_version": "1.5.0",
            "_model_name": "HTMLModel",
            "_view_count": null,
            "_view_module": "@jupyter-widgets/controls",
            "_view_module_version": "1.5.0",
            "_view_name": "HTMLView",
            "description": "",
            "description_tooltip": null,
            "layout": "IPY_MODEL_c1576c542561434fa83bed4a35e0dbaa",
            "placeholder": "​",
            "style": "IPY_MODEL_e8fa1f27a07d49038754ab71bd21d837",
            "value": " 10000/10000 [00:29&lt;00:00, 646.18it/s]"
          }
        },
        "8790fd6fde7d4d5e997de74388d5288d": {
          "model_module": "@jupyter-widgets/base",
          "model_name": "LayoutModel",
          "model_module_version": "1.2.0",
          "state": {
            "_model_module": "@jupyter-widgets/base",
            "_model_module_version": "1.2.0",
            "_model_name": "LayoutModel",
            "_view_count": null,
            "_view_module": "@jupyter-widgets/base",
            "_view_module_version": "1.2.0",
            "_view_name": "LayoutView",
            "align_content": null,
            "align_items": null,
            "align_self": null,
            "border": null,
            "bottom": null,
            "display": null,
            "flex": null,
            "flex_flow": null,
            "grid_area": null,
            "grid_auto_columns": null,
            "grid_auto_flow": null,
            "grid_auto_rows": null,
            "grid_column": null,
            "grid_gap": null,
            "grid_row": null,
            "grid_template_areas": null,
            "grid_template_columns": null,
            "grid_template_rows": null,
            "height": null,
            "justify_content": null,
            "justify_items": null,
            "left": null,
            "margin": null,
            "max_height": null,
            "max_width": null,
            "min_height": null,
            "min_width": null,
            "object_fit": null,
            "object_position": null,
            "order": null,
            "overflow": null,
            "overflow_x": null,
            "overflow_y": null,
            "padding": null,
            "right": null,
            "top": null,
            "visibility": null,
            "width": null
          }
        },
        "7d1800b5ec47470a92fdf0e93bfe7ff6": {
          "model_module": "@jupyter-widgets/base",
          "model_name": "LayoutModel",
          "model_module_version": "1.2.0",
          "state": {
            "_model_module": "@jupyter-widgets/base",
            "_model_module_version": "1.2.0",
            "_model_name": "LayoutModel",
            "_view_count": null,
            "_view_module": "@jupyter-widgets/base",
            "_view_module_version": "1.2.0",
            "_view_name": "LayoutView",
            "align_content": null,
            "align_items": null,
            "align_self": null,
            "border": null,
            "bottom": null,
            "display": null,
            "flex": null,
            "flex_flow": null,
            "grid_area": null,
            "grid_auto_columns": null,
            "grid_auto_flow": null,
            "grid_auto_rows": null,
            "grid_column": null,
            "grid_gap": null,
            "grid_row": null,
            "grid_template_areas": null,
            "grid_template_columns": null,
            "grid_template_rows": null,
            "height": null,
            "justify_content": null,
            "justify_items": null,
            "left": null,
            "margin": null,
            "max_height": null,
            "max_width": null,
            "min_height": null,
            "min_width": null,
            "object_fit": null,
            "object_position": null,
            "order": null,
            "overflow": null,
            "overflow_x": null,
            "overflow_y": null,
            "padding": null,
            "right": null,
            "top": null,
            "visibility": null,
            "width": null
          }
        },
        "7be025b289064c5e80e5fde6852c06a9": {
          "model_module": "@jupyter-widgets/controls",
          "model_name": "DescriptionStyleModel",
          "model_module_version": "1.5.0",
          "state": {
            "_model_module": "@jupyter-widgets/controls",
            "_model_module_version": "1.5.0",
            "_model_name": "DescriptionStyleModel",
            "_view_count": null,
            "_view_module": "@jupyter-widgets/base",
            "_view_module_version": "1.2.0",
            "_view_name": "StyleView",
            "description_width": ""
          }
        },
        "340fb6e5a30f40cdb2962159bf263e7b": {
          "model_module": "@jupyter-widgets/base",
          "model_name": "LayoutModel",
          "model_module_version": "1.2.0",
          "state": {
            "_model_module": "@jupyter-widgets/base",
            "_model_module_version": "1.2.0",
            "_model_name": "LayoutModel",
            "_view_count": null,
            "_view_module": "@jupyter-widgets/base",
            "_view_module_version": "1.2.0",
            "_view_name": "LayoutView",
            "align_content": null,
            "align_items": null,
            "align_self": null,
            "border": null,
            "bottom": null,
            "display": null,
            "flex": null,
            "flex_flow": null,
            "grid_area": null,
            "grid_auto_columns": null,
            "grid_auto_flow": null,
            "grid_auto_rows": null,
            "grid_column": null,
            "grid_gap": null,
            "grid_row": null,
            "grid_template_areas": null,
            "grid_template_columns": null,
            "grid_template_rows": null,
            "height": null,
            "justify_content": null,
            "justify_items": null,
            "left": null,
            "margin": null,
            "max_height": null,
            "max_width": null,
            "min_height": null,
            "min_width": null,
            "object_fit": null,
            "object_position": null,
            "order": null,
            "overflow": null,
            "overflow_x": null,
            "overflow_y": null,
            "padding": null,
            "right": null,
            "top": null,
            "visibility": null,
            "width": null
          }
        },
        "6303c6a2edeb461e90d5a6b36e47e65c": {
          "model_module": "@jupyter-widgets/controls",
          "model_name": "ProgressStyleModel",
          "model_module_version": "1.5.0",
          "state": {
            "_model_module": "@jupyter-widgets/controls",
            "_model_module_version": "1.5.0",
            "_model_name": "ProgressStyleModel",
            "_view_count": null,
            "_view_module": "@jupyter-widgets/base",
            "_view_module_version": "1.2.0",
            "_view_name": "StyleView",
            "bar_color": null,
            "description_width": ""
          }
        },
        "c1576c542561434fa83bed4a35e0dbaa": {
          "model_module": "@jupyter-widgets/base",
          "model_name": "LayoutModel",
          "model_module_version": "1.2.0",
          "state": {
            "_model_module": "@jupyter-widgets/base",
            "_model_module_version": "1.2.0",
            "_model_name": "LayoutModel",
            "_view_count": null,
            "_view_module": "@jupyter-widgets/base",
            "_view_module_version": "1.2.0",
            "_view_name": "LayoutView",
            "align_content": null,
            "align_items": null,
            "align_self": null,
            "border": null,
            "bottom": null,
            "display": null,
            "flex": null,
            "flex_flow": null,
            "grid_area": null,
            "grid_auto_columns": null,
            "grid_auto_flow": null,
            "grid_auto_rows": null,
            "grid_column": null,
            "grid_gap": null,
            "grid_row": null,
            "grid_template_areas": null,
            "grid_template_columns": null,
            "grid_template_rows": null,
            "height": null,
            "justify_content": null,
            "justify_items": null,
            "left": null,
            "margin": null,
            "max_height": null,
            "max_width": null,
            "min_height": null,
            "min_width": null,
            "object_fit": null,
            "object_position": null,
            "order": null,
            "overflow": null,
            "overflow_x": null,
            "overflow_y": null,
            "padding": null,
            "right": null,
            "top": null,
            "visibility": null,
            "width": null
          }
        },
        "e8fa1f27a07d49038754ab71bd21d837": {
          "model_module": "@jupyter-widgets/controls",
          "model_name": "DescriptionStyleModel",
          "model_module_version": "1.5.0",
          "state": {
            "_model_module": "@jupyter-widgets/controls",
            "_model_module_version": "1.5.0",
            "_model_name": "DescriptionStyleModel",
            "_view_count": null,
            "_view_module": "@jupyter-widgets/base",
            "_view_module_version": "1.2.0",
            "_view_name": "StyleView",
            "description_width": ""
          }
        },
        "2e5ee4ce417547edbb41e34f02249d7e": {
          "model_module": "@jupyter-widgets/controls",
          "model_name": "HBoxModel",
          "model_module_version": "1.5.0",
          "state": {
            "_dom_classes": [],
            "_model_module": "@jupyter-widgets/controls",
            "_model_module_version": "1.5.0",
            "_model_name": "HBoxModel",
            "_view_count": null,
            "_view_module": "@jupyter-widgets/controls",
            "_view_module_version": "1.5.0",
            "_view_name": "HBoxView",
            "box_style": "",
            "children": [
              "IPY_MODEL_3042b413867c453995d43717f9201b9f",
              "IPY_MODEL_ccd887bfecc74d4b850875ded4a47c8c",
              "IPY_MODEL_64d1ef0d70394ac2a28d6dc6e5336bde"
            ],
            "layout": "IPY_MODEL_7bcd73ad73df4d3692b6fb086939fe93"
          }
        },
        "3042b413867c453995d43717f9201b9f": {
          "model_module": "@jupyter-widgets/controls",
          "model_name": "HTMLModel",
          "model_module_version": "1.5.0",
          "state": {
            "_dom_classes": [],
            "_model_module": "@jupyter-widgets/controls",
            "_model_module_version": "1.5.0",
            "_model_name": "HTMLModel",
            "_view_count": null,
            "_view_module": "@jupyter-widgets/controls",
            "_view_module_version": "1.5.0",
            "_view_name": "HTMLView",
            "description": "",
            "description_tooltip": null,
            "layout": "IPY_MODEL_c4f0606145e54380ae249a936902335b",
            "placeholder": "​",
            "style": "IPY_MODEL_76d0d885342a4e639fbbd19b2e311b0b",
            "value": "100%"
          }
        },
        "ccd887bfecc74d4b850875ded4a47c8c": {
          "model_module": "@jupyter-widgets/controls",
          "model_name": "FloatProgressModel",
          "model_module_version": "1.5.0",
          "state": {
            "_dom_classes": [],
            "_model_module": "@jupyter-widgets/controls",
            "_model_module_version": "1.5.0",
            "_model_name": "FloatProgressModel",
            "_view_count": null,
            "_view_module": "@jupyter-widgets/controls",
            "_view_module_version": "1.5.0",
            "_view_name": "ProgressView",
            "bar_style": "success",
            "description": "",
            "description_tooltip": null,
            "layout": "IPY_MODEL_d6b502cda19c47c9b2b0ecdbd573b266",
            "max": 5,
            "min": 0,
            "orientation": "horizontal",
            "style": "IPY_MODEL_0bff9597a6504d5d9bccc6e7c5fdd13a",
            "value": 5
          }
        },
        "64d1ef0d70394ac2a28d6dc6e5336bde": {
          "model_module": "@jupyter-widgets/controls",
          "model_name": "HTMLModel",
          "model_module_version": "1.5.0",
          "state": {
            "_dom_classes": [],
            "_model_module": "@jupyter-widgets/controls",
            "_model_module_version": "1.5.0",
            "_model_name": "HTMLModel",
            "_view_count": null,
            "_view_module": "@jupyter-widgets/controls",
            "_view_module_version": "1.5.0",
            "_view_name": "HTMLView",
            "description": "",
            "description_tooltip": null,
            "layout": "IPY_MODEL_40e114035bf34d13b9e673036318597b",
            "placeholder": "​",
            "style": "IPY_MODEL_2f95a6f5b1674b31be7eee82267db2cf",
            "value": " 5/5 [00:18&lt;00:00,  3.89s/it]"
          }
        },
        "7bcd73ad73df4d3692b6fb086939fe93": {
          "model_module": "@jupyter-widgets/base",
          "model_name": "LayoutModel",
          "model_module_version": "1.2.0",
          "state": {
            "_model_module": "@jupyter-widgets/base",
            "_model_module_version": "1.2.0",
            "_model_name": "LayoutModel",
            "_view_count": null,
            "_view_module": "@jupyter-widgets/base",
            "_view_module_version": "1.2.0",
            "_view_name": "LayoutView",
            "align_content": null,
            "align_items": null,
            "align_self": null,
            "border": null,
            "bottom": null,
            "display": null,
            "flex": null,
            "flex_flow": null,
            "grid_area": null,
            "grid_auto_columns": null,
            "grid_auto_flow": null,
            "grid_auto_rows": null,
            "grid_column": null,
            "grid_gap": null,
            "grid_row": null,
            "grid_template_areas": null,
            "grid_template_columns": null,
            "grid_template_rows": null,
            "height": null,
            "justify_content": null,
            "justify_items": null,
            "left": null,
            "margin": null,
            "max_height": null,
            "max_width": null,
            "min_height": null,
            "min_width": null,
            "object_fit": null,
            "object_position": null,
            "order": null,
            "overflow": null,
            "overflow_x": null,
            "overflow_y": null,
            "padding": null,
            "right": null,
            "top": null,
            "visibility": null,
            "width": null
          }
        },
        "c4f0606145e54380ae249a936902335b": {
          "model_module": "@jupyter-widgets/base",
          "model_name": "LayoutModel",
          "model_module_version": "1.2.0",
          "state": {
            "_model_module": "@jupyter-widgets/base",
            "_model_module_version": "1.2.0",
            "_model_name": "LayoutModel",
            "_view_count": null,
            "_view_module": "@jupyter-widgets/base",
            "_view_module_version": "1.2.0",
            "_view_name": "LayoutView",
            "align_content": null,
            "align_items": null,
            "align_self": null,
            "border": null,
            "bottom": null,
            "display": null,
            "flex": null,
            "flex_flow": null,
            "grid_area": null,
            "grid_auto_columns": null,
            "grid_auto_flow": null,
            "grid_auto_rows": null,
            "grid_column": null,
            "grid_gap": null,
            "grid_row": null,
            "grid_template_areas": null,
            "grid_template_columns": null,
            "grid_template_rows": null,
            "height": null,
            "justify_content": null,
            "justify_items": null,
            "left": null,
            "margin": null,
            "max_height": null,
            "max_width": null,
            "min_height": null,
            "min_width": null,
            "object_fit": null,
            "object_position": null,
            "order": null,
            "overflow": null,
            "overflow_x": null,
            "overflow_y": null,
            "padding": null,
            "right": null,
            "top": null,
            "visibility": null,
            "width": null
          }
        },
        "76d0d885342a4e639fbbd19b2e311b0b": {
          "model_module": "@jupyter-widgets/controls",
          "model_name": "DescriptionStyleModel",
          "model_module_version": "1.5.0",
          "state": {
            "_model_module": "@jupyter-widgets/controls",
            "_model_module_version": "1.5.0",
            "_model_name": "DescriptionStyleModel",
            "_view_count": null,
            "_view_module": "@jupyter-widgets/base",
            "_view_module_version": "1.2.0",
            "_view_name": "StyleView",
            "description_width": ""
          }
        },
        "d6b502cda19c47c9b2b0ecdbd573b266": {
          "model_module": "@jupyter-widgets/base",
          "model_name": "LayoutModel",
          "model_module_version": "1.2.0",
          "state": {
            "_model_module": "@jupyter-widgets/base",
            "_model_module_version": "1.2.0",
            "_model_name": "LayoutModel",
            "_view_count": null,
            "_view_module": "@jupyter-widgets/base",
            "_view_module_version": "1.2.0",
            "_view_name": "LayoutView",
            "align_content": null,
            "align_items": null,
            "align_self": null,
            "border": null,
            "bottom": null,
            "display": null,
            "flex": null,
            "flex_flow": null,
            "grid_area": null,
            "grid_auto_columns": null,
            "grid_auto_flow": null,
            "grid_auto_rows": null,
            "grid_column": null,
            "grid_gap": null,
            "grid_row": null,
            "grid_template_areas": null,
            "grid_template_columns": null,
            "grid_template_rows": null,
            "height": null,
            "justify_content": null,
            "justify_items": null,
            "left": null,
            "margin": null,
            "max_height": null,
            "max_width": null,
            "min_height": null,
            "min_width": null,
            "object_fit": null,
            "object_position": null,
            "order": null,
            "overflow": null,
            "overflow_x": null,
            "overflow_y": null,
            "padding": null,
            "right": null,
            "top": null,
            "visibility": null,
            "width": null
          }
        },
        "0bff9597a6504d5d9bccc6e7c5fdd13a": {
          "model_module": "@jupyter-widgets/controls",
          "model_name": "ProgressStyleModel",
          "model_module_version": "1.5.0",
          "state": {
            "_model_module": "@jupyter-widgets/controls",
            "_model_module_version": "1.5.0",
            "_model_name": "ProgressStyleModel",
            "_view_count": null,
            "_view_module": "@jupyter-widgets/base",
            "_view_module_version": "1.2.0",
            "_view_name": "StyleView",
            "bar_color": null,
            "description_width": ""
          }
        },
        "40e114035bf34d13b9e673036318597b": {
          "model_module": "@jupyter-widgets/base",
          "model_name": "LayoutModel",
          "model_module_version": "1.2.0",
          "state": {
            "_model_module": "@jupyter-widgets/base",
            "_model_module_version": "1.2.0",
            "_model_name": "LayoutModel",
            "_view_count": null,
            "_view_module": "@jupyter-widgets/base",
            "_view_module_version": "1.2.0",
            "_view_name": "LayoutView",
            "align_content": null,
            "align_items": null,
            "align_self": null,
            "border": null,
            "bottom": null,
            "display": null,
            "flex": null,
            "flex_flow": null,
            "grid_area": null,
            "grid_auto_columns": null,
            "grid_auto_flow": null,
            "grid_auto_rows": null,
            "grid_column": null,
            "grid_gap": null,
            "grid_row": null,
            "grid_template_areas": null,
            "grid_template_columns": null,
            "grid_template_rows": null,
            "height": null,
            "justify_content": null,
            "justify_items": null,
            "left": null,
            "margin": null,
            "max_height": null,
            "max_width": null,
            "min_height": null,
            "min_width": null,
            "object_fit": null,
            "object_position": null,
            "order": null,
            "overflow": null,
            "overflow_x": null,
            "overflow_y": null,
            "padding": null,
            "right": null,
            "top": null,
            "visibility": null,
            "width": null
          }
        },
        "2f95a6f5b1674b31be7eee82267db2cf": {
          "model_module": "@jupyter-widgets/controls",
          "model_name": "DescriptionStyleModel",
          "model_module_version": "1.5.0",
          "state": {
            "_model_module": "@jupyter-widgets/controls",
            "_model_module_version": "1.5.0",
            "_model_name": "DescriptionStyleModel",
            "_view_count": null,
            "_view_module": "@jupyter-widgets/base",
            "_view_module_version": "1.2.0",
            "_view_name": "StyleView",
            "description_width": ""
          }
        }
      }
    }
  },
  "nbformat": 4,
  "nbformat_minor": 0
}